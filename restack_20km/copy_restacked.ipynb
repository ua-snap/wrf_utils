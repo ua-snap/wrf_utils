{
 "cells": [
  {
   "cell_type": "markdown",
   "id": "17649668-7b65-41e0-98f0-1a3733d91022",
   "metadata": {
    "tags": []
   },
   "source": [
    "# Copy restacked WRF outputs to permanent storage (`/import/SNAP`)\n",
    "\n",
    "This step will copy the `hourly/` and `daily/` subdirectories created from restacking, currently on scratch space, to `/import/SNAP` for storage and distribution. \n",
    "\n",
    "The strategy here will be to just give and `rsync` command for each subdirectory in the `hourly` and `daily` subdirectories, which should be all years of restacked data for a single variable for the WRF group being worked on. \n",
    "\n",
    "Run this cell to set up the environment for running the copy:"
   ]
  },
  {
   "cell_type": "code",
   "execution_count": 1,
   "id": "5c0072d7-23ea-4d33-b01b-3e9e7082d870",
   "metadata": {},
   "outputs": [],
   "source": [
    "from multiprocessing import Pool\n",
    "from config import *\n",
    "import luts\n",
    "import slurm"
   ]
  },
  {
   "cell_type": "markdown",
   "id": "1db9b76e-6d99-4300-ae4d-9bfaaa420f5f",
   "metadata": {},
   "source": [
    "Create a subdirectory for the slurm scripts used for doing this copying:"
   ]
  },
  {
   "cell_type": "code",
   "execution_count": 2,
   "id": "4bdd9064-ef77-47ac-83f4-3f0155eefa4a",
   "metadata": {},
   "outputs": [],
   "source": [
    "slurm_copy_dir = slurm_dir.joinpath(\"copy_restacked\")\n",
    "slurm_copy_dir.mkdir(exist_ok=True)"
   ]
  },
  {
   "cell_type": "markdown",
   "id": "84822a47-8c31-44d4-8874-e91fd4bd1e60",
   "metadata": {
    "tags": []
   },
   "source": [
    "Define a function to create the sbatch scripts for each of daily and hourly directories:"
   ]
  },
  {
   "cell_type": "code",
   "execution_count": 3,
   "id": "a805477e-a43c-4051-b878-12248e60b098",
   "metadata": {},
   "outputs": [],
   "source": [
    "def wrap_write_sbatch(src):\n",
    "    sbatch_fps = []\n",
    "    for varname in luts.varnames:\n",
    "        varname = varname.lower()\n",
    "        # write to .slurm script\n",
    "        sbatch_fp = slurm_copy_dir.joinpath(f\"copy_restacked_{group}_{src.name}_{varname}.slurm\")\n",
    "        # filepath for slurm stdout\n",
    "        sbatch_out_fp = slurm_copy_dir.joinpath(f\"copy_restacked_{group}_{src.name}_{varname}_%j.out\")\n",
    "        sbatch_head = slurm.make_sbatch_head(\n",
    "            slurm_email, partition, conda_init_script\n",
    "        )\n",
    "\n",
    "        args = {\n",
    "            \"sbatch_fp\": sbatch_fp,\n",
    "            \"sbatch_out_fp\": sbatch_out_fp,\n",
    "            \"src\": src.joinpath(varname),\n",
    "            \"dst\": output_dir.joinpath(src.name),\n",
    "            \"sbatch_head\": sbatch_head,\n",
    "        }\n",
    "\n",
    "        slurm.write_sbatch_copy_restacked(**args)\n",
    "        sbatch_fps.append(sbatch_fp)\n",
    "    \n",
    "    return sbatch_fps"
   ]
  },
  {
   "cell_type": "markdown",
   "id": "81f64a29-d2f0-499f-bb8a-faac29b66715",
   "metadata": {},
   "source": [
    "Then create them:"
   ]
  },
  {
   "cell_type": "code",
   "execution_count": 4,
   "id": "f9296d51-0d81-4e29-818c-f5e55ce8c42c",
   "metadata": {},
   "outputs": [],
   "source": [
    "sbatch_fps = wrap_write_sbatch(hourly_dir) + wrap_write_sbatch(daily_dir) "
   ]
  },
  {
   "cell_type": "markdown",
   "id": "8a72b292-84d1-4f5a-bc9f-4bd6dc19e1b7",
   "metadata": {},
   "source": [
    "And submit the `.slurm` scripts with `sbatch`:"
   ]
  },
  {
   "cell_type": "code",
   "execution_count": 5,
   "id": "456aee33-1f86-4540-af0e-41f6fb55cd48",
   "metadata": {},
   "outputs": [],
   "source": [
    "job_ids = [slurm.submit_sbatch(fp) for fp in sbatch_fps]"
   ]
  }
 ],
 "metadata": {
  "kernelspec": {
   "display_name": "Python 3 (ipykernel)",
   "language": "python",
   "name": "python3"
  },
  "language_info": {
   "codemirror_mode": {
    "name": "ipython",
    "version": 3
   },
   "file_extension": ".py",
   "mimetype": "text/x-python",
   "name": "python",
   "nbconvert_exporter": "python",
   "pygments_lexer": "ipython3",
   "version": "3.8.3"
  }
 },
 "nbformat": 4,
 "nbformat_minor": 5
}
