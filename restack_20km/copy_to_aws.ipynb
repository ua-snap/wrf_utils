{
 "cells": [
  {
   "cell_type": "code",
   "execution_count": 1,
   "id": "d0963780-d7f3-4df6-b23a-df166e4db511",
   "metadata": {},
   "outputs": [],
   "source": [
    "import os\n",
    "from pathlib import Path\n",
    "# codebase\n",
    "from config import *\n",
    "import luts\n",
    "import slurm"
   ]
  },
  {
   "cell_type": "markdown",
   "id": "fcbbc8f3-5482-48d4-81fb-b0a621941c72",
   "metadata": {},
   "source": [
    "Set the path to the directory containing the restacked dataset (this might have changed since last run):"
   ]
  },
  {
   "cell_type": "code",
   "execution_count": 4,
   "id": "25404c3d-ac6c-4c33-afa8-bee26ad6d3b4",
   "metadata": {},
   "outputs": [
    {
     "name": "stdin",
     "output_type": "stream",
     "text": [
      " \n"
     ]
    },
    {
     "name": "stdout",
     "output_type": "stream",
     "text": [
      "/beegfs/CMIP6/kmredilla/wrf_data/restacked\n"
     ]
    }
   ],
   "source": [
    "restack_dir = Path(input() or \"/beegfs/CMIP6/kmredilla/wrf_data/restacked\")\n",
    "print(restack_dir)"
   ]
  },
  {
   "cell_type": "markdown",
   "id": "f7289411-bdf9-45d6-b40f-b6258ce4a54d",
   "metadata": {},
   "source": [
    "## Hourly data\n",
    "\n",
    "Copy the hourly variables here."
   ]
  },
  {
   "cell_type": "code",
   "execution_count": 6,
   "id": "8ff97c4f-3029-4088-b7b6-968a17f6d280",
   "metadata": {},
   "outputs": [],
   "source": [
    "varnames = [varname.lower() for varname in luts.varnames]\n",
    "\n",
    "# use full spelling for each WRF group\n",
    "aws_groups = [\n",
    "    \"GFDL-CM3_historical\",\n",
    "    \"NCAR-CCSM4_historical\",\n",
    "    \"GFDL-CM3_rcp85\",\n",
    "    \"NCAR-CCSM4_rcp85\",\n",
    "    \"ERA-Interim_historical\"\n",
    "]\n",
    "\n",
    "sbatch_dir = slurm_dir.joinpath(\"copy_to_aws\")\n",
    "sbatch_dir.mkdir(exist_ok=True)\n",
    "sbatch_fps = []\n",
    "for varname in varnames:\n",
    "    src_dir = restack_dir.joinpath(\"hourly\", varname)\n",
    "    \n",
    "    for group in aws_groups:\n",
    "        # write to .slurm script\n",
    "        sbatch_fp = sbatch_dir.joinpath(f\"copy_aws_{group}_{varname}.slurm\")\n",
    "        # filepath for slurm stdout\n",
    "        sbatch_out_fp = sbatch_dir.joinpath(f\"copy_aws_{group}_{varname}_%j.out\")\n",
    "        sbatch_head = slurm.make_sbatch_head(\n",
    "            slurm_email, partition, conda_init_script\n",
    "        )\n",
    "\n",
    "        model, scenario = group.split(\"_\")\n",
    "        aws_dir = \"s3://wrf-ak-ar5/hourly/{}/{}/{}\".format(\n",
    "            model, scenario, varname\n",
    "        )\n",
    "        \n",
    "        args = {\n",
    "            \"sbatch_fp\": sbatch_fp,\n",
    "            \"sbatch_out_fp\": sbatch_out_fp,\n",
    "            \"s3_command\": \"sync\",\n",
    "            \"src_dir\": src_dir,\n",
    "            \"model\": model,\n",
    "            \"aws_dir\": aws_dir,\n",
    "            \"ncpus\": 8,\n",
    "            \"sbatch_head\": sbatch_head,\n",
    "        }\n",
    "\n",
    "        slurm.write_sbatch_copy_aws(**args)\n",
    "        sbatch_fps.append(sbatch_fp)\n",
    "\n",
    "    "
   ]
  },
  {
   "cell_type": "markdown",
   "id": "b4e2a89a-5d98-414f-a593-dbbb68f7f865",
   "metadata": {},
   "source": [
    "Submit the jobs:"
   ]
  },
  {
   "cell_type": "code",
   "execution_count": 7,
   "id": "12ab4afb-fb91-474e-b3a0-b1ce9272869d",
   "metadata": {},
   "outputs": [],
   "source": [
    "job_ids = [slurm.submit_sbatch(fp) for fp in sbatch_fps]"
   ]
  },
  {
   "cell_type": "markdown",
   "id": "27bea886-0307-47b2-88df-a34bc3833f28",
   "metadata": {},
   "source": [
    "## Daily data"
   ]
  },
  {
   "cell_type": "code",
   "execution_count": 8,
   "id": "6ccb81c3-b872-4fd0-9b81-6fd0779135d9",
   "metadata": {},
   "outputs": [],
   "source": [
    "daily_sbatch_fps = []\n",
    "for varname in luts.resample_varnames:\n",
    "    varname = varname.lower()\n",
    "    src_dir = restack_dir.joinpath(\"daily\", varname)\n",
    "    \n",
    "    for group in aws_groups:\n",
    "        # write to .slurm script\n",
    "        sbatch_fp = sbatch_dir.joinpath(f\"copy_aws_{group}_{varname}_daily.slurm\")\n",
    "        # filepath for slurm stdout\n",
    "        sbatch_out_fp = sbatch_dir.joinpath(f\"copy_aws_{group}_{varname}_daily_%j.out\")\n",
    "        sbatch_head = slurm.make_sbatch_head(\n",
    "            slurm_email, partition, conda_init_script\n",
    "        )\n",
    "\n",
    "        model, scenario = group.split(\"_\")\n",
    "        aws_dir = \"s3://wrf-ak-ar5/daily/{}/{}/{}\".format(\n",
    "            model, scenario, varname\n",
    "        )\n",
    "        \n",
    "        args = {\n",
    "            \"sbatch_fp\": sbatch_fp,\n",
    "            \"sbatch_out_fp\": sbatch_out_fp,\n",
    "            \"s3_command\": \"sync\",\n",
    "            \"src_dir\": src_dir,\n",
    "            \"model\": model,\n",
    "            \"aws_dir\": aws_dir,\n",
    "            \"ncpus\": 8,\n",
    "            \"sbatch_head\": sbatch_head,\n",
    "        }\n",
    "\n",
    "        slurm.write_sbatch_copy_aws(**args)\n",
    "        daily_sbatch_fps.append(sbatch_fp)\n"
   ]
  },
  {
   "cell_type": "markdown",
   "id": "d98da70b-33a3-4614-a278-0cc746fe54e8",
   "metadata": {},
   "source": [
    "And submit:"
   ]
  },
  {
   "cell_type": "code",
   "execution_count": 9,
   "id": "cf2ac1cf-ee5c-459d-8a5e-395c3e8b18ab",
   "metadata": {},
   "outputs": [],
   "source": [
    "job_ids = [slurm.submit_sbatch(fp) for fp in daily_sbatch_fps]"
   ]
  }
 ],
 "metadata": {
  "kernelspec": {
   "display_name": "Python 3 (ipykernel)",
   "language": "python",
   "name": "python3"
  },
  "language_info": {
   "codemirror_mode": {
    "name": "ipython",
    "version": 3
   },
   "file_extension": ".py",
   "mimetype": "text/x-python",
   "name": "python",
   "nbconvert_exporter": "python",
   "pygments_lexer": "ipython3",
   "version": "3.8.3"
  }
 },
 "nbformat": 4,
 "nbformat_minor": 5
}
