{
 "cells": [
  {
   "cell_type": "markdown",
   "id": "5503b254-bce7-402c-bfff-19303133bea5",
   "metadata": {},
   "source": [
    "# Resample hourly to daily\n",
    "\n",
    "This notebook is used for resampling the restacked 20km outputs to daily files. \n",
    "\n",
    "We will submit a slurm job for a subset of the hourly files, that will then be resampled to a daily resolution."
   ]
  },
  {
   "cell_type": "code",
   "execution_count": 1,
   "id": "aec2d21c-112d-4d95-984d-747ce6a1b787",
   "metadata": {},
   "outputs": [],
   "source": [
    "import xarray as xr\n",
    "from config import *\n",
    "import luts\n",
    "import slurm\n",
    "from restack_20km import user_input_years, user_input_variables, get_year_fn_str"
   ]
  },
  {
   "cell_type": "markdown",
   "id": "0c778154-e253-415c-bc06-9d4a7791c442",
   "metadata": {},
   "source": [
    "Specify the years and variables to be resampled:"
   ]
  },
  {
   "cell_type": "code",
   "execution_count": 2,
   "id": "b19a6861-f88a-46a4-81e2-691978cfad82",
   "metadata": {},
   "outputs": [
    {
     "name": "stdin",
     "output_type": "stream",
     "text": [
      "Years, a ' '- separated list of years, or '-'-separated start and end year (e.g. 2005-2010) for a range of years.\n",
      "Years must be in 2005-2100. Leave blank for all years: 2064-2100\n"
     ]
    },
    {
     "name": "stdout",
     "output_type": "stream",
     "text": [
      "Years selected: [2064, 2065, 2066, 2067, 2068, 2069, 2070, 2071, 2072, 2073, 2074, 2075, 2076, 2077, 2078, 2079, 2080, 2081, 2082, 2083, 2084, 2085, 2086, 2087, 2088, 2089, 2090, 2091, 2092, 2093, 2094, 2095, 2096, 2097, 2098, 2099, 2100]\n"
     ]
    },
    {
     "name": "stdin",
     "output_type": "stream",
     "text": [
      "Enter name(s) of WRF variable(s) to restack (leave blank for all): \n"
     ]
    }
   ],
   "source": [
    "years = user_input_years()\n",
    "varnames = user_input_variables(luts.resample_varnames)"
   ]
  },
  {
   "cell_type": "markdown",
   "id": "be82784e-b262-41a7-9cf3-b9612b87b091",
   "metadata": {},
   "source": [
    "Iterate over the output variable names, i.e. the resampled/aggregated variable names, which may be the same as the WRF variable name, and write the sbatch scripts:"
   ]
  },
  {
   "cell_type": "code",
   "execution_count": 3,
   "id": "db98bcfa-eaf4-4f39-8bb9-aa8897c0cfaf",
   "metadata": {},
   "outputs": [],
   "source": [
    "year_str = get_year_fn_str(years)\n",
    "\n",
    "sbatch_dir = slurm_dir.joinpath(\"resample_daily\")\n",
    "sbatch_dir.mkdir(exist_ok=True)\n",
    "sbatch_fps = []\n",
    "for varname in varnames:\n",
    "    varname = varname.lower()\n",
    "    wrf_varname = luts.resample_varnames[varname.upper()][\"wrf_varname\"]\n",
    "    # write to .slurm script\n",
    "    sbatch_fp = sbatch_dir.joinpath(f\"resample_{group}_{year_str}_{varname}.slurm\")\n",
    "    # filepath for slurm stdout\n",
    "    sbatch_out_fp = sbatch_dir.joinpath(f\"resample_{group}_{year_str}_{varname}_%j.out\")\n",
    "    sbatch_head = slurm.make_sbatch_head(\n",
    "        slurm_email, partition, conda_init_script\n",
    "    )\n",
    "\n",
    "    args = {\n",
    "        \"sbatch_fp\": sbatch_fp,\n",
    "        \"sbatch_out_fp\": sbatch_out_fp,\n",
    "        \"resample_script\": resample_script,\n",
    "        \"hourly_dir\": hourly_dir,\n",
    "        \"daily_dir\": daily_dir,\n",
    "        \"wrf_varname\": wrf_varname,\n",
    "        \"out_varname\": varname,\n",
    "        \"aggr\": luts.resample_varnames[varname.upper()][\"aggr\"],\n",
    "        \"fn_str\": luts.groups[group][\"fn_str\"],\n",
    "        \"year_str\": year_str,\n",
    "        \"ncpus\": ncpus,\n",
    "        \"sbatch_head\": sbatch_head,\n",
    "    }\n",
    "\n",
    "    slurm.write_sbatch_resample(**args)\n",
    "    sbatch_fps.append(sbatch_fp)"
   ]
  },
  {
   "cell_type": "markdown",
   "id": "b6f02915-c271-4094-999d-0a8380de352b",
   "metadata": {},
   "source": [
    "Remove existing slurm output scripts if you fancy it:"
   ]
  },
  {
   "cell_type": "code",
   "execution_count": 4,
   "id": "1ac24785-1d6f-499c-b408-f925c3a77a3e",
   "metadata": {},
   "outputs": [],
   "source": [
    "for varname in varnames:\n",
    "    _ = [fp.unlink() for fp in list(sbatch_dir.glob(f\"resample_{group}_{year_str}_{varname}_*.out\"))]"
   ]
  },
  {
   "cell_type": "markdown",
   "id": "ea558a05-f76b-47df-9e4c-11e5e66454f9",
   "metadata": {},
   "source": [
    "Submit the `.slurm` scripts with `sbatch`:"
   ]
  },
  {
   "cell_type": "code",
   "execution_count": 5,
   "id": "3f3060f7-d90d-4ef8-a89d-5e868e3021a5",
   "metadata": {},
   "outputs": [],
   "source": [
    "job_ids = [slurm.submit_sbatch(fp) for fp in sbatch_fps]"
   ]
  },
  {
   "cell_type": "markdown",
   "id": "4002801b-6716-4c1b-b70f-822e729532b0",
   "metadata": {},
   "source": [
    "Once the slurm jobs have all finished, proceed to the quality control notebook. "
   ]
  },
  {
   "cell_type": "code",
   "execution_count": 11,
   "id": "d1fc5ce8-3dc6-4d74-ab44-43cab79b3b78",
   "metadata": {},
   "outputs": [
    {
     "name": "stdout",
     "output_type": "stream",
     "text": [
      "             JOBID PARTITION     NAME     USER ST       TIME  NODES NODELIST(REASON)\n",
      "            470735   t1small resample kmredill  R      24:10      1 n23\n"
     ]
    }
   ],
   "source": [
    "!squeue -u kmredilla"
   ]
  },
  {
   "cell_type": "code",
   "execution_count": 13,
   "id": "8e98094f-c273-4d7f-a5f6-9696482c8ff4",
   "metadata": {},
   "outputs": [
    {
     "name": "stdout",
     "output_type": "stream",
     "text": [
      "yes\n"
     ]
    }
   ],
   "source": [
    "try:\n",
    "    assert True == False\n",
    "except AssertionError:\n",
    "    print(\"yes\")"
   ]
  },
  {
   "cell_type": "code",
   "execution_count": null,
   "id": "cf3b1453-f5ad-4744-aaa8-b2093384420f",
   "metadata": {},
   "outputs": [],
   "source": []
  }
 ],
 "metadata": {
  "kernelspec": {
   "display_name": "Python 3 (ipykernel)",
   "language": "python",
   "name": "python3"
  },
  "language_info": {
   "codemirror_mode": {
    "name": "ipython",
    "version": 3
   },
   "file_extension": ".py",
   "mimetype": "text/x-python",
   "name": "python",
   "nbconvert_exporter": "python",
   "pygments_lexer": "ipython3",
   "version": "3.8.3"
  }
 },
 "nbformat": 4,
 "nbformat_minor": 5
}
