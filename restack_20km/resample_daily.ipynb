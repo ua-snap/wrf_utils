{
 "cells": [
  {
   "cell_type": "markdown",
   "id": "5503b254-bce7-402c-bfff-19303133bea5",
   "metadata": {},
   "source": [
    "# Resample hourly to daily\n",
    "\n",
    "This notebook is used for resampling the restacked 20km outputs to daily files. \n",
    "\n",
    "We will submit a slurm job for a subset of the hourly files, that will then be resampled to a daily resolution."
   ]
  },
  {
   "cell_type": "code",
   "execution_count": 1,
   "id": "aec2d21c-112d-4d95-984d-747ce6a1b787",
   "metadata": {},
   "outputs": [],
   "source": [
    "import xarray as xr\n",
    "from config import *\n",
    "import luts\n",
    "import slurm"
   ]
  },
  {
   "cell_type": "markdown",
   "id": "be82784e-b262-41a7-9cf3-b9612b87b091",
   "metadata": {},
   "source": [
    "Iterate over the output variable names, i.e. the resampled/aggregated variable names, which may be the same as the WRF variable name, and write the sbatch scripts:"
   ]
  },
  {
   "cell_type": "code",
   "execution_count": 2,
   "id": "db98bcfa-eaf4-4f39-8bb9-aa8897c0cfaf",
   "metadata": {},
   "outputs": [],
   "source": [
    "out_varnames = luts.resample_varnames\n",
    "years = luts.groups[group][\"years\"]\n",
    "year_str = f\"{years[0]}-{years[-1]}\"\n",
    "\n",
    "sbatch_fps = []\n",
    "for varname in out_varnames:\n",
    "    wrf_varname = luts.resample_varnames[varname][\"wrf_varname\"]\n",
    "    # write to .slurm script\n",
    "    sbatch_fp = slurm_dir.joinpath(f\"resample_{group}_{year_str}_{varname}.slurm\")\n",
    "    # filepath for slurm stdout\n",
    "    sbatch_out_fp = slurm_dir.joinpath(f\"resample_{group}_{year_str}_{varname}_%j.out\")\n",
    "    sbatch_head = slurm.make_sbatch_head(\n",
    "        slurm_email, partition, conda_init_script\n",
    "    )\n",
    "\n",
    "    args = {\n",
    "        \"sbatch_fp\": sbatch_fp,\n",
    "        \"sbatch_out_fp\": sbatch_out_fp,\n",
    "        \"resample_script\": resample_script,\n",
    "        \"hourly_dir\": hourly_dir,\n",
    "        \"daily_dir\": daily_dir,\n",
    "        \"wrf_varname\": wrf_varname,\n",
    "        \"out_varname\": varname,\n",
    "        \"aggr\": luts.resample_varnames[varname][\"aggr\"],\n",
    "        \"fn_str\": luts.groups[group][\"fn_str\"],\n",
    "        \"year_str\": year_str,\n",
    "        \"ncpus\": ncpus,\n",
    "        \"sbatch_head\": sbatch_head,\n",
    "    }\n",
    "\n",
    "    slurm.write_sbatch_resample(**args)\n",
    "    sbatch_fps.append(sbatch_fp)"
   ]
  },
  {
   "cell_type": "markdown",
   "id": "b6f02915-c271-4094-999d-0a8380de352b",
   "metadata": {},
   "source": [
    "Remove existing slurm output scripts if you fancy it:"
   ]
  },
  {
   "cell_type": "code",
   "execution_count": 3,
   "id": "1ac24785-1d6f-499c-b408-f925c3a77a3e",
   "metadata": {},
   "outputs": [],
   "source": [
    "for varname in out_varnames:\n",
    "    _ = [fp.unlink() for fp in list(slurm_dir.glob(f\"resample_{group}_{year_str}_{varname}_*.out\"))]"
   ]
  },
  {
   "cell_type": "markdown",
   "id": "ea558a05-f76b-47df-9e4c-11e5e66454f9",
   "metadata": {},
   "source": [
    "Submit the `.slurm` scripts with `sbatch`:"
   ]
  },
  {
   "cell_type": "code",
   "execution_count": 4,
   "id": "3f3060f7-d90d-4ef8-a89d-5e868e3021a5",
   "metadata": {},
   "outputs": [],
   "source": [
    "job_ids = [slurm.submit_sbatch(fp) for fp in sbatch_fps]"
   ]
  },
  {
   "cell_type": "markdown",
   "id": "4002801b-6716-4c1b-b70f-822e729532b0",
   "metadata": {},
   "source": [
    "This should complete this step of the pipeline. Once the slurm jobs have all finished, proceed to the quality control notebook. "
   ]
  }
 ],
 "metadata": {
  "kernelspec": {
   "display_name": "Python 3 (ipykernel)",
   "language": "python",
   "name": "python3"
  },
  "language_info": {
   "codemirror_mode": {
    "name": "ipython",
    "version": 3
   },
   "file_extension": ".py",
   "mimetype": "text/x-python",
   "name": "python",
   "nbconvert_exporter": "python",
   "pygments_lexer": "ipython3",
   "version": "3.8.3"
  }
 },
 "nbformat": 4,
 "nbformat_minor": 5
}
