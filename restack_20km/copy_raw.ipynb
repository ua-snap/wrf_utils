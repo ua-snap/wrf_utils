{
 "cells": [
  {
   "cell_type": "markdown",
   "id": "9ec6e27d-02b9-4c0a-b5fd-145a7925e62a",
   "metadata": {
    "tags": []
   },
   "source": [
    "# Copy raw WRF outputs to scratch space\n",
    "\n",
    "If not present on the filesystem (as is the case at the time of developing the current code) then the WRF data need to be copied over from tape storage on Chinook (`$ARCHIVE` filesystem).\n",
    "\n",
    "This step will copy the annual subdirectories containing the WRF outputs for all specified years to scratch space for efficient reading.\n",
    "\n",
    "The prerequisite to this step is to \"stage\" the files that are on tape storage - i.e., read them from tape to a temporary spot (path on system is retained). Per the README, this can be accomplished with:\n",
    "\n",
    "```\n",
    "python stage_hourly.py\n",
    "```\n",
    "\n",
    "Run this cell to set up the environment for running the copy:"
   ]
  },
  {
   "cell_type": "code",
   "execution_count": 3,
   "id": "5f1395a3-b453-42a6-a684-680e5634438c",
   "metadata": {},
   "outputs": [],
   "source": [
    "from multiprocessing import Pool\n",
    "from config import *\n",
    "import luts\n",
    "import restack_20km as main\n",
    "\n",
    "years = luts.groups[group][\"years\"]\n",
    "wrf_dir = luts.groups[group][\"directory\"]"
   ]
  },
  {
   "cell_type": "markdown",
   "id": "5bb325ba-2796-4b12-ab0e-998c96363074",
   "metadata": {},
   "source": [
    "### 1 - Check that all requested files actually staged\n",
    "\n",
    "It takes a very long time to to stage an entire group's directory of files, and experience has shown that it might partially fail or otherwise be difficult to tell whether all files are staged. So we will determine what files (years), if any, are missing from the scratch space.\n",
    "\n",
    "Use the `check_staged` function to verify that all files are actually staged and ready to be copied to scratch space:"
   ]
  },
  {
   "cell_type": "code",
   "execution_count": 14,
   "id": "1d0eb49a-253e-4ea4-9f10-e58018b0339b",
   "metadata": {},
   "outputs": [
    {
     "name": "stdout",
     "output_type": "stream",
     "text": [
      "Requested years: [1970 1971 1972 1973 1974 1975 1976 1977 1978 1979 1980 1981 1982 1983\n",
      " 1984 1985 1986 1987 1988 1989 1990 1991 1992 1993 1994 1995 1996 1997\n",
      " 1998 1999 2000 2001 2002 2003 2004 2005 2006]\n",
      "All files are staged\n",
      "CPU times: user 119 ms, sys: 90 ms, total: 209 ms\n",
      "Wall time: 18.2 s\n"
     ]
    }
   ],
   "source": [
    "%time unstaged_fps = main.check_staged(wrf_dir, years)"
   ]
  },
  {
   "cell_type": "markdown",
   "id": "a89214da-b1e4-4223-85f1-3db9e23f8010",
   "metadata": {},
   "source": [
    "If not all files are staged, you will need to re-exeute the above command calling the `stage_hourly.py` script."
   ]
  },
  {
   "cell_type": "markdown",
   "id": "50829daa-9307-42ff-aa95-fc9652984196",
   "metadata": {},
   "source": [
    "### 2 - Copy staged files to `scratch_dir`\n",
    "\n",
    "Ensure yearly subdirectories are present before starting the copying:"
   ]
  },
  {
   "cell_type": "code",
   "execution_count": 18,
   "id": "8fd8694b-9daa-4002-b74a-0740b49e74ac",
   "metadata": {},
   "outputs": [],
   "source": [
    "main.make_yearly_scratch_dirs(group, years, raw_scratch_dir)"
   ]
  },
  {
   "cell_type": "markdown",
   "id": "ad6be4e5-93a8-4afc-91ea-ee77a69ed9d6",
   "metadata": {},
   "source": [
    "Iterate over years and copy the files in parallel with `multiprocesing.Pool`:"
   ]
  },
  {
   "cell_type": "code",
   "execution_count": null,
   "id": "315c4473-bcdd-4dcf-9624-9239c0ccb1f4",
   "metadata": {
    "tags": []
   },
   "outputs": [
    {
     "name": "stderr",
     "output_type": "stream",
     "text": [
      "Copying files for 37 years:   0%|                                                                          | 0/37 [00:00<?, ?it/s]\n",
      "Year: 1970:   0%|                                                                                        | 0/8736 [00:00<?, ?it/s]\u001b[A\n",
      "Year: 1970:   0%|                                                                             | 1/8736 [00:06<14:36:49,  6.02s/it]\u001b[A\n",
      "Year: 1970:   0%|▏                                                                            | 21/8736 [00:12<1:11:38,  2.03it/s]\u001b[A\n",
      "Year: 1970:   0%|▎                                                                              | 41/8736 [00:17<54:50,  2.64it/s]\u001b[A\n",
      "Year: 1970:   1%|▌                                                                              | 61/8736 [00:18<30:46,  4.70it/s]\u001b[A\n",
      "Year: 1970:   1%|▋                                                                              | 81/8736 [00:24<35:36,  4.05it/s]\u001b[A\n",
      "Year: 1970:   1%|▉                                                                             | 101/8736 [00:29<36:28,  3.95it/s]\u001b[A\n",
      "Year: 1970:   1%|▉                                                                             | 103/8736 [00:30<36:53,  3.90it/s]\u001b[A\n",
      "Year: 1970:   1%|▉                                                                             | 110/8736 [00:30<30:02,  4.78it/s]\u001b[A\n",
      "Year: 1970:   1%|█                                                                             | 121/8736 [00:35<41:11,  3.49it/s]\u001b[A\n",
      "Year: 1970:   1%|█                                                                             | 124/8736 [00:36<41:03,  3.50it/s]\u001b[A\n",
      "Year: 1970:   2%|█▎                                                                            | 141/8736 [00:41<41:20,  3.47it/s]\u001b[A\n",
      "Year: 1970:   2%|█▎                                                                            | 143/8736 [00:41<42:39,  3.36it/s]\u001b[A\n",
      "Year: 1970:   2%|█▎                                                                            | 145/8736 [00:42<39:41,  3.61it/s]\u001b[A\n",
      "Year: 1970:   2%|█▎                                                                            | 150/8736 [00:42<30:29,  4.69it/s]\u001b[A\n",
      "Year: 1970:   2%|█▍                                                                            | 161/8736 [00:46<44:00,  3.25it/s]\u001b[A\n",
      "Year: 1970:   2%|█▍                                                                            | 163/8736 [00:47<46:17,  3.09it/s]\u001b[A\n",
      "Year: 1970:   2%|█▌                                                                            | 169/8736 [00:47<33:14,  4.30it/s]\u001b[A\n",
      "Year: 1970:   2%|█▌                                                                            | 178/8736 [00:48<20:44,  6.88it/s]\u001b[A\n",
      "Year: 1970:   2%|█▋                                                                            | 182/8736 [00:53<57:36,  2.47it/s]\u001b[A\n",
      "Year: 1970:   2%|█▋                                                                            | 186/8736 [00:53<45:34,  3.13it/s]\u001b[A\n",
      "Year: 1970:   2%|█▊                                                                            | 201/8736 [00:57<40:51,  3.48it/s]\u001b[A\n",
      "Year: 1970:   3%|█▉                                                                            | 221/8736 [00:58<21:43,  6.53it/s]\u001b[A\n",
      "Year: 1970:   3%|██▏                                                                           | 241/8736 [00:58<13:03, 10.84it/s]\u001b[A\n",
      "Year: 1970:   3%|██▎                                                                           | 261/8736 [00:58<09:18, 15.17it/s]\u001b[A\n",
      "Year: 1970:   3%|██▌                                                                           | 281/8736 [00:59<06:22, 22.09it/s]\u001b[A\n",
      "Year: 1970:   3%|██▋                                                                           | 301/8736 [00:59<04:37, 30.45it/s]\u001b[A\n",
      "Year: 1970:   4%|██▊                                                                           | 321/8736 [00:59<03:29, 40.23it/s]\u001b[A\n",
      "Year: 1970:   4%|███                                                                           | 341/8736 [00:59<02:42, 51.70it/s]\u001b[A\n",
      "Year: 1970:   4%|███▏                                                                          | 361/8736 [00:59<02:11, 63.60it/s]\u001b[A\n",
      "Year: 1970:   4%|███▍                                                                          | 381/8736 [00:59<01:49, 76.63it/s]\u001b[A\n",
      "Year: 1970:   5%|███▌                                                                          | 401/8736 [00:59<01:35, 87.06it/s]\u001b[A\n",
      "Year: 1970:   5%|███▊                                                                          | 421/8736 [01:00<01:28, 94.42it/s]\u001b[A\n",
      "Year: 1970:   5%|███▉                                                                         | 441/8736 [01:00<01:21, 102.12it/s]\u001b[A"
     ]
    }
   ],
   "source": [
    "ncpus = 20\n",
    "clobber = \"all\"\n",
    "\n",
    "\n",
    "group_dir = raw_scratch_dir.joinpath(group)\n",
    "for year in tqdm.tqdm(years, total=len(years), desc=f\"Copying files for {len(years)} years\"):\n",
    "    src_dir = wrf_dir.joinpath(str(year))\n",
    "    dst_dir = group_dir.joinpath(str(year))\n",
    "    # set third arg to False for no-clobber\n",
    "    args = [(fp, dst_dir.joinpath(fp.name), clobber) for fp in src_dir.glob(\"*.nc\")]\n",
    "    \n",
    "    with Pool(ncpus) as pool:\n",
    "        out = [out for out in tqdm.tqdm(pool.imap(main.sys_copy, args), total=len(args), desc=f\"Year: {year}\")]"
   ]
  },
  {
   "cell_type": "markdown",
   "id": "1b4b0adf-149d-494d-a17a-52a1b8bfd34a",
   "metadata": {},
   "source": [
    "All files should now be present on scratch space. \n",
    "\n",
    "However, this cell below can be used as a quick check to identify any files that didn't copy properly based on file size:"
   ]
  },
  {
   "cell_type": "code",
   "execution_count": 7,
   "id": "45d45a50-cee2-43f7-9132-f0f13785b1be",
   "metadata": {
    "tags": []
   },
   "outputs": [],
   "source": [
    "flag_fps = []\n",
    "\n",
    "for year in years:\n",
    "    year_scratch_dir = raw_scratch_dir.joinpath(group, year)\n",
    "    flag_fps.extend(check_scratch_file_sizes(year_scratch_dir, ncpus=20))"
   ]
  },
  {
   "cell_type": "markdown",
   "id": "63b7be40-f603-44d4-a643-74124a056e05",
   "metadata": {},
   "source": [
    "Then, re-copy any missing files derived from that check:"
   ]
  },
  {
   "cell_type": "code",
   "execution_count": null,
   "id": "2faebd71-63f7-4e21-909b-29c83417ad68",
   "metadata": {},
   "outputs": [],
   "source": [
    "main.recopy_raw_scratch_files(flag_fps, wrf_dir)"
   ]
  },
  {
   "cell_type": "markdown",
   "id": "56b4c26d-9388-485c-bdda-f6ee9c3b83f4",
   "metadata": {},
   "source": [
    "**Note** - if there is a large number of missing files, it might be more efficient to use the intial section above for copying in batch."
   ]
  }
 ],
 "metadata": {
  "kernelspec": {
   "display_name": "Python 3 (ipykernel)",
   "language": "python",
   "name": "python3"
  },
  "language_info": {
   "codemirror_mode": {
    "name": "ipython",
    "version": 3
   },
   "file_extension": ".py",
   "mimetype": "text/x-python",
   "name": "python",
   "nbconvert_exporter": "python",
   "pygments_lexer": "ipython3",
   "version": "3.8.3"
  }
 },
 "nbformat": 4,
 "nbformat_minor": 5
}
