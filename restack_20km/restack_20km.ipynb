{
 "cells": [
  {
   "cell_type": "markdown",
   "id": "8808d314-7b23-4581-8d0f-6dfb71154736",
   "metadata": {},
   "source": [
    "# 20 km WRF re-stacking pipeline\n",
    "\n",
    "This pipeline restructures the raw 20km WRF outputs that cover Alaska and the surrounding regions (created by P Bieniek) into more user-friendly files that can be easily imported into popular GIS software. This WRF dataset consists of hourly outputs for one reanalysis, ERA-Interim, and two GCMs, GFDL-CM3, and NCAR-CCSM4. This pipeline is designed to be executed entirely from this notebook.\n",
    "\n",
    "This is a rather complicated SNAP data pipeline. It works on a large amount of data (~300 GB for a single model / scenario / year, so that's over 90 TB for $2 * 95 + 2 * 35 + 35$ model / scenario / year combinations), creates a large number of final data files (>10k), and makes use of slurm, specific directory structure / file management, and asyncronous execution ability (i.e. re-run certain steps, run steps for only certain variables, etc). The \"Setup\" step provides info on executing it."
   ]
  },
  {
   "cell_type": "markdown",
   "id": "af3e39cb-c415-4058-b3d8-0567d8dcf46b",
   "metadata": {},
   "source": [
    "# 0 - Setup\n",
    "\n",
    "This step provides instructions for setting up and running the pipeline. \n",
    "\n",
    "First off, a snapshot of the structure of the target base data:"
   ]
  },
  {
   "cell_type": "code",
   "execution_count": 13,
   "id": "09e07936-3241-457a-a012-7c030ce89f78",
   "metadata": {},
   "outputs": [
    {
     "name": "stdout",
     "output_type": "stream",
     "text": [
      "\u001b[0m\u001b[38;5;27m1970\u001b[0m/\n",
      "\u001b[38;5;27m1971\u001b[0m/\n",
      "\u001b[38;5;27m1972\u001b[0m/\n",
      "\u001b[38;5;27m1973\u001b[0m/\n",
      "\u001b[38;5;27m1974\u001b[0m/\n"
     ]
    }
   ],
   "source": [
    "ls /archive/DYNDOWN/DIONE/pbieniek/ccsm/hist/hourly | head -5"
   ]
  },
  {
   "cell_type": "code",
   "execution_count": 14,
   "id": "76100442-3e72-497e-9387-11d9d9c1c7f5",
   "metadata": {},
   "outputs": [
    {
     "name": "stdout",
     "output_type": "stream",
     "text": [
      "\u001b[38;5;27m2003\u001b[0m/\n",
      "\u001b[38;5;27m2004\u001b[0m/\n",
      "\u001b[38;5;27m2005\u001b[0m/\n",
      "nohup.out\n",
      "\u001b[38;5;34morgdata.sh\u001b[0m*\n",
      "\u001b[m"
     ]
    }
   ],
   "source": [
    "ls /archive/DYNDOWN/DIONE/pbieniek/ccsm/hist/hourly/ | tail -6"
   ]
  },
  {
   "cell_type": "code",
   "execution_count": 18,
   "id": "60a75bd5-98b6-42af-8934-c008bafd896d",
   "metadata": {},
   "outputs": [
    {
     "name": "stdout",
     "output_type": "stream",
     "text": [
      "\u001b[0m\u001b[38;5;34mdailylog.out\u001b[0m*\n",
      "\u001b[38;5;34mWRFDS_d01.1979-01-01_00.nc\u001b[0m*\n",
      "\u001b[38;5;34mWRFDS_d01.1979-01-01_01.nc\u001b[0m*\n",
      "\u001b[38;5;34mWRFDS_d01.1979-01-01_02.nc\u001b[0m*\n",
      "\u001b[38;5;34mWRFDS_d01.1979-01-01_03.nc\u001b[0m*\n",
      "ls: write error\n"
     ]
    }
   ],
   "source": [
    "ls /archive/DYNDOWN/DIONE/pbieniek/ccsm/hist/hourly/1979 | head -5"
   ]
  },
  {
   "cell_type": "markdown",
   "id": "b1ac64b4-6808-48a2-9b07-04f7d5450a51",
   "metadata": {},
   "source": [
    "This structure applies for all outputs, and exists for the following model / scenario / year combinations:\n",
    "\n",
    "* `era/`:\n",
    "    * `hist/`: 1979-2015\n",
    "* `gfdl/`\n",
    "    * `hist/`: 1970-2006\n",
    "    * `rcp85/`: 2006-2100\n",
    "* `ccsm/`\n",
    "    * `hist/`: 1970-2005\n",
    "    * `rcp85/`: 2005-2100"
   ]
  },
  {
   "cell_type": "markdown",
   "id": "b91d0803-1d11-420c-87cd-e2a68afd5248",
   "metadata": {
    "tags": []
   },
   "source": [
    "## 0.1 - Pipeline execution\n",
    "\n",
    "### Processing\n",
    "\n",
    "The default configuration for this pipeline is to process all available data - all year / variable / model / scenario combinations possible. However, at the finest level of control, this pipeline can re-stack a single year's worth of data for a single variable / model / scenario combination.\n",
    "\n",
    "As seen above, the input data are grouped by model and scenario names and are consistently structured - hourly WRF model outputs grouped by yearly folders. Thus, processing is done at the model / scenario \"group\" level - more on that below.\n",
    "\n",
    "Given the large file size / count issue, this pipeline is best utilized in an async fashion, with memory management tasks, regular printouts of what's happening and progress on things, what files are where for which groups, etc. \n",
    "\n",
    "### System\n",
    "\n",
    "This pipeline is being developed on the Chinook cluster:"
   ]
  },
  {
   "cell_type": "code",
   "execution_count": 2,
   "id": "09b5fef0-7edc-420f-a9b2-e43d858a7f4a",
   "metadata": {},
   "outputs": [
    {
     "name": "stdout",
     "output_type": "stream",
     "text": [
      "Linux chinook00.rcs.alaska.edu 2.6.32-754.35.1.el6.61015g0000.x86_64 #1 SMP Mon Dec 21 12:41:07 EST 2020 x86_64 x86_64 x86_64 GNU/Linux\n"
     ]
    }
   ],
   "source": [
    "!uname -a"
   ]
  },
  {
   "cell_type": "markdown",
   "id": "553b2acb-eb3a-474f-9ace-0a5cf7132d0f",
   "metadata": {},
   "source": [
    "This pipeline makes use of slurm and multiple cores / compute nodes for processing in reasonable time."
   ]
  },
  {
   "cell_type": "code",
   "execution_count": 5,
   "id": "381a1c57-bcad-4f25-8c56-ebf2367b1541",
   "metadata": {},
   "outputs": [
    {
     "name": "stdout",
     "output_type": "stream",
     "text": [
      "slurm 19.05.7\n"
     ]
    }
   ],
   "source": [
    "!sinfo -V"
   ]
  },
  {
   "cell_type": "markdown",
   "id": "41bcaca6-33c8-4485-9b69-52ff4a380746",
   "metadata": {},
   "source": [
    "### Execution\n",
    "\n",
    "This notebook should be executed sequentially to process the entire dataset. To process only subsets of the target dataset, which might be done for fixing an issue or re-processing some failed runs, all code cells in this Setup section from Section 0.2 onward need to be executed prior."
   ]
  },
  {
   "cell_type": "markdown",
   "id": "a98bab88-a2ff-4e64-8978-c4d7c8eb69a1",
   "metadata": {
    "tags": []
   },
   "source": [
    "## 0.2 - Environment\n",
    "\n",
    "Instead of relying on environment variables, this pipeline utilizes user-supplied parameters specified in the cells of this notebook by simply assigning values to variables prior to executing any processing code cells.\n",
    "\n",
    "### 0.2.1 - global parameters\n",
    "\n",
    "The following variables are used throughout the pipeline and are loadset in the code cell below:\n",
    "\n",
    "* `base_dir` - Full path to the directory that will contain all ancillary and intermediate files that will be kept, such as scripts for slurm / `sbatch`\n",
    "* `output_dir` - Full path to the directory that will contain the final output data (will be the same as `base_dir` here but specified separately for consistency with other SNAP pipelines)\n",
    "* `scratch_dir` - Full path to the scratch directory that raw WRF outputs will be copied to prior to processing them\n",
    "    * This pipelines works with WRF outputs that are on a mounted file system, and so can be copied over to scratch space and removed when done to improve IO and avoid the need to keep them in the `base_dir`.\n",
    "* `slurm_email` - String containing email address to use for failed slurm notifications\n",
    "* `conda_init_script` - This is currently specific to Chinook. This is the path to a script that contains commands for initializing the shells on the compute nodes to use `conda activate`, has the typical commands seen in `~/.bashrc` after installing conda:"
   ]
  },
  {
   "cell_type": "code",
   "execution_count": 19,
   "id": "841e47c7-1503-4d1b-9ccc-f8babce63dba",
   "metadata": {},
   "outputs": [
    {
     "name": "stdout",
     "output_type": "stream",
     "text": [
      "#!/bin/bash\n",
      "\n",
      "# >>> conda initialize >>>\n",
      "# !! Contents within this block are managed by 'conda init' !!\n",
      "__conda_setup=\"$('/home/kmredilla/miniconda3/bin/conda' 'shell.bash' 'hook' 2> /dev/null)\"\n",
      "if [ $? -eq 0 ]; then\n",
      "    eval \"$__conda_setup\"\n",
      "else\n",
      "    if [ -f \"/home/kmredilla/miniconda3/etc/profile.d/conda.sh\" ]; then\n",
      "        . \"/home/kmredilla/miniconda3/etc/profile.d/conda.sh\"\n",
      "    else\n",
      "        export PATH=\"/home/kmredilla/miniconda3/bin:$PATH\"\n",
      "    fi\n",
      "fi\n",
      "unset __conda_setup\n",
      "# <<< conda initialize <<< \n",
      "\n"
     ]
    }
   ],
   "source": [
    "cat ~/init_conda.sh"
   ]
  },
  {
   "cell_type": "markdown",
   "id": "608535b5-a88c-424b-9c1f-90e937526bb9",
   "metadata": {},
   "source": [
    "Supply the values for these parameters:"
   ]
  },
  {
   "cell_type": "code",
   "execution_count": 1,
   "id": "fd782b68-59a3-4154-97dd-63f7bf303b42",
   "metadata": {},
   "outputs": [],
   "source": [
    "# User-parameters\n",
    "base_dir = \"/import/SNAP/wrf_data/project_data/wrf_data\"\n",
    "output_dir = \"/import/SNAP/wrf_data/project_data/wrf_data\"\n",
    "scratch_dir = \"/center1/DYNDOWN/kmredilla/wrf_data\"\n",
    "slurm_email = \"kmredilla@alaska.edu\"\n",
    "conda_init_script = \"/home/kmredilla/init_conda.sh\""
   ]
  },
  {
   "cell_type": "markdown",
   "id": "ee5f413a-b0ae-4c94-9f4e-61a95b42c01f",
   "metadata": {},
   "source": [
    "### 0.2.2 - job parameters\n",
    "\n",
    "The following arguments are required for a single job of re-stacking data for a particular variable (or variables), model, scenario, and year (or years):\n",
    "\n",
    "* `varname`: Name of the variable. This is the lower case version of the variable name in the WRF outputs.\n",
    "* `wrf_dir`: This is the directory containing the WRF files. This codebase is designed for use with hourly output, so this needs to be the `hourly/` directory if there are multiple options (e.g. `daily/`, `monthly/`, etc.).\n",
    "* `group`: Encoded value specifying the WRF group being worked on, which is just a combination of the model and scenario (or just model, in terms of ERA-Interim).  One of [`era_interim`, `gfdl_hist`, `ccsm_hist`, `gfdl_rcp85`, `ccsm_rcp85`].\n",
    "* `years`: a list of years to work on specified as integers, such as `[1979, 1980]`, or omit to work on all years available for a given WRF group.\n",
    "\n",
    "The WRF outputs of interest from different runs of model/scenario may be in separate places, but there is consistency in file structure across all groups - all `hourly` directories have annual subgroups consisting of the WRF outputs to be restacked."
   ]
  },
  {
   "cell_type": "markdown",
   "id": "65b705d6-6b4a-492c-a474-63769b8211c1",
   "metadata": {},
   "source": [
    "## 0.3 - Global imports and filepaths\n",
    "\n",
    "Set up all filepathing used in the cell below and import all packages used in multiple sections. "
   ]
  },
  {
   "cell_type": "code",
   "execution_count": 2,
   "id": "c9414518-e855-49c0-8965-4e5fbddb14cb",
   "metadata": {},
   "outputs": [],
   "source": [
    "import os\n",
    "import time\n",
    "from multiprocessing import Pool\n",
    "from pathlib import Path\n",
    "import xarray as xr\n",
    "from tqdm.notebook import tqdm\n",
    "# codebase\n",
    "import luts\n",
    "import restack_20km as main\n",
    "\n",
    "\n",
    "base_dir = Path(\"/import/SNAP/wrf_data/project_data/wrf_data\")\n",
    "anc_dir = base_dir.joinpath(\"ancillary\")\n",
    "anc_dir.mkdir(exist_ok=True)\n",
    "# monthly WRF file to serve as template\n",
    "template_fp = anc_dir.joinpath(\"monthly_PCPT-gfdlh.nc\")\n",
    "# WRF geogrid file for correctly projecting data and rotating wind data\n",
    "geogrid_fp = anc_dir.joinpath(\"geo_em.d01.nc\")\n",
    "# final output directory for data\n",
    "output_dir = Path(\"/import/SNAP/wrf_data/project_data/wrf_data/restacked\")\n",
    "output_dir.mkdir(exist_ok=True)\n",
    "# scratch space where data will be copied for performant reading / writing\n",
    "scratch_dir = Path(\"/center1/DYNDOWN/kmredilla/wrf_data\")\n",
    "# where raw wrf outputs will be copied on scratch\n",
    "raw_scratch_dir = scratch_dir.joinpath(\"raw\")\n",
    "raw_scratch_dir.mkdir(exist_ok=True)\n",
    "# where initially restacked data will be stored on scratch_space\n",
    "restack_scratch_dir = scratch_dir.joinpath(\"restacked\")\n",
    "restack_scratch_dir.mkdir(exist_ok=True)\n",
    "\n",
    "slurm_dir = base_dir.joinpath(\"slurm\")\n",
    "slurm_dir.mkdir(exist_ok=True)\n",
    "slurm_email = \"kmredilla@alaska.edu\"\n",
    "\n",
    "# this env var is always defined if notebook started with anaconda-project run\n",
    "project_dir = Path(os.getenv(\"PROJECT_DIR\"))\n",
    "ap_env = project_dir.joinpath(\"envs/default\")\n",
    "# cp_script = project_dir.joinpath(\"restack_20km/mp_cp.py\") not used on Chinook, $ARCHIVE not accessible from compute nodes\n",
    "restack_script = project_dir.joinpath(\"restack_20km/restack.py\")\n",
    "forecast_times_script = project_dir.joinpath(\"restack_20km/forecast_times.py\")\n",
    "luts_fp = project_dir.joinpath(\"restack_20km/luts.py\")"
   ]
  },
  {
   "cell_type": "markdown",
   "id": "403f4d6c-88d3-4733-bf43-d365efbf23e8",
   "metadata": {
    "tags": []
   },
   "source": [
    "# 1 - Re-stack data and improve the file structure\n",
    "\n",
    "This is the main lift of the pipeline and it applies to a single WRF group (again, \"group\" meaning a specific model / scenario combination) for any variables and years specified. It re-stacks the WRF outputs, which means extracting the data for all variables in a single hourly WRF file and combining them into new files grouped by variable and year. It then assigns useful metadata and restructures the files to achieve greater usability (note - this was previously a separate step, but the storage of essentially duplicate intermediate data was not efficient).\n",
    "\n",
    "As mentioned above, this pipeline is currently configured to run for all potential combinations of variables / years for each group. This section will demonstrate execution of all the processing steps required to re-stack one single WRF group, NCAR-CCSM4 historical, and then will proceed to string them all together for processing the remaining WRF groups."
   ]
  },
  {
   "cell_type": "markdown",
   "id": "a8ebb316-9827-4495-bb0a-996d59194f14",
   "metadata": {
    "tags": []
   },
   "source": [
    "## 1.1 - Copy WRF data to scratch space\n",
    "\n",
    "If not present on the filesystem (as is the case at the time of developing the current code) then the WRF data need to be copied over. This is done from tape storage if working on Chinook.\n",
    "\n",
    "This step will copy the annual subdirectory(ies) containing the WRF outputs for all specified years to scratch space for efficient reading. Given the location of the source data on $ARCHIVE, which requires files to be brought back online from tape to read them, this step is very time consuming.\n",
    "\n",
    "There are two steps required here:\n",
    "1. \"stage\" the files that are on tape storage - i.e., read them from tape to a temporary spot\n",
    "2. copy the files to scratch space for persistence\n",
    "\n",
    "It takes a very long to to `batch_stage` an entire group directory. This does not make for a useful experience when trying to execute this pipeline. Given that this transfer needs to be initiated from a login node*, it will be useful to have commands that \n",
    "1) determine what files (years) are missing from the scratch space\n",
    "2) checks to see what of those necessary files (years) are currently \"offline\" (i.e., in tape storage only and not available for immediate copy)\n",
    "3) copies files (years) that are online \n",
    "\n",
    "\\* $ARCHIVE is only visible to the login nodes, so this task cannot be split into subtasks for the compute nodes."
   ]
  },
  {
   "cell_type": "markdown",
   "id": "1b10fcc7-8643-415b-b0c6-42e52c984ab6",
   "metadata": {},
   "source": [
    "### 1.1.1 - Specify the WRF group and years to be processed\n",
    "\n",
    "Set the parameters for processing. The `wrf_dir` specifies the path to the WRF group."
   ]
  },
  {
   "cell_type": "code",
   "execution_count": 3,
   "id": "d0256af0-bd62-4d3f-8c1b-e2381439586f",
   "metadata": {},
   "outputs": [],
   "source": [
    "# job parameters\n",
    "wrf_dir = Path(\"/archive/DYNDOWN/DIONE/pbieniek/ccsm/hist/hourly\")\n",
    "group = \"ccsm_hist\"\n",
    "# years = [2004, 2005]\n",
    "# to specify all years:\n",
    "years = luts.groups[group][\"years\"]"
   ]
  },
  {
   "cell_type": "markdown",
   "id": "380d6da3-2621-4e9b-9d87-3d8e64d8aefb",
   "metadata": {},
   "source": [
    "### 1.1.2 - Stage the files to be processed\n",
    "\n",
    "Staging all files for a particular WRF group can be done with a single command on the above `wrf_dir`, e.g.:\n",
    "\n",
    "```\n",
    "batch_stage -r /archive/DYNDOWN/DIONE/pbieniek/ccsm/hist/hourly\n",
    "```\n",
    "\n",
    "However, the cell below will execute the staging for all supplied years. Once this command finishes, then proceed to copying the files. This can take a while."
   ]
  },
  {
   "cell_type": "code",
   "execution_count": 6,
   "id": "4d411f69-99ed-4928-97f5-3d5d786d449c",
   "metadata": {},
   "outputs": [],
   "source": [
    "from subprocess import check_output\n",
    "\n",
    "\n",
    "stdout = []\n",
    "for year in years:\n",
    "    stage_dir = wrf_dir.joinpath(str(year))\n",
    "    out = check_output([\"batch_stage\", \"-r\", stage_dir])\n",
    "    stdout.append(out)"
   ]
  },
  {
   "cell_type": "markdown",
   "id": "8823fcdd-c823-4a3f-ace0-b8f4d325e72f",
   "metadata": {},
   "source": [
    "**Note** - This step should always be done if the data are on `$ARCHIVE` on Chinook, as it should be much more efficient that running the copy without staged (> 3 hours to do a year without staging, ~45 minutes when staged (using 20 cores))"
   ]
  },
  {
   "cell_type": "markdown",
   "id": "c2468404-cfec-4756-8a8b-be0c7c5409f9",
   "metadata": {},
   "source": [
    "Check that all requested files actually staged:"
   ]
  },
  {
   "cell_type": "code",
   "execution_count": 5,
   "id": "8033f0ce-0b2c-4cee-9453-8fd439c78000",
   "metadata": {},
   "outputs": [
    {
     "name": "stdout",
     "output_type": "stream",
     "text": [
      "Requested years: [1970 1971 1972 1973 1974 1975 1976 1977 1978 1979 1980 1981 1982 1983\n",
      " 1984 1985 1986 1987 1988 1989 1990 1991 1992 1993 1994 1995 1996 1997\n",
      " 1998 1999 2000 2001 2002 2003 2004 2005]\n",
      "All files are staged\n",
      "CPU times: user 86 ms, sys: 102 ms, total: 188 ms\n",
      "Wall time: 2.42 s\n"
     ]
    },
    {
     "data": {
      "text/plain": [
       "[]"
      ]
     },
     "execution_count": 5,
     "metadata": {},
     "output_type": "execute_result"
    }
   ],
   "source": [
    "%time unstaged_fps = main.check_staged(wrf_dir, years)"
   ]
  },
  {
   "cell_type": "markdown",
   "id": "f6c6c050-e596-459b-a87d-970ac95b8ef5",
   "metadata": {},
   "source": [
    "Ensure yearly subdirectories are present before starting the copying:"
   ]
  },
  {
   "cell_type": "code",
   "execution_count": 5,
   "id": "6a0986b7-e3b2-4d26-befc-77fcd2d751a1",
   "metadata": {},
   "outputs": [],
   "source": [
    "main.make_yearly_scratch_dirs(group, years, raw_scratch_dir)"
   ]
  },
  {
   "cell_type": "markdown",
   "id": "a1ffaf2f-b04e-4254-907b-c49889b88a8d",
   "metadata": {},
   "source": [
    "### 1.1.3 - Copy staged files to `scratch_dir`\n",
    "\n",
    "Iterate over years and copy the files in parallel with `multiprocesing.Pool`:"
   ]
  },
  {
   "cell_type": "code",
   "execution_count": 12,
   "id": "b6ad9d4c-6fae-4c35-8062-213fcc7796e5",
   "metadata": {
    "collapsed": true,
    "jupyter": {
     "outputs_hidden": true
    },
    "tags": []
   },
   "outputs": [
    {
     "data": {
      "application/vnd.jupyter.widget-view+json": {
       "model_id": "c4ff6a4835574ac7955576d608a9247c",
       "version_major": 2,
       "version_minor": 0
      },
      "text/plain": [
       "Copying files for 20 years:   0%|          | 0/20 [00:00<?, ?it/s]"
      ]
     },
     "metadata": {},
     "output_type": "display_data"
    },
    {
     "data": {
      "application/vnd.jupyter.widget-view+json": {
       "model_id": "88921a296189425380a013e6e43ae7f7",
       "version_major": 2,
       "version_minor": 0
      },
      "text/plain": [
       "Year: 1984:   0%|          | 0/8760 [00:00<?, ?it/s]"
      ]
     },
     "metadata": {},
     "output_type": "display_data"
    },
    {
     "data": {
      "application/vnd.jupyter.widget-view+json": {
       "model_id": "7db1276b800d4311adf34c728b977c47",
       "version_major": 2,
       "version_minor": 0
      },
      "text/plain": [
       "Year: 1985:   0%|          | 0/8760 [00:00<?, ?it/s]"
      ]
     },
     "metadata": {},
     "output_type": "display_data"
    },
    {
     "data": {
      "application/vnd.jupyter.widget-view+json": {
       "model_id": "94bf4df13c2b4bef822cbfa67676f7d9",
       "version_major": 2,
       "version_minor": 0
      },
      "text/plain": [
       "Year: 1986:   0%|          | 0/8760 [00:00<?, ?it/s]"
      ]
     },
     "metadata": {},
     "output_type": "display_data"
    },
    {
     "data": {
      "application/vnd.jupyter.widget-view+json": {
       "model_id": "b87973fccd7b41489de185e17f037c01",
       "version_major": 2,
       "version_minor": 0
      },
      "text/plain": [
       "Year: 1987:   0%|          | 0/8760 [00:00<?, ?it/s]"
      ]
     },
     "metadata": {},
     "output_type": "display_data"
    },
    {
     "data": {
      "application/vnd.jupyter.widget-view+json": {
       "model_id": "87f3d00c282248d2bfefc6a7f7a100f0",
       "version_major": 2,
       "version_minor": 0
      },
      "text/plain": [
       "Year: 1988:   0%|          | 0/8760 [00:00<?, ?it/s]"
      ]
     },
     "metadata": {},
     "output_type": "display_data"
    },
    {
     "data": {
      "application/vnd.jupyter.widget-view+json": {
       "model_id": "c191d955970c4e06a83d862ab0818182",
       "version_major": 2,
       "version_minor": 0
      },
      "text/plain": [
       "Year: 1989:   0%|          | 0/8760 [00:00<?, ?it/s]"
      ]
     },
     "metadata": {},
     "output_type": "display_data"
    },
    {
     "data": {
      "application/vnd.jupyter.widget-view+json": {
       "model_id": "042b1eef7fb84e429fc2daa2c9584114",
       "version_major": 2,
       "version_minor": 0
      },
      "text/plain": [
       "Year: 1990:   0%|          | 0/8760 [00:00<?, ?it/s]"
      ]
     },
     "metadata": {},
     "output_type": "display_data"
    },
    {
     "data": {
      "application/vnd.jupyter.widget-view+json": {
       "model_id": "ec3383bdbc6f4ec1bcc3cbb5f6573192",
       "version_major": 2,
       "version_minor": 0
      },
      "text/plain": [
       "Year: 1991:   0%|          | 0/8760 [00:00<?, ?it/s]"
      ]
     },
     "metadata": {},
     "output_type": "display_data"
    },
    {
     "data": {
      "application/vnd.jupyter.widget-view+json": {
       "model_id": "73996865286d4addb37e1a5ad2322d8e",
       "version_major": 2,
       "version_minor": 0
      },
      "text/plain": [
       "Year: 1992:   0%|          | 0/8760 [00:00<?, ?it/s]"
      ]
     },
     "metadata": {},
     "output_type": "display_data"
    },
    {
     "data": {
      "application/vnd.jupyter.widget-view+json": {
       "model_id": "3843b0af4b2c40439e5ca417c50bde4e",
       "version_major": 2,
       "version_minor": 0
      },
      "text/plain": [
       "Year: 1993:   0%|          | 0/8760 [00:00<?, ?it/s]"
      ]
     },
     "metadata": {},
     "output_type": "display_data"
    },
    {
     "data": {
      "application/vnd.jupyter.widget-view+json": {
       "model_id": "1d677315004d45e5877bbed00f4f84d8",
       "version_major": 2,
       "version_minor": 0
      },
      "text/plain": [
       "Year: 1994:   0%|          | 0/8760 [00:00<?, ?it/s]"
      ]
     },
     "metadata": {},
     "output_type": "display_data"
    },
    {
     "data": {
      "application/vnd.jupyter.widget-view+json": {
       "model_id": "d52f1447055745ff92bd33633bba25fd",
       "version_major": 2,
       "version_minor": 0
      },
      "text/plain": [
       "Year: 1995:   0%|          | 0/8760 [00:00<?, ?it/s]"
      ]
     },
     "metadata": {},
     "output_type": "display_data"
    },
    {
     "data": {
      "application/vnd.jupyter.widget-view+json": {
       "model_id": "129640ca5caa49a59cee4df41db44518",
       "version_major": 2,
       "version_minor": 0
      },
      "text/plain": [
       "Year: 1996:   0%|          | 0/8760 [00:00<?, ?it/s]"
      ]
     },
     "metadata": {},
     "output_type": "display_data"
    },
    {
     "data": {
      "application/vnd.jupyter.widget-view+json": {
       "model_id": "3f225873d73c43cabc5395495ce37469",
       "version_major": 2,
       "version_minor": 0
      },
      "text/plain": [
       "Year: 1997:   0%|          | 0/8760 [00:00<?, ?it/s]"
      ]
     },
     "metadata": {},
     "output_type": "display_data"
    },
    {
     "data": {
      "application/vnd.jupyter.widget-view+json": {
       "model_id": "900d100554b94d42abc8791561d92fca",
       "version_major": 2,
       "version_minor": 0
      },
      "text/plain": [
       "Year: 1998:   0%|          | 0/8760 [00:00<?, ?it/s]"
      ]
     },
     "metadata": {},
     "output_type": "display_data"
    },
    {
     "data": {
      "application/vnd.jupyter.widget-view+json": {
       "model_id": "3f3d1f07a6284414bcf3d6111c8fb076",
       "version_major": 2,
       "version_minor": 0
      },
      "text/plain": [
       "Year: 1999:   0%|          | 0/8760 [00:00<?, ?it/s]"
      ]
     },
     "metadata": {},
     "output_type": "display_data"
    },
    {
     "data": {
      "application/vnd.jupyter.widget-view+json": {
       "model_id": "4a95738288a04648b2a1cb31658cc9b3",
       "version_major": 2,
       "version_minor": 0
      },
      "text/plain": [
       "Year: 2000:   0%|          | 0/8760 [00:00<?, ?it/s]"
      ]
     },
     "metadata": {},
     "output_type": "display_data"
    },
    {
     "data": {
      "application/vnd.jupyter.widget-view+json": {
       "model_id": "8410e94e25ea47aca80e22ae0826ade5",
       "version_major": 2,
       "version_minor": 0
      },
      "text/plain": [
       "Year: 2001:   0%|          | 0/8760 [00:00<?, ?it/s]"
      ]
     },
     "metadata": {},
     "output_type": "display_data"
    },
    {
     "data": {
      "application/vnd.jupyter.widget-view+json": {
       "model_id": "50db7453f7f94fb6af4a65ed7ba3d0ad",
       "version_major": 2,
       "version_minor": 0
      },
      "text/plain": [
       "Year: 2002:   0%|          | 0/8760 [00:00<?, ?it/s]"
      ]
     },
     "metadata": {},
     "output_type": "display_data"
    },
    {
     "data": {
      "application/vnd.jupyter.widget-view+json": {
       "model_id": "1b591025f5bc4e89bdf04ef20f6d96ef",
       "version_major": 2,
       "version_minor": 0
      },
      "text/plain": [
       "Year: 2003:   0%|          | 0/8760 [00:00<?, ?it/s]"
      ]
     },
     "metadata": {},
     "output_type": "display_data"
    }
   ],
   "source": [
    "ncpus = 20\n",
    "clobber = \"all\"\n",
    "\n",
    "\n",
    "group_dir = raw_scratch_dir.joinpath(group)\n",
    "for year in tqdm(years, total=len(years), desc=f\"Copying files for {len(years)} years\"):\n",
    "    src_dir = wrf_dir.joinpath(str(year))\n",
    "    dst_dir = group_dir.joinpath(str(year))\n",
    "    # set third arg to False for no-clobber\n",
    "    args = [(fp, dst_dir.joinpath(fp.name), clobber) for fp in src_dir.glob(\"*.nc\")]\n",
    "    \n",
    "    with Pool(ncpus) as pool:\n",
    "        out = [out for out in tqdm(pool.imap(main.sys_copy, args), total=len(args), desc=f\"Year: {year}\")]"
   ]
  },
  {
   "cell_type": "markdown",
   "id": "41f5b910-3c72-4cfa-b750-80c493cca5f3",
   "metadata": {},
   "source": [
    "##### Check progress of copying to scratch\n",
    "\n",
    "Run the cell below to check the progress of the copy for the current arguments (this can take a while):"
   ]
  },
  {
   "cell_type": "code",
   "execution_count": 4,
   "id": "017805fb-4dd1-4104-8ed7-e5cee73814ec",
   "metadata": {},
   "outputs": [
    {
     "name": "stdout",
     "output_type": "stream",
     "text": [
      "All years present on scratch space\n"
     ]
    }
   ],
   "source": [
    "# modify this to show what entire years are present in scratch_dir\n",
    "\n",
    "wrf_fps, existing_scratch_fps = main.check_raw_scratch(wrf_dir, group, years, raw_scratch_dir)"
   ]
  },
  {
   "cell_type": "markdown",
   "id": "3659ed14-df71-462d-91e9-295d0a9a096f",
   "metadata": {},
   "source": [
    "This cell below can be used as a quick check to identify any files that didn't copy properly:"
   ]
  },
  {
   "cell_type": "code",
   "execution_count": 7,
   "id": "39b32e46-b334-407b-abe2-3af75eeac97c",
   "metadata": {
    "tags": []
   },
   "outputs": [],
   "source": [
    "flag_fps = []\n",
    "\n",
    "for year in years:\n",
    "    year_scratch_dir = raw_scratch_dir.joinpath(group, year)\n",
    "    flag_fps.extend(check_scratch_file_sizes(year_scratch_dir, ncpus=20))"
   ]
  },
  {
   "cell_type": "markdown",
   "id": "787302a3-70fb-4ef8-8d8c-ce9df79d4731",
   "metadata": {},
   "source": [
    "Then, re-copy any missing files derived from that check:"
   ]
  },
  {
   "cell_type": "code",
   "execution_count": null,
   "id": "b109d9bf-8206-4f16-b730-0215310ba779",
   "metadata": {},
   "outputs": [],
   "source": [
    "main.recopy_raw_scratch_files(flag_fps, wrf_dir)"
   ]
  },
  {
   "cell_type": "markdown",
   "id": "477344e8-c055-4467-a512-9a3a5f2d0e15",
   "metadata": {},
   "source": [
    "**Note** - if there is a large number of missing files, it might be more efficient to use the intial section above for copying in batch."
   ]
  },
  {
   "cell_type": "markdown",
   "id": "a25943f1-9c55-48a7-a153-58b94cd8ba26",
   "metadata": {
    "tags": []
   },
   "source": [
    "## 1.2 - Restack the data\n",
    "\n",
    "Now that the WRF outputs are available on the scratch filesystem for faster access, execute the restacking script on all variables of interest."
   ]
  },
  {
   "cell_type": "markdown",
   "id": "9f2b1abb-4aea-4627-aea6-6ab418f79e7f",
   "metadata": {
    "tags": []
   },
   "source": [
    "### 1.2.1 - Make forecast time table\n",
    "\n",
    "Tables of forecast time values and filenames are used for interpolating the \"accumulation\" variables, such as snow and precipitation. This should be done after an entire year's worth of data has successfully copied from `$ARCHIVE` to scratch space, because this table will be referenced for the filepaths and timestamp information to re-stack. Plus this step utilizes the compute nodes which cannot see `$ARCHIVE`.\n",
    "\n",
    "**Note** - it is currently unknown why there is an \"accumulation fix\" needed at all. There could be some info on this lurking somewhere."
   ]
  },
  {
   "cell_type": "markdown",
   "id": "b987d60b-6478-4dbc-bbd1-b1804ff8d5dd",
   "metadata": {},
   "source": [
    "Create the slurm script for getting the forecast times:"
   ]
  },
  {
   "cell_type": "code",
   "execution_count": 31,
   "id": "f97c9156-03ed-4503-bad9-525571df1ece",
   "metadata": {},
   "outputs": [
    {
     "name": "stdin",
     "output_type": "stream",
     "text": [
      "enter number of CPUs to use: 24\n",
      "Enter name of compute partition to use: t1small\n"
     ]
    }
   ],
   "source": [
    "ncpus = input(\"enter number of CPUs to use:\")\n",
    "partition = input(\"Enter name of compute partition to use:\")"
   ]
  },
  {
   "cell_type": "code",
   "execution_count": 32,
   "id": "b217bdb6-5959-468c-a220-02f39b6c9ee2",
   "metadata": {},
   "outputs": [
    {
     "name": "stdout",
     "output_type": "stream",
     "text": [
      "Forecast times slurm commands written to /center1/DYNDOWN/kmredilla/wrf_data/slurm/get_forecast_times_ccsm_hist.slurm\n"
     ]
    }
   ],
   "source": [
    "# since this is only done once for a group with all files, only need to specify group (no year(s))\n",
    "sbatch_fp = slurm_dir.joinpath(f\"get_forecast_times_{group}.slurm\")\n",
    "sbatch_out_fp = slurm_dir.joinpath(f\"get_forecast_times_{group}_%j.out\")\n",
    "wrf_scratch_dir = raw_scratch_dir.joinpath(group)\n",
    "sbatch_head = main.make_sbatch_head(slurm_email, partition, conda_init_script, ap_env)\n",
    "main.write_sbatch_forecast_times(sbatch_fp, sbatch_out_fp, wrf_scratch_dir, anc_dir, forecast_times_script, ncpus, sbatch_head)"
   ]
  },
  {
   "cell_type": "markdown",
   "id": "e2b11ce6-ea59-4b52-a990-ccac79787df4",
   "metadata": {},
   "source": [
    "Submit the script:"
   ]
  },
  {
   "cell_type": "code",
   "execution_count": 34,
   "id": "f20b003b-0bbf-4754-aa66-92159835efe0",
   "metadata": {},
   "outputs": [],
   "source": [
    "# takes > 30 minutes to run on Chinook\n",
    "job_id = main.submit_sbatch(sbatch_fp)"
   ]
  },
  {
   "cell_type": "markdown",
   "id": "a503f512-ef61-499b-aca5-6f33b547d40c",
   "metadata": {},
   "source": [
    "### 1.2.2 - Ensure ancillary WRF files present\n",
    "\n",
    "The re-stacking will rely on a monthly WRF output file as a template for consistent metadata, and a WRF geogrid data file for determining correct spatial projection information, and for correctly rotating wind data. Make sure that both are present in the `anc_dir` directory:"
   ]
  },
  {
   "cell_type": "code",
   "execution_count": 2,
   "id": "e8a6e7e0-529d-4e72-b51b-916a66d7aa5b",
   "metadata": {},
   "outputs": [],
   "source": [
    "import shutil\n",
    "\n",
    "# get rid of\n",
    "# if not template_fp.exists():\n",
    "#     shutil.copy(\"/archive/DYNDOWN/DIONE/pbieniek/gfdl/hist/monthly/monthly_PCPT-gfdlh.nc\", template_fp)\n",
    "    \n",
    "if not geogrid_fp.exists():\n",
    "    # the original location of this file is not known, in case it is ever deleted\n",
    "    #  from this source location it might still be available on Poseidon at \n",
    "    #  /workspace/Shared/Tech_Projects/wrf_data/project_data/ancillary_wrf_constants/geo_em.d01.nc\n",
    "    shutil.copy(\"/import/SNAP/wrf_data/project_data/ancillary_wrf_constants/geo_em.d01.nc\", geogrid_fp)"
   ]
  },
  {
   "cell_type": "markdown",
   "id": "249de8e9-ba9d-4444-943f-3cf79a88c16d",
   "metadata": {},
   "source": [
    "### 1.2.3 - Run the restacking with slurm\n",
    "\n",
    "Make the slurm scripts for re-stacking data for a particular variable and year."
   ]
  },
  {
   "cell_type": "code",
   "execution_count": 4,
   "id": "a6e59b27-d96f-44a6-b391-64a23e9c3b6f",
   "metadata": {},
   "outputs": [
    {
     "name": "stdin",
     "output_type": "stream",
     "text": [
      "Enter name of WRF variable to re-stack (leave blank for all): \n",
      "Enter number of CPUs to use: 24\n",
      "Enter name of compute partition to use: t1small\n",
      "Enter year to work on (leave blank for all): \n"
     ]
    }
   ],
   "source": [
    "varnames = input(\"Enter name of WRF variable to re-stack (leave blank for all):\") \n",
    "if varnames == \"\":\n",
    "    varnames = luts.varnames\n",
    "else:\n",
    "    varnames = [varnames]\n",
    "ncpus = input(\"Enter number of CPUs to use:\")\n",
    "partition = input(\"Enter name of compute partition to use:\")\n",
    "years = input(\"Enter year to work on (leave blank for all):\")\n",
    "if years == \"\":\n",
    "    years = luts.groups[group][\"years\"]\n",
    "else:\n",
    "    years = [years]"
   ]
  },
  {
   "cell_type": "code",
   "execution_count": 5,
   "id": "ba350422-1f22-4551-bef4-80b2e9ebb7a1",
   "metadata": {},
   "outputs": [],
   "source": [
    "sbatch_fps = []\n",
    "year_str = f\"{years[0]}-{years[-1]}\"\n",
    "for varname in varnames:\n",
    "    # write to .slurm script\n",
    "    sbatch_fp = slurm_dir.joinpath(f\"restack_{group}_{year_str}_{varname}.slurm\")\n",
    "    # filepath for slurm stdout\n",
    "    sbatch_out_fp = slurm_dir.joinpath(f\"restack_{group}_{year_str}_{varname}_%j.out\")\n",
    "    sbatch_head = main.make_sbatch_head(\n",
    "        slurm_email, partition, conda_init_script, ap_env\n",
    "    )\n",
    "\n",
    "    args = {\n",
    "        \"sbatch_fp\": sbatch_fp,\n",
    "        \"sbatch_out_fp\": sbatch_out_fp,\n",
    "        \"restack_script\": restack_script,\n",
    "        \"luts_fp\": luts_fp,\n",
    "        \"geogrid_fp\": geogrid_fp,\n",
    "        \"anc_dir\": anc_dir,\n",
    "        \"restacked_dir\": restack_scratch_dir,\n",
    "        \"group\": group,\n",
    "        \"fn_str\": luts.groups[group][\"fn_str\"],\n",
    "        \"years\": years,\n",
    "        \"varname\": varname,\n",
    "        \"ncpus\": ncpus,\n",
    "        \"sbatch_head\": sbatch_head,\n",
    "    }\n",
    "\n",
    "    main.write_sbatch_restack(**args)\n",
    "    sbatch_fps.append(sbatch_fp)"
   ]
  },
  {
   "cell_type": "markdown",
   "id": "946b7ce0-cf4b-4a96-a3f0-035b8431f12c",
   "metadata": {},
   "source": [
    "Submit the `.slurm` scripts with `sbatch`:"
   ]
  },
  {
   "cell_type": "code",
   "execution_count": 14,
   "id": "2122d724-6884-4832-ac06-81ae2d9c659b",
   "metadata": {},
   "outputs": [],
   "source": [
    "job_ids = [main.submit_sbatch(fp) for fp in sbatch_fps]"
   ]
  },
  {
   "cell_type": "markdown",
   "id": "e32de250-9655-4d32-bd8c-7e79ad01eca7",
   "metadata": {
    "tags": []
   },
   "source": [
    "## 2 - Quality Check\n",
    "\n",
    "### 2.1 - Ensure that all files open and have consistent header info\n",
    "\n",
    "Check this using both `xarray` and GDAL bindings.\n",
    "\n",
    "Dimensions are the same\n",
    "\n"
   ]
  },
  {
   "cell_type": "code",
   "execution_count": null,
   "id": "2ba710c4-252f-431f-868f-5bb4135bf37c",
   "metadata": {},
   "outputs": [],
   "source": []
  },
  {
   "cell_type": "code",
   "execution_count": null,
   "id": "a148efe1-a769-4386-bd91-4e3ca967e20a",
   "metadata": {},
   "outputs": [],
   "source": []
  },
  {
   "cell_type": "code",
   "execution_count": 73,
   "id": "88816d9a-0789-41be-9064-b9e9ac521d59",
   "metadata": {
    "collapsed": true,
    "jupyter": {
     "outputs_hidden": true
    },
    "tags": []
   },
   "outputs": [
    {
     "data": {
      "text/html": [
       "<div><svg style=\"position: absolute; width: 0; height: 0; overflow: hidden\">\n",
       "<defs>\n",
       "<symbol id=\"icon-database\" viewBox=\"0 0 32 32\">\n",
       "<path d=\"M16 0c-8.837 0-16 2.239-16 5v4c0 2.761 7.163 5 16 5s16-2.239 16-5v-4c0-2.761-7.163-5-16-5z\"></path>\n",
       "<path d=\"M16 17c-8.837 0-16-2.239-16-5v6c0 2.761 7.163 5 16 5s16-2.239 16-5v-6c0 2.761-7.163 5-16 5z\"></path>\n",
       "<path d=\"M16 26c-8.837 0-16-2.239-16-5v6c0 2.761 7.163 5 16 5s16-2.239 16-5v-6c0 2.761-7.163 5-16 5z\"></path>\n",
       "</symbol>\n",
       "<symbol id=\"icon-file-text2\" viewBox=\"0 0 32 32\">\n",
       "<path d=\"M28.681 7.159c-0.694-0.947-1.662-2.053-2.724-3.116s-2.169-2.030-3.116-2.724c-1.612-1.182-2.393-1.319-2.841-1.319h-15.5c-1.378 0-2.5 1.121-2.5 2.5v27c0 1.378 1.122 2.5 2.5 2.5h23c1.378 0 2.5-1.122 2.5-2.5v-19.5c0-0.448-0.137-1.23-1.319-2.841zM24.543 5.457c0.959 0.959 1.712 1.825 2.268 2.543h-4.811v-4.811c0.718 0.556 1.584 1.309 2.543 2.268zM28 29.5c0 0.271-0.229 0.5-0.5 0.5h-23c-0.271 0-0.5-0.229-0.5-0.5v-27c0-0.271 0.229-0.5 0.5-0.5 0 0 15.499-0 15.5 0v7c0 0.552 0.448 1 1 1h7v19.5z\"></path>\n",
       "<path d=\"M23 26h-14c-0.552 0-1-0.448-1-1s0.448-1 1-1h14c0.552 0 1 0.448 1 1s-0.448 1-1 1z\"></path>\n",
       "<path d=\"M23 22h-14c-0.552 0-1-0.448-1-1s0.448-1 1-1h14c0.552 0 1 0.448 1 1s-0.448 1-1 1z\"></path>\n",
       "<path d=\"M23 18h-14c-0.552 0-1-0.448-1-1s0.448-1 1-1h14c0.552 0 1 0.448 1 1s-0.448 1-1 1z\"></path>\n",
       "</symbol>\n",
       "</defs>\n",
       "</svg>\n",
       "<style>/* CSS stylesheet for displaying xarray objects in jupyterlab.\n",
       " *\n",
       " */\n",
       "\n",
       ":root {\n",
       "  --xr-font-color0: var(--jp-content-font-color0, rgba(0, 0, 0, 1));\n",
       "  --xr-font-color2: var(--jp-content-font-color2, rgba(0, 0, 0, 0.54));\n",
       "  --xr-font-color3: var(--jp-content-font-color3, rgba(0, 0, 0, 0.38));\n",
       "  --xr-border-color: var(--jp-border-color2, #e0e0e0);\n",
       "  --xr-disabled-color: var(--jp-layout-color3, #bdbdbd);\n",
       "  --xr-background-color: var(--jp-layout-color0, white);\n",
       "  --xr-background-color-row-even: var(--jp-layout-color1, white);\n",
       "  --xr-background-color-row-odd: var(--jp-layout-color2, #eeeeee);\n",
       "}\n",
       "\n",
       "html[theme=dark],\n",
       "body.vscode-dark {\n",
       "  --xr-font-color0: rgba(255, 255, 255, 1);\n",
       "  --xr-font-color2: rgba(255, 255, 255, 0.54);\n",
       "  --xr-font-color3: rgba(255, 255, 255, 0.38);\n",
       "  --xr-border-color: #1F1F1F;\n",
       "  --xr-disabled-color: #515151;\n",
       "  --xr-background-color: #111111;\n",
       "  --xr-background-color-row-even: #111111;\n",
       "  --xr-background-color-row-odd: #313131;\n",
       "}\n",
       "\n",
       ".xr-wrap {\n",
       "  display: block !important;\n",
       "  min-width: 300px;\n",
       "  max-width: 700px;\n",
       "}\n",
       "\n",
       ".xr-text-repr-fallback {\n",
       "  /* fallback to plain text repr when CSS is not injected (untrusted notebook) */\n",
       "  display: none;\n",
       "}\n",
       "\n",
       ".xr-header {\n",
       "  padding-top: 6px;\n",
       "  padding-bottom: 6px;\n",
       "  margin-bottom: 4px;\n",
       "  border-bottom: solid 1px var(--xr-border-color);\n",
       "}\n",
       "\n",
       ".xr-header > div,\n",
       ".xr-header > ul {\n",
       "  display: inline;\n",
       "  margin-top: 0;\n",
       "  margin-bottom: 0;\n",
       "}\n",
       "\n",
       ".xr-obj-type,\n",
       ".xr-array-name {\n",
       "  margin-left: 2px;\n",
       "  margin-right: 10px;\n",
       "}\n",
       "\n",
       ".xr-obj-type {\n",
       "  color: var(--xr-font-color2);\n",
       "}\n",
       "\n",
       ".xr-sections {\n",
       "  padding-left: 0 !important;\n",
       "  display: grid;\n",
       "  grid-template-columns: 150px auto auto 1fr 20px 20px;\n",
       "}\n",
       "\n",
       ".xr-section-item {\n",
       "  display: contents;\n",
       "}\n",
       "\n",
       ".xr-section-item input {\n",
       "  display: none;\n",
       "}\n",
       "\n",
       ".xr-section-item input + label {\n",
       "  color: var(--xr-disabled-color);\n",
       "}\n",
       "\n",
       ".xr-section-item input:enabled + label {\n",
       "  cursor: pointer;\n",
       "  color: var(--xr-font-color2);\n",
       "}\n",
       "\n",
       ".xr-section-item input:enabled + label:hover {\n",
       "  color: var(--xr-font-color0);\n",
       "}\n",
       "\n",
       ".xr-section-summary {\n",
       "  grid-column: 1;\n",
       "  color: var(--xr-font-color2);\n",
       "  font-weight: 500;\n",
       "}\n",
       "\n",
       ".xr-section-summary > span {\n",
       "  display: inline-block;\n",
       "  padding-left: 0.5em;\n",
       "}\n",
       "\n",
       ".xr-section-summary-in:disabled + label {\n",
       "  color: var(--xr-font-color2);\n",
       "}\n",
       "\n",
       ".xr-section-summary-in + label:before {\n",
       "  display: inline-block;\n",
       "  content: '►';\n",
       "  font-size: 11px;\n",
       "  width: 15px;\n",
       "  text-align: center;\n",
       "}\n",
       "\n",
       ".xr-section-summary-in:disabled + label:before {\n",
       "  color: var(--xr-disabled-color);\n",
       "}\n",
       "\n",
       ".xr-section-summary-in:checked + label:before {\n",
       "  content: '▼';\n",
       "}\n",
       "\n",
       ".xr-section-summary-in:checked + label > span {\n",
       "  display: none;\n",
       "}\n",
       "\n",
       ".xr-section-summary,\n",
       ".xr-section-inline-details {\n",
       "  padding-top: 4px;\n",
       "  padding-bottom: 4px;\n",
       "}\n",
       "\n",
       ".xr-section-inline-details {\n",
       "  grid-column: 2 / -1;\n",
       "}\n",
       "\n",
       ".xr-section-details {\n",
       "  display: none;\n",
       "  grid-column: 1 / -1;\n",
       "  margin-bottom: 5px;\n",
       "}\n",
       "\n",
       ".xr-section-summary-in:checked ~ .xr-section-details {\n",
       "  display: contents;\n",
       "}\n",
       "\n",
       ".xr-array-wrap {\n",
       "  grid-column: 1 / -1;\n",
       "  display: grid;\n",
       "  grid-template-columns: 20px auto;\n",
       "}\n",
       "\n",
       ".xr-array-wrap > label {\n",
       "  grid-column: 1;\n",
       "  vertical-align: top;\n",
       "}\n",
       "\n",
       ".xr-preview {\n",
       "  color: var(--xr-font-color3);\n",
       "}\n",
       "\n",
       ".xr-array-preview,\n",
       ".xr-array-data {\n",
       "  padding: 0 5px !important;\n",
       "  grid-column: 2;\n",
       "}\n",
       "\n",
       ".xr-array-data,\n",
       ".xr-array-in:checked ~ .xr-array-preview {\n",
       "  display: none;\n",
       "}\n",
       "\n",
       ".xr-array-in:checked ~ .xr-array-data,\n",
       ".xr-array-preview {\n",
       "  display: inline-block;\n",
       "}\n",
       "\n",
       ".xr-dim-list {\n",
       "  display: inline-block !important;\n",
       "  list-style: none;\n",
       "  padding: 0 !important;\n",
       "  margin: 0;\n",
       "}\n",
       "\n",
       ".xr-dim-list li {\n",
       "  display: inline-block;\n",
       "  padding: 0;\n",
       "  margin: 0;\n",
       "}\n",
       "\n",
       ".xr-dim-list:before {\n",
       "  content: '(';\n",
       "}\n",
       "\n",
       ".xr-dim-list:after {\n",
       "  content: ')';\n",
       "}\n",
       "\n",
       ".xr-dim-list li:not(:last-child):after {\n",
       "  content: ',';\n",
       "  padding-right: 5px;\n",
       "}\n",
       "\n",
       ".xr-has-index {\n",
       "  font-weight: bold;\n",
       "}\n",
       "\n",
       ".xr-var-list,\n",
       ".xr-var-item {\n",
       "  display: contents;\n",
       "}\n",
       "\n",
       ".xr-var-item > div,\n",
       ".xr-var-item label,\n",
       ".xr-var-item > .xr-var-name span {\n",
       "  background-color: var(--xr-background-color-row-even);\n",
       "  margin-bottom: 0;\n",
       "}\n",
       "\n",
       ".xr-var-item > .xr-var-name:hover span {\n",
       "  padding-right: 5px;\n",
       "}\n",
       "\n",
       ".xr-var-list > li:nth-child(odd) > div,\n",
       ".xr-var-list > li:nth-child(odd) > label,\n",
       ".xr-var-list > li:nth-child(odd) > .xr-var-name span {\n",
       "  background-color: var(--xr-background-color-row-odd);\n",
       "}\n",
       "\n",
       ".xr-var-name {\n",
       "  grid-column: 1;\n",
       "}\n",
       "\n",
       ".xr-var-dims {\n",
       "  grid-column: 2;\n",
       "}\n",
       "\n",
       ".xr-var-dtype {\n",
       "  grid-column: 3;\n",
       "  text-align: right;\n",
       "  color: var(--xr-font-color2);\n",
       "}\n",
       "\n",
       ".xr-var-preview {\n",
       "  grid-column: 4;\n",
       "}\n",
       "\n",
       ".xr-var-name,\n",
       ".xr-var-dims,\n",
       ".xr-var-dtype,\n",
       ".xr-preview,\n",
       ".xr-attrs dt {\n",
       "  white-space: nowrap;\n",
       "  overflow: hidden;\n",
       "  text-overflow: ellipsis;\n",
       "  padding-right: 10px;\n",
       "}\n",
       "\n",
       ".xr-var-name:hover,\n",
       ".xr-var-dims:hover,\n",
       ".xr-var-dtype:hover,\n",
       ".xr-attrs dt:hover {\n",
       "  overflow: visible;\n",
       "  width: auto;\n",
       "  z-index: 1;\n",
       "}\n",
       "\n",
       ".xr-var-attrs,\n",
       ".xr-var-data {\n",
       "  display: none;\n",
       "  background-color: var(--xr-background-color) !important;\n",
       "  padding-bottom: 5px !important;\n",
       "}\n",
       "\n",
       ".xr-var-attrs-in:checked ~ .xr-var-attrs,\n",
       ".xr-var-data-in:checked ~ .xr-var-data {\n",
       "  display: block;\n",
       "}\n",
       "\n",
       ".xr-var-data > table {\n",
       "  float: right;\n",
       "}\n",
       "\n",
       ".xr-var-name span,\n",
       ".xr-var-data,\n",
       ".xr-attrs {\n",
       "  padding-left: 25px !important;\n",
       "}\n",
       "\n",
       ".xr-attrs,\n",
       ".xr-var-attrs,\n",
       ".xr-var-data {\n",
       "  grid-column: 1 / -1;\n",
       "}\n",
       "\n",
       "dl.xr-attrs {\n",
       "  padding: 0;\n",
       "  margin: 0;\n",
       "  display: grid;\n",
       "  grid-template-columns: 125px auto;\n",
       "}\n",
       "\n",
       ".xr-attrs dt,\n",
       ".xr-attrs dd {\n",
       "  padding: 0;\n",
       "  margin: 0;\n",
       "  float: left;\n",
       "  padding-right: 10px;\n",
       "  width: auto;\n",
       "}\n",
       "\n",
       ".xr-attrs dt {\n",
       "  font-weight: normal;\n",
       "  grid-column: 1;\n",
       "}\n",
       "\n",
       ".xr-attrs dt:hover span {\n",
       "  display: inline-block;\n",
       "  background: var(--xr-background-color);\n",
       "  padding-right: 10px;\n",
       "}\n",
       "\n",
       ".xr-attrs dd {\n",
       "  grid-column: 2;\n",
       "  white-space: pre-wrap;\n",
       "  word-break: break-all;\n",
       "}\n",
       "\n",
       ".xr-icon-database,\n",
       ".xr-icon-file-text2 {\n",
       "  display: inline-block;\n",
       "  vertical-align: middle;\n",
       "  width: 1em;\n",
       "  height: 1.5em !important;\n",
       "  stroke-width: 0;\n",
       "  stroke: currentColor;\n",
       "  fill: currentColor;\n",
       "}\n",
       "</style><pre class='xr-text-repr-fallback'>&lt;xarray.DataArray &#x27;pcpt&#x27; (time: 8736, yc: 262, xc: 262)&gt;\n",
       "[599673984 values with dtype=float32]\n",
       "Coordinates:\n",
       "  * time     (time) datetime64[ns] 1970-01-02 ... 1970-12-31T23:00:00\n",
       "  * yc       (yc) float64 -1.824e+05 -2.024e+05 ... -5.382e+06 -5.402e+06\n",
       "  * xc       (xc) float64 -2.61e+06 -2.59e+06 -2.57e+06 ... 2.59e+06 2.61e+06\n",
       "    lon      (yc, xc) float32 122.0 122.0 122.1 122.1 ... -126.6 -126.4 -126.2\n",
       "    lat      (yc, xc) float32 65.59 65.77 65.95 66.13 ... 37.43 37.37 37.3 37.24\n",
       "Attributes:\n",
       "    initial_time:             01/01/1970 (18:00)\n",
       "    forecast_time_units:      hours\n",
       "    forecast_time:            6\n",
       "    parameter_number:         61\n",
       "    parameter_table_version:  2\n",
       "    gds_grid_type:            5\n",
       "    level_indicator:          1\n",
       "    units:                    kg/m^2\n",
       "    long_name:                Accumulated total precipitation\n",
       "    center:                   US National Weather Service - NCEP (WMC)\n",
       "    grid_mapping:             polar_stereographic\n",
       "    coordinates:              g5_lat_0 g5_lon_1</pre><div class='xr-wrap' style='display:none'><div class='xr-header'><div class='xr-obj-type'>xarray.DataArray</div><div class='xr-array-name'>'pcpt'</div><ul class='xr-dim-list'><li><span class='xr-has-index'>time</span>: 8736</li><li><span class='xr-has-index'>yc</span>: 262</li><li><span class='xr-has-index'>xc</span>: 262</li></ul></div><ul class='xr-sections'><li class='xr-section-item'><div class='xr-array-wrap'><input id='section-dd986167-e967-4844-a4d9-90fdee60c9eb' class='xr-array-in' type='checkbox' checked><label for='section-dd986167-e967-4844-a4d9-90fdee60c9eb' title='Show/hide data repr'><svg class='icon xr-icon-database'><use xlink:href='#icon-database'></use></svg></label><div class='xr-array-preview xr-preview'><span>...</span></div><div class='xr-array-data'><pre>[599673984 values with dtype=float32]</pre></div></div></li><li class='xr-section-item'><input id='section-a2d58cee-47ac-43fb-9311-ad015eb4ba04' class='xr-section-summary-in' type='checkbox'  checked><label for='section-a2d58cee-47ac-43fb-9311-ad015eb4ba04' class='xr-section-summary' >Coordinates: <span>(5)</span></label><div class='xr-section-inline-details'></div><div class='xr-section-details'><ul class='xr-var-list'><li class='xr-var-item'><div class='xr-var-name'><span class='xr-has-index'>time</span></div><div class='xr-var-dims'>(time)</div><div class='xr-var-dtype'>datetime64[ns]</div><div class='xr-var-preview xr-preview'>1970-01-02 ... 1970-12-31T23:00:00</div><input id='attrs-4dd9402c-6990-4d16-85ea-1125f5c3ee8f' class='xr-var-attrs-in' type='checkbox' ><label for='attrs-4dd9402c-6990-4d16-85ea-1125f5c3ee8f' title='Show/Hide attributes'><svg class='icon xr-icon-file-text2'><use xlink:href='#icon-file-text2'></use></svg></label><input id='data-e256c2df-ccb2-48ef-b45e-723be67d542e' class='xr-var-data-in' type='checkbox'><label for='data-e256c2df-ccb2-48ef-b45e-723be67d542e' title='Show/Hide data repr'><svg class='icon xr-icon-database'><use xlink:href='#icon-database'></use></svg></label><div class='xr-var-attrs'><dl class='xr-attrs'><dt><span>time zone :</span></dt><dd>UTC</dd></dl></div><div class='xr-var-data'><pre>array([&#x27;1970-01-02T00:00:00.000000000&#x27;, &#x27;1970-01-02T01:00:00.000000000&#x27;,\n",
       "       &#x27;1970-01-02T02:00:00.000000000&#x27;, ..., &#x27;1970-12-31T21:00:00.000000000&#x27;,\n",
       "       &#x27;1970-12-31T22:00:00.000000000&#x27;, &#x27;1970-12-31T23:00:00.000000000&#x27;],\n",
       "      dtype=&#x27;datetime64[ns]&#x27;)</pre></div></li><li class='xr-var-item'><div class='xr-var-name'><span class='xr-has-index'>yc</span></div><div class='xr-var-dims'>(yc)</div><div class='xr-var-dtype'>float64</div><div class='xr-var-preview xr-preview'>-1.824e+05 ... -5.402e+06</div><input id='attrs-5e4a0f28-a6b9-4f09-b6a0-5dae42f4e4a6' class='xr-var-attrs-in' type='checkbox' ><label for='attrs-5e4a0f28-a6b9-4f09-b6a0-5dae42f4e4a6' title='Show/Hide attributes'><svg class='icon xr-icon-file-text2'><use xlink:href='#icon-file-text2'></use></svg></label><input id='data-e7e5878c-b0e6-4916-a650-e8ad652e16fa' class='xr-var-data-in' type='checkbox'><label for='data-e7e5878c-b0e6-4916-a650-e8ad652e16fa' title='Show/Hide data repr'><svg class='icon xr-icon-database'><use xlink:href='#icon-database'></use></svg></label><div class='xr-var-attrs'><dl class='xr-attrs'><dt><span>standard_name :</span></dt><dd>projection_y_coordinate</dd><dt><span>units :</span></dt><dd>m</dd></dl></div><div class='xr-var-data'><pre>array([ -182425.477372,  -202425.477372,  -222425.477372, ..., -5362425.477372,\n",
       "       -5382425.477372, -5402425.477372])</pre></div></li><li class='xr-var-item'><div class='xr-var-name'><span class='xr-has-index'>xc</span></div><div class='xr-var-dims'>(xc)</div><div class='xr-var-dtype'>float64</div><div class='xr-var-preview xr-preview'>-2.61e+06 -2.59e+06 ... 2.61e+06</div><input id='attrs-39435d87-cf94-4152-be34-f9849570df27' class='xr-var-attrs-in' type='checkbox' ><label for='attrs-39435d87-cf94-4152-be34-f9849570df27' title='Show/Hide attributes'><svg class='icon xr-icon-file-text2'><use xlink:href='#icon-file-text2'></use></svg></label><input id='data-6419d364-5516-40d4-b754-91e913796eeb' class='xr-var-data-in' type='checkbox'><label for='data-6419d364-5516-40d4-b754-91e913796eeb' title='Show/Hide data repr'><svg class='icon xr-icon-database'><use xlink:href='#icon-database'></use></svg></label><div class='xr-var-attrs'><dl class='xr-attrs'><dt><span>standard_name :</span></dt><dd>projection_x_coordinate</dd><dt><span>units :</span></dt><dd>m</dd></dl></div><div class='xr-var-data'><pre>array([-2610000., -2590000., -2570000., ...,  2570000.,  2590000.,  2610000.])</pre></div></li><li class='xr-var-item'><div class='xr-var-name'><span>lon</span></div><div class='xr-var-dims'>(yc, xc)</div><div class='xr-var-dtype'>float32</div><div class='xr-var-preview xr-preview'>122.0 122.0 122.1 ... -126.4 -126.2</div><input id='attrs-e78a5c29-87b8-4b45-9313-a7f2dae89b6f' class='xr-var-attrs-in' type='checkbox' ><label for='attrs-e78a5c29-87b8-4b45-9313-a7f2dae89b6f' title='Show/Hide attributes'><svg class='icon xr-icon-file-text2'><use xlink:href='#icon-file-text2'></use></svg></label><input id='data-1a3b3eda-04f2-4191-af6d-cf352390c135' class='xr-var-data-in' type='checkbox'><label for='data-1a3b3eda-04f2-4191-af6d-cf352390c135' title='Show/Hide data repr'><svg class='icon xr-icon-database'><use xlink:href='#icon-database'></use></svg></label><div class='xr-var-attrs'><dl class='xr-attrs'><dt><span>standard_name :</span></dt><dd>longitude</dd><dt><span>title :</span></dt><dd>Longitude</dd><dt><span>units :</span></dt><dd>degrees_east</dd><dt><span>valid_max :</span></dt><dd>180.0</dd><dt><span>valid_min :</span></dt><dd>-180.0</dd></dl></div><div class='xr-var-data'><pre>array([[ 122.017746,  122.04866 ,  122.080055, ...,  -66.08149 ,  -66.05007 ,\n",
       "         -66.019135],\n",
       "       [ 122.45432 ,  122.48857 ,  122.52335 , ...,  -66.52495 ,  -66.49014 ,\n",
       "         -66.455864],\n",
       "       [ 122.89038 ,  122.927956,  122.96611 , ...,  -66.96785 ,  -66.92967 ,\n",
       "         -66.892075],\n",
       "       ...,\n",
       "       [-177.95314 , -177.78015 , -177.60664 , ..., -126.40124 , -126.227715,\n",
       "        -126.0547  ],\n",
       "       [-177.86931 , -177.69673 , -177.52364 , ..., -126.48424 , -126.31112 ,\n",
       "        -126.138504],\n",
       "       [-177.786   , -177.6138  , -177.44112 , ..., -126.566734, -126.39402 ,\n",
       "        -126.22181 ]], dtype=float32)</pre></div></li><li class='xr-var-item'><div class='xr-var-name'><span>lat</span></div><div class='xr-var-dims'>(yc, xc)</div><div class='xr-var-dtype'>float32</div><div class='xr-var-preview xr-preview'>65.59 65.77 65.95 ... 37.3 37.24</div><input id='attrs-10bcb75f-dd3e-49dd-a968-ce0509050b06' class='xr-var-attrs-in' type='checkbox' ><label for='attrs-10bcb75f-dd3e-49dd-a968-ce0509050b06' title='Show/Hide attributes'><svg class='icon xr-icon-file-text2'><use xlink:href='#icon-file-text2'></use></svg></label><input id='data-ef9a661d-f8a0-49e6-80b1-59b45ac33b8f' class='xr-var-data-in' type='checkbox'><label for='data-ef9a661d-f8a0-49e6-80b1-59b45ac33b8f' title='Show/Hide data repr'><svg class='icon xr-icon-database'><use xlink:href='#icon-database'></use></svg></label><div class='xr-var-attrs'><dl class='xr-attrs'><dt><span>standard_name :</span></dt><dd>latitude</dd><dt><span>title :</span></dt><dd>Latitude</dd><dt><span>units :</span></dt><dd>degrees_north</dd><dt><span>valid_max :</span></dt><dd>90.0</dd><dt><span>valid_min :</span></dt><dd>-90.0</dd></dl></div><div class='xr-var-data'><pre>array([[65.58805 , 65.76864 , 65.94935 , ..., 65.95755 , 65.77684 , 65.59624 ],\n",
       "       [65.57468 , 65.75516 , 65.93575 , ..., 65.943954, 65.76335 , 65.58286 ],\n",
       "       [65.55994 , 65.740295, 65.92076 , ..., 65.928955, 65.74848 , 65.568115],\n",
       "       ...,\n",
       "       [37.506927, 37.573433, 37.639565, ..., 37.642555, 37.576443, 37.509953],\n",
       "       [37.369934, 37.43616 , 37.50201 , ..., 37.504993, 37.439156, 37.372944],\n",
       "       [37.233   , 37.29895 , 37.364525, ..., 37.367493, 37.301937, 37.236   ]],\n",
       "      dtype=float32)</pre></div></li></ul></div></li><li class='xr-section-item'><input id='section-d70592d2-3a53-41f9-ba4b-251fffce67eb' class='xr-section-summary-in' type='checkbox'  ><label for='section-d70592d2-3a53-41f9-ba4b-251fffce67eb' class='xr-section-summary' >Attributes: <span>(12)</span></label><div class='xr-section-inline-details'></div><div class='xr-section-details'><dl class='xr-attrs'><dt><span>initial_time :</span></dt><dd>01/01/1970 (18:00)</dd><dt><span>forecast_time_units :</span></dt><dd>hours</dd><dt><span>forecast_time :</span></dt><dd>6</dd><dt><span>parameter_number :</span></dt><dd>61</dd><dt><span>parameter_table_version :</span></dt><dd>2</dd><dt><span>gds_grid_type :</span></dt><dd>5</dd><dt><span>level_indicator :</span></dt><dd>1</dd><dt><span>units :</span></dt><dd>kg/m^2</dd><dt><span>long_name :</span></dt><dd>Accumulated total precipitation</dd><dt><span>center :</span></dt><dd>US National Weather Service - NCEP (WMC)</dd><dt><span>grid_mapping :</span></dt><dd>polar_stereographic</dd><dt><span>coordinates :</span></dt><dd>g5_lat_0 g5_lon_1</dd></dl></div></li></ul></div></div>"
      ],
      "text/plain": [
       "<xarray.DataArray 'pcpt' (time: 8736, yc: 262, xc: 262)>\n",
       "[599673984 values with dtype=float32]\n",
       "Coordinates:\n",
       "  * time     (time) datetime64[ns] 1970-01-02 ... 1970-12-31T23:00:00\n",
       "  * yc       (yc) float64 -1.824e+05 -2.024e+05 ... -5.382e+06 -5.402e+06\n",
       "  * xc       (xc) float64 -2.61e+06 -2.59e+06 -2.57e+06 ... 2.59e+06 2.61e+06\n",
       "    lon      (yc, xc) float32 122.0 122.0 122.1 122.1 ... -126.6 -126.4 -126.2\n",
       "    lat      (yc, xc) float32 65.59 65.77 65.95 66.13 ... 37.43 37.37 37.3 37.24\n",
       "Attributes:\n",
       "    initial_time:             01/01/1970 (18:00)\n",
       "    forecast_time_units:      hours\n",
       "    forecast_time:            6\n",
       "    parameter_number:         61\n",
       "    parameter_table_version:  2\n",
       "    gds_grid_type:            5\n",
       "    level_indicator:          1\n",
       "    units:                    kg/m^2\n",
       "    long_name:                Accumulated total precipitation\n",
       "    center:                   US National Weather Service - NCEP (WMC)\n",
       "    grid_mapping:             polar_stereographic\n",
       "    coordinates:              g5_lat_0 g5_lon_1"
      ]
     },
     "execution_count": 73,
     "metadata": {},
     "output_type": "execute_result"
    }
   ],
   "source": [
    "# just a temporary sanity check of the new data before I proceed with submitting the rest of the jobs\n",
    "ds.pcpt"
   ]
  },
  {
   "cell_type": "code",
   "execution_count": 75,
   "id": "4ac3e5ec-21b1-4bf9-abb7-a220c9aa7efe",
   "metadata": {},
   "outputs": [
    {
     "data": {
      "text/html": [
       "<div><svg style=\"position: absolute; width: 0; height: 0; overflow: hidden\">\n",
       "<defs>\n",
       "<symbol id=\"icon-database\" viewBox=\"0 0 32 32\">\n",
       "<path d=\"M16 0c-8.837 0-16 2.239-16 5v4c0 2.761 7.163 5 16 5s16-2.239 16-5v-4c0-2.761-7.163-5-16-5z\"></path>\n",
       "<path d=\"M16 17c-8.837 0-16-2.239-16-5v6c0 2.761 7.163 5 16 5s16-2.239 16-5v-6c0 2.761-7.163 5-16 5z\"></path>\n",
       "<path d=\"M16 26c-8.837 0-16-2.239-16-5v6c0 2.761 7.163 5 16 5s16-2.239 16-5v-6c0 2.761-7.163 5-16 5z\"></path>\n",
       "</symbol>\n",
       "<symbol id=\"icon-file-text2\" viewBox=\"0 0 32 32\">\n",
       "<path d=\"M28.681 7.159c-0.694-0.947-1.662-2.053-2.724-3.116s-2.169-2.030-3.116-2.724c-1.612-1.182-2.393-1.319-2.841-1.319h-15.5c-1.378 0-2.5 1.121-2.5 2.5v27c0 1.378 1.122 2.5 2.5 2.5h23c1.378 0 2.5-1.122 2.5-2.5v-19.5c0-0.448-0.137-1.23-1.319-2.841zM24.543 5.457c0.959 0.959 1.712 1.825 2.268 2.543h-4.811v-4.811c0.718 0.556 1.584 1.309 2.543 2.268zM28 29.5c0 0.271-0.229 0.5-0.5 0.5h-23c-0.271 0-0.5-0.229-0.5-0.5v-27c0-0.271 0.229-0.5 0.5-0.5 0 0 15.499-0 15.5 0v7c0 0.552 0.448 1 1 1h7v19.5z\"></path>\n",
       "<path d=\"M23 26h-14c-0.552 0-1-0.448-1-1s0.448-1 1-1h14c0.552 0 1 0.448 1 1s-0.448 1-1 1z\"></path>\n",
       "<path d=\"M23 22h-14c-0.552 0-1-0.448-1-1s0.448-1 1-1h14c0.552 0 1 0.448 1 1s-0.448 1-1 1z\"></path>\n",
       "<path d=\"M23 18h-14c-0.552 0-1-0.448-1-1s0.448-1 1-1h14c0.552 0 1 0.448 1 1s-0.448 1-1 1z\"></path>\n",
       "</symbol>\n",
       "</defs>\n",
       "</svg>\n",
       "<style>/* CSS stylesheet for displaying xarray objects in jupyterlab.\n",
       " *\n",
       " */\n",
       "\n",
       ":root {\n",
       "  --xr-font-color0: var(--jp-content-font-color0, rgba(0, 0, 0, 1));\n",
       "  --xr-font-color2: var(--jp-content-font-color2, rgba(0, 0, 0, 0.54));\n",
       "  --xr-font-color3: var(--jp-content-font-color3, rgba(0, 0, 0, 0.38));\n",
       "  --xr-border-color: var(--jp-border-color2, #e0e0e0);\n",
       "  --xr-disabled-color: var(--jp-layout-color3, #bdbdbd);\n",
       "  --xr-background-color: var(--jp-layout-color0, white);\n",
       "  --xr-background-color-row-even: var(--jp-layout-color1, white);\n",
       "  --xr-background-color-row-odd: var(--jp-layout-color2, #eeeeee);\n",
       "}\n",
       "\n",
       "html[theme=dark],\n",
       "body.vscode-dark {\n",
       "  --xr-font-color0: rgba(255, 255, 255, 1);\n",
       "  --xr-font-color2: rgba(255, 255, 255, 0.54);\n",
       "  --xr-font-color3: rgba(255, 255, 255, 0.38);\n",
       "  --xr-border-color: #1F1F1F;\n",
       "  --xr-disabled-color: #515151;\n",
       "  --xr-background-color: #111111;\n",
       "  --xr-background-color-row-even: #111111;\n",
       "  --xr-background-color-row-odd: #313131;\n",
       "}\n",
       "\n",
       ".xr-wrap {\n",
       "  display: block !important;\n",
       "  min-width: 300px;\n",
       "  max-width: 700px;\n",
       "}\n",
       "\n",
       ".xr-text-repr-fallback {\n",
       "  /* fallback to plain text repr when CSS is not injected (untrusted notebook) */\n",
       "  display: none;\n",
       "}\n",
       "\n",
       ".xr-header {\n",
       "  padding-top: 6px;\n",
       "  padding-bottom: 6px;\n",
       "  margin-bottom: 4px;\n",
       "  border-bottom: solid 1px var(--xr-border-color);\n",
       "}\n",
       "\n",
       ".xr-header > div,\n",
       ".xr-header > ul {\n",
       "  display: inline;\n",
       "  margin-top: 0;\n",
       "  margin-bottom: 0;\n",
       "}\n",
       "\n",
       ".xr-obj-type,\n",
       ".xr-array-name {\n",
       "  margin-left: 2px;\n",
       "  margin-right: 10px;\n",
       "}\n",
       "\n",
       ".xr-obj-type {\n",
       "  color: var(--xr-font-color2);\n",
       "}\n",
       "\n",
       ".xr-sections {\n",
       "  padding-left: 0 !important;\n",
       "  display: grid;\n",
       "  grid-template-columns: 150px auto auto 1fr 20px 20px;\n",
       "}\n",
       "\n",
       ".xr-section-item {\n",
       "  display: contents;\n",
       "}\n",
       "\n",
       ".xr-section-item input {\n",
       "  display: none;\n",
       "}\n",
       "\n",
       ".xr-section-item input + label {\n",
       "  color: var(--xr-disabled-color);\n",
       "}\n",
       "\n",
       ".xr-section-item input:enabled + label {\n",
       "  cursor: pointer;\n",
       "  color: var(--xr-font-color2);\n",
       "}\n",
       "\n",
       ".xr-section-item input:enabled + label:hover {\n",
       "  color: var(--xr-font-color0);\n",
       "}\n",
       "\n",
       ".xr-section-summary {\n",
       "  grid-column: 1;\n",
       "  color: var(--xr-font-color2);\n",
       "  font-weight: 500;\n",
       "}\n",
       "\n",
       ".xr-section-summary > span {\n",
       "  display: inline-block;\n",
       "  padding-left: 0.5em;\n",
       "}\n",
       "\n",
       ".xr-section-summary-in:disabled + label {\n",
       "  color: var(--xr-font-color2);\n",
       "}\n",
       "\n",
       ".xr-section-summary-in + label:before {\n",
       "  display: inline-block;\n",
       "  content: '►';\n",
       "  font-size: 11px;\n",
       "  width: 15px;\n",
       "  text-align: center;\n",
       "}\n",
       "\n",
       ".xr-section-summary-in:disabled + label:before {\n",
       "  color: var(--xr-disabled-color);\n",
       "}\n",
       "\n",
       ".xr-section-summary-in:checked + label:before {\n",
       "  content: '▼';\n",
       "}\n",
       "\n",
       ".xr-section-summary-in:checked + label > span {\n",
       "  display: none;\n",
       "}\n",
       "\n",
       ".xr-section-summary,\n",
       ".xr-section-inline-details {\n",
       "  padding-top: 4px;\n",
       "  padding-bottom: 4px;\n",
       "}\n",
       "\n",
       ".xr-section-inline-details {\n",
       "  grid-column: 2 / -1;\n",
       "}\n",
       "\n",
       ".xr-section-details {\n",
       "  display: none;\n",
       "  grid-column: 1 / -1;\n",
       "  margin-bottom: 5px;\n",
       "}\n",
       "\n",
       ".xr-section-summary-in:checked ~ .xr-section-details {\n",
       "  display: contents;\n",
       "}\n",
       "\n",
       ".xr-array-wrap {\n",
       "  grid-column: 1 / -1;\n",
       "  display: grid;\n",
       "  grid-template-columns: 20px auto;\n",
       "}\n",
       "\n",
       ".xr-array-wrap > label {\n",
       "  grid-column: 1;\n",
       "  vertical-align: top;\n",
       "}\n",
       "\n",
       ".xr-preview {\n",
       "  color: var(--xr-font-color3);\n",
       "}\n",
       "\n",
       ".xr-array-preview,\n",
       ".xr-array-data {\n",
       "  padding: 0 5px !important;\n",
       "  grid-column: 2;\n",
       "}\n",
       "\n",
       ".xr-array-data,\n",
       ".xr-array-in:checked ~ .xr-array-preview {\n",
       "  display: none;\n",
       "}\n",
       "\n",
       ".xr-array-in:checked ~ .xr-array-data,\n",
       ".xr-array-preview {\n",
       "  display: inline-block;\n",
       "}\n",
       "\n",
       ".xr-dim-list {\n",
       "  display: inline-block !important;\n",
       "  list-style: none;\n",
       "  padding: 0 !important;\n",
       "  margin: 0;\n",
       "}\n",
       "\n",
       ".xr-dim-list li {\n",
       "  display: inline-block;\n",
       "  padding: 0;\n",
       "  margin: 0;\n",
       "}\n",
       "\n",
       ".xr-dim-list:before {\n",
       "  content: '(';\n",
       "}\n",
       "\n",
       ".xr-dim-list:after {\n",
       "  content: ')';\n",
       "}\n",
       "\n",
       ".xr-dim-list li:not(:last-child):after {\n",
       "  content: ',';\n",
       "  padding-right: 5px;\n",
       "}\n",
       "\n",
       ".xr-has-index {\n",
       "  font-weight: bold;\n",
       "}\n",
       "\n",
       ".xr-var-list,\n",
       ".xr-var-item {\n",
       "  display: contents;\n",
       "}\n",
       "\n",
       ".xr-var-item > div,\n",
       ".xr-var-item label,\n",
       ".xr-var-item > .xr-var-name span {\n",
       "  background-color: var(--xr-background-color-row-even);\n",
       "  margin-bottom: 0;\n",
       "}\n",
       "\n",
       ".xr-var-item > .xr-var-name:hover span {\n",
       "  padding-right: 5px;\n",
       "}\n",
       "\n",
       ".xr-var-list > li:nth-child(odd) > div,\n",
       ".xr-var-list > li:nth-child(odd) > label,\n",
       ".xr-var-list > li:nth-child(odd) > .xr-var-name span {\n",
       "  background-color: var(--xr-background-color-row-odd);\n",
       "}\n",
       "\n",
       ".xr-var-name {\n",
       "  grid-column: 1;\n",
       "}\n",
       "\n",
       ".xr-var-dims {\n",
       "  grid-column: 2;\n",
       "}\n",
       "\n",
       ".xr-var-dtype {\n",
       "  grid-column: 3;\n",
       "  text-align: right;\n",
       "  color: var(--xr-font-color2);\n",
       "}\n",
       "\n",
       ".xr-var-preview {\n",
       "  grid-column: 4;\n",
       "}\n",
       "\n",
       ".xr-var-name,\n",
       ".xr-var-dims,\n",
       ".xr-var-dtype,\n",
       ".xr-preview,\n",
       ".xr-attrs dt {\n",
       "  white-space: nowrap;\n",
       "  overflow: hidden;\n",
       "  text-overflow: ellipsis;\n",
       "  padding-right: 10px;\n",
       "}\n",
       "\n",
       ".xr-var-name:hover,\n",
       ".xr-var-dims:hover,\n",
       ".xr-var-dtype:hover,\n",
       ".xr-attrs dt:hover {\n",
       "  overflow: visible;\n",
       "  width: auto;\n",
       "  z-index: 1;\n",
       "}\n",
       "\n",
       ".xr-var-attrs,\n",
       ".xr-var-data {\n",
       "  display: none;\n",
       "  background-color: var(--xr-background-color) !important;\n",
       "  padding-bottom: 5px !important;\n",
       "}\n",
       "\n",
       ".xr-var-attrs-in:checked ~ .xr-var-attrs,\n",
       ".xr-var-data-in:checked ~ .xr-var-data {\n",
       "  display: block;\n",
       "}\n",
       "\n",
       ".xr-var-data > table {\n",
       "  float: right;\n",
       "}\n",
       "\n",
       ".xr-var-name span,\n",
       ".xr-var-data,\n",
       ".xr-attrs {\n",
       "  padding-left: 25px !important;\n",
       "}\n",
       "\n",
       ".xr-attrs,\n",
       ".xr-var-attrs,\n",
       ".xr-var-data {\n",
       "  grid-column: 1 / -1;\n",
       "}\n",
       "\n",
       "dl.xr-attrs {\n",
       "  padding: 0;\n",
       "  margin: 0;\n",
       "  display: grid;\n",
       "  grid-template-columns: 125px auto;\n",
       "}\n",
       "\n",
       ".xr-attrs dt,\n",
       ".xr-attrs dd {\n",
       "  padding: 0;\n",
       "  margin: 0;\n",
       "  float: left;\n",
       "  padding-right: 10px;\n",
       "  width: auto;\n",
       "}\n",
       "\n",
       ".xr-attrs dt {\n",
       "  font-weight: normal;\n",
       "  grid-column: 1;\n",
       "}\n",
       "\n",
       ".xr-attrs dt:hover span {\n",
       "  display: inline-block;\n",
       "  background: var(--xr-background-color);\n",
       "  padding-right: 10px;\n",
       "}\n",
       "\n",
       ".xr-attrs dd {\n",
       "  grid-column: 2;\n",
       "  white-space: pre-wrap;\n",
       "  word-break: break-all;\n",
       "}\n",
       "\n",
       ".xr-icon-database,\n",
       ".xr-icon-file-text2 {\n",
       "  display: inline-block;\n",
       "  vertical-align: middle;\n",
       "  width: 1em;\n",
       "  height: 1.5em !important;\n",
       "  stroke-width: 0;\n",
       "  stroke: currentColor;\n",
       "  fill: currentColor;\n",
       "}\n",
       "</style><pre class='xr-text-repr-fallback'>&lt;xarray.Dataset&gt;\n",
       "Dimensions:              (time: 8736, yc: 262, xc: 262)\n",
       "Coordinates:\n",
       "  * xc                   (xc) float64 -2.61e+06 -2.59e+06 ... 2.59e+06 2.61e+06\n",
       "  * yc                   (yc) float64 -1.824e+05 -2.024e+05 ... -5.402e+06\n",
       "    lon                  (yc, xc) float32 122.0 122.0 122.1 ... -126.4 -126.2\n",
       "    lat                  (yc, xc) float32 65.59 65.77 65.95 ... 37.37 37.3 37.24\n",
       "  * time                 (time) datetime64[ns] 1970-01-02 ... 1970-12-31T23:0...\n",
       "Data variables:\n",
       "    pcpt                 (time, yc, xc) float32 ...\n",
       "    polar_stereographic  |S1 b&#x27;&#x27;\n",
       "Attributes:\n",
       "    creation_date:    Wed Jan 20 13:31:40 AKST 2016\n",
       "    NCL_Version:      6.1.2\n",
       "    system:           Linux m79 2.6.32-431.29.2.el6.658g0000.x86_64 #1 SMP Tu...\n",
       "    Conventions:      None\n",
       "    grib_source:      WRFDS_d01.1970-01-02_00.grib\n",
       "    title:            NCL: convert-GRIB-to-netCDF\n",
       "    reference_time:   1970-01-02 00:00:00\n",
       "    proj_parameters:  +proj=stere +lat_0=90 +lat_ts=90 +lon_0=-150 +k=0.994 +...\n",
       "    restacked_by:     Scenarios Network for Alaska + Arctic Planning -- 2018\n",
       "    SNAP_VERSION:     1.0</pre><div class='xr-wrap' style='display:none'><div class='xr-header'><div class='xr-obj-type'>xarray.Dataset</div></div><ul class='xr-sections'><li class='xr-section-item'><input id='section-6085aa45-729f-4b76-b6bd-519941e86356' class='xr-section-summary-in' type='checkbox' disabled ><label for='section-6085aa45-729f-4b76-b6bd-519941e86356' class='xr-section-summary'  title='Expand/collapse section'>Dimensions:</label><div class='xr-section-inline-details'><ul class='xr-dim-list'><li><span class='xr-has-index'>time</span>: 8736</li><li><span class='xr-has-index'>yc</span>: 262</li><li><span class='xr-has-index'>xc</span>: 262</li></ul></div><div class='xr-section-details'></div></li><li class='xr-section-item'><input id='section-ea5b22be-dbfe-4a69-b8be-1ee59e66348a' class='xr-section-summary-in' type='checkbox'  checked><label for='section-ea5b22be-dbfe-4a69-b8be-1ee59e66348a' class='xr-section-summary' >Coordinates: <span>(5)</span></label><div class='xr-section-inline-details'></div><div class='xr-section-details'><ul class='xr-var-list'><li class='xr-var-item'><div class='xr-var-name'><span class='xr-has-index'>xc</span></div><div class='xr-var-dims'>(xc)</div><div class='xr-var-dtype'>float64</div><div class='xr-var-preview xr-preview'>-2.61e+06 -2.59e+06 ... 2.61e+06</div><input id='attrs-e16f39eb-564c-45bb-a4e9-7fa4bfceb2aa' class='xr-var-attrs-in' type='checkbox' ><label for='attrs-e16f39eb-564c-45bb-a4e9-7fa4bfceb2aa' title='Show/Hide attributes'><svg class='icon xr-icon-file-text2'><use xlink:href='#icon-file-text2'></use></svg></label><input id='data-730d3c37-f2fa-410f-a1ae-125206332ac9' class='xr-var-data-in' type='checkbox'><label for='data-730d3c37-f2fa-410f-a1ae-125206332ac9' title='Show/Hide data repr'><svg class='icon xr-icon-database'><use xlink:href='#icon-database'></use></svg></label><div class='xr-var-attrs'><dl class='xr-attrs'><dt><span>standard_name :</span></dt><dd>projection_x_coordinate</dd><dt><span>units :</span></dt><dd>m</dd></dl></div><div class='xr-var-data'><pre>array([-2610000., -2590000., -2570000., ...,  2570000.,  2590000.,  2610000.])</pre></div></li><li class='xr-var-item'><div class='xr-var-name'><span class='xr-has-index'>yc</span></div><div class='xr-var-dims'>(yc)</div><div class='xr-var-dtype'>float64</div><div class='xr-var-preview xr-preview'>-1.824e+05 ... -5.402e+06</div><input id='attrs-fc63431f-9456-4fba-ba36-d56173104f14' class='xr-var-attrs-in' type='checkbox' ><label for='attrs-fc63431f-9456-4fba-ba36-d56173104f14' title='Show/Hide attributes'><svg class='icon xr-icon-file-text2'><use xlink:href='#icon-file-text2'></use></svg></label><input id='data-ca673e13-4e29-4e03-b6b0-037b1b4dbd80' class='xr-var-data-in' type='checkbox'><label for='data-ca673e13-4e29-4e03-b6b0-037b1b4dbd80' title='Show/Hide data repr'><svg class='icon xr-icon-database'><use xlink:href='#icon-database'></use></svg></label><div class='xr-var-attrs'><dl class='xr-attrs'><dt><span>standard_name :</span></dt><dd>projection_y_coordinate</dd><dt><span>units :</span></dt><dd>m</dd></dl></div><div class='xr-var-data'><pre>array([ -182425.477372,  -202425.477372,  -222425.477372, ..., -5362425.477372,\n",
       "       -5382425.477372, -5402425.477372])</pre></div></li><li class='xr-var-item'><div class='xr-var-name'><span>lon</span></div><div class='xr-var-dims'>(yc, xc)</div><div class='xr-var-dtype'>float32</div><div class='xr-var-preview xr-preview'>...</div><input id='attrs-af2c0f38-bf72-4ab3-8df5-6a4f53c8460d' class='xr-var-attrs-in' type='checkbox' ><label for='attrs-af2c0f38-bf72-4ab3-8df5-6a4f53c8460d' title='Show/Hide attributes'><svg class='icon xr-icon-file-text2'><use xlink:href='#icon-file-text2'></use></svg></label><input id='data-c32bbaa1-26ae-4d17-82be-9ebcb269211f' class='xr-var-data-in' type='checkbox'><label for='data-c32bbaa1-26ae-4d17-82be-9ebcb269211f' title='Show/Hide data repr'><svg class='icon xr-icon-database'><use xlink:href='#icon-database'></use></svg></label><div class='xr-var-attrs'><dl class='xr-attrs'><dt><span>long_name :</span></dt><dd>Longitude</dd><dt><span>units :</span></dt><dd>degrees</dd><dt><span>grid_notes :</span></dt><dd>irregular grid representing centroids of locations in Cartesian grid ofPolar Stereographic in the Geographic WGS84 coordinates. These come directly from WRF.</dd></dl></div><div class='xr-var-data'><pre>array([[ 122.017746,  122.04866 ,  122.080055, ...,  -66.08149 ,  -66.05007 ,\n",
       "         -66.019135],\n",
       "       [ 122.45432 ,  122.48857 ,  122.52335 , ...,  -66.52495 ,  -66.49014 ,\n",
       "         -66.455864],\n",
       "       [ 122.89038 ,  122.927956,  122.96611 , ...,  -66.96785 ,  -66.92967 ,\n",
       "         -66.892075],\n",
       "       ...,\n",
       "       [-177.95314 , -177.78015 , -177.60664 , ..., -126.40124 , -126.227715,\n",
       "        -126.0547  ],\n",
       "       [-177.86931 , -177.69673 , -177.52364 , ..., -126.48424 , -126.31112 ,\n",
       "        -126.138504],\n",
       "       [-177.786   , -177.6138  , -177.44112 , ..., -126.566734, -126.39402 ,\n",
       "        -126.22181 ]], dtype=float32)</pre></div></li><li class='xr-var-item'><div class='xr-var-name'><span>lat</span></div><div class='xr-var-dims'>(yc, xc)</div><div class='xr-var-dtype'>float32</div><div class='xr-var-preview xr-preview'>...</div><input id='attrs-9543c1f4-735c-4071-baf3-6381bbd68568' class='xr-var-attrs-in' type='checkbox' ><label for='attrs-9543c1f4-735c-4071-baf3-6381bbd68568' title='Show/Hide attributes'><svg class='icon xr-icon-file-text2'><use xlink:href='#icon-file-text2'></use></svg></label><input id='data-b919e284-969c-441f-a769-236976826fad' class='xr-var-data-in' type='checkbox'><label for='data-b919e284-969c-441f-a769-236976826fad' title='Show/Hide data repr'><svg class='icon xr-icon-database'><use xlink:href='#icon-database'></use></svg></label><div class='xr-var-attrs'><dl class='xr-attrs'><dt><span>long_name :</span></dt><dd>Latitude</dd><dt><span>units :</span></dt><dd>degrees</dd><dt><span>grid_notes :</span></dt><dd>irregular grid representing centroids of locations in Cartesian grid ofPolar Stereographic in the Geographic WGS84 coordinates. These come directly from WRF.</dd></dl></div><div class='xr-var-data'><pre>array([[65.58805 , 65.76864 , 65.94935 , ..., 65.95755 , 65.77684 , 65.59624 ],\n",
       "       [65.57468 , 65.75516 , 65.93575 , ..., 65.943954, 65.76335 , 65.58286 ],\n",
       "       [65.55994 , 65.740295, 65.92076 , ..., 65.928955, 65.74848 , 65.568115],\n",
       "       ...,\n",
       "       [37.506927, 37.573433, 37.639565, ..., 37.642555, 37.576443, 37.509953],\n",
       "       [37.369934, 37.43616 , 37.50201 , ..., 37.504993, 37.439156, 37.372944],\n",
       "       [37.233   , 37.29895 , 37.364525, ..., 37.367493, 37.301937, 37.236   ]],\n",
       "      dtype=float32)</pre></div></li><li class='xr-var-item'><div class='xr-var-name'><span class='xr-has-index'>time</span></div><div class='xr-var-dims'>(time)</div><div class='xr-var-dtype'>datetime64[ns]</div><div class='xr-var-preview xr-preview'>1970-01-02 ... 1970-12-31T23:00:00</div><input id='attrs-5288bc85-6cf0-4c11-b0cf-bf62563e25c6' class='xr-var-attrs-in' type='checkbox' ><label for='attrs-5288bc85-6cf0-4c11-b0cf-bf62563e25c6' title='Show/Hide attributes'><svg class='icon xr-icon-file-text2'><use xlink:href='#icon-file-text2'></use></svg></label><input id='data-303b43dd-bd7b-4f69-98e7-8438aae07f5d' class='xr-var-data-in' type='checkbox'><label for='data-303b43dd-bd7b-4f69-98e7-8438aae07f5d' title='Show/Hide data repr'><svg class='icon xr-icon-database'><use xlink:href='#icon-database'></use></svg></label><div class='xr-var-attrs'><dl class='xr-attrs'><dt><span>time zone :</span></dt><dd>UTC</dd></dl></div><div class='xr-var-data'><pre>array([&#x27;1970-01-02T00:00:00.000000000&#x27;, &#x27;1970-01-02T01:00:00.000000000&#x27;,\n",
       "       &#x27;1970-01-02T02:00:00.000000000&#x27;, ..., &#x27;1970-12-31T21:00:00.000000000&#x27;,\n",
       "       &#x27;1970-12-31T22:00:00.000000000&#x27;, &#x27;1970-12-31T23:00:00.000000000&#x27;],\n",
       "      dtype=&#x27;datetime64[ns]&#x27;)</pre></div></li></ul></div></li><li class='xr-section-item'><input id='section-e9b6d9ac-737d-417a-805f-cd9a180d30e5' class='xr-section-summary-in' type='checkbox'  checked><label for='section-e9b6d9ac-737d-417a-805f-cd9a180d30e5' class='xr-section-summary' >Data variables: <span>(2)</span></label><div class='xr-section-inline-details'></div><div class='xr-section-details'><ul class='xr-var-list'><li class='xr-var-item'><div class='xr-var-name'><span>pcpt</span></div><div class='xr-var-dims'>(time, yc, xc)</div><div class='xr-var-dtype'>float32</div><div class='xr-var-preview xr-preview'>...</div><input id='attrs-bd317394-6a1f-46e8-b0e7-72b4b60d67c3' class='xr-var-attrs-in' type='checkbox' ><label for='attrs-bd317394-6a1f-46e8-b0e7-72b4b60d67c3' title='Show/Hide attributes'><svg class='icon xr-icon-file-text2'><use xlink:href='#icon-file-text2'></use></svg></label><input id='data-2e9eea90-3a0e-4bdf-8a3b-0218dd7954d8' class='xr-var-data-in' type='checkbox'><label for='data-2e9eea90-3a0e-4bdf-8a3b-0218dd7954d8' title='Show/Hide data repr'><svg class='icon xr-icon-database'><use xlink:href='#icon-database'></use></svg></label><div class='xr-var-attrs'><dl class='xr-attrs'><dt><span>long_name :</span></dt><dd>Total precipitation</dd><dt><span>units :</span></dt><dd>mm</dd><dt><span>coordinates_ :</span></dt><dd>xc yc</dd><dt><span>temporal_resampling :</span></dt><dd>None: these data represent hourly outputs from wrf dynamical downscaling.</dd><dt><span>grid_mapping :</span></dt><dd>polar_stereographic</dd></dl></div><div class='xr-var-data'><pre>[599673984 values with dtype=float32]</pre></div></li><li class='xr-var-item'><div class='xr-var-name'><span>polar_stereographic</span></div><div class='xr-var-dims'>()</div><div class='xr-var-dtype'>|S1</div><div class='xr-var-preview xr-preview'>...</div><input id='attrs-411bcea4-23c4-4e0c-86c2-3c66bba8a6d7' class='xr-var-attrs-in' type='checkbox' ><label for='attrs-411bcea4-23c4-4e0c-86c2-3c66bba8a6d7' title='Show/Hide attributes'><svg class='icon xr-icon-file-text2'><use xlink:href='#icon-file-text2'></use></svg></label><input id='data-1fc41880-a4ec-4cb9-8258-23c32b5c4a8b' class='xr-var-data-in' type='checkbox'><label for='data-1fc41880-a4ec-4cb9-8258-23c32b5c4a8b' title='Show/Hide data repr'><svg class='icon xr-icon-database'><use xlink:href='#icon-database'></use></svg></label><div class='xr-var-attrs'><dl class='xr-attrs'><dt><span>crs_wkt :</span></dt><dd>PROJCRS[&quot;unknown&quot;,BASEGEOGCRS[&quot;unknown&quot;,DATUM[&quot;unknown&quot;,ELLIPSOID[&quot;unknown&quot;,6370000,0,LENGTHUNIT[&quot;metre&quot;,1,ID[&quot;EPSG&quot;,9001]]]],PRIMEM[&quot;Greenwich&quot;,0,ANGLEUNIT[&quot;degree&quot;,0.0174532925199433],ID[&quot;EPSG&quot;,8901]]],CONVERSION[&quot;unknown&quot;,METHOD[&quot;Polar Stereographic (variant B)&quot;,ID[&quot;EPSG&quot;,9829]],PARAMETER[&quot;Latitude of standard parallel&quot;,64,ANGLEUNIT[&quot;degree&quot;,0.0174532925199433],ID[&quot;EPSG&quot;,8832]],PARAMETER[&quot;Longitude of origin&quot;,-152,ANGLEUNIT[&quot;degree&quot;,0.0174532925199433],ID[&quot;EPSG&quot;,8833]],PARAMETER[&quot;False easting&quot;,0,LENGTHUNIT[&quot;metre&quot;,1],ID[&quot;EPSG&quot;,8806]],PARAMETER[&quot;False northing&quot;,0,LENGTHUNIT[&quot;metre&quot;,1],ID[&quot;EPSG&quot;,8807]]],CS[Cartesian,2],AXIS[&quot;(E)&quot;,south,MERIDIAN[90,ANGLEUNIT[&quot;degree&quot;,0.0174532925199433,ID[&quot;EPSG&quot;,9122]]],ORDER[1],LENGTHUNIT[&quot;metre&quot;,1,ID[&quot;EPSG&quot;,9001]]],AXIS[&quot;(N)&quot;,south,MERIDIAN[180,ANGLEUNIT[&quot;degree&quot;,0.0174532925199433,ID[&quot;EPSG&quot;,9122]]],ORDER[2],LENGTHUNIT[&quot;metre&quot;,1,ID[&quot;EPSG&quot;,9001]]]]</dd><dt><span>semi_major_axis :</span></dt><dd>6370000.0</dd><dt><span>semi_minor_axis :</span></dt><dd>6370000.0</dd><dt><span>inverse_flattening :</span></dt><dd>0.0</dd><dt><span>reference_ellipsoid_name :</span></dt><dd>unknown</dd><dt><span>longitude_of_prime_meridian :</span></dt><dd>0.0</dd><dt><span>prime_meridian_name :</span></dt><dd>Greenwich</dd><dt><span>geographic_crs_name :</span></dt><dd>unknown</dd><dt><span>horizontal_datum_name :</span></dt><dd>unknown</dd><dt><span>projected_crs_name :</span></dt><dd>unknown</dd><dt><span>grid_mapping_name :</span></dt><dd>polar_stereographic</dd><dt><span>standard_parallel :</span></dt><dd>64.0</dd><dt><span>straight_vertical_longitude_from_pole :</span></dt><dd>-152.0</dd><dt><span>false_easting :</span></dt><dd>0.0</dd><dt><span>false_northing :</span></dt><dd>0.0</dd></dl></div><div class='xr-var-data'><pre>array(b&#x27;&#x27;, dtype=&#x27;|S1&#x27;)</pre></div></li></ul></div></li><li class='xr-section-item'><input id='section-7e54fb6f-80f5-41b4-b967-97a1d7049842' class='xr-section-summary-in' type='checkbox'  ><label for='section-7e54fb6f-80f5-41b4-b967-97a1d7049842' class='xr-section-summary' >Attributes: <span>(10)</span></label><div class='xr-section-inline-details'></div><div class='xr-section-details'><dl class='xr-attrs'><dt><span>creation_date :</span></dt><dd>Wed Jan 20 13:31:40 AKST 2016</dd><dt><span>NCL_Version :</span></dt><dd>6.1.2</dd><dt><span>system :</span></dt><dd>Linux m79 2.6.32-431.29.2.el6.658g0000.x86_64 #1 SMP Tue Sep 9 23:59:51 EDT 2014 x86_64 x86_64 x86_64 GNU/Linux</dd><dt><span>Conventions :</span></dt><dd>None</dd><dt><span>grib_source :</span></dt><dd>WRFDS_d01.1970-01-02_00.grib</dd><dt><span>title :</span></dt><dd>NCL: convert-GRIB-to-netCDF</dd><dt><span>reference_time :</span></dt><dd>1970-01-02 00:00:00</dd><dt><span>proj_parameters :</span></dt><dd>+proj=stere +lat_0=90 +lat_ts=90 +lon_0=-150 +k=0.994 +x_0=2000000 +y_0=2000000 +datum=WGS84 +units=m +no_defs</dd><dt><span>restacked_by :</span></dt><dd>Scenarios Network for Alaska + Arctic Planning -- 2018</dd><dt><span>SNAP_VERSION :</span></dt><dd>1.0</dd></dl></div></li></ul></div></div>"
      ],
      "text/plain": [
       "<xarray.Dataset>\n",
       "Dimensions:              (time: 8736, yc: 262, xc: 262)\n",
       "Coordinates:\n",
       "  * xc                   (xc) float64 -2.61e+06 -2.59e+06 ... 2.59e+06 2.61e+06\n",
       "  * yc                   (yc) float64 -1.824e+05 -2.024e+05 ... -5.402e+06\n",
       "    lon                  (yc, xc) float32 ...\n",
       "    lat                  (yc, xc) float32 ...\n",
       "  * time                 (time) datetime64[ns] 1970-01-02 ... 1970-12-31T23:0...\n",
       "Data variables:\n",
       "    pcpt                 (time, yc, xc) float32 ...\n",
       "    polar_stereographic  |S1 ...\n",
       "Attributes:\n",
       "    creation_date:    Wed Jan 20 13:31:40 AKST 2016\n",
       "    NCL_Version:      6.1.2\n",
       "    system:           Linux m79 2.6.32-431.29.2.el6.658g0000.x86_64 #1 SMP Tu...\n",
       "    Conventions:      None\n",
       "    grib_source:      WRFDS_d01.1970-01-02_00.grib\n",
       "    title:            NCL: convert-GRIB-to-netCDF\n",
       "    reference_time:   1970-01-02 00:00:00\n",
       "    proj_parameters:  +proj=stere +lat_0=90 +lat_ts=90 +lon_0=-150 +k=0.994 +...\n",
       "    restacked_by:     Scenarios Network for Alaska + Arctic Planning -- 2018\n",
       "    SNAP_VERSION:     1.0"
      ]
     },
     "execution_count": 75,
     "metadata": {},
     "output_type": "execute_result"
    }
   ],
   "source": [
    "ds"
   ]
  },
  {
   "cell_type": "code",
   "execution_count": null,
   "id": "dc08df73-ae91-45d0-9a8c-436a97ba6db4",
   "metadata": {},
   "outputs": [],
   "source": []
  },
  {
   "cell_type": "code",
   "execution_count": 6,
   "id": "ef464aef-df91-4127-9ecc-d0c98f663237",
   "metadata": {},
   "outputs": [],
   "source": [
    "import numpy as np\n",
    "\n",
    "\n",
    "def sanity_check(restack_fp):\n",
    "    \"\"\"Checks the values of restacked data for a random time slice\"\"\"\n",
    "    varname = restack_fp.parent.name\n",
    "    with xr.open_dataset(restack_fp) as ds:\n",
    "        idx = np.random.randint(ds.time.values.shape[0])\n",
    "        check_time = ds.time.values[idx]\n",
    "        check_arr = ds[varname].sel(time=check_time).values\n",
    "        \n",
    "    fix_fp = base_dir.joinpath(f\"hourly_fix/{varname}/{restack_fp.name}\")\n",
    "    with xr.open_dataset(fix_fp) as ds:\n",
    "        fix_arr = ds[varname].sel(time=check_time).values\n",
    "    \n",
    "    year = check_time.astype(\"datetime64[Y]\")\n",
    "    wrf_time_str = str(check_time.astype(\"datetime64[h]\")).replace(\"T\", \"_\")\n",
    "    raw_fp = list(raw_scratch_dir.joinpath(f\"{group}/{year}\").glob(f\"*{wrf_time_str}*\"))[0]\n",
    "    with xr.open_dataset(raw_fp) as ds:\n",
    "        raw_arr = ds[varname.upper()].values\n",
    "        \n",
    "    check = np.all(fix_arr == check_arr)\n",
    "    check = check & np.all(np.flipud(raw_arr) == check_arr)\n",
    "    print(f\"Time: {wrf_time_str}; match: {check}\")\n",
    "    \n",
    "    return"
   ]
  },
  {
   "cell_type": "code",
   "execution_count": 9,
   "id": "33ebdab7-909d-4c1b-b9c7-d0a7457eb81d",
   "metadata": {},
   "outputs": [
    {
     "name": "stdout",
     "output_type": "stream",
     "text": [
      "Time: 1970-10-26_09; match: True\n"
     ]
    }
   ],
   "source": [
    "fp = restack_scratch_dir.joinpath(\"t2/t2_hourly_wrf_NCAR-CCSM4_historical_1970.nc\")\n",
    "\n",
    "sanity_check(fp)"
   ]
  },
  {
   "cell_type": "code",
   "execution_count": 37,
   "id": "e77f3b90-a105-4a9d-be58-380fca3f0fda",
   "metadata": {},
   "outputs": [
    {
     "data": {
      "text/plain": [
       "'1970-01-02T00'"
      ]
     },
     "execution_count": 37,
     "metadata": {},
     "output_type": "execute_result"
    }
   ],
   "source": [
    "str(ds.time.values[0].astype(\"datetime64[h]\")).replace(\"T\", \"_\")"
   ]
  },
  {
   "cell_type": "code",
   "execution_count": 58,
   "id": "08aaa35f-e891-453a-a261-f8ce119e87f2",
   "metadata": {},
   "outputs": [],
   "source": [
    "with xr.open_dataset(restack_scratch_dir.joinpath(\"pcpt/pcpt_hourly_wrf_NCAR-CCSM4_historical_1970.nc\")) as ds:\n",
    "    check_time = ds.time.values[10]\n",
    "    check_arr = ds[\"pcpt\"].sel(time=check_time).values\n",
    "    check_arr = ds[\"pcpt\"].sel(time=ds.time.values[7:12]).values\n",
    "    "
   ]
  },
  {
   "cell_type": "code",
   "execution_count": null,
   "id": "c1b68bac-dc8c-41a8-8716-1c6f9e09b9c4",
   "metadata": {},
   "outputs": [],
   "source": []
  },
  {
   "cell_type": "code",
   "execution_count": 76,
   "id": "fddc55f5-3f81-4124-aaed-ab2d59f5d258",
   "metadata": {},
   "outputs": [],
   "source": [
    "fix_fp = base_dir.joinpath(f\"hourly_fix/pcpt/pcpt_hourly_wrf_NCAR-CCSM4_historical_1970.nc\")\n",
    "with xr.open_dataset(fix_fp) as ds:\n",
    "    fix_arr = ds[\"pcpt\"].sel(time=check_time).values\n",
    "    "
   ]
  },
  {
   "cell_type": "code",
   "execution_count": 79,
   "id": "7e4425b4-5e66-4146-ac62-e79963698251",
   "metadata": {},
   "outputs": [
    {
     "data": {
      "text/plain": [
       "PosixPath('/import/SNAP/wrf_data/project_data/wrf_data/hourly_fix/pcpt/pcpt_hourly_wrf_NCAR-CCSM4_historical_1970.nc')"
      ]
     },
     "execution_count": 79,
     "metadata": {},
     "output_type": "execute_result"
    }
   ],
   "source": [
    "fix_fp"
   ]
  },
  {
   "cell_type": "code",
   "execution_count": 85,
   "id": "6fe04b7b-0e3d-4f6d-bcc0-8afa48d96626",
   "metadata": {},
   "outputs": [],
   "source": [
    "fp = \"/import/SNAP/wrf_data/project_data/wrf_data/hourly_fix/q2/q2_hourly_wrf_NCAR-CCSM4_historical_1970.nc\"\n",
    "with xr.open_dataset(fp) as ds:\n",
    "    pass"
   ]
  },
  {
   "cell_type": "code",
   "execution_count": 84,
   "id": "34168dba-d666-4b27-9dcf-a80b0a3f18ab",
   "metadata": {},
   "outputs": [
    {
     "name": "stdout",
     "output_type": "stream",
     "text": [
      "-rw-rw---- 1 12997 dyndown 1477179050 Oct 21 19:20 /import/SNAP/wrf_data/project_data/wrf_data/hourly_fix/q2/q2_hourly_wrf_NCAR-CCSM4_historical_1970.nc\n"
     ]
    }
   ],
   "source": [
    "ls -l /import/SNAP/wrf_data/project_data/wrf_data/hourly_fix/q2/q2_hourly_wrf_NCAR-CCSM4_historical_1970.nc"
   ]
  },
  {
   "cell_type": "code",
   "execution_count": 86,
   "id": "85d80368-a447-499e-9e5a-5a2b7ad6c1f1",
   "metadata": {},
   "outputs": [
    {
     "data": {
      "text/html": [
       "<div><svg style=\"position: absolute; width: 0; height: 0; overflow: hidden\">\n",
       "<defs>\n",
       "<symbol id=\"icon-database\" viewBox=\"0 0 32 32\">\n",
       "<path d=\"M16 0c-8.837 0-16 2.239-16 5v4c0 2.761 7.163 5 16 5s16-2.239 16-5v-4c0-2.761-7.163-5-16-5z\"></path>\n",
       "<path d=\"M16 17c-8.837 0-16-2.239-16-5v6c0 2.761 7.163 5 16 5s16-2.239 16-5v-6c0 2.761-7.163 5-16 5z\"></path>\n",
       "<path d=\"M16 26c-8.837 0-16-2.239-16-5v6c0 2.761 7.163 5 16 5s16-2.239 16-5v-6c0 2.761-7.163 5-16 5z\"></path>\n",
       "</symbol>\n",
       "<symbol id=\"icon-file-text2\" viewBox=\"0 0 32 32\">\n",
       "<path d=\"M28.681 7.159c-0.694-0.947-1.662-2.053-2.724-3.116s-2.169-2.030-3.116-2.724c-1.612-1.182-2.393-1.319-2.841-1.319h-15.5c-1.378 0-2.5 1.121-2.5 2.5v27c0 1.378 1.122 2.5 2.5 2.5h23c1.378 0 2.5-1.122 2.5-2.5v-19.5c0-0.448-0.137-1.23-1.319-2.841zM24.543 5.457c0.959 0.959 1.712 1.825 2.268 2.543h-4.811v-4.811c0.718 0.556 1.584 1.309 2.543 2.268zM28 29.5c0 0.271-0.229 0.5-0.5 0.5h-23c-0.271 0-0.5-0.229-0.5-0.5v-27c0-0.271 0.229-0.5 0.5-0.5 0 0 15.499-0 15.5 0v7c0 0.552 0.448 1 1 1h7v19.5z\"></path>\n",
       "<path d=\"M23 26h-14c-0.552 0-1-0.448-1-1s0.448-1 1-1h14c0.552 0 1 0.448 1 1s-0.448 1-1 1z\"></path>\n",
       "<path d=\"M23 22h-14c-0.552 0-1-0.448-1-1s0.448-1 1-1h14c0.552 0 1 0.448 1 1s-0.448 1-1 1z\"></path>\n",
       "<path d=\"M23 18h-14c-0.552 0-1-0.448-1-1s0.448-1 1-1h14c0.552 0 1 0.448 1 1s-0.448 1-1 1z\"></path>\n",
       "</symbol>\n",
       "</defs>\n",
       "</svg>\n",
       "<style>/* CSS stylesheet for displaying xarray objects in jupyterlab.\n",
       " *\n",
       " */\n",
       "\n",
       ":root {\n",
       "  --xr-font-color0: var(--jp-content-font-color0, rgba(0, 0, 0, 1));\n",
       "  --xr-font-color2: var(--jp-content-font-color2, rgba(0, 0, 0, 0.54));\n",
       "  --xr-font-color3: var(--jp-content-font-color3, rgba(0, 0, 0, 0.38));\n",
       "  --xr-border-color: var(--jp-border-color2, #e0e0e0);\n",
       "  --xr-disabled-color: var(--jp-layout-color3, #bdbdbd);\n",
       "  --xr-background-color: var(--jp-layout-color0, white);\n",
       "  --xr-background-color-row-even: var(--jp-layout-color1, white);\n",
       "  --xr-background-color-row-odd: var(--jp-layout-color2, #eeeeee);\n",
       "}\n",
       "\n",
       "html[theme=dark],\n",
       "body.vscode-dark {\n",
       "  --xr-font-color0: rgba(255, 255, 255, 1);\n",
       "  --xr-font-color2: rgba(255, 255, 255, 0.54);\n",
       "  --xr-font-color3: rgba(255, 255, 255, 0.38);\n",
       "  --xr-border-color: #1F1F1F;\n",
       "  --xr-disabled-color: #515151;\n",
       "  --xr-background-color: #111111;\n",
       "  --xr-background-color-row-even: #111111;\n",
       "  --xr-background-color-row-odd: #313131;\n",
       "}\n",
       "\n",
       ".xr-wrap {\n",
       "  display: block !important;\n",
       "  min-width: 300px;\n",
       "  max-width: 700px;\n",
       "}\n",
       "\n",
       ".xr-text-repr-fallback {\n",
       "  /* fallback to plain text repr when CSS is not injected (untrusted notebook) */\n",
       "  display: none;\n",
       "}\n",
       "\n",
       ".xr-header {\n",
       "  padding-top: 6px;\n",
       "  padding-bottom: 6px;\n",
       "  margin-bottom: 4px;\n",
       "  border-bottom: solid 1px var(--xr-border-color);\n",
       "}\n",
       "\n",
       ".xr-header > div,\n",
       ".xr-header > ul {\n",
       "  display: inline;\n",
       "  margin-top: 0;\n",
       "  margin-bottom: 0;\n",
       "}\n",
       "\n",
       ".xr-obj-type,\n",
       ".xr-array-name {\n",
       "  margin-left: 2px;\n",
       "  margin-right: 10px;\n",
       "}\n",
       "\n",
       ".xr-obj-type {\n",
       "  color: var(--xr-font-color2);\n",
       "}\n",
       "\n",
       ".xr-sections {\n",
       "  padding-left: 0 !important;\n",
       "  display: grid;\n",
       "  grid-template-columns: 150px auto auto 1fr 20px 20px;\n",
       "}\n",
       "\n",
       ".xr-section-item {\n",
       "  display: contents;\n",
       "}\n",
       "\n",
       ".xr-section-item input {\n",
       "  display: none;\n",
       "}\n",
       "\n",
       ".xr-section-item input + label {\n",
       "  color: var(--xr-disabled-color);\n",
       "}\n",
       "\n",
       ".xr-section-item input:enabled + label {\n",
       "  cursor: pointer;\n",
       "  color: var(--xr-font-color2);\n",
       "}\n",
       "\n",
       ".xr-section-item input:enabled + label:hover {\n",
       "  color: var(--xr-font-color0);\n",
       "}\n",
       "\n",
       ".xr-section-summary {\n",
       "  grid-column: 1;\n",
       "  color: var(--xr-font-color2);\n",
       "  font-weight: 500;\n",
       "}\n",
       "\n",
       ".xr-section-summary > span {\n",
       "  display: inline-block;\n",
       "  padding-left: 0.5em;\n",
       "}\n",
       "\n",
       ".xr-section-summary-in:disabled + label {\n",
       "  color: var(--xr-font-color2);\n",
       "}\n",
       "\n",
       ".xr-section-summary-in + label:before {\n",
       "  display: inline-block;\n",
       "  content: '►';\n",
       "  font-size: 11px;\n",
       "  width: 15px;\n",
       "  text-align: center;\n",
       "}\n",
       "\n",
       ".xr-section-summary-in:disabled + label:before {\n",
       "  color: var(--xr-disabled-color);\n",
       "}\n",
       "\n",
       ".xr-section-summary-in:checked + label:before {\n",
       "  content: '▼';\n",
       "}\n",
       "\n",
       ".xr-section-summary-in:checked + label > span {\n",
       "  display: none;\n",
       "}\n",
       "\n",
       ".xr-section-summary,\n",
       ".xr-section-inline-details {\n",
       "  padding-top: 4px;\n",
       "  padding-bottom: 4px;\n",
       "}\n",
       "\n",
       ".xr-section-inline-details {\n",
       "  grid-column: 2 / -1;\n",
       "}\n",
       "\n",
       ".xr-section-details {\n",
       "  display: none;\n",
       "  grid-column: 1 / -1;\n",
       "  margin-bottom: 5px;\n",
       "}\n",
       "\n",
       ".xr-section-summary-in:checked ~ .xr-section-details {\n",
       "  display: contents;\n",
       "}\n",
       "\n",
       ".xr-array-wrap {\n",
       "  grid-column: 1 / -1;\n",
       "  display: grid;\n",
       "  grid-template-columns: 20px auto;\n",
       "}\n",
       "\n",
       ".xr-array-wrap > label {\n",
       "  grid-column: 1;\n",
       "  vertical-align: top;\n",
       "}\n",
       "\n",
       ".xr-preview {\n",
       "  color: var(--xr-font-color3);\n",
       "}\n",
       "\n",
       ".xr-array-preview,\n",
       ".xr-array-data {\n",
       "  padding: 0 5px !important;\n",
       "  grid-column: 2;\n",
       "}\n",
       "\n",
       ".xr-array-data,\n",
       ".xr-array-in:checked ~ .xr-array-preview {\n",
       "  display: none;\n",
       "}\n",
       "\n",
       ".xr-array-in:checked ~ .xr-array-data,\n",
       ".xr-array-preview {\n",
       "  display: inline-block;\n",
       "}\n",
       "\n",
       ".xr-dim-list {\n",
       "  display: inline-block !important;\n",
       "  list-style: none;\n",
       "  padding: 0 !important;\n",
       "  margin: 0;\n",
       "}\n",
       "\n",
       ".xr-dim-list li {\n",
       "  display: inline-block;\n",
       "  padding: 0;\n",
       "  margin: 0;\n",
       "}\n",
       "\n",
       ".xr-dim-list:before {\n",
       "  content: '(';\n",
       "}\n",
       "\n",
       ".xr-dim-list:after {\n",
       "  content: ')';\n",
       "}\n",
       "\n",
       ".xr-dim-list li:not(:last-child):after {\n",
       "  content: ',';\n",
       "  padding-right: 5px;\n",
       "}\n",
       "\n",
       ".xr-has-index {\n",
       "  font-weight: bold;\n",
       "}\n",
       "\n",
       ".xr-var-list,\n",
       ".xr-var-item {\n",
       "  display: contents;\n",
       "}\n",
       "\n",
       ".xr-var-item > div,\n",
       ".xr-var-item label,\n",
       ".xr-var-item > .xr-var-name span {\n",
       "  background-color: var(--xr-background-color-row-even);\n",
       "  margin-bottom: 0;\n",
       "}\n",
       "\n",
       ".xr-var-item > .xr-var-name:hover span {\n",
       "  padding-right: 5px;\n",
       "}\n",
       "\n",
       ".xr-var-list > li:nth-child(odd) > div,\n",
       ".xr-var-list > li:nth-child(odd) > label,\n",
       ".xr-var-list > li:nth-child(odd) > .xr-var-name span {\n",
       "  background-color: var(--xr-background-color-row-odd);\n",
       "}\n",
       "\n",
       ".xr-var-name {\n",
       "  grid-column: 1;\n",
       "}\n",
       "\n",
       ".xr-var-dims {\n",
       "  grid-column: 2;\n",
       "}\n",
       "\n",
       ".xr-var-dtype {\n",
       "  grid-column: 3;\n",
       "  text-align: right;\n",
       "  color: var(--xr-font-color2);\n",
       "}\n",
       "\n",
       ".xr-var-preview {\n",
       "  grid-column: 4;\n",
       "}\n",
       "\n",
       ".xr-var-name,\n",
       ".xr-var-dims,\n",
       ".xr-var-dtype,\n",
       ".xr-preview,\n",
       ".xr-attrs dt {\n",
       "  white-space: nowrap;\n",
       "  overflow: hidden;\n",
       "  text-overflow: ellipsis;\n",
       "  padding-right: 10px;\n",
       "}\n",
       "\n",
       ".xr-var-name:hover,\n",
       ".xr-var-dims:hover,\n",
       ".xr-var-dtype:hover,\n",
       ".xr-attrs dt:hover {\n",
       "  overflow: visible;\n",
       "  width: auto;\n",
       "  z-index: 1;\n",
       "}\n",
       "\n",
       ".xr-var-attrs,\n",
       ".xr-var-data {\n",
       "  display: none;\n",
       "  background-color: var(--xr-background-color) !important;\n",
       "  padding-bottom: 5px !important;\n",
       "}\n",
       "\n",
       ".xr-var-attrs-in:checked ~ .xr-var-attrs,\n",
       ".xr-var-data-in:checked ~ .xr-var-data {\n",
       "  display: block;\n",
       "}\n",
       "\n",
       ".xr-var-data > table {\n",
       "  float: right;\n",
       "}\n",
       "\n",
       ".xr-var-name span,\n",
       ".xr-var-data,\n",
       ".xr-attrs {\n",
       "  padding-left: 25px !important;\n",
       "}\n",
       "\n",
       ".xr-attrs,\n",
       ".xr-var-attrs,\n",
       ".xr-var-data {\n",
       "  grid-column: 1 / -1;\n",
       "}\n",
       "\n",
       "dl.xr-attrs {\n",
       "  padding: 0;\n",
       "  margin: 0;\n",
       "  display: grid;\n",
       "  grid-template-columns: 125px auto;\n",
       "}\n",
       "\n",
       ".xr-attrs dt,\n",
       ".xr-attrs dd {\n",
       "  padding: 0;\n",
       "  margin: 0;\n",
       "  float: left;\n",
       "  padding-right: 10px;\n",
       "  width: auto;\n",
       "}\n",
       "\n",
       ".xr-attrs dt {\n",
       "  font-weight: normal;\n",
       "  grid-column: 1;\n",
       "}\n",
       "\n",
       ".xr-attrs dt:hover span {\n",
       "  display: inline-block;\n",
       "  background: var(--xr-background-color);\n",
       "  padding-right: 10px;\n",
       "}\n",
       "\n",
       ".xr-attrs dd {\n",
       "  grid-column: 2;\n",
       "  white-space: pre-wrap;\n",
       "  word-break: break-all;\n",
       "}\n",
       "\n",
       ".xr-icon-database,\n",
       ".xr-icon-file-text2 {\n",
       "  display: inline-block;\n",
       "  vertical-align: middle;\n",
       "  width: 1em;\n",
       "  height: 1.5em !important;\n",
       "  stroke-width: 0;\n",
       "  stroke: currentColor;\n",
       "  fill: currentColor;\n",
       "}\n",
       "</style><pre class='xr-text-repr-fallback'>&lt;xarray.Dataset&gt;\n",
       "Dimensions:              (time: 8736, yc: 262, xc: 262)\n",
       "Coordinates:\n",
       "  * xc                   (xc) float64 -2.61e+06 -2.59e+06 ... 2.59e+06 2.61e+06\n",
       "  * yc                   (yc) float64 -1.824e+05 -2.024e+05 ... -5.402e+06\n",
       "    lon                  (yc, xc) float32 122.0 122.0 122.1 ... -126.4 -126.2\n",
       "    lat                  (yc, xc) float32 65.59 65.77 65.95 ... 37.37 37.3 37.24\n",
       "  * time                 (time) datetime64[ns] 1970-01-02 ... 1970-12-31T23:0...\n",
       "Data variables:\n",
       "    q2                   (time, yc, xc) float32 ...\n",
       "    polar_stereographic  |S1 b&#x27;&#x27;\n",
       "Attributes:\n",
       "    creation_date:    Wed Jan 20 13:31:40 AKST 2016\n",
       "    NCL_Version:      6.1.2\n",
       "    system:           Linux m79 2.6.32-431.29.2.el6.658g0000.x86_64 #1 SMP Tu...\n",
       "    Conventions:      None\n",
       "    grib_source:      WRFDS_d01.1970-01-02_00.grib\n",
       "    title:            NCL: convert-GRIB-to-netCDF\n",
       "    reference_time:   1970-01-02 00:00:00\n",
       "    proj_parameters:  +proj=stere +lat_0=90 +lat_ts=90 +lon_0=-150 +k=0.994 +...\n",
       "    restacked_by:     Scenarios Network for Alaska + Arctic Planning -- 2018\n",
       "    SNAP_VERSION:     1.0</pre><div class='xr-wrap' style='display:none'><div class='xr-header'><div class='xr-obj-type'>xarray.Dataset</div></div><ul class='xr-sections'><li class='xr-section-item'><input id='section-4002b2cd-af28-4793-9382-34ce8075b220' class='xr-section-summary-in' type='checkbox' disabled ><label for='section-4002b2cd-af28-4793-9382-34ce8075b220' class='xr-section-summary'  title='Expand/collapse section'>Dimensions:</label><div class='xr-section-inline-details'><ul class='xr-dim-list'><li><span class='xr-has-index'>time</span>: 8736</li><li><span class='xr-has-index'>yc</span>: 262</li><li><span class='xr-has-index'>xc</span>: 262</li></ul></div><div class='xr-section-details'></div></li><li class='xr-section-item'><input id='section-0312a593-5256-4fca-a06d-d7ba837ca31f' class='xr-section-summary-in' type='checkbox'  checked><label for='section-0312a593-5256-4fca-a06d-d7ba837ca31f' class='xr-section-summary' >Coordinates: <span>(5)</span></label><div class='xr-section-inline-details'></div><div class='xr-section-details'><ul class='xr-var-list'><li class='xr-var-item'><div class='xr-var-name'><span class='xr-has-index'>xc</span></div><div class='xr-var-dims'>(xc)</div><div class='xr-var-dtype'>float64</div><div class='xr-var-preview xr-preview'>-2.61e+06 -2.59e+06 ... 2.61e+06</div><input id='attrs-c94d5e11-31b2-49c8-9340-ee799d95533d' class='xr-var-attrs-in' type='checkbox' ><label for='attrs-c94d5e11-31b2-49c8-9340-ee799d95533d' title='Show/Hide attributes'><svg class='icon xr-icon-file-text2'><use xlink:href='#icon-file-text2'></use></svg></label><input id='data-7ad75784-7756-432d-b3c3-694527e45fad' class='xr-var-data-in' type='checkbox'><label for='data-7ad75784-7756-432d-b3c3-694527e45fad' title='Show/Hide data repr'><svg class='icon xr-icon-database'><use xlink:href='#icon-database'></use></svg></label><div class='xr-var-attrs'><dl class='xr-attrs'><dt><span>standard_name :</span></dt><dd>projection_x_coordinate</dd><dt><span>units :</span></dt><dd>m</dd></dl></div><div class='xr-var-data'><pre>array([-2610000., -2590000., -2570000., ...,  2570000.,  2590000.,  2610000.])</pre></div></li><li class='xr-var-item'><div class='xr-var-name'><span class='xr-has-index'>yc</span></div><div class='xr-var-dims'>(yc)</div><div class='xr-var-dtype'>float64</div><div class='xr-var-preview xr-preview'>-1.824e+05 ... -5.402e+06</div><input id='attrs-39f35c61-7156-450b-8824-c0d9e2170fbe' class='xr-var-attrs-in' type='checkbox' ><label for='attrs-39f35c61-7156-450b-8824-c0d9e2170fbe' title='Show/Hide attributes'><svg class='icon xr-icon-file-text2'><use xlink:href='#icon-file-text2'></use></svg></label><input id='data-0cbb2466-8b92-4e20-8365-7f97818dfdad' class='xr-var-data-in' type='checkbox'><label for='data-0cbb2466-8b92-4e20-8365-7f97818dfdad' title='Show/Hide data repr'><svg class='icon xr-icon-database'><use xlink:href='#icon-database'></use></svg></label><div class='xr-var-attrs'><dl class='xr-attrs'><dt><span>standard_name :</span></dt><dd>projection_y_coordinate</dd><dt><span>units :</span></dt><dd>m</dd></dl></div><div class='xr-var-data'><pre>array([ -182425.477372,  -202425.477372,  -222425.477372, ..., -5362425.477372,\n",
       "       -5382425.477372, -5402425.477372])</pre></div></li><li class='xr-var-item'><div class='xr-var-name'><span>lon</span></div><div class='xr-var-dims'>(yc, xc)</div><div class='xr-var-dtype'>float32</div><div class='xr-var-preview xr-preview'>...</div><input id='attrs-9e6ccaec-e527-4e5c-a23f-aad7999eaba5' class='xr-var-attrs-in' type='checkbox' ><label for='attrs-9e6ccaec-e527-4e5c-a23f-aad7999eaba5' title='Show/Hide attributes'><svg class='icon xr-icon-file-text2'><use xlink:href='#icon-file-text2'></use></svg></label><input id='data-c16f755d-e259-4487-b943-04c22ccaa049' class='xr-var-data-in' type='checkbox'><label for='data-c16f755d-e259-4487-b943-04c22ccaa049' title='Show/Hide data repr'><svg class='icon xr-icon-database'><use xlink:href='#icon-database'></use></svg></label><div class='xr-var-attrs'><dl class='xr-attrs'><dt><span>long_name :</span></dt><dd>Longitude</dd><dt><span>units :</span></dt><dd>degrees</dd><dt><span>grid_notes :</span></dt><dd>irregular grid representing centroids of locations in Cartesian grid ofPolar Stereographic in the Geographic WGS84 coordinates. These come directly from WRF.</dd></dl></div><div class='xr-var-data'><pre>array([[ 122.017746,  122.04866 ,  122.080055, ...,  -66.08149 ,  -66.05007 ,\n",
       "         -66.019135],\n",
       "       [ 122.45432 ,  122.48857 ,  122.52335 , ...,  -66.52495 ,  -66.49014 ,\n",
       "         -66.455864],\n",
       "       [ 122.89038 ,  122.927956,  122.96611 , ...,  -66.96785 ,  -66.92967 ,\n",
       "         -66.892075],\n",
       "       ...,\n",
       "       [-177.95314 , -177.78015 , -177.60664 , ..., -126.40124 , -126.227715,\n",
       "        -126.0547  ],\n",
       "       [-177.86931 , -177.69673 , -177.52364 , ..., -126.48424 , -126.31112 ,\n",
       "        -126.138504],\n",
       "       [-177.786   , -177.6138  , -177.44112 , ..., -126.566734, -126.39402 ,\n",
       "        -126.22181 ]], dtype=float32)</pre></div></li><li class='xr-var-item'><div class='xr-var-name'><span>lat</span></div><div class='xr-var-dims'>(yc, xc)</div><div class='xr-var-dtype'>float32</div><div class='xr-var-preview xr-preview'>...</div><input id='attrs-776c5d6c-30f5-4089-9396-35c76ef15f12' class='xr-var-attrs-in' type='checkbox' ><label for='attrs-776c5d6c-30f5-4089-9396-35c76ef15f12' title='Show/Hide attributes'><svg class='icon xr-icon-file-text2'><use xlink:href='#icon-file-text2'></use></svg></label><input id='data-abf158f2-f068-4559-81dc-e6d352219143' class='xr-var-data-in' type='checkbox'><label for='data-abf158f2-f068-4559-81dc-e6d352219143' title='Show/Hide data repr'><svg class='icon xr-icon-database'><use xlink:href='#icon-database'></use></svg></label><div class='xr-var-attrs'><dl class='xr-attrs'><dt><span>long_name :</span></dt><dd>Latitude</dd><dt><span>units :</span></dt><dd>degrees</dd><dt><span>grid_notes :</span></dt><dd>irregular grid representing centroids of locations in Cartesian grid ofPolar Stereographic in the Geographic WGS84 coordinates. These come directly from WRF.</dd></dl></div><div class='xr-var-data'><pre>array([[65.58805 , 65.76864 , 65.94935 , ..., 65.95755 , 65.77684 , 65.59624 ],\n",
       "       [65.57468 , 65.75516 , 65.93575 , ..., 65.943954, 65.76335 , 65.58286 ],\n",
       "       [65.55994 , 65.740295, 65.92076 , ..., 65.928955, 65.74848 , 65.568115],\n",
       "       ...,\n",
       "       [37.506927, 37.573433, 37.639565, ..., 37.642555, 37.576443, 37.509953],\n",
       "       [37.369934, 37.43616 , 37.50201 , ..., 37.504993, 37.439156, 37.372944],\n",
       "       [37.233   , 37.29895 , 37.364525, ..., 37.367493, 37.301937, 37.236   ]],\n",
       "      dtype=float32)</pre></div></li><li class='xr-var-item'><div class='xr-var-name'><span class='xr-has-index'>time</span></div><div class='xr-var-dims'>(time)</div><div class='xr-var-dtype'>datetime64[ns]</div><div class='xr-var-preview xr-preview'>1970-01-02 ... 1970-12-31T23:00:00</div><input id='attrs-28608110-62dd-470e-bfbd-3761154a62fc' class='xr-var-attrs-in' type='checkbox' ><label for='attrs-28608110-62dd-470e-bfbd-3761154a62fc' title='Show/Hide attributes'><svg class='icon xr-icon-file-text2'><use xlink:href='#icon-file-text2'></use></svg></label><input id='data-5642380e-daf4-4f07-94ad-b7a023fe0350' class='xr-var-data-in' type='checkbox'><label for='data-5642380e-daf4-4f07-94ad-b7a023fe0350' title='Show/Hide data repr'><svg class='icon xr-icon-database'><use xlink:href='#icon-database'></use></svg></label><div class='xr-var-attrs'><dl class='xr-attrs'><dt><span>time zone :</span></dt><dd>UTC</dd></dl></div><div class='xr-var-data'><pre>array([&#x27;1970-01-02T00:00:00.000000000&#x27;, &#x27;1970-01-02T01:00:00.000000000&#x27;,\n",
       "       &#x27;1970-01-02T02:00:00.000000000&#x27;, ..., &#x27;1970-12-31T21:00:00.000000000&#x27;,\n",
       "       &#x27;1970-12-31T22:00:00.000000000&#x27;, &#x27;1970-12-31T23:00:00.000000000&#x27;],\n",
       "      dtype=&#x27;datetime64[ns]&#x27;)</pre></div></li></ul></div></li><li class='xr-section-item'><input id='section-66d80fe8-07fc-4523-a1d0-9732fbc6ff63' class='xr-section-summary-in' type='checkbox'  checked><label for='section-66d80fe8-07fc-4523-a1d0-9732fbc6ff63' class='xr-section-summary' >Data variables: <span>(2)</span></label><div class='xr-section-inline-details'></div><div class='xr-section-details'><ul class='xr-var-list'><li class='xr-var-item'><div class='xr-var-name'><span>q2</span></div><div class='xr-var-dims'>(time, yc, xc)</div><div class='xr-var-dtype'>float32</div><div class='xr-var-preview xr-preview'>...</div><input id='attrs-0af7b4c0-466d-4cf3-9d42-e86ce7c9a248' class='xr-var-attrs-in' type='checkbox' ><label for='attrs-0af7b4c0-466d-4cf3-9d42-e86ce7c9a248' title='Show/Hide attributes'><svg class='icon xr-icon-file-text2'><use xlink:href='#icon-file-text2'></use></svg></label><input id='data-0acd09f6-024a-46f4-9428-86da00631349' class='xr-var-data-in' type='checkbox'><label for='data-0acd09f6-024a-46f4-9428-86da00631349' title='Show/Hide data repr'><svg class='icon xr-icon-database'><use xlink:href='#icon-database'></use></svg></label><div class='xr-var-attrs'><dl class='xr-attrs'><dt><span>long_name :</span></dt><dd>Specific humidity at 2m height</dd><dt><span>units :</span></dt><dd>kg/kg</dd><dt><span>coordinates_ :</span></dt><dd>xc yc</dd><dt><span>temporal_resampling :</span></dt><dd>None: these data represent hourly outputs from wrf dynamical downscaling.</dd><dt><span>grid_mapping :</span></dt><dd>polar_stereographic</dd></dl></div><div class='xr-var-data'><pre>[599673984 values with dtype=float32]</pre></div></li><li class='xr-var-item'><div class='xr-var-name'><span>polar_stereographic</span></div><div class='xr-var-dims'>()</div><div class='xr-var-dtype'>|S1</div><div class='xr-var-preview xr-preview'>...</div><input id='attrs-988cea93-d62d-44c2-8c0e-f680d18105de' class='xr-var-attrs-in' type='checkbox' ><label for='attrs-988cea93-d62d-44c2-8c0e-f680d18105de' title='Show/Hide attributes'><svg class='icon xr-icon-file-text2'><use xlink:href='#icon-file-text2'></use></svg></label><input id='data-7b62b852-e31b-4857-a25b-c4f180ab2725' class='xr-var-data-in' type='checkbox'><label for='data-7b62b852-e31b-4857-a25b-c4f180ab2725' title='Show/Hide data repr'><svg class='icon xr-icon-database'><use xlink:href='#icon-database'></use></svg></label><div class='xr-var-attrs'><dl class='xr-attrs'><dt><span>crs_wkt :</span></dt><dd>PROJCRS[&quot;unknown&quot;,BASEGEOGCRS[&quot;unknown&quot;,DATUM[&quot;unknown&quot;,ELLIPSOID[&quot;unknown&quot;,6370000,0,LENGTHUNIT[&quot;metre&quot;,1,ID[&quot;EPSG&quot;,9001]]]],PRIMEM[&quot;Greenwich&quot;,0,ANGLEUNIT[&quot;degree&quot;,0.0174532925199433],ID[&quot;EPSG&quot;,8901]]],CONVERSION[&quot;unknown&quot;,METHOD[&quot;Polar Stereographic (variant B)&quot;,ID[&quot;EPSG&quot;,9829]],PARAMETER[&quot;Latitude of standard parallel&quot;,64,ANGLEUNIT[&quot;degree&quot;,0.0174532925199433],ID[&quot;EPSG&quot;,8832]],PARAMETER[&quot;Longitude of origin&quot;,-152,ANGLEUNIT[&quot;degree&quot;,0.0174532925199433],ID[&quot;EPSG&quot;,8833]],PARAMETER[&quot;False easting&quot;,0,LENGTHUNIT[&quot;metre&quot;,1],ID[&quot;EPSG&quot;,8806]],PARAMETER[&quot;False northing&quot;,0,LENGTHUNIT[&quot;metre&quot;,1],ID[&quot;EPSG&quot;,8807]]],CS[Cartesian,2],AXIS[&quot;(E)&quot;,south,MERIDIAN[90,ANGLEUNIT[&quot;degree&quot;,0.0174532925199433,ID[&quot;EPSG&quot;,9122]]],ORDER[1],LENGTHUNIT[&quot;metre&quot;,1,ID[&quot;EPSG&quot;,9001]]],AXIS[&quot;(N)&quot;,south,MERIDIAN[180,ANGLEUNIT[&quot;degree&quot;,0.0174532925199433,ID[&quot;EPSG&quot;,9122]]],ORDER[2],LENGTHUNIT[&quot;metre&quot;,1,ID[&quot;EPSG&quot;,9001]]]]</dd><dt><span>semi_major_axis :</span></dt><dd>6370000.0</dd><dt><span>semi_minor_axis :</span></dt><dd>6370000.0</dd><dt><span>inverse_flattening :</span></dt><dd>0.0</dd><dt><span>reference_ellipsoid_name :</span></dt><dd>unknown</dd><dt><span>longitude_of_prime_meridian :</span></dt><dd>0.0</dd><dt><span>prime_meridian_name :</span></dt><dd>Greenwich</dd><dt><span>geographic_crs_name :</span></dt><dd>unknown</dd><dt><span>horizontal_datum_name :</span></dt><dd>unknown</dd><dt><span>projected_crs_name :</span></dt><dd>unknown</dd><dt><span>grid_mapping_name :</span></dt><dd>polar_stereographic</dd><dt><span>standard_parallel :</span></dt><dd>64.0</dd><dt><span>straight_vertical_longitude_from_pole :</span></dt><dd>-152.0</dd><dt><span>false_easting :</span></dt><dd>0.0</dd><dt><span>false_northing :</span></dt><dd>0.0</dd></dl></div><div class='xr-var-data'><pre>array(b&#x27;&#x27;, dtype=&#x27;|S1&#x27;)</pre></div></li></ul></div></li><li class='xr-section-item'><input id='section-b34c9ddc-9465-4f24-9b14-a3f1c794088e' class='xr-section-summary-in' type='checkbox'  ><label for='section-b34c9ddc-9465-4f24-9b14-a3f1c794088e' class='xr-section-summary' >Attributes: <span>(10)</span></label><div class='xr-section-inline-details'></div><div class='xr-section-details'><dl class='xr-attrs'><dt><span>creation_date :</span></dt><dd>Wed Jan 20 13:31:40 AKST 2016</dd><dt><span>NCL_Version :</span></dt><dd>6.1.2</dd><dt><span>system :</span></dt><dd>Linux m79 2.6.32-431.29.2.el6.658g0000.x86_64 #1 SMP Tue Sep 9 23:59:51 EDT 2014 x86_64 x86_64 x86_64 GNU/Linux</dd><dt><span>Conventions :</span></dt><dd>None</dd><dt><span>grib_source :</span></dt><dd>WRFDS_d01.1970-01-02_00.grib</dd><dt><span>title :</span></dt><dd>NCL: convert-GRIB-to-netCDF</dd><dt><span>reference_time :</span></dt><dd>1970-01-02 00:00:00</dd><dt><span>proj_parameters :</span></dt><dd>+proj=stere +lat_0=90 +lat_ts=90 +lon_0=-150 +k=0.994 +x_0=2000000 +y_0=2000000 +datum=WGS84 +units=m +no_defs</dd><dt><span>restacked_by :</span></dt><dd>Scenarios Network for Alaska + Arctic Planning -- 2018</dd><dt><span>SNAP_VERSION :</span></dt><dd>1.0</dd></dl></div></li></ul></div></div>"
      ],
      "text/plain": [
       "<xarray.Dataset>\n",
       "Dimensions:              (time: 8736, yc: 262, xc: 262)\n",
       "Coordinates:\n",
       "  * xc                   (xc) float64 -2.61e+06 -2.59e+06 ... 2.59e+06 2.61e+06\n",
       "  * yc                   (yc) float64 -1.824e+05 -2.024e+05 ... -5.402e+06\n",
       "    lon                  (yc, xc) float32 ...\n",
       "    lat                  (yc, xc) float32 ...\n",
       "  * time                 (time) datetime64[ns] 1970-01-02 ... 1970-12-31T23:0...\n",
       "Data variables:\n",
       "    q2                   (time, yc, xc) float32 ...\n",
       "    polar_stereographic  |S1 ...\n",
       "Attributes:\n",
       "    creation_date:    Wed Jan 20 13:31:40 AKST 2016\n",
       "    NCL_Version:      6.1.2\n",
       "    system:           Linux m79 2.6.32-431.29.2.el6.658g0000.x86_64 #1 SMP Tu...\n",
       "    Conventions:      None\n",
       "    grib_source:      WRFDS_d01.1970-01-02_00.grib\n",
       "    title:            NCL: convert-GRIB-to-netCDF\n",
       "    reference_time:   1970-01-02 00:00:00\n",
       "    proj_parameters:  +proj=stere +lat_0=90 +lat_ts=90 +lon_0=-150 +k=0.994 +...\n",
       "    restacked_by:     Scenarios Network for Alaska + Arctic Planning -- 2018\n",
       "    SNAP_VERSION:     1.0"
      ]
     },
     "execution_count": 86,
     "metadata": {},
     "output_type": "execute_result"
    }
   ],
   "source": [
    "ds"
   ]
  },
  {
   "cell_type": "code",
   "execution_count": 25,
   "id": "2ff62400-757b-4294-bc18-749c226609d1",
   "metadata": {},
   "outputs": [
    {
     "data": {
      "text/plain": [
       "True"
      ]
     },
     "execution_count": 25,
     "metadata": {},
     "output_type": "execute_result"
    }
   ],
   "source": [
    "np.all(check_arr == fix_arr)"
   ]
  },
  {
   "cell_type": "code",
   "execution_count": 55,
   "id": "f31f4d3f-9294-460e-b9b6-9bda1e432de4",
   "metadata": {},
   "outputs": [],
   "source": [
    "year = check_time.astype(\"datetime64[Y]\")\n",
    "wrf_time_str = str(check_time.astype(\"datetime64[h]\")).replace(\"T\", \"_\")\n",
    "#wrf_time_str = \"1970-01-02_11\"\n",
    "raw_arr = []\n",
    "wrf_times = []\n",
    "for day in [\"02\", \"03\"]:\n",
    "    for i in range(24):\n",
    "        wrf_time_str = f\"1970-01-{day}_{str(i).zfill(2)}\"\n",
    "        wrf_times.append(wrf_time_str)\n",
    "        raw_fp = list(raw_scratch_dir.joinpath(f\"{group}/{year}\").glob(f\"*{wrf_time_str}*\"))[0]\n",
    "        with xr.open_dataset(raw_fp) as ds:\n",
    "            raw_arr.append(ds[\"PCPT\"].values[-3, -3])\n"
   ]
  },
  {
   "cell_type": "code",
   "execution_count": null,
   "id": "1e3f8319-d8bd-4482-88ab-a5cb841b3e06",
   "metadata": {},
   "outputs": [],
   "source": []
  },
  {
   "cell_type": "markdown",
   "id": "384c3f7a-ccaf-4abd-81d2-8a8a938d157f",
   "metadata": {},
   "source": [
    "## 3 - Manage files\n",
    "\n",
    "### 3.1 - Move off scratch space\n",
    "\n",
    "### 3.2 - Copy to AWS"
   ]
  },
  {
   "cell_type": "code",
   "execution_count": 28,
   "id": "569efb49-d214-4ad3-856f-f2865ac7dfde",
   "metadata": {},
   "outputs": [
    {
     "name": "stdout",
     "output_type": "stream",
     "text": [
      "total 728350\n",
      "-rw------- 1 kmredilla dyndown 745440375 Apr 15 17:39 pcpt_hourly_wrf_NCAR-CCSM4_historical_1970.nc\n"
     ]
    }
   ],
   "source": [
    "ls /center1/DYNDOWN/kmredilla/wrf_data/restacked/pcpt -l"
   ]
  },
  {
   "cell_type": "code",
   "execution_count": 39,
   "id": "1e5f9446-4b93-472a-9237-8ff439756ad6",
   "metadata": {},
   "outputs": [
    {
     "name": "stdout",
     "output_type": "stream",
     "text": [
      "/center1/DYNDOWN/kmredilla/wrf_data/raw/ccsm_hist/1970/WRFDS_d01.1970-02-01_00.nc\n",
      "/center1/DYNDOWN/kmredilla/wrf_data/raw/ccsm_hist/1970/WRFDS_d01.1970-02-01_01.nc\n",
      "/center1/DYNDOWN/kmredilla/wrf_data/raw/ccsm_hist/1970/WRFDS_d01.1970-02-01_02.nc\n",
      "/center1/DYNDOWN/kmredilla/wrf_data/raw/ccsm_hist/1970/WRFDS_d01.1970-02-01_03.nc\n",
      "/center1/DYNDOWN/kmredilla/wrf_data/raw/ccsm_hist/1970/WRFDS_d01.1970-02-01_04.nc\n",
      "/center1/DYNDOWN/kmredilla/wrf_data/raw/ccsm_hist/1970/WRFDS_d01.1970-02-01_05.nc\n",
      "/center1/DYNDOWN/kmredilla/wrf_data/raw/ccsm_hist/1970/WRFDS_d01.1970-02-01_06.nc\n",
      "/center1/DYNDOWN/kmredilla/wrf_data/raw/ccsm_hist/1970/WRFDS_d01.1970-02-01_07.nc\n",
      "/center1/DYNDOWN/kmredilla/wrf_data/raw/ccsm_hist/1970/WRFDS_d01.1970-02-01_08.nc\n",
      "/center1/DYNDOWN/kmredilla/wrf_data/raw/ccsm_hist/1970/WRFDS_d01.1970-02-01_09.nc\n",
      "/center1/DYNDOWN/kmredilla/wrf_data/raw/ccsm_hist/1970/WRFDS_d01.1970-02-01_10.nc\n",
      "/center1/DYNDOWN/kmredilla/wrf_data/raw/ccsm_hist/1970/WRFDS_d01.1970-02-01_11.nc\n",
      "/center1/DYNDOWN/kmredilla/wrf_data/raw/ccsm_hist/1970/WRFDS_d01.1970-02-01_12.nc\n",
      "/center1/DYNDOWN/kmredilla/wrf_data/raw/ccsm_hist/1970/WRFDS_d01.1970-02-01_13.nc\n",
      "/center1/DYNDOWN/kmredilla/wrf_data/raw/ccsm_hist/1970/WRFDS_d01.1970-02-01_14.nc\n",
      "/center1/DYNDOWN/kmredilla/wrf_data/raw/ccsm_hist/1970/WRFDS_d01.1970-02-01_15.nc\n",
      "/center1/DYNDOWN/kmredilla/wrf_data/raw/ccsm_hist/1970/WRFDS_d01.1970-02-01_16.nc\n",
      "/center1/DYNDOWN/kmredilla/wrf_data/raw/ccsm_hist/1970/WRFDS_d01.1970-02-01_17.nc\n",
      "/center1/DYNDOWN/kmredilla/wrf_data/raw/ccsm_hist/1970/WRFDS_d01.1970-02-01_18.nc\n",
      "/center1/DYNDOWN/kmredilla/wrf_data/raw/ccsm_hist/1970/WRFDS_d01.1970-02-01_19.nc\n",
      "/center1/DYNDOWN/kmredilla/wrf_data/raw/ccsm_hist/1970/WRFDS_d01.1970-02-01_20.nc\n",
      "/center1/DYNDOWN/kmredilla/wrf_data/raw/ccsm_hist/1970/WRFDS_d01.1970-02-01_21.nc\n",
      "/center1/DYNDOWN/kmredilla/wrf_data/raw/ccsm_hist/1970/WRFDS_d01.1970-02-01_22.nc\n",
      "/center1/DYNDOWN/kmredilla/wrf_data/raw/ccsm_hist/1970/WRFDS_d01.1970-02-01_23.nc\n"
     ]
    }
   ],
   "source": [
    "ls /center1/DYNDOWN/kmredilla/wrf_data/raw/ccsm_hist/1970/*1970-02-01*"
   ]
  },
  {
   "cell_type": "code",
   "execution_count": null,
   "id": "51b2bdcf-8e02-4439-a245-1984bae8bc3e",
   "metadata": {},
   "outputs": [],
   "source": []
  }
 ],
 "metadata": {
  "kernelspec": {
   "display_name": "Python 3 (ipykernel)",
   "language": "python",
   "name": "python3"
  },
  "language_info": {
   "codemirror_mode": {
    "name": "ipython",
    "version": 3
   },
   "file_extension": ".py",
   "mimetype": "text/x-python",
   "name": "python",
   "nbconvert_exporter": "python",
   "pygments_lexer": "ipython3",
   "version": "3.8.3"
  }
 },
 "nbformat": 4,
 "nbformat_minor": 5
}
