{
 "cells": [
  {
   "cell_type": "markdown",
   "id": "edca695b-b5ae-48aa-8b9c-224cb75272a2",
   "metadata": {},
   "source": [
    "# Quality control on restacked 20km outputs\n",
    "\n",
    "Here we will run some quality checks on the newly restacked hourly and daily WRF outputs.\n",
    "\n",
    "Set up the environment:"
   ]
  },
  {
   "cell_type": "code",
   "execution_count": 8,
   "id": "022be200-753f-4610-a991-70fd9737fa2e",
   "metadata": {},
   "outputs": [],
   "source": [
    "import time\n",
    "from multiprocessing import Pool\n",
    "import numpy as np\n",
    "import pandas as pd\n",
    "import tqdm\n",
    "# project imports\n",
    "from config import *\n",
    "import luts\n",
    "import restack_20km as main"
   ]
  },
  {
   "cell_type": "markdown",
   "id": "5462eaa7-4d0b-4914-9c33-da0936801587",
   "metadata": {},
   "source": [
    "### 1 - Ensure that the restacked files have expected data\n",
    "\n",
    "Here we will use the `restack_20km.validate_restacked_file` function to do ensure that ALL* files:\n",
    "\n",
    "* have the correct data, by checking a random time slice against the original WRF output file (done inside function)\n",
    "* have the correct metadata\n",
    "* ensure that all files open correctly, which is done via completion of the first two bullet points\n",
    "\n",
    "...for all relevant variables.\n",
    "\n",
    "**Note** - accumulation and wind variables will not be expected to match raw data.\n",
    "\n",
    "Get all of the new file paths and set up for `Pool`-ing:"
   ]
  },
  {
   "cell_type": "code",
   "execution_count": 4,
   "id": "d009731d-ef7b-475e-9394-47254da49090",
   "metadata": {},
   "outputs": [],
   "source": [
    "group_fn_str = luts.groups[group][\"fn_str\"]\n",
    "all_wrf_fps = list(restack_scratch_dir.glob(f\"*/*{group_fn_str}*.nc\"))\n",
    "args = [(fp, raw_scratch_dir) for fp in all_wrf_fps]\n",
    "# set random seed\n",
    "np.random.seed(907)"
   ]
  },
  {
   "cell_type": "markdown",
   "id": "fe47eff8-edcb-4e71-9ce7-880da9f5ecd0",
   "metadata": {},
   "source": [
    "and run `validate_restacked_file` on them:"
   ]
  },
  {
   "cell_type": "code",
   "execution_count": 6,
   "id": "7372d746-ae14-47c2-86d8-4200dcbb91c5",
   "metadata": {},
   "outputs": [
    {
     "name": "stderr",
     "output_type": "stream",
     "text": [
      "100%|██████████████████████████████████████████████████████████████████████████████████████████████████████████████| 1656/1656 [06:51<00:00,  4.02it/s]"
     ]
    },
    {
     "name": "stdout",
     "output_type": "stream",
     "text": [
      "Time elapsed: 7m\n"
     ]
    },
    {
     "name": "stderr",
     "output_type": "stream",
     "text": [
      "\n"
     ]
    }
   ],
   "source": [
    "tic = time.perf_counter()\n",
    "\n",
    "with Pool(20) as pool:\n",
    "    new_rows = [\n",
    "        result for result in tqdm.tqdm(\n",
    "            pool.imap_unordered(main.validate_restacked_file, args), total=len(args))\n",
    "    ]\n",
    "\n",
    "print(f\"Time elapsed: {round((time.perf_counter() - tic) / 60)}m\")"
   ]
  },
  {
   "cell_type": "markdown",
   "id": "a5b92fa0-13d7-4d17-b6d8-0a17f48ffb08",
   "metadata": {},
   "source": [
    "Put results into a dataframe:"
   ]
  },
  {
   "cell_type": "code",
   "execution_count": 9,
   "id": "c3c66c9f-02d9-4b0f-9626-a749315933dd",
   "metadata": {},
   "outputs": [
    {
     "data": {
      "text/html": [
       "<div>\n",
       "<style scoped>\n",
       "    .dataframe tbody tr th:only-of-type {\n",
       "        vertical-align: middle;\n",
       "    }\n",
       "\n",
       "    .dataframe tbody tr th {\n",
       "        vertical-align: top;\n",
       "    }\n",
       "\n",
       "    .dataframe thead th {\n",
       "        text-align: right;\n",
       "    }\n",
       "</style>\n",
       "<table border=\"1\" class=\"dataframe\">\n",
       "  <thead>\n",
       "    <tr style=\"text-align: right;\">\n",
       "      <th></th>\n",
       "      <th>model</th>\n",
       "      <th>scenario</th>\n",
       "      <th>variable</th>\n",
       "      <th>timestamp</th>\n",
       "      <th>match</th>\n",
       "      <th>meta</th>\n",
       "    </tr>\n",
       "  </thead>\n",
       "  <tbody>\n",
       "    <tr>\n",
       "      <th>0</th>\n",
       "      <td>NCAR-CCSM4</td>\n",
       "      <td>historical</td>\n",
       "      <td>snow</td>\n",
       "      <td>1999-12-03_16</td>\n",
       "      <td>True</td>\n",
       "      <td>{'time': {'time zone': 'UTC'}, 'lat': {'standa...</td>\n",
       "    </tr>\n",
       "    <tr>\n",
       "      <th>1</th>\n",
       "      <td>NCAR-CCSM4</td>\n",
       "      <td>historical</td>\n",
       "      <td>snow</td>\n",
       "      <td>1978-12-03_16</td>\n",
       "      <td>True</td>\n",
       "      <td>{'time': {'time zone': 'UTC'}, 'lat': {'standa...</td>\n",
       "    </tr>\n",
       "    <tr>\n",
       "      <th>2</th>\n",
       "      <td>NCAR-CCSM4</td>\n",
       "      <td>historical</td>\n",
       "      <td>snow</td>\n",
       "      <td>1989-12-03_16</td>\n",
       "      <td>True</td>\n",
       "      <td>{'time': {'time zone': 'UTC'}, 'lat': {'standa...</td>\n",
       "    </tr>\n",
       "    <tr>\n",
       "      <th>3</th>\n",
       "      <td>NCAR-CCSM4</td>\n",
       "      <td>historical</td>\n",
       "      <td>snow</td>\n",
       "      <td>2002-12-03_16</td>\n",
       "      <td>True</td>\n",
       "      <td>{'time': {'time zone': 'UTC'}, 'lat': {'standa...</td>\n",
       "    </tr>\n",
       "    <tr>\n",
       "      <th>4</th>\n",
       "      <td>NCAR-CCSM4</td>\n",
       "      <td>historical</td>\n",
       "      <td>snow</td>\n",
       "      <td>1979-12-03_16</td>\n",
       "      <td>True</td>\n",
       "      <td>{'time': {'time zone': 'UTC'}, 'lat': {'standa...</td>\n",
       "    </tr>\n",
       "    <tr>\n",
       "      <th>...</th>\n",
       "      <td>...</td>\n",
       "      <td>...</td>\n",
       "      <td>...</td>\n",
       "      <td>...</td>\n",
       "      <td>...</td>\n",
       "      <td>...</td>\n",
       "    </tr>\n",
       "    <tr>\n",
       "      <th>1651</th>\n",
       "      <td>NCAR-CCSM4</td>\n",
       "      <td>historical</td>\n",
       "      <td>slp</td>\n",
       "      <td>1973-07-17_19</td>\n",
       "      <td>True</td>\n",
       "      <td>{'time': {'time zone': 'UTC'}, 'lat': {'standa...</td>\n",
       "    </tr>\n",
       "    <tr>\n",
       "      <th>1652</th>\n",
       "      <td>NCAR-CCSM4</td>\n",
       "      <td>historical</td>\n",
       "      <td>slp</td>\n",
       "      <td>1985-09-17_01</td>\n",
       "      <td>True</td>\n",
       "      <td>{'time': {'time zone': 'UTC'}, 'lat': {'standa...</td>\n",
       "    </tr>\n",
       "    <tr>\n",
       "      <th>1653</th>\n",
       "      <td>NCAR-CCSM4</td>\n",
       "      <td>historical</td>\n",
       "      <td>slp</td>\n",
       "      <td>1984-07-05_08</td>\n",
       "      <td>True</td>\n",
       "      <td>{'time': {'time zone': 'UTC'}, 'lat': {'standa...</td>\n",
       "    </tr>\n",
       "    <tr>\n",
       "      <th>1654</th>\n",
       "      <td>NCAR-CCSM4</td>\n",
       "      <td>historical</td>\n",
       "      <td>slp</td>\n",
       "      <td>1993-11-06_11</td>\n",
       "      <td>True</td>\n",
       "      <td>{'time': {'time zone': 'UTC'}, 'lat': {'standa...</td>\n",
       "    </tr>\n",
       "    <tr>\n",
       "      <th>1655</th>\n",
       "      <td>NCAR-CCSM4</td>\n",
       "      <td>historical</td>\n",
       "      <td>slp</td>\n",
       "      <td>2000-07-18_23</td>\n",
       "      <td>True</td>\n",
       "      <td>{'time': {'time zone': 'UTC'}, 'lat': {'standa...</td>\n",
       "    </tr>\n",
       "  </tbody>\n",
       "</table>\n",
       "<p>1656 rows × 6 columns</p>\n",
       "</div>"
      ],
      "text/plain": [
       "           model    scenario variable      timestamp match  \\\n",
       "0     NCAR-CCSM4  historical     snow  1999-12-03_16  True   \n",
       "1     NCAR-CCSM4  historical     snow  1978-12-03_16  True   \n",
       "2     NCAR-CCSM4  historical     snow  1989-12-03_16  True   \n",
       "3     NCAR-CCSM4  historical     snow  2002-12-03_16  True   \n",
       "4     NCAR-CCSM4  historical     snow  1979-12-03_16  True   \n",
       "...          ...         ...      ...            ...   ...   \n",
       "1651  NCAR-CCSM4  historical      slp  1973-07-17_19  True   \n",
       "1652  NCAR-CCSM4  historical      slp  1985-09-17_01  True   \n",
       "1653  NCAR-CCSM4  historical      slp  1984-07-05_08  True   \n",
       "1654  NCAR-CCSM4  historical      slp  1993-11-06_11  True   \n",
       "1655  NCAR-CCSM4  historical      slp  2000-07-18_23  True   \n",
       "\n",
       "                                                   meta  \n",
       "0     {'time': {'time zone': 'UTC'}, 'lat': {'standa...  \n",
       "1     {'time': {'time zone': 'UTC'}, 'lat': {'standa...  \n",
       "2     {'time': {'time zone': 'UTC'}, 'lat': {'standa...  \n",
       "3     {'time': {'time zone': 'UTC'}, 'lat': {'standa...  \n",
       "4     {'time': {'time zone': 'UTC'}, 'lat': {'standa...  \n",
       "...                                                 ...  \n",
       "1651  {'time': {'time zone': 'UTC'}, 'lat': {'standa...  \n",
       "1652  {'time': {'time zone': 'UTC'}, 'lat': {'standa...  \n",
       "1653  {'time': {'time zone': 'UTC'}, 'lat': {'standa...  \n",
       "1654  {'time': {'time zone': 'UTC'}, 'lat': {'standa...  \n",
       "1655  {'time': {'time zone': 'UTC'}, 'lat': {'standa...  \n",
       "\n",
       "[1656 rows x 6 columns]"
      ]
     },
     "execution_count": 9,
     "metadata": {},
     "output_type": "execute_result"
    }
   ],
   "source": [
    "results_df = pd.DataFrame(new_rows)\n",
    "results_df"
   ]
  },
  {
   "cell_type": "markdown",
   "id": "de0aa3dc-2f42-4711-b2a3-35544a1dc8eb",
   "metadata": {},
   "source": [
    "Where there any mismatches between slices from restacked data and expected raw values? Assert that there were none:"
   ]
  },
  {
   "cell_type": "code",
   "execution_count": 15,
   "id": "2b5374a2-9da8-41db-9511-e5aea828f5d6",
   "metadata": {},
   "outputs": [],
   "source": [
    "assert ~any(results_df[\"match\"] == False)"
   ]
  },
  {
   "cell_type": "markdown",
   "id": "b2208f2e-d454-462d-b27f-a16114a46fda",
   "metadata": {},
   "source": [
    "No mismatches were detected.\n",
    "\n",
    "### 2 - Ensure that restacked files have correct metadata\n",
    "\n",
    "Have a look at the metadata from the first file:"
   ]
  },
  {
   "cell_type": "code",
   "execution_count": 16,
   "id": "f8313c88-9344-4577-90b8-4415b004c3d8",
   "metadata": {},
   "outputs": [
    {
     "data": {
      "text/plain": [
       "{'time': {'time zone': 'UTC'},\n",
       " 'lat': {'standard_name': 'latitude',\n",
       "  'title': 'Latitude',\n",
       "  'units': 'degrees_north',\n",
       "  'valid_max': 90.0,\n",
       "  'valid_min': -90.0},\n",
       " 'lon': {'standard_name': 'longitude',\n",
       "  'title': 'Longitude',\n",
       "  'units': 'degrees_east',\n",
       "  'valid_max': 180.0,\n",
       "  'valid_min': -180.0},\n",
       " 'xc': {'standard_name': 'projection_x_coordinate', 'units': 'm'},\n",
       " 'xc_shape': (262,),\n",
       " 'yc': {'standard_name': 'projection_y_coordinate', 'units': 'm'},\n",
       " 'yc_shape': (262,),\n",
       " 'crs': {'crs_wkt': 'PROJCRS[\"unknown\",BASEGEOGCRS[\"unknown\",DATUM[\"unknown\",ELLIPSOID[\"unknown\",6370000,0,LENGTHUNIT[\"metre\",1,ID[\"EPSG\",9001]]]],PRIMEM[\"Greenwich\",0,ANGLEUNIT[\"degree\",0.0174532925199433],ID[\"EPSG\",8901]]],CONVERSION[\"unknown\",METHOD[\"Polar Stereographic (variant B)\",ID[\"EPSG\",9829]],PARAMETER[\"Latitude of standard parallel\",64,ANGLEUNIT[\"degree\",0.0174532925199433],ID[\"EPSG\",8832]],PARAMETER[\"Longitude of origin\",-152,ANGLEUNIT[\"degree\",0.0174532925199433],ID[\"EPSG\",8833]],PARAMETER[\"False easting\",0,LENGTHUNIT[\"metre\",1],ID[\"EPSG\",8806]],PARAMETER[\"False northing\",0,LENGTHUNIT[\"metre\",1],ID[\"EPSG\",8807]]],CS[Cartesian,2],AXIS[\"(E)\",south,MERIDIAN[90,ANGLEUNIT[\"degree\",0.0174532925199433,ID[\"EPSG\",9122]]],ORDER[1],LENGTHUNIT[\"metre\",1,ID[\"EPSG\",9001]]],AXIS[\"(N)\",south,MERIDIAN[180,ANGLEUNIT[\"degree\",0.0174532925199433,ID[\"EPSG\",9122]]],ORDER[2],LENGTHUNIT[\"metre\",1,ID[\"EPSG\",9001]]]]',\n",
       "  'semi_major_axis': 6370000.0,\n",
       "  'semi_minor_axis': 6370000.0,\n",
       "  'inverse_flattening': 0.0,\n",
       "  'reference_ellipsoid_name': 'unknown',\n",
       "  'longitude_of_prime_meridian': 0.0,\n",
       "  'prime_meridian_name': 'Greenwich',\n",
       "  'geographic_crs_name': 'unknown',\n",
       "  'horizontal_datum_name': 'unknown',\n",
       "  'projected_crs_name': 'unknown',\n",
       "  'grid_mapping_name': 'polar_stereographic',\n",
       "  'standard_parallel': 64.0,\n",
       "  'straight_vertical_longitude_from_pole': -152.0,\n",
       "  'false_easting': 0.0,\n",
       "  'false_northing': 0.0},\n",
       " 'global': {'proj_parameters': '+proj=stere +units=m +a=6370000.0 +b=6370000.0 +lat_0=90.0 +lon_0=-152.0 +lat_ts=64.0',\n",
       "  'restacked_by': 'Scenarios Network for Alaska + Arctic Planning -- 2022',\n",
       "  'version': '1.1'}}"
      ]
     },
     "execution_count": 16,
     "metadata": {},
     "output_type": "execute_result"
    }
   ],
   "source": [
    "results_df.iloc[0][\"meta\"]"
   ]
  },
  {
   "cell_type": "markdown",
   "id": "61ecf110-38c5-40cd-9a94-2d9321634ef6",
   "metadata": {},
   "source": [
    "And verify that expected metadata from all files is exactly the same by asserting this is the case:"
   ]
  },
  {
   "cell_type": "code",
   "execution_count": 17,
   "id": "a8e6c13e-186b-443d-9118-47824f3fab08",
   "metadata": {},
   "outputs": [],
   "source": [
    "assert np.all([row[1][\"meta\"] == results_df.iloc[0][\"meta\"] for row in results_df.iterrows()])"
   ]
  },
  {
   "cell_type": "markdown",
   "id": "76c63258-4b28-4c19-9099-eff35dcb2586",
   "metadata": {},
   "source": [
    "No `AssertionError` here indicates that all file metadata matches where expected."
   ]
  }
 ],
 "metadata": {
  "kernelspec": {
   "display_name": "Python 3 (ipykernel)",
   "language": "python",
   "name": "python3"
  },
  "language_info": {
   "codemirror_mode": {
    "name": "ipython",
    "version": 3
   },
   "file_extension": ".py",
   "mimetype": "text/x-python",
   "name": "python",
   "nbconvert_exporter": "python",
   "pygments_lexer": "ipython3",
   "version": "3.8.3"
  }
 },
 "nbformat": 4,
 "nbformat_minor": 5
}
