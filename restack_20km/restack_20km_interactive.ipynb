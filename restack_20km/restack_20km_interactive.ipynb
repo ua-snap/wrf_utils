{
 "cells": [
  {
   "cell_type": "markdown",
   "id": "091d4969-765f-4d68-9969-28cf0e11859c",
   "metadata": {},
   "source": [
    "# Restack 20km AK WRF data interactively\n",
    "\n",
    "This notebook is for ad-hoc execution of any portion of the pipeline in the [restack_20km](./restack_20km.ipynb) notebook. Use it to restack arbitrary chunks of the WRF data, down to a single variable of a single year for a particular WRF group.\n",
    "\n",
    "This notebook assumes that:\n",
    "* all potential target files have been copied to the scratch directory\n",
    "* the forecast times table has been created per step 1 in the [restack_20km](./restack_20km.ipynb) notebook\n",
    "\n",
    "## Setup\n",
    "\n",
    "Execute this cell to set up the environment:"
   ]
  },
  {
   "cell_type": "code",
   "execution_count": 8,
   "id": "0f93e5ec-dedd-457c-9f6d-a8d9a7a10f73",
   "metadata": {},
   "outputs": [],
   "source": [
    "import os\n",
    "import tqdm\n",
    "# codebase\n",
    "from config import *\n",
    "import luts\n",
    "import slurm\n",
    "import restack_20km as main"
   ]
  },
  {
   "cell_type": "markdown",
   "id": "93e0afe6-7503-455d-a342-b28d8ef3d276",
   "metadata": {},
   "source": [
    "## Restack data\n",
    "\n",
    "\n",
    "### Processing parameters\n",
    "\n",
    "The following arguments are required for a single job of restacking data for a particular variable (or variables), model, scenario, and year (or years):\n",
    "\n",
    "* **WRF Group**: Encoded value specifying the WRF group being worked on, which should already be specified in the `WRF_GROUP` environment variable prior to starting this notebook.\n",
    "* **Year(s)**: a list of years to work on specified as integers, such as `[1979, 1980]`, or omit to work on all years available for a given WRF group.\n",
    "* **Variable name(s)**: Name(s) of the variable(s). This is the lower case version of the variable name in the WRF outputs.\n",
    "* **Number of cores**: This is the number of cores to use for parallel tasks.\n",
    "* **Chinook partition**: the desired partition on the Chinook cluster."
   ]
  },
  {
   "cell_type": "code",
   "execution_count": 17,
   "id": "ad81d3cf-143d-4773-82bb-93155d22507b",
   "metadata": {},
   "outputs": [
    {
     "name": "stdin",
     "output_type": "stream",
     "text": [
      "Years, a ' '- separated list of years, in 1970-2005. Leave blank for all years: 1972\n"
     ]
    },
    {
     "name": "stdout",
     "output_type": "stream",
     "text": [
      "Years selected: ['1972']\n"
     ]
    },
    {
     "name": "stdin",
     "output_type": "stream",
     "text": [
      "Enter name(s) of WRF variable(s) to restack (leave blank for all): qbot\n",
      "Enter number of CPUs to use (valid range: 2-24; leave blank for 24 cores): \n",
      "Enter name of compute partition to use (leave blank for 't1small'): \n"
     ]
    }
   ],
   "source": [
    "years = [1738]\n",
    "valid_years = f\"{luts.groups[group]['years'][0]}-{luts.groups[group]['years'][-1]}\"\n",
    "while not all([int(year) in luts.groups[group][\"years\"] for year in years]):\n",
    "    years = input(f\"Years, a ' '- separated list of years, in {valid_years}. Leave blank for all years:\") or luts.groups[group]['years']\n",
    "    if (type(years) == str) and (len(years) > 0):\n",
    "        years = years.split(\" \")\n",
    "print(f\"Years selected: {years}\")\n",
    "\n",
    "varnames = [\"\"]\n",
    "while not all ([varname.upper() in luts.varnames for varname in varnames]):\n",
    "    varnames = input(\"Enter name(s) of WRF variable(s) to restack (leave blank for all):\") or luts.varnames\n",
    "    if (type(varnames) == str) and (len(varnames) > 0):\n",
    "        varnames = [varname.upper() for varname in varnames.split(\" \")]\n",
    "\n",
    "ncpus = 0\n",
    "while (ncpus < 2) | (ncpus > 24):\n",
    "    ncpus = input(\"Enter number of CPUs to use (valid range: 2-24; leave blank for 24 cores):\") or 24\n",
    "    ncpus = int(ncpus)\n",
    "\n",
    "partition = input(\"Enter name of compute partition to use (leave blank for 't1small'):\") or \"t1small\""
   ]
  },
  {
   "cell_type": "markdown",
   "id": "fa1ae30e-96b5-43e2-b4a3-1e27308944f1",
   "metadata": {},
   "source": [
    "Create slurm scripts:"
   ]
  },
  {
   "cell_type": "code",
   "execution_count": 18,
   "id": "208c57ec-7a32-4a5d-8738-9faf6ecb7d24",
   "metadata": {},
   "outputs": [],
   "source": [
    "sbatch_fps = []\n",
    "year_str = main.get_year_fn_str(years)\n",
    "for varname in varnames:\n",
    "    # write to .slurm script\n",
    "    sbatch_fp = slurm_dir.joinpath(f\"restack_{group}_{year_str}_{varname}.slurm\")\n",
    "    # filepath for slurm stdout\n",
    "    sbatch_out_fp = slurm_dir.joinpath(f\"restack_{group}_{year_str}_{varname}_%j.out\")\n",
    "    sbatch_head = slurm.make_sbatch_head(\n",
    "        slurm_email, partition, conda_init_script\n",
    "    )\n",
    "    \n",
    "    args = {\n",
    "        \"sbatch_fp\": sbatch_fp,\n",
    "        \"sbatch_out_fp\": sbatch_out_fp,\n",
    "        \"restack_script\": restack_script,\n",
    "        \"luts_fp\": luts_fp,\n",
    "        \"geogrid_fp\": geogrid_fp,\n",
    "        \"anc_dir\": anc_dir,\n",
    "        \"restack_dir\": hourly_dir,\n",
    "        \"group\": group,\n",
    "        \"fn_str\": luts.groups[group][\"fn_str\"],\n",
    "        \"years\": years,\n",
    "        \"varname\": varname,\n",
    "        \"ncpus\": ncpus,\n",
    "        \"sbatch_head\": sbatch_head,\n",
    "    }\n",
    "\n",
    "    slurm.write_sbatch_restack(**args)\n",
    "    sbatch_fps.append(sbatch_fp)"
   ]
  },
  {
   "cell_type": "markdown",
   "id": "7f75b7a5-4bda-4ef1-8137-6ba289560fca",
   "metadata": {},
   "source": [
    "Remove existing slurm output scripts if you fancy it:"
   ]
  },
  {
   "cell_type": "code",
   "execution_count": 23,
   "id": "dadae76f-5592-464e-95b5-d37e285ac1a2",
   "metadata": {},
   "outputs": [],
   "source": [
    "for varname in varnames:\n",
    "    _ = [fp.unlink() for fp in list(slurm_dir.glob(f\"restack_{group}_{year_str}_{varname}_*.out\"))]"
   ]
  },
  {
   "cell_type": "markdown",
   "id": "72b573a0-040f-44cd-b8f6-579cc32ee7a0",
   "metadata": {},
   "source": [
    "Submit the `.slurm` scripts with `sbatch`:"
   ]
  },
  {
   "cell_type": "code",
   "execution_count": 25,
   "id": "3f07b743-d1d9-4a4e-8306-6dc3f7a8aadd",
   "metadata": {},
   "outputs": [],
   "source": [
    "job_ids = [slurm.submit_sbatch(fp) for fp in sbatch_fps]"
   ]
  }
 ],
 "metadata": {
  "kernelspec": {
   "display_name": "Python 3 (ipykernel)",
   "language": "python",
   "name": "python3"
  },
  "language_info": {
   "codemirror_mode": {
    "name": "ipython",
    "version": 3
   },
   "file_extension": ".py",
   "mimetype": "text/x-python",
   "name": "python",
   "nbconvert_exporter": "python",
   "pygments_lexer": "ipython3",
   "version": "3.8.3"
  }
 },
 "nbformat": 4,
 "nbformat_minor": 5
}
