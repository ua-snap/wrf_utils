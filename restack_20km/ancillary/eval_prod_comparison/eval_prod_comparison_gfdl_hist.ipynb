{
 "cells": [
  {
   "cell_type": "markdown",
   "id": "f96edfbb-e2f0-4e33-a561-dcd21d2a7746",
   "metadata": {},
   "source": [
    "# Production comparison: GFDL CM3 Historical\n",
    "\n",
    "This notebook is for evaluating the results from the comparison of newly restacked files with existing production files.\n",
    "\n",
    "It is meant to serve as a historical record and will not maintain functionality as files are moved.\n",
    "\n",
    "Set up the environment:"
   ]
  },
  {
   "cell_type": "code",
   "execution_count": 2,
   "id": "d5218fdd-8dfa-4f08-bb94-c59515a2a6e1",
   "metadata": {},
   "outputs": [],
   "source": [
    "import importlib.util\n",
    "import os\n",
    "import sys\n",
    "from pathlib import Path\n",
    "import numpy as np\n",
    "import pandas as pd\n",
    "import xarray as xr\n",
    "import tqdm\n",
    "\n",
    "\n",
    "# all this code to load the config and luts modules by absolute path\n",
    "project_dir = Path(os.getenv(\"PROJECT_DIR\"))\n",
    "\n",
    "def load_module(path):\n",
    "    \"\"\"https://docs.python.org/3/library/importlib.html#importing-a-source-file-directly\"\"\"\n",
    "    module = path.name.split(\".py\")[0]\n",
    "    spec = importlib.util.spec_from_file_location(\n",
    "        module, path\n",
    "    )\n",
    "    module_obj = importlib.util.module_from_spec(spec)\n",
    "    sys.modules[module] = module_obj\n",
    "    spec.loader.exec_module(module_obj)\n",
    "    \n",
    "    return module_obj\n",
    "\n",
    "luts = load_module(project_dir.joinpath(\"restack_20km/luts.py\"))\n",
    "config = load_module(project_dir.joinpath(\"restack_20km/config.py\"))"
   ]
  },
  {
   "cell_type": "markdown",
   "id": "6d0db28b-fec2-4eb4-8b4e-8112d32b6a72",
   "metadata": {},
   "source": [
    "## Hourly data\n",
    "\n",
    "Load the results from comparing hourly data:"
   ]
  },
  {
   "cell_type": "code",
   "execution_count": 3,
   "id": "e080efc2-6f8e-4856-985e-1d98d7b5e7e4",
   "metadata": {},
   "outputs": [],
   "source": [
    "hourly_fp = config.anc_dir.joinpath(\n",
    "    \"production_data_comparisons\",\n",
    "    f\"prod_comparison_{luts.groups[config.group]['fn_str']}_hourly.csv\"\n",
    ")\n",
    "hourly_df = pd.read_csv(hourly_fp)"
   ]
  },
  {
   "cell_type": "markdown",
   "id": "2dea77a0-ce01-45d1-9f5d-d98b7f52bd17",
   "metadata": {},
   "source": [
    "#### Timestamp mismatches\n",
    "\n",
    "Look at instances where something was wrong with the timestamp comparison.\n",
    "\n",
    "First thing to check is that all of these mismatches are with the newly rotated wind data created in 2021. If they are all wind variables, we can ignore the other time comparisons - those wind data time stamps were labeled incorrectly (should not have leap days)."
   ]
  },
  {
   "cell_type": "code",
   "execution_count": 4,
   "id": "72c2ccb5-a6b2-405c-ac80-900ae0d195e6",
   "metadata": {},
   "outputs": [],
   "source": [
    "wind_varnames = [\"u\", \"u10\", \"ubot\", \"v\", \"v10\", \"vbot\"]\n",
    "time_mismatch_vars = np.unique(hourly_df.query(\"time_result == False\")[\"varname\"])\n",
    "assert np.all([varname in wind_varnames for varname in time_mismatch_vars])"
   ]
  },
  {
   "cell_type": "markdown",
   "id": "88061e4c-75e2-47df-8818-7c517f74cf7c",
   "metadata": {},
   "source": [
    "Looks like we had one error accessing production data. Wind variable, possibly corrupt:"
   ]
  },
  {
   "cell_type": "code",
   "execution_count": 5,
   "id": "a27cf929-5a91-4c2e-930f-c7d7738d1b2d",
   "metadata": {},
   "outputs": [
    {
     "data": {
      "text/html": [
       "<div>\n",
       "<style scoped>\n",
       "    .dataframe tbody tr th:only-of-type {\n",
       "        vertical-align: middle;\n",
       "    }\n",
       "\n",
       "    .dataframe tbody tr th {\n",
       "        vertical-align: top;\n",
       "    }\n",
       "\n",
       "    .dataframe thead th {\n",
       "        text-align: right;\n",
       "    }\n",
       "</style>\n",
       "<table border=\"1\" class=\"dataframe\">\n",
       "  <thead>\n",
       "    <tr style=\"text-align: right;\">\n",
       "      <th></th>\n",
       "      <th>varname</th>\n",
       "      <th>scratch_filename</th>\n",
       "      <th>prod_filename</th>\n",
       "      <th>prod_exists</th>\n",
       "      <th>timestamp</th>\n",
       "      <th>arr_result</th>\n",
       "      <th>time_result</th>\n",
       "      <th>error</th>\n",
       "    </tr>\n",
       "  </thead>\n",
       "  <tbody>\n",
       "    <tr>\n",
       "      <th>1573</th>\n",
       "      <td>v10</td>\n",
       "      <td>/center1/DYNDOWN/kmredilla/wrf_data/restacked/...</td>\n",
       "      <td>/import/SNAP/wrf_data/project_data/wrf_data/ho...</td>\n",
       "      <td>True</td>\n",
       "      <td>1970-03-09 01:00:00</td>\n",
       "      <td>False</td>\n",
       "      <td>NaN</td>\n",
       "      <td>RuntimeError</td>\n",
       "    </tr>\n",
       "  </tbody>\n",
       "</table>\n",
       "</div>"
      ],
      "text/plain": [
       "     varname                                   scratch_filename  \\\n",
       "1573     v10  /center1/DYNDOWN/kmredilla/wrf_data/restacked/...   \n",
       "\n",
       "                                          prod_filename  prod_exists  \\\n",
       "1573  /import/SNAP/wrf_data/project_data/wrf_data/ho...         True   \n",
       "\n",
       "                timestamp  arr_result time_result         error  \n",
       "1573  1970-03-09 01:00:00       False         NaN  RuntimeError  "
      ]
     },
     "execution_count": 5,
     "metadata": {},
     "output_type": "execute_result"
    }
   ],
   "source": [
    "hourly_df[~pd.isnull(hourly_df[\"error\"])]"
   ]
  },
  {
   "cell_type": "markdown",
   "id": "e4051cdf-dce1-4e13-ad6d-2dde3e01495e",
   "metadata": {},
   "source": [
    "Assert that all of the data comparisons were OK under the `arr_result` result column (for those where the time check passed):"
   ]
  },
  {
   "cell_type": "code",
   "execution_count": 6,
   "id": "74066b2e-b052-4efe-8c55-a5cfc46808f9",
   "metadata": {},
   "outputs": [],
   "source": [
    "assert np.all(hourly_df.query(\"time_result == True\")[\"arr_result\"])"
   ]
  },
  {
   "cell_type": "markdown",
   "id": "91b0a7cc-88d7-460d-aacd-1715cf034d30",
   "metadata": {},
   "source": [
    "So the hourly data for GFDL CM3 historical passes the comparison with production data. These are safe to copy to `base_dir` and remove from scratch space."
   ]
  },
  {
   "cell_type": "markdown",
   "id": "e9f762fa-d4e7-49a3-af2e-fbb32a63db90",
   "metadata": {},
   "source": [
    "## Daily data\n",
    "\n",
    "Load the results from comparing daily data:"
   ]
  },
  {
   "cell_type": "code",
   "execution_count": 7,
   "id": "4af62323-d309-4c25-96cc-0009cd056ba4",
   "metadata": {},
   "outputs": [],
   "source": [
    "daily_fp = config.anc_dir.joinpath(\n",
    "    \"production_data_comparisons\",\n",
    "    f\"prod_comparison_{luts.groups[config.group]['fn_str']}_daily.csv\"\n",
    ")\n",
    "daily_df = pd.read_csv(daily_fp)"
   ]
  },
  {
   "cell_type": "markdown",
   "id": "cb3980a3-9829-497f-995d-cd999c2fffed",
   "metadata": {},
   "source": [
    "No time mismatches on this one:"
   ]
  },
  {
   "cell_type": "code",
   "execution_count": 20,
   "id": "d5ac583a-b6dd-419b-b9cb-52065ed475aa",
   "metadata": {},
   "outputs": [
    {
     "data": {
      "text/html": [
       "<div>\n",
       "<style scoped>\n",
       "    .dataframe tbody tr th:only-of-type {\n",
       "        vertical-align: middle;\n",
       "    }\n",
       "\n",
       "    .dataframe tbody tr th {\n",
       "        vertical-align: top;\n",
       "    }\n",
       "\n",
       "    .dataframe thead th {\n",
       "        text-align: right;\n",
       "    }\n",
       "</style>\n",
       "<table border=\"1\" class=\"dataframe\">\n",
       "  <thead>\n",
       "    <tr style=\"text-align: right;\">\n",
       "      <th></th>\n",
       "      <th>varname</th>\n",
       "      <th>scratch_filename</th>\n",
       "      <th>prod_filename</th>\n",
       "      <th>prod_exists</th>\n",
       "      <th>timestamp</th>\n",
       "      <th>arr_result</th>\n",
       "      <th>time_result</th>\n",
       "      <th>error</th>\n",
       "    </tr>\n",
       "  </thead>\n",
       "  <tbody>\n",
       "  </tbody>\n",
       "</table>\n",
       "</div>"
      ],
      "text/plain": [
       "Empty DataFrame\n",
       "Columns: [varname, scratch_filename, prod_filename, prod_exists, timestamp, arr_result, time_result, error]\n",
       "Index: []"
      ]
     },
     "execution_count": 20,
     "metadata": {},
     "output_type": "execute_result"
    }
   ],
   "source": [
    "daily_df.query(\"time_result == False\")"
   ]
  },
  {
   "cell_type": "markdown",
   "id": "eb9d2b37-09b3-4eac-999b-fd81ab4a7ff5",
   "metadata": {},
   "source": [
    "And no errors:"
   ]
  },
  {
   "cell_type": "code",
   "execution_count": 23,
   "id": "7fbcc4cf-d03d-4d29-9433-dab5b8d862ae",
   "metadata": {},
   "outputs": [
    {
     "data": {
      "text/html": [
       "<div>\n",
       "<style scoped>\n",
       "    .dataframe tbody tr th:only-of-type {\n",
       "        vertical-align: middle;\n",
       "    }\n",
       "\n",
       "    .dataframe tbody tr th {\n",
       "        vertical-align: top;\n",
       "    }\n",
       "\n",
       "    .dataframe thead th {\n",
       "        text-align: right;\n",
       "    }\n",
       "</style>\n",
       "<table border=\"1\" class=\"dataframe\">\n",
       "  <thead>\n",
       "    <tr style=\"text-align: right;\">\n",
       "      <th></th>\n",
       "      <th>varname</th>\n",
       "      <th>scratch_filename</th>\n",
       "      <th>prod_filename</th>\n",
       "      <th>prod_exists</th>\n",
       "      <th>timestamp</th>\n",
       "      <th>arr_result</th>\n",
       "      <th>time_result</th>\n",
       "      <th>error</th>\n",
       "    </tr>\n",
       "  </thead>\n",
       "  <tbody>\n",
       "  </tbody>\n",
       "</table>\n",
       "</div>"
      ],
      "text/plain": [
       "Empty DataFrame\n",
       "Columns: [varname, scratch_filename, prod_filename, prod_exists, timestamp, arr_result, time_result, error]\n",
       "Index: []"
      ]
     },
     "execution_count": 23,
     "metadata": {},
     "output_type": "execute_result"
    }
   ],
   "source": [
    "daily_df[~pd.isnull(daily_df.error)]"
   ]
  },
  {
   "cell_type": "markdown",
   "id": "5b240d98-fa74-4fd8-9634-9acf9b5f007d",
   "metadata": {},
   "source": [
    "So the only other thing that could be wrong is mismatches between production and scratch data. Looks like there are multiple array mismatches, but it appears they are due to rounding/floating point errors. Confirm this is the case using `numpy.isclose`:"
   ]
  },
  {
   "cell_type": "code",
   "execution_count": 19,
   "id": "ebc00052-1e9f-41bd-86ea-d70ae16a033f",
   "metadata": {},
   "outputs": [
    {
     "name": "stderr",
     "output_type": "stream",
     "text": [
      "100%|█████████████████████████████████████████████████████████████████████████████████████████████████████████████████████████████████████████████████████████████████████████████████| 59/59 [01:10<00:00,  1.20s/it]\n"
     ]
    }
   ],
   "source": [
    "df = daily_df.query(\"arr_result == False\")\n",
    "for i, row in tqdm.tqdm(df.iterrows(), total=df.shape[0]):\n",
    "    tstamp = row[\"timestamp\"]\n",
    "    with xr.open_dataset(row[\"scratch_filename\"]) as scratch_ds:\n",
    "        with xr.open_dataset(row[\"prod_filename\"]) as prod_ds:\n",
    "            varname = list(prod_ds.data_vars)[0]\n",
    "            assert np.all(\n",
    "                np.isclose(\n",
    "                    scratch_ds[varname].sel(time=tstamp),\n",
    "                    prod_ds[varname].sel(time=tstamp)\n",
    "                )\n",
    "            )"
   ]
  },
  {
   "cell_type": "markdown",
   "id": "a3dad9de-a56f-4cc5-b96a-8d830b7e2c18",
   "metadata": {},
   "source": [
    "And that's it. Daily and hourly GFDL CM3 historical data appear to resemble the production data well enough."
   ]
  },
  {
   "cell_type": "code",
   "execution_count": null,
   "id": "b3795913-8517-43b8-9d13-f04de110e127",
   "metadata": {},
   "outputs": [],
   "source": []
  }
 ],
 "metadata": {
  "kernelspec": {
   "display_name": "Python 3 (ipykernel)",
   "language": "python",
   "name": "python3"
  },
  "language_info": {
   "codemirror_mode": {
    "name": "ipython",
    "version": 3
   },
   "file_extension": ".py",
   "mimetype": "text/x-python",
   "name": "python",
   "nbconvert_exporter": "python",
   "pygments_lexer": "ipython3",
   "version": "3.8.3"
  }
 },
 "nbformat": 4,
 "nbformat_minor": 5
}
