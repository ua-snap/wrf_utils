{
 "cells": [
  {
   "cell_type": "markdown",
   "id": "f96edfbb-e2f0-4e33-a561-dcd21d2a7746",
   "metadata": {},
   "source": [
    "# Production comparison: NCAR CCSM4 Historical\n",
    "\n",
    "This notebook is for evaluating the results from the comparison of newly restacked files with existing production files.\n",
    "\n",
    "It is meant to serve as a historical record and will not maintain functionality as files are moved.\n",
    "\n",
    "Set up the environment:"
   ]
  },
  {
   "cell_type": "code",
   "execution_count": 1,
   "id": "d5218fdd-8dfa-4f08-bb94-c59515a2a6e1",
   "metadata": {},
   "outputs": [],
   "source": [
    "import importlib.util\n",
    "import os\n",
    "import sys\n",
    "from pathlib import Path\n",
    "import numpy as np\n",
    "import pandas as pd\n",
    "import xarray as xr\n",
    "\n",
    "\n",
    "# all this code to load the config and luts modules by absolute path\n",
    "project_dir = Path(os.getenv(\"PROJECT_DIR\"))\n",
    "\n",
    "def load_module(path):\n",
    "    \"\"\"https://docs.python.org/3/library/importlib.html#importing-a-source-file-directly\"\"\"\n",
    "    module = path.name.split(\".py\")[0]\n",
    "    spec = importlib.util.spec_from_file_location(\n",
    "        module, path\n",
    "    )\n",
    "    module_obj = importlib.util.module_from_spec(spec)\n",
    "    sys.modules[module] = module_obj\n",
    "    spec.loader.exec_module(module_obj)\n",
    "    \n",
    "    return module_obj\n",
    "\n",
    "luts = load_module(project_dir.joinpath(\"restack_20km/luts.py\"))\n",
    "config = load_module(project_dir.joinpath(\"restack_20km/config.py\"))"
   ]
  },
  {
   "cell_type": "markdown",
   "id": "6d0db28b-fec2-4eb4-8b4e-8112d32b6a72",
   "metadata": {},
   "source": [
    "## Hourly data\n",
    "\n",
    "Load the results from comparing hourly data:"
   ]
  },
  {
   "cell_type": "code",
   "execution_count": 2,
   "id": "e080efc2-6f8e-4856-985e-1d98d7b5e7e4",
   "metadata": {},
   "outputs": [],
   "source": [
    "hourly_fp = config.anc_dir.joinpath(\n",
    "    \"production_data_comparisons\",\n",
    "    f\"prod_comparison_{luts.groups[config.group]['fn_str']}_hourly.csv\"\n",
    ")\n",
    "hourly_df = pd.read_csv(hourly_fp)"
   ]
  },
  {
   "cell_type": "markdown",
   "id": "2dea77a0-ce01-45d1-9f5d-d98b7f52bd17",
   "metadata": {},
   "source": [
    "#### Timestamp mismatches\n",
    "\n",
    "Look at instances where something was wrong with the timestamp comparison.\n",
    "\n",
    "First thing to check is that all of these mismatches are with the newly rotated wind data created in 2021. If they are all wind variables, we can ignore the other time comparisons - those wind data time stamps were labeled incorrectly (should not have leap days)."
   ]
  },
  {
   "cell_type": "code",
   "execution_count": 13,
   "id": "72c2ccb5-a6b2-405c-ac80-900ae0d195e6",
   "metadata": {},
   "outputs": [],
   "source": [
    "wind_varnames = [\"u\", \"u10\", \"ubot\", \"v\", \"v10\", \"vbot\"]\n",
    "time_mismatch_vars = np.unique(hourly_df.query(\"time_result == False\")[\"varname\"])\n",
    "assert np.all([varname in wind_varnames for varname in time_mismatch_vars])"
   ]
  },
  {
   "cell_type": "markdown",
   "id": "e4051cdf-dce1-4e13-ad6d-2dde3e01495e",
   "metadata": {},
   "source": [
    "Assert that all of the data comparisons were OK under the `arr_result` result column:"
   ]
  },
  {
   "cell_type": "code",
   "execution_count": 16,
   "id": "74066b2e-b052-4efe-8c55-a5cfc46808f9",
   "metadata": {},
   "outputs": [],
   "source": [
    "assert np.all(hourly_df[\"arr_result\"])"
   ]
  },
  {
   "cell_type": "markdown",
   "id": "91b0a7cc-88d7-460d-aacd-1715cf034d30",
   "metadata": {},
   "source": [
    "So the hourly data for NCAR CCSM4 historical passes the comparison with production data. These are safe to copy to `base_dir` and remove from scratch space."
   ]
  },
  {
   "cell_type": "markdown",
   "id": "e9f762fa-d4e7-49a3-af2e-fbb32a63db90",
   "metadata": {},
   "source": [
    "## Daily data\n",
    "\n",
    "Load the results from comparing daily data:"
   ]
  },
  {
   "cell_type": "code",
   "execution_count": 17,
   "id": "4af62323-d309-4c25-96cc-0009cd056ba4",
   "metadata": {},
   "outputs": [],
   "source": [
    "daily_fp = config.anc_dir.joinpath(\n",
    "    \"production_data_comparisons\",\n",
    "    f\"prod_comparison_{luts.groups[config.group]['fn_str']}_daily.csv\"\n",
    ")\n",
    "daily_df = pd.read_csv(daily_fp)"
   ]
  },
  {
   "cell_type": "markdown",
   "id": "265975d5-4cf7-417d-a583-47c5e70ac383",
   "metadata": {},
   "source": [
    "Looks like all of the datetime mismatches are the `pcpc` variable, which occur because that variable was not produced for some models, and is not even hosted on AWS for any model, so we will ignore those:"
   ]
  },
  {
   "cell_type": "code",
   "execution_count": 18,
   "id": "5dfa5924-a6e5-4a39-8ce0-d79502f97f07",
   "metadata": {
    "tags": []
   },
   "outputs": [],
   "source": [
    "assert np.all(~daily_df.query(\"time_result == False\")[\"prod_exists\"])"
   ]
  },
  {
   "cell_type": "markdown",
   "id": "65ea99e7-d73f-4301-8ed4-2f08ea08d5b9",
   "metadata": {},
   "source": [
    "And make sure there were no array mismatches with the daily data by asserting that there where no files for non-`pcpc` variables where the data comparison failed:"
   ]
  },
  {
   "cell_type": "code",
   "execution_count": 10,
   "id": "4db89cbc-cd1e-485f-bb94-e99eb32db112",
   "metadata": {},
   "outputs": [],
   "source": [
    "assert len(daily_df.query(\"arr_result == False & varname != 'pcpc'\")) == 0"
   ]
  },
  {
   "cell_type": "markdown",
   "id": "abb6d41b-7f00-4123-b1b5-a8d86ae518d0",
   "metadata": {},
   "source": [
    "as a double check, this should also just be all of the files for which there is no production version:"
   ]
  },
  {
   "cell_type": "code",
   "execution_count": 19,
   "id": "5fb367f7-7239-4407-ba9e-c8cc4a56b5bf",
   "metadata": {},
   "outputs": [],
   "source": [
    "assert np.all(~daily_df.query(\"arr_result == False\")[\"prod_exists\"])"
   ]
  },
  {
   "cell_type": "markdown",
   "id": "a3dad9de-a56f-4cc5-b96a-8d830b7e2c18",
   "metadata": {},
   "source": [
    "And that's it. Daily and hourly NCAR CCSM4 historical data appear to resemble the production data well enough."
   ]
  },
  {
   "cell_type": "code",
   "execution_count": null,
   "id": "24033f2c-2832-44c3-88c8-d9a8125a586f",
   "metadata": {},
   "outputs": [],
   "source": []
  },
  {
   "cell_type": "code",
   "execution_count": 23,
   "id": "0f2b5bfa-e6e6-4eca-8a18-e6b6ea8ecaa7",
   "metadata": {},
   "outputs": [
    {
     "name": "stdout",
     "output_type": "stream",
     "text": [
      "\u001b[0m\u001b[38;5;27mdaily\u001b[0m/  \u001b[38;5;27mhourly\u001b[0m/\n",
      "\u001b[m"
     ]
    }
   ],
   "source": [
    " $SCRATCH_DIR/restacked"
   ]
  },
  {
   "cell_type": "code",
   "execution_count": 34,
   "id": "5dc3e910-2904-42ce-b535-ad4615589160",
   "metadata": {},
   "outputs": [
    {
     "name": "stdout",
     "output_type": "stream",
     "text": [
      "total 371M\n",
      "-rw------- 1 kmredilla dyndown 9.5M Oct 19 15:26 pcpc_daily_wrf_NCAR-CCSM4_historical_1970.nc\n",
      "-rw------- 1 kmredilla dyndown 9.0M Oct 19 15:26 pcpc_daily_wrf_NCAR-CCSM4_historical_1971.nc\n",
      "-rw------- 1 kmredilla dyndown 9.6M Oct 19 15:26 pcpc_daily_wrf_NCAR-CCSM4_historical_1972.nc\n",
      "-rw------- 1 kmredilla dyndown 9.4M Oct 19 15:26 pcpc_daily_wrf_NCAR-CCSM4_historical_1973.nc\n",
      "-rw------- 1 kmredilla dyndown  12M Oct 19 15:26 pcpc_daily_wrf_NCAR-CCSM4_historical_1974.nc\n",
      "-rw------- 1 kmredilla dyndown 9.1M Oct 19 15:26 pcpc_daily_wrf_NCAR-CCSM4_historical_1975.nc\n",
      "-rw------- 1 kmredilla dyndown  10M Oct 19 15:26 pcpc_daily_wrf_NCAR-CCSM4_historical_1976.nc\n",
      "-rw------- 1 kmredilla dyndown  12M Oct 19 15:26 pcpc_daily_wrf_NCAR-CCSM4_historical_1977.nc\n",
      "-rw------- 1 kmredilla dyndown  12M Oct 19 15:26 pcpc_daily_wrf_NCAR-CCSM4_historical_1978.nc\n",
      "-rw------- 1 kmredilla dyndown 9.7M Oct 19 15:26 pcpc_daily_wrf_NCAR-CCSM4_historical_1979.nc\n",
      "-rw------- 1 kmredilla dyndown  11M Oct 19 15:26 pcpc_daily_wrf_NCAR-CCSM4_historical_1980.nc\n",
      "-rw------- 1 kmredilla dyndown  11M Oct 19 15:26 pcpc_daily_wrf_NCAR-CCSM4_historical_1981.nc\n",
      "-rw------- 1 kmredilla dyndown 9.4M Oct 19 15:26 pcpc_daily_wrf_NCAR-CCSM4_historical_1982.nc\n",
      "-rw------- 1 kmredilla dyndown  11M Oct 19 15:26 pcpc_daily_wrf_NCAR-CCSM4_historical_1983.nc\n",
      "-rw------- 1 kmredilla dyndown  11M Oct 19 15:26 pcpc_daily_wrf_NCAR-CCSM4_historical_1984.nc\n",
      "-rw------- 1 kmredilla dyndown 9.8M Oct 19 15:26 pcpc_daily_wrf_NCAR-CCSM4_historical_1985.nc\n",
      "-rw------- 1 kmredilla dyndown 9.9M Oct 19 15:26 pcpc_daily_wrf_NCAR-CCSM4_historical_1986.nc\n",
      "-rw------- 1 kmredilla dyndown  11M Oct 19 15:26 pcpc_daily_wrf_NCAR-CCSM4_historical_1987.nc\n",
      "-rw------- 1 kmredilla dyndown  12M Oct 19 15:26 pcpc_daily_wrf_NCAR-CCSM4_historical_1988.nc\n",
      "-rw------- 1 kmredilla dyndown  11M Oct 19 15:26 pcpc_daily_wrf_NCAR-CCSM4_historical_1989.nc\n",
      "-rw------- 1 kmredilla dyndown 9.5M Oct 19 15:26 pcpc_daily_wrf_NCAR-CCSM4_historical_1990.nc\n",
      "-rw------- 1 kmredilla dyndown  11M Oct 19 15:26 pcpc_daily_wrf_NCAR-CCSM4_historical_1991.nc\n",
      "-rw------- 1 kmredilla dyndown 9.9M Oct 19 15:26 pcpc_daily_wrf_NCAR-CCSM4_historical_1992.nc\n",
      "-rw------- 1 kmredilla dyndown 9.8M Oct 19 15:26 pcpc_daily_wrf_NCAR-CCSM4_historical_1993.nc\n",
      "-rw------- 1 kmredilla dyndown 8.9M Oct 19 15:26 pcpc_daily_wrf_NCAR-CCSM4_historical_1994.nc\n",
      "-rw------- 1 kmredilla dyndown 8.9M Oct 19 15:26 pcpc_daily_wrf_NCAR-CCSM4_historical_1995.nc\n",
      "-rw------- 1 kmredilla dyndown 9.8M Oct 19 15:26 pcpc_daily_wrf_NCAR-CCSM4_historical_1996.nc\n",
      "-rw------- 1 kmredilla dyndown  12M Oct 19 15:26 pcpc_daily_wrf_NCAR-CCSM4_historical_1997.nc\n",
      "-rw------- 1 kmredilla dyndown  12M Oct 19 15:26 pcpc_daily_wrf_NCAR-CCSM4_historical_1998.nc\n",
      "-rw------- 1 kmredilla dyndown  12M Oct 19 15:26 pcpc_daily_wrf_NCAR-CCSM4_historical_1999.nc\n",
      "-rw------- 1 kmredilla dyndown  11M Oct 19 15:26 pcpc_daily_wrf_NCAR-CCSM4_historical_2000.nc\n",
      "-rw------- 1 kmredilla dyndown  12M Oct 19 15:26 pcpc_daily_wrf_NCAR-CCSM4_historical_2001.nc\n",
      "-rw------- 1 kmredilla dyndown  11M Oct 19 15:26 pcpc_daily_wrf_NCAR-CCSM4_historical_2002.nc\n",
      "-rw------- 1 kmredilla dyndown  11M Oct 19 15:26 pcpc_daily_wrf_NCAR-CCSM4_historical_2003.nc\n",
      "-rw------- 1 kmredilla dyndown  12M Oct 19 15:26 pcpc_daily_wrf_NCAR-CCSM4_historical_2004.nc\n",
      "-rw------- 1 kmredilla dyndown  11M Oct 19 15:26 pcpc_daily_wrf_NCAR-CCSM4_historical_2005.nc\n"
     ]
    }
   ],
   "source": [
    "ls -lh /import/SNAP/wrf_data/project_data/wrf_data/restacked/daily/pcpc\n"
   ]
  },
  {
   "cell_type": "code",
   "execution_count": null,
   "id": "b3795913-8517-43b8-9d13-f04de110e127",
   "metadata": {},
   "outputs": [],
   "source": []
  }
 ],
 "metadata": {
  "kernelspec": {
   "display_name": "Python 3 (ipykernel)",
   "language": "python",
   "name": "python3"
  },
  "language_info": {
   "codemirror_mode": {
    "name": "ipython",
    "version": 3
   },
   "file_extension": ".py",
   "mimetype": "text/x-python",
   "name": "python",
   "nbconvert_exporter": "python",
   "pygments_lexer": "ipython3",
   "version": "3.8.3"
  }
 },
 "nbformat": 4,
 "nbformat_minor": 5
}
