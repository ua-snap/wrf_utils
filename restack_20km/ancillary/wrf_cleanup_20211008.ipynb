{
 "cells": [
  {
   "cell_type": "markdown",
   "id": "c4e083d9-ffef-46b9-8ddc-3a26a21abebd",
   "metadata": {},
   "source": [
    "# WRF 10/21 cleanup audit\n",
    "\n",
    "We need to free up some space on `/rcs/` which is used for post-processing the 20km WRF data. So we want to remove redundant data but it is not clear what files are actually redundant. This notebook is to be used for auditing all data in `/rcs/`. \n",
    "\n",
    "Note - since we will be removing and re-organizing these files eventually, the code in this notebook will likely go stale. It will simply serve as a record of the current state of things prior to the 10/21 cleanup.\n",
    "\n",
    "## Data folders\n",
    "\n",
    "There are two folders in `/rcs/project_data/` that hold the bulk of the data: `wrf_data/` and `WRF_DATA_SEP2019`.\n",
    "\n",
    "### `WRF_DATA_SEP2019/`\n",
    "\n",
    "This folder is definitely incomplete. It seems to have all variables, but not all year/model combinations. This was seen while investigating the [wind issue](https://github.com/ua-snap/wrf_utils/blob/287e607684d10290eeee5b3ba4e2ea4e76577f1d/snap_wrf_data_prep/wind-issue/repair_winds_issue.ipynb). \n",
    "\n",
    "For most variables (potentially all) there seems to be ~35 years of CCSM RCP 8.5, 70 years of GFDL RCP 8.5, and sometimes 1 historical year from each GCM, and usually no ERA-Interim. Here are the files present for a few variables:"
   ]
  },
  {
   "cell_type": "code",
   "execution_count": 55,
   "id": "2512c09f-d264-44d3-9769-ea3cb87ab931",
   "metadata": {
    "collapsed": true,
    "jupyter": {
     "outputs_hidden": true
    },
    "tags": []
   },
   "outputs": [
    {
     "name": "stdout",
     "output_type": "stream",
     "text": [
      "ACSNOW_wrf_hourly_ccsm_hist_1970.nc   ACSNOW_wrf_hourly_gfdl_rcp85_2023.nc\n",
      "ACSNOW_wrf_hourly_ccsm_rcp85_2005.nc  ACSNOW_wrf_hourly_gfdl_rcp85_2024.nc\n",
      "ACSNOW_wrf_hourly_ccsm_rcp85_2006.nc  ACSNOW_wrf_hourly_gfdl_rcp85_2025.nc\n",
      "ACSNOW_wrf_hourly_ccsm_rcp85_2007.nc  ACSNOW_wrf_hourly_gfdl_rcp85_2026.nc\n",
      "ACSNOW_wrf_hourly_ccsm_rcp85_2008.nc  ACSNOW_wrf_hourly_gfdl_rcp85_2027.nc\n",
      "ACSNOW_wrf_hourly_ccsm_rcp85_2009.nc  ACSNOW_wrf_hourly_gfdl_rcp85_2028.nc\n",
      "ACSNOW_wrf_hourly_ccsm_rcp85_2010.nc  ACSNOW_wrf_hourly_gfdl_rcp85_2029.nc\n",
      "ACSNOW_wrf_hourly_ccsm_rcp85_2011.nc  ACSNOW_wrf_hourly_gfdl_rcp85_2030.nc\n",
      "ACSNOW_wrf_hourly_ccsm_rcp85_2012.nc  ACSNOW_wrf_hourly_gfdl_rcp85_2031.nc\n",
      "ACSNOW_wrf_hourly_ccsm_rcp85_2013.nc  ACSNOW_wrf_hourly_gfdl_rcp85_2032.nc\n",
      "ACSNOW_wrf_hourly_ccsm_rcp85_2014.nc  ACSNOW_wrf_hourly_gfdl_rcp85_2033.nc\n",
      "ACSNOW_wrf_hourly_ccsm_rcp85_2015.nc  ACSNOW_wrf_hourly_gfdl_rcp85_2034.nc\n",
      "ACSNOW_wrf_hourly_ccsm_rcp85_2016.nc  ACSNOW_wrf_hourly_gfdl_rcp85_2035.nc\n",
      "ACSNOW_wrf_hourly_ccsm_rcp85_2017.nc  ACSNOW_wrf_hourly_gfdl_rcp85_2036.nc\n",
      "ACSNOW_wrf_hourly_ccsm_rcp85_2018.nc  ACSNOW_wrf_hourly_gfdl_rcp85_2037.nc\n",
      "ACSNOW_wrf_hourly_ccsm_rcp85_2019.nc  ACSNOW_wrf_hourly_gfdl_rcp85_2038.nc\n",
      "ACSNOW_wrf_hourly_ccsm_rcp85_2020.nc  ACSNOW_wrf_hourly_gfdl_rcp85_2039.nc\n",
      "ACSNOW_wrf_hourly_ccsm_rcp85_2021.nc  ACSNOW_wrf_hourly_gfdl_rcp85_2040.nc\n",
      "ACSNOW_wrf_hourly_ccsm_rcp85_2022.nc  ACSNOW_wrf_hourly_gfdl_rcp85_2041.nc\n",
      "ACSNOW_wrf_hourly_ccsm_rcp85_2023.nc  ACSNOW_wrf_hourly_gfdl_rcp85_2042.nc\n",
      "ACSNOW_wrf_hourly_ccsm_rcp85_2024.nc  ACSNOW_wrf_hourly_gfdl_rcp85_2043.nc\n",
      "ACSNOW_wrf_hourly_ccsm_rcp85_2025.nc  ACSNOW_wrf_hourly_gfdl_rcp85_2044.nc\n",
      "ACSNOW_wrf_hourly_ccsm_rcp85_2026.nc  ACSNOW_wrf_hourly_gfdl_rcp85_2045.nc\n",
      "ACSNOW_wrf_hourly_ccsm_rcp85_2027.nc  ACSNOW_wrf_hourly_gfdl_rcp85_2046.nc\n",
      "ACSNOW_wrf_hourly_ccsm_rcp85_2028.nc  ACSNOW_wrf_hourly_gfdl_rcp85_2047.nc\n",
      "ACSNOW_wrf_hourly_ccsm_rcp85_2029.nc  ACSNOW_wrf_hourly_gfdl_rcp85_2048.nc\n",
      "ACSNOW_wrf_hourly_ccsm_rcp85_2030.nc  ACSNOW_wrf_hourly_gfdl_rcp85_2049.nc\n",
      "ACSNOW_wrf_hourly_ccsm_rcp85_2031.nc  ACSNOW_wrf_hourly_gfdl_rcp85_2050.nc\n",
      "ACSNOW_wrf_hourly_ccsm_rcp85_2032.nc  ACSNOW_wrf_hourly_gfdl_rcp85_2051.nc\n",
      "ACSNOW_wrf_hourly_ccsm_rcp85_2033.nc  ACSNOW_wrf_hourly_gfdl_rcp85_2052.nc\n",
      "ACSNOW_wrf_hourly_ccsm_rcp85_2034.nc  ACSNOW_wrf_hourly_gfdl_rcp85_2053.nc\n",
      "ACSNOW_wrf_hourly_ccsm_rcp85_2035.nc  ACSNOW_wrf_hourly_gfdl_rcp85_2054.nc\n",
      "ACSNOW_wrf_hourly_ccsm_rcp85_2036.nc  ACSNOW_wrf_hourly_gfdl_rcp85_2055.nc\n",
      "ACSNOW_wrf_hourly_ccsm_rcp85_2037.nc  ACSNOW_wrf_hourly_gfdl_rcp85_2056.nc\n",
      "ACSNOW_wrf_hourly_ccsm_rcp85_2038.nc  ACSNOW_wrf_hourly_gfdl_rcp85_2057.nc\n",
      "ACSNOW_wrf_hourly_ccsm_rcp85_2039.nc  ACSNOW_wrf_hourly_gfdl_rcp85_2058.nc\n",
      "ACSNOW_wrf_hourly_gfdl_rcp85_2006.nc  ACSNOW_wrf_hourly_gfdl_rcp85_2059.nc\n",
      "ACSNOW_wrf_hourly_gfdl_rcp85_2007.nc  ACSNOW_wrf_hourly_gfdl_rcp85_2060.nc\n",
      "ACSNOW_wrf_hourly_gfdl_rcp85_2008.nc  ACSNOW_wrf_hourly_gfdl_rcp85_2061.nc\n",
      "ACSNOW_wrf_hourly_gfdl_rcp85_2009.nc  ACSNOW_wrf_hourly_gfdl_rcp85_2062.nc\n",
      "ACSNOW_wrf_hourly_gfdl_rcp85_2010.nc  ACSNOW_wrf_hourly_gfdl_rcp85_2063.nc\n",
      "ACSNOW_wrf_hourly_gfdl_rcp85_2011.nc  ACSNOW_wrf_hourly_gfdl_rcp85_2064.nc\n",
      "ACSNOW_wrf_hourly_gfdl_rcp85_2012.nc  ACSNOW_wrf_hourly_gfdl_rcp85_2065.nc\n",
      "ACSNOW_wrf_hourly_gfdl_rcp85_2013.nc  ACSNOW_wrf_hourly_gfdl_rcp85_2066.nc\n",
      "ACSNOW_wrf_hourly_gfdl_rcp85_2014.nc  ACSNOW_wrf_hourly_gfdl_rcp85_2067.nc\n",
      "ACSNOW_wrf_hourly_gfdl_rcp85_2015.nc  ACSNOW_wrf_hourly_gfdl_rcp85_2068.nc\n",
      "ACSNOW_wrf_hourly_gfdl_rcp85_2016.nc  ACSNOW_wrf_hourly_gfdl_rcp85_2069.nc\n",
      "ACSNOW_wrf_hourly_gfdl_rcp85_2017.nc  ACSNOW_wrf_hourly_gfdl_rcp85_2070.nc\n",
      "ACSNOW_wrf_hourly_gfdl_rcp85_2018.nc  ACSNOW_wrf_hourly_gfdl_rcp85_2071.nc\n",
      "ACSNOW_wrf_hourly_gfdl_rcp85_2019.nc  ACSNOW_wrf_hourly_gfdl_rcp85_2072.nc\n",
      "ACSNOW_wrf_hourly_gfdl_rcp85_2020.nc  ACSNOW_wrf_hourly_gfdl_rcp85_2073.nc\n",
      "ACSNOW_wrf_hourly_gfdl_rcp85_2021.nc  ACSNOW_wrf_hourly_gfdl_rcp85_2074.nc\n",
      "ACSNOW_wrf_hourly_gfdl_rcp85_2022.nc  ACSNOW_wrf_hourly_gfdl_rcp85_2075.nc\n"
     ]
    }
   ],
   "source": [
    "ls /rcs/project_data/WRF_DATA_SEP2019/acsnow"
   ]
  },
  {
   "cell_type": "code",
   "execution_count": 58,
   "id": "1a38aadf-9740-4845-9a4e-7bf69871e679",
   "metadata": {
    "collapsed": true,
    "jupyter": {
     "outputs_hidden": true
    },
    "tags": []
   },
   "outputs": [
    {
     "name": "stdout",
     "output_type": "stream",
     "text": [
      "T_wrf_hourly_ccsm_hist_1970.nc   T_wrf_hourly_gfdl_rcp85_2023.nc\n",
      "T_wrf_hourly_ccsm_rcp85_2005.nc  T_wrf_hourly_gfdl_rcp85_2024.nc\n",
      "T_wrf_hourly_ccsm_rcp85_2006.nc  T_wrf_hourly_gfdl_rcp85_2025.nc\n",
      "T_wrf_hourly_ccsm_rcp85_2007.nc  T_wrf_hourly_gfdl_rcp85_2026.nc\n",
      "T_wrf_hourly_ccsm_rcp85_2008.nc  T_wrf_hourly_gfdl_rcp85_2027.nc\n",
      "T_wrf_hourly_ccsm_rcp85_2009.nc  T_wrf_hourly_gfdl_rcp85_2028.nc\n",
      "T_wrf_hourly_ccsm_rcp85_2010.nc  T_wrf_hourly_gfdl_rcp85_2029.nc\n",
      "T_wrf_hourly_ccsm_rcp85_2011.nc  T_wrf_hourly_gfdl_rcp85_2030.nc\n",
      "T_wrf_hourly_ccsm_rcp85_2012.nc  T_wrf_hourly_gfdl_rcp85_2031.nc\n",
      "T_wrf_hourly_ccsm_rcp85_2013.nc  T_wrf_hourly_gfdl_rcp85_2032.nc\n",
      "T_wrf_hourly_ccsm_rcp85_2014.nc  T_wrf_hourly_gfdl_rcp85_2033.nc\n",
      "T_wrf_hourly_ccsm_rcp85_2015.nc  T_wrf_hourly_gfdl_rcp85_2034.nc\n",
      "T_wrf_hourly_ccsm_rcp85_2016.nc  T_wrf_hourly_gfdl_rcp85_2035.nc\n",
      "T_wrf_hourly_ccsm_rcp85_2017.nc  T_wrf_hourly_gfdl_rcp85_2036.nc\n",
      "T_wrf_hourly_ccsm_rcp85_2018.nc  T_wrf_hourly_gfdl_rcp85_2037.nc\n",
      "T_wrf_hourly_ccsm_rcp85_2019.nc  T_wrf_hourly_gfdl_rcp85_2038.nc\n",
      "T_wrf_hourly_ccsm_rcp85_2020.nc  T_wrf_hourly_gfdl_rcp85_2039.nc\n",
      "T_wrf_hourly_ccsm_rcp85_2021.nc  T_wrf_hourly_gfdl_rcp85_2040.nc\n",
      "T_wrf_hourly_ccsm_rcp85_2022.nc  T_wrf_hourly_gfdl_rcp85_2041.nc\n",
      "T_wrf_hourly_ccsm_rcp85_2023.nc  T_wrf_hourly_gfdl_rcp85_2042.nc\n",
      "T_wrf_hourly_ccsm_rcp85_2024.nc  T_wrf_hourly_gfdl_rcp85_2043.nc\n",
      "T_wrf_hourly_ccsm_rcp85_2025.nc  T_wrf_hourly_gfdl_rcp85_2044.nc\n",
      "T_wrf_hourly_ccsm_rcp85_2026.nc  T_wrf_hourly_gfdl_rcp85_2045.nc\n",
      "T_wrf_hourly_ccsm_rcp85_2027.nc  T_wrf_hourly_gfdl_rcp85_2046.nc\n",
      "T_wrf_hourly_ccsm_rcp85_2028.nc  T_wrf_hourly_gfdl_rcp85_2047.nc\n",
      "T_wrf_hourly_ccsm_rcp85_2029.nc  T_wrf_hourly_gfdl_rcp85_2048.nc\n",
      "T_wrf_hourly_ccsm_rcp85_2030.nc  T_wrf_hourly_gfdl_rcp85_2049.nc\n",
      "T_wrf_hourly_ccsm_rcp85_2031.nc  T_wrf_hourly_gfdl_rcp85_2050.nc\n",
      "T_wrf_hourly_ccsm_rcp85_2032.nc  T_wrf_hourly_gfdl_rcp85_2051.nc\n",
      "T_wrf_hourly_ccsm_rcp85_2033.nc  T_wrf_hourly_gfdl_rcp85_2052.nc\n",
      "T_wrf_hourly_ccsm_rcp85_2034.nc  T_wrf_hourly_gfdl_rcp85_2053.nc\n",
      "T_wrf_hourly_ccsm_rcp85_2035.nc  T_wrf_hourly_gfdl_rcp85_2054.nc\n",
      "T_wrf_hourly_ccsm_rcp85_2036.nc  T_wrf_hourly_gfdl_rcp85_2055.nc\n",
      "T_wrf_hourly_ccsm_rcp85_2037.nc  T_wrf_hourly_gfdl_rcp85_2056.nc\n",
      "T_wrf_hourly_ccsm_rcp85_2038.nc  T_wrf_hourly_gfdl_rcp85_2057.nc\n",
      "T_wrf_hourly_ccsm_rcp85_2039.nc  T_wrf_hourly_gfdl_rcp85_2058.nc\n",
      "T_wrf_hourly_erain_1979.nc       T_wrf_hourly_gfdl_rcp85_2059.nc\n",
      "T_wrf_hourly_gfdl_rcp85_2006.nc  T_wrf_hourly_gfdl_rcp85_2060.nc\n",
      "T_wrf_hourly_gfdl_rcp85_2007.nc  T_wrf_hourly_gfdl_rcp85_2061.nc\n",
      "T_wrf_hourly_gfdl_rcp85_2008.nc  T_wrf_hourly_gfdl_rcp85_2062.nc\n",
      "T_wrf_hourly_gfdl_rcp85_2009.nc  T_wrf_hourly_gfdl_rcp85_2063.nc\n",
      "T_wrf_hourly_gfdl_rcp85_2010.nc  T_wrf_hourly_gfdl_rcp85_2064.nc\n",
      "T_wrf_hourly_gfdl_rcp85_2011.nc  T_wrf_hourly_gfdl_rcp85_2065.nc\n",
      "T_wrf_hourly_gfdl_rcp85_2012.nc  T_wrf_hourly_gfdl_rcp85_2066.nc\n",
      "T_wrf_hourly_gfdl_rcp85_2013.nc  T_wrf_hourly_gfdl_rcp85_2067.nc\n",
      "T_wrf_hourly_gfdl_rcp85_2014.nc  T_wrf_hourly_gfdl_rcp85_2068.nc\n",
      "T_wrf_hourly_gfdl_rcp85_2015.nc  T_wrf_hourly_gfdl_rcp85_2069.nc\n",
      "T_wrf_hourly_gfdl_rcp85_2016.nc  T_wrf_hourly_gfdl_rcp85_2070.nc\n",
      "T_wrf_hourly_gfdl_rcp85_2017.nc  T_wrf_hourly_gfdl_rcp85_2071.nc\n",
      "T_wrf_hourly_gfdl_rcp85_2018.nc  T_wrf_hourly_gfdl_rcp85_2072.nc\n",
      "T_wrf_hourly_gfdl_rcp85_2019.nc  T_wrf_hourly_gfdl_rcp85_2073.nc\n",
      "T_wrf_hourly_gfdl_rcp85_2020.nc  T_wrf_hourly_gfdl_rcp85_2074.nc\n",
      "T_wrf_hourly_gfdl_rcp85_2021.nc  T_wrf_hourly_gfdl_rcp85_2075.nc\n",
      "T_wrf_hourly_gfdl_rcp85_2022.nc\n"
     ]
    }
   ],
   "source": [
    "ls /rcs/project_data/WRF_DATA_SEP2019/t"
   ]
  },
  {
   "cell_type": "code",
   "execution_count": 60,
   "id": "c0e5b87c-4a9f-45ef-8407-c2c4ef701494",
   "metadata": {
    "collapsed": true,
    "jupyter": {
     "outputs_hidden": true
    },
    "tags": []
   },
   "outputs": [
    {
     "name": "stdout",
     "output_type": "stream",
     "text": [
      "PCPT_wrf_hourly_ccsm_hist_1970.nc   PCPT_wrf_hourly_gfdl_rcp85_2023.nc\n",
      "PCPT_wrf_hourly_ccsm_rcp85_2005.nc  PCPT_wrf_hourly_gfdl_rcp85_2024.nc\n",
      "PCPT_wrf_hourly_ccsm_rcp85_2006.nc  PCPT_wrf_hourly_gfdl_rcp85_2025.nc\n",
      "PCPT_wrf_hourly_ccsm_rcp85_2007.nc  PCPT_wrf_hourly_gfdl_rcp85_2026.nc\n",
      "PCPT_wrf_hourly_ccsm_rcp85_2008.nc  PCPT_wrf_hourly_gfdl_rcp85_2027.nc\n",
      "PCPT_wrf_hourly_ccsm_rcp85_2009.nc  PCPT_wrf_hourly_gfdl_rcp85_2028.nc\n",
      "PCPT_wrf_hourly_ccsm_rcp85_2010.nc  PCPT_wrf_hourly_gfdl_rcp85_2029.nc\n",
      "PCPT_wrf_hourly_ccsm_rcp85_2011.nc  PCPT_wrf_hourly_gfdl_rcp85_2030.nc\n",
      "PCPT_wrf_hourly_ccsm_rcp85_2012.nc  PCPT_wrf_hourly_gfdl_rcp85_2031.nc\n",
      "PCPT_wrf_hourly_ccsm_rcp85_2013.nc  PCPT_wrf_hourly_gfdl_rcp85_2032.nc\n",
      "PCPT_wrf_hourly_ccsm_rcp85_2014.nc  PCPT_wrf_hourly_gfdl_rcp85_2033.nc\n",
      "PCPT_wrf_hourly_ccsm_rcp85_2015.nc  PCPT_wrf_hourly_gfdl_rcp85_2034.nc\n",
      "PCPT_wrf_hourly_ccsm_rcp85_2016.nc  PCPT_wrf_hourly_gfdl_rcp85_2035.nc\n",
      "PCPT_wrf_hourly_ccsm_rcp85_2017.nc  PCPT_wrf_hourly_gfdl_rcp85_2036.nc\n",
      "PCPT_wrf_hourly_ccsm_rcp85_2018.nc  PCPT_wrf_hourly_gfdl_rcp85_2037.nc\n",
      "PCPT_wrf_hourly_ccsm_rcp85_2019.nc  PCPT_wrf_hourly_gfdl_rcp85_2038.nc\n",
      "PCPT_wrf_hourly_ccsm_rcp85_2020.nc  PCPT_wrf_hourly_gfdl_rcp85_2039.nc\n",
      "PCPT_wrf_hourly_ccsm_rcp85_2021.nc  PCPT_wrf_hourly_gfdl_rcp85_2040.nc\n",
      "PCPT_wrf_hourly_ccsm_rcp85_2022.nc  PCPT_wrf_hourly_gfdl_rcp85_2041.nc\n",
      "PCPT_wrf_hourly_ccsm_rcp85_2023.nc  PCPT_wrf_hourly_gfdl_rcp85_2042.nc\n",
      "PCPT_wrf_hourly_ccsm_rcp85_2024.nc  PCPT_wrf_hourly_gfdl_rcp85_2043.nc\n",
      "PCPT_wrf_hourly_ccsm_rcp85_2025.nc  PCPT_wrf_hourly_gfdl_rcp85_2044.nc\n",
      "PCPT_wrf_hourly_ccsm_rcp85_2026.nc  PCPT_wrf_hourly_gfdl_rcp85_2045.nc\n",
      "PCPT_wrf_hourly_ccsm_rcp85_2027.nc  PCPT_wrf_hourly_gfdl_rcp85_2046.nc\n",
      "PCPT_wrf_hourly_ccsm_rcp85_2028.nc  PCPT_wrf_hourly_gfdl_rcp85_2047.nc\n",
      "PCPT_wrf_hourly_ccsm_rcp85_2029.nc  PCPT_wrf_hourly_gfdl_rcp85_2048.nc\n",
      "PCPT_wrf_hourly_ccsm_rcp85_2030.nc  PCPT_wrf_hourly_gfdl_rcp85_2049.nc\n",
      "PCPT_wrf_hourly_ccsm_rcp85_2031.nc  PCPT_wrf_hourly_gfdl_rcp85_2050.nc\n",
      "PCPT_wrf_hourly_ccsm_rcp85_2032.nc  PCPT_wrf_hourly_gfdl_rcp85_2051.nc\n",
      "PCPT_wrf_hourly_ccsm_rcp85_2033.nc  PCPT_wrf_hourly_gfdl_rcp85_2052.nc\n",
      "PCPT_wrf_hourly_ccsm_rcp85_2034.nc  PCPT_wrf_hourly_gfdl_rcp85_2053.nc\n",
      "PCPT_wrf_hourly_ccsm_rcp85_2035.nc  PCPT_wrf_hourly_gfdl_rcp85_2054.nc\n",
      "PCPT_wrf_hourly_ccsm_rcp85_2036.nc  PCPT_wrf_hourly_gfdl_rcp85_2055.nc\n",
      "PCPT_wrf_hourly_ccsm_rcp85_2037.nc  PCPT_wrf_hourly_gfdl_rcp85_2056.nc\n",
      "PCPT_wrf_hourly_ccsm_rcp85_2038.nc  PCPT_wrf_hourly_gfdl_rcp85_2057.nc\n",
      "PCPT_wrf_hourly_ccsm_rcp85_2039.nc  PCPT_wrf_hourly_gfdl_rcp85_2058.nc\n",
      "PCPT_wrf_hourly_gfdl_rcp85_2006.nc  PCPT_wrf_hourly_gfdl_rcp85_2059.nc\n",
      "PCPT_wrf_hourly_gfdl_rcp85_2007.nc  PCPT_wrf_hourly_gfdl_rcp85_2060.nc\n",
      "PCPT_wrf_hourly_gfdl_rcp85_2008.nc  PCPT_wrf_hourly_gfdl_rcp85_2061.nc\n",
      "PCPT_wrf_hourly_gfdl_rcp85_2009.nc  PCPT_wrf_hourly_gfdl_rcp85_2062.nc\n",
      "PCPT_wrf_hourly_gfdl_rcp85_2010.nc  PCPT_wrf_hourly_gfdl_rcp85_2063.nc\n",
      "PCPT_wrf_hourly_gfdl_rcp85_2011.nc  PCPT_wrf_hourly_gfdl_rcp85_2064.nc\n",
      "PCPT_wrf_hourly_gfdl_rcp85_2012.nc  PCPT_wrf_hourly_gfdl_rcp85_2065.nc\n",
      "PCPT_wrf_hourly_gfdl_rcp85_2013.nc  PCPT_wrf_hourly_gfdl_rcp85_2066.nc\n",
      "PCPT_wrf_hourly_gfdl_rcp85_2014.nc  PCPT_wrf_hourly_gfdl_rcp85_2067.nc\n",
      "PCPT_wrf_hourly_gfdl_rcp85_2015.nc  PCPT_wrf_hourly_gfdl_rcp85_2068.nc\n",
      "PCPT_wrf_hourly_gfdl_rcp85_2016.nc  PCPT_wrf_hourly_gfdl_rcp85_2069.nc\n",
      "PCPT_wrf_hourly_gfdl_rcp85_2017.nc  PCPT_wrf_hourly_gfdl_rcp85_2070.nc\n",
      "PCPT_wrf_hourly_gfdl_rcp85_2018.nc  PCPT_wrf_hourly_gfdl_rcp85_2071.nc\n",
      "PCPT_wrf_hourly_gfdl_rcp85_2019.nc  PCPT_wrf_hourly_gfdl_rcp85_2072.nc\n",
      "PCPT_wrf_hourly_gfdl_rcp85_2020.nc  PCPT_wrf_hourly_gfdl_rcp85_2073.nc\n",
      "PCPT_wrf_hourly_gfdl_rcp85_2021.nc  PCPT_wrf_hourly_gfdl_rcp85_2074.nc\n",
      "PCPT_wrf_hourly_gfdl_rcp85_2022.nc  PCPT_wrf_hourly_gfdl_rcp85_2075.nc\n"
     ]
    }
   ],
   "source": [
    "ls /rcs/project_data/WRF_DATA_SEP2019/pcpt"
   ]
  },
  {
   "cell_type": "markdown",
   "id": "3cb7196d-f22c-4a30-8e5f-c29d1d712c7f",
   "metadata": {},
   "source": [
    "#### `hourly` / `hourly_fix`?\n",
    "\n",
    "Another point of confusion is whether these data correspond to the re-stacked and un-\"fixed\" data, or the final post-processed product. According to the wind-repair notebook linked above, these data do indeed match data that has been restacked using the most recent version of the restacking code. This means they should correspond to the data in `/rcs/project_data/wrf_data/hourly/`, if *those* data were also restacked using the most recent code. So here is a check to see whether these data actually match the data in `/rcs/project_data/wrf_data/hourly/` for a variety of variable/year/model combinations:"
   ]
  },
  {
   "cell_type": "code",
   "execution_count": 109,
   "id": "cea8ec0e-45e0-405b-bcce-6ab748a08c22",
   "metadata": {},
   "outputs": [
    {
     "name": "stdout",
     "output_type": "stream",
     "text": [
      "Variable: acsnow; Model: ccsm......match: True\n",
      "Variable: acsnow; Model: gfdl......match: True\n",
      "Variable: pcpt; Model: ccsm......match: True\n",
      "Variable: pcpt; Model: gfdl......match: True\n",
      "Variable: t2; Model: ccsm......match: True\n",
      "Variable: t2; Model: gfdl......match: True\n",
      "Variable: lwupb; Model: ccsm......match: True\n",
      "Variable: lwupb; Model: gfdl......match: True\n",
      "Variable: snow; Model: ccsm......match: True\n",
      "Variable: snow; Model: gfdl......match: True\n",
      "Variable: ght; Model: ccsm......match: True\n",
      "Variable: ght; Model: gfdl......match: True\n"
     ]
    }
   ],
   "source": [
    "import xarray as xr\n",
    "import numpy as np\n",
    "import itertools\n",
    "from pathlib import Path\n",
    "\n",
    "def compare_restacked_data(restacked_fp, original_fp, var, year, month=None, day=None):\n",
    "    if month is None:\n",
    "        month = str(np.random.randint(1, 12)).zfill(2)\n",
    "    if day is None:\n",
    "        day = str(np.random.randint(1, 28)).zfill(2)\n",
    "        \n",
    "    with xr.open_dataset(restacked_fp) as ds:\n",
    "        restacked_arr = ds[var].sel(time=f\"{year}-{month}-{day}T00:00:00\").values\n",
    "\n",
    "    with xr.open_dataset(original_fp) as ds:\n",
    "        original_arr = ds[var].sel(time=f\"{year}-{month}-{day}T00:00:00\").values\n",
    "\n",
    "    print(\"match:\", np.all(original_arr == restacked_arr))\n",
    "\n",
    "\n",
    "original_dir = Path(\"/rcs/project_data/wrf_data/hourly\")\n",
    "sep19_dir = Path(\"/rcs/project_data/WRF_DATA_SEP2019\")\n",
    "\n",
    "# some random variables (not wind on purpose because this \n",
    "# directory does not have them because of wind issue\n",
    "variables = [\"acsnow\", \"pcpt\", \"t2\", \"lwupb\", \"snow\", \"ght\"]\n",
    "models = [\"ccsm\", \"gfdl\"]\n",
    "year = 2012\n",
    "\n",
    "for var, model in itertools.product(variables, models):\n",
    "    og_fp = list(original_dir.joinpath(var).glob(f\"*{model}*{year}*\"))[0]\n",
    "    s19_fp = list(sep19_dir.joinpath(var).glob(f\"*{model}*{year}*\"))[0]\n",
    "    print(f\"Variable: {var}; Model: {model}\", end=\"......\")\n",
    "    print(\"size:\", s19_fp.stat().st_size == og_fp.stat().st_size, end=\"...\")\n",
    "    compare_restacked_data(s19_fp, og_fp, var.upper(), year)"
   ]
  },
  {
   "cell_type": "markdown",
   "id": "d30f6aba-396a-4270-b87d-4fae94d40d94",
   "metadata": {},
   "source": [
    "This is somewhat unexpected, because according to the WRF wind repair efforts, the wind data in this folder were different from what was in `wrf_data/hourly`. Can't re-verify directly because those non-matchings files were cleaned out of there because they were assumed bad. But some were saved in `/rcs/project_data/wrf_data/wind-issue/incorrect_samples/hourly`. So compare with these data again to make sure:"
   ]
  },
  {
   "cell_type": "code",
   "execution_count": 145,
   "id": "6d3739f1-075a-4a44-9cfb-66533db722fb",
   "metadata": {},
   "outputs": [
    {
     "name": "stdout",
     "output_type": "stream",
     "text": [
      "Variable: U10; Model: ccsm......size: False...match: False\n",
      "Variable: U10; Model: gfdl......size: False...match: False\n",
      "Variable: UBOT; Model: ccsm......size: False...match: False\n",
      "Variable: UBOT; Model: gfdl......size: False...match: False\n",
      "Variable: V10; Model: ccsm......size: False...match: False\n",
      "Variable: V10; Model: gfdl......size: False...match: False\n",
      "Variable: VBOT; Model: ccsm......size: False...match: False\n",
      "Variable: VBOT; Model: gfdl......size: False...match: False\n"
     ]
    }
   ],
   "source": [
    "bad_dir = Path(\"/rcs/project_data/wrf_data/wind-issue/incorrect_samples/hourly\")\n",
    "\n",
    "# some random variables (not wind on purpose because this \n",
    "# directory does not have them because of wind issue\n",
    "variables = [\"U10\", \"UBOT\", \"V10\", \"VBOT\"]\n",
    "models = [\"ccsm\", \"gfdl\"]\n",
    "year = 2006\n",
    "\n",
    "for var, model in itertools.product(variables, models):\n",
    "    bad_fp = list(bad_dir.glob(f\"*{var.upper()}*{model}*{year}*\"))[0]\n",
    "    s19_fp = list(sep19_dir.joinpath(var).glob(f\"*{var.upper()}*{model}*{year}*\"))[0]\n",
    "    print(f\"Variable: {var}; Model: {model}\", end=\"......\")\n",
    "    print(\"size:\", s19_fp.stat().st_size == bad_fp.stat().st_size, end=\"...\")\n",
    "    compare_restacked_data(s19_fp, bad_fp, var.upper(), year)"
   ]
  },
  {
   "cell_type": "markdown",
   "id": "4d65dbc6-1198-43b1-af7a-1ccba4d23a0f",
   "metadata": {},
   "source": [
    "Okay so it looks like the wind variables don't match but potentially other variables do. \n",
    "\n",
    "This means we should verify that all non-wind variables in `/rcs/project_data/wrf_data/hourly/` match what's in `WRF_DATA_SEP2019`. We will do so by checking that filesizes match between all files:"
   ]
  },
  {
   "cell_type": "code",
   "execution_count": 342,
   "id": "cbde0c5e-3c0d-45c6-9fc0-04db97b9ce70",
   "metadata": {},
   "outputs": [
    {
     "name": "stdout",
     "output_type": "stream",
     "text": [
      "Done, 64.7m\n"
     ]
    }
   ],
   "source": [
    "from multiprocessing import Pool\n",
    "import time\n",
    "\n",
    "def compare_files(fp, seed, search_dir=original_dir):\n",
    "    \"\"\"Lookup a file with same name as fp in \n",
    "    search_dir and compare sizes, and whether\n",
    "    file values for a random time slice are the same.\n",
    "    \"\"\"\n",
    "    test_fp = Path(search_dir.joinpath(f\"{fp.parent.name}/{fp.name}\"))\n",
    "    var = fp.parent.name\n",
    "    year = fp.name.split(\"_\")[-1].split(\".\")[0]\n",
    "    local_state = np.random.RandomState(seed)\n",
    "    month = str(local_state.randint(1, 12)).zfill(2)\n",
    "    day = str(local_state.randint(1, 28)).zfill(2)\n",
    "    \n",
    "    if test_fp.exists():\n",
    "        size_result = test_fp.stat().st_size == fp.stat().st_size\n",
    "        try:\n",
    "            with xr.open_dataset(fp) as ds1:\n",
    "                arr1 = ds1[var.upper()].sel(time=f\"{year}-{month}-{day}T00:00:00\", x=slice(100, 150), y=slice(100, 150)).values\n",
    "            bad_fp = False\n",
    "        except OSError:\n",
    "            bad_fp = fp\n",
    "        except KeyError:\n",
    "            bad_fp = f\"{fp} TYPE 2\"\n",
    "            \n",
    "        try:\n",
    "            with xr.open_dataset(test_fp) as ds2:\n",
    "                arr2 = ds2[var.upper()].sel(time=f\"{year}-{month}-{day}T00:00:00\", x=slice(100, 150), y=slice(100, 150)).values\n",
    "            bad_test_fp = False\n",
    "        except OSError:\n",
    "            bad_test_fp = test_fp\n",
    "        except KeyError:\n",
    "            bad_test_fp = f\"{test_fp} TYPE 2\"\n",
    "        \n",
    "        if (not bad_fp) & (not bad_test_fp):\n",
    "            arr_result = np.all(np.isclose(arr1, arr2))\n",
    "        else:\n",
    "            arr_result = f\"bad fp: {bad_fp}. Bad test fp: {bad_test_fp}\"\n",
    "    else:\n",
    "        size_result = None\n",
    "        arr_result = None\n",
    "    \n",
    "    return {\n",
    "        \"fp\": fp.name, \n",
    "        \"variable\": fp.parent.name, \n",
    "        \"year\": year, \n",
    "        \"month\": month, \n",
    "        \"day\": day, \n",
    "        \"size_result\": size_result, \n",
    "        \"arr_result\": arr_result\n",
    "    }\n",
    "    \n",
    "\n",
    "# get all files in WRF_DATA_SEP2019\n",
    "s19_fps = list(sep19_dir.glob(\"*/*.nc\"))\n",
    "\n",
    "args = list(zip(s19_fps, np.arange(len(s19_fps))))\n",
    "\n",
    "tic = time.perf_counter()\n",
    "\n",
    "# commented out to resume from 2575\n",
    "#results = []\n",
    "for arg in args[2575:]:\n",
    "    results.append(compare_files(*arg))\n",
    "\n",
    "print(f\"Done, {round((time.perf_counter() - tic) / 60, 1)}m\")"
   ]
  },
  {
   "cell_type": "code",
   "execution_count": 311,
   "id": "b253331a-4586-4115-961a-85b84c63bf20",
   "metadata": {},
   "outputs": [],
   "source": [
    "ds = xr.open_dataset(\"/rcs/project_data/wrf_data/hourly/ght/GHT_wrf_hourly_ccsm_rcp85_2040.nc\")"
   ]
  },
  {
   "cell_type": "code",
   "execution_count": 325,
   "id": "6514bd83-199f-42a8-97f8-6a3ef6e7d5e0",
   "metadata": {},
   "outputs": [],
   "source": [
    "ds = xr.open_dataset(\"/rcs/project_data/WRF_DATA_SEP2019/ght/GHT_wrf_hourly_ccsm_rcp85_2040.nc\")"
   ]
  },
  {
   "cell_type": "code",
   "execution_count": 343,
   "id": "0955dd26-7ef0-40e1-874f-0768897f4f71",
   "metadata": {},
   "outputs": [],
   "source": [
    "result_df = pd.DataFrame(results)"
   ]
  },
  {
   "cell_type": "code",
   "execution_count": 347,
   "id": "c3bdcb20-e65f-4418-a790-10a971b2631f",
   "metadata": {},
   "outputs": [
    {
     "data": {
      "text/plain": [
       "False"
      ]
     },
     "execution_count": 350,
     "metadata": {},
     "output_type": "execute_result"
    }
   ],
   "source": [
    "result_df[type(result_df[\"arr_result\"] == ]"
   ]
  },
  {
   "cell_type": "code",
   "execution_count": 348,
   "id": "9da5a51a-be75-469a-8beb-5e0da64e8d12",
   "metadata": {},
   "outputs": [
    {
     "data": {
      "text/plain": [
       "str"
      ]
     },
     "execution_count": 348,
     "metadata": {},
     "output_type": "execute_result"
    }
   ],
   "source": [
    "type(\"t\")"
   ]
  },
  {
   "cell_type": "code",
   "execution_count": 352,
   "id": "14c37f3a-e005-4dc6-971b-ca04616e2603",
   "metadata": {},
   "outputs": [
    {
     "name": "stdout",
     "output_type": "stream",
     "text": [
      "/bin/bash: aws: command not found\n"
     ]
    }
   ],
   "source": [
    "!aws s3 ls wrf-ak-ar5"
   ]
  },
  {
   "cell_type": "code",
   "execution_count": 354,
   "id": "06c14616-0c64-4b3b-86b2-f5276abc0278",
   "metadata": {},
   "outputs": [],
   "source": [
    "def get_var_usage(fp_size):\n",
    "    \"\"\"Estimate disk usage for WRF variable\n",
    "    based on 36 historical years of ERA, GFDL, and CCSM,\n",
    "    and 95 future years of GFDL and CCSM, from the filesize in GB\n",
    "    \"\"\"\n",
    "    return ((37 * fp_size * 3) + (2 * 95 * fp_size))\n",
    "\n",
    "sizes_di = {\n",
    "    \"acsnow\": .315, \n",
    "    \"albedo\": .3, \n",
    "    \"canwat\": .2, \n",
    "    \"cldfra_high\": .3, \n",
    "    \"cldfra_low\": .65, \n",
    "    \"cldfra_mid\": .35, \n",
    "    \"cldfra\": 0.9, \n",
    "    \"ght\": 13.2,\n",
    "    \"hfx\": .75, \n",
    "    \"lh\": .75, \n",
    "    \"lwdnb\": 1.1,\n",
    "    \"lwdnbc\": 0.92, \n",
    "    \"lwupb\": 0.9, \n",
    "    \"lwupbc\": 0.85, \n",
    "    \"omega\": 24, \n",
    "    \"pcpc\": 0.2, \n",
    "    \"pcpnc\": 0.6, \n",
    "    \"pcpt\": 0.7, \n",
    "    \"potevp\": 0.55, \n",
    "    \"psfc\": 0.85, \n",
    "    \"q2\": 1.5, \n",
    "    \"qbot\": 1.5, \n",
    "    \"qvapor\": 18, \n",
    "    \"seaice\": 0.01, \n",
    "    \"sh2o\": 0.83, \n",
    "    \"slp\": 1, \n",
    "    \"smois\": 0.57, \n",
    "    \"snow\": 0.37, \n",
    "    \"snowc\": 0.06, \n",
    "    \"snowh\": 0.53, \n",
    "    \"swdnb\": 0.6, \n",
    "    \"swdnbc\": 0.45, \n",
    "    \"swupb\": 0.57, \n",
    "    \"swupbc\": 0.44, \n",
    "    \"t\": 13.5, \n",
    "    \"t2\": 1.1, \n",
    "    \"tbot\": 1.1, \n",
    "    \"tsk\": 1, \n",
    "    \"tslb\": 2.6, \n",
    "    \"u\": 21.2, \n",
    "    \"u10\": 1.7,\n",
    "    \"ubot\": 1.7, \n",
    "    \"v\": 21.7, \n",
    "    \"v10\": 1.7, \n",
    "    \"vbot\": 1.7, \n",
    "    \"vegfra\": 0.03\n",
    "}\n",
    "\n",
    "total_sizes = [get_var_usage(size) for size in sizes_di.values()]"
   ]
  },
  {
   "cell_type": "code",
   "execution_count": 357,
   "id": "750d63fe-7265-487f-bc94-f4f546c204bc",
   "metadata": {},
   "outputs": [
    {
     "data": {
      "text/plain": [
       "43297.34499999999"
      ]
     },
     "execution_count": 357,
     "metadata": {},
     "output_type": "execute_result"
    }
   ],
   "source": [
    "np.sum(total_sizes)"
   ]
  },
  {
   "cell_type": "code",
   "execution_count": 360,
   "id": "35319593-f3bd-408b-b68a-518adf6d998c",
   "metadata": {},
   "outputs": [
    {
     "data": {
      "text/plain": [
       "6381.2"
      ]
     },
     "execution_count": 360,
     "metadata": {},
     "output_type": "execute_result"
    }
   ],
   "source": [
    "get_var_usage(21.2)"
   ]
  },
  {
   "cell_type": "code",
   "execution_count": null,
   "id": "72975406-a0b8-4208-9aec-43ccf4aedabb",
   "metadata": {},
   "outputs": [],
   "source": []
  },
  {
   "cell_type": "code",
   "execution_count": 272,
   "id": "0ff613e0-54f8-4d22-90b4-f662c478c3e1",
   "metadata": {},
   "outputs": [],
   "source": [
    "fp = \"/rcs/project_data/WRF_DATA_SEP2019/pcpnc/PCPNC_wrf_hourly_ccsm_rcp85_2013.nc\"\n",
    "\n",
    "ds = xr.open_dataset(fp)"
   ]
  },
  {
   "cell_type": "code",
   "execution_count": 269,
   "id": "e882ca18-3d13-4faa-804b-a6c13d87bd8b",
   "metadata": {},
   "outputs": [
    {
     "name": "stdout",
     "output_type": "stream",
     "text": [
      "-rw-rw----. 1 snap-smb dyndown 720059105 Mar  8  2019 /rcs/project_data/wrf_data/hourly/pcpnc/PCPNC_wrf_hourly_ccsm_rcp85_2013.nc\n"
     ]
    }
   ],
   "source": [
    "ncdump /rcs/project_data/wrf_data/hourly/pcpnc/PCPNC_wrf_hourly_ccsm_rcp85_2013.nc"
   ]
  },
  {
   "cell_type": "code",
   "execution_count": 281,
   "id": "8e1c0320-0733-4dc5-87f4-f8018e355c79",
   "metadata": {},
   "outputs": [
    {
     "name": "stdout",
     "output_type": "stream",
     "text": [
      "21T\t/rcs/project_data/wrf_data/hourly_fix\n"
     ]
    }
   ],
   "source": [
    "!du -sh /rcs/project_data/wrf_data/hourly_fix"
   ]
  },
  {
   "cell_type": "code",
   "execution_count": 282,
   "id": "9c0aaab5-d0e2-4938-ae3a-557c49d11ba1",
   "metadata": {},
   "outputs": [
    {
     "name": "stdout",
     "output_type": "stream",
     "text": [
      "50G\t/rcs/project_data/wrf_data/daily\n"
     ]
    }
   ],
   "source": [
    "!du -sh /rcs/project_data/wrf_data/daily"
   ]
  },
  {
   "cell_type": "code",
   "execution_count": 288,
   "id": "74523961-d06e-41ee-af3a-29b6d5ff948b",
   "metadata": {},
   "outputs": [],
   "source": [
    "test = False\n",
    "if test:\n",
    "    print(\"test\")"
   ]
  },
  {
   "cell_type": "code",
   "execution_count": 234,
   "id": "bd1c36a5-78d6-4a02-8412-470eb74b63f0",
   "metadata": {},
   "outputs": [
    {
     "data": {
      "text/plain": [
       "<matplotlib.image.AxesImage at 0x7f0323eaff10>"
      ]
     },
     "execution_count": 234,
     "metadata": {},
     "output_type": "execute_result"
    },
    {
     "data": {
      "image/png": "[encoded data removed]",
      "text/plain": [
       "<Figure size 432x288 with 1 Axes>"
      ]
     },
     "metadata": {
      "needs_background": "light"
     },
     "output_type": "display_data"
    }
   ],
   "source": [
    "import matplotlib.pyplot as plt\n",
    "\n",
    "plt.imshow(ds[\"U10\"].sel(time=\"2006-01-01T00:00:00\", x=slice(100, 150), y=slice(100, 150)).values)\n"
   ]
  },
  {
   "cell_type": "code",
   "execution_count": 245,
   "id": "ff50c8b9-8acd-4e03-a2a7-6fd6a171b706",
   "metadata": {},
   "outputs": [
    {
     "data": {
      "text/plain": [
       "1"
      ]
     },
     "execution_count": 245,
     "metadata": {},
     "output_type": "execute_result"
    }
   ],
   "source": [
    "np.random.RandomState(123456789)\n",
    "np.random.randint(1, 12)"
   ]
  },
  {
   "cell_type": "code",
   "execution_count": 237,
   "id": "2c2f294f-187a-4ac5-b5f3-5e2d6743d1c2",
   "metadata": {},
   "outputs": [],
   "source": [
    "import pandas as pd\n",
    "\n",
    "df = pd.DataFrame(out)"
   ]
  },
  {
   "cell_type": "code",
   "execution_count": 189,
   "id": "493eaf41-d745-4305-8244-264a4558c818",
   "metadata": {},
   "outputs": [
    {
     "data": {
      "text/plain": [
       "PosixPath('/rcs/project_data/WRF_DATA_SEP2019/acsnow/ACSNOW_wrf_hourly_gfdl_rcp85_2006.nc')"
      ]
     },
     "execution_count": 189,
     "metadata": {},
     "output_type": "execute_result"
    }
   ],
   "source": [
    "df[(df[\"result\"] == False) & (df[\"variable\"] == \"acsnow\")].iloc[0].fp"
   ]
  },
  {
   "cell_type": "code",
   "execution_count": 208,
   "id": "c753c53c-2863-4209-af2b-3b003e4d6e3f",
   "metadata": {},
   "outputs": [
    {
     "name": "stdout",
     "output_type": "stream",
     "text": [
      "331460614\n",
      "331429953\n",
      "Arrays match: True\n"
     ]
    }
   ],
   "source": [
    "fp = Path(\"/rcs/project_data/WRF_DATA_SEP2019/acsnow/ACSNOW_wrf_hourly_gfdl_rcp85_2006.nc\")\n",
    "test_fp = Path(\"/rcs/project_data/wrf_data/hourly/acsnow/ACSNOW_wrf_hourly_gfdl_rcp85_2006.nc\")\n",
    "\n",
    "print(fp.stat().st_size)\n",
    "print(test_fp.stat().st_size)\n",
    "\n",
    "var = fp.parent.name\n",
    "year = fp.name.split(\"_\")[-1].split(\".\")[0]\n",
    "month = \"02\"\n",
    "day = \"01\"\n",
    "\n",
    "with xr.open_dataset(fp) as ds1:\n",
    "    with xr.open_dataset(test_fp) as ds2:\n",
    "        arr1 = ds1[var.upper()].sel(time=f\"{year}-{month}-{day}T00:00:00\").values\n",
    "        arr2 = ds2[var.upper()].sel(time=f\"{year}-{month}-{day}T00:00:00\").values\n",
    "        \n",
    "print(\"Arrays match:\", np.all(np.isclose(arr1, arr2)))"
   ]
  },
  {
   "cell_type": "code",
   "execution_count": 201,
   "id": "2556a0f2-65de-4f05-9a39-b77d9866a78c",
   "metadata": {},
   "outputs": [],
   "source": []
  },
  {
   "cell_type": "code",
   "execution_count": 206,
   "id": "a463fe8e-bad8-4b51-a5cc-aad7cd6f5fa9",
   "metadata": {},
   "outputs": [
    {
     "data": {
      "text/plain": [
       "0.10079999"
      ]
     },
     "execution_count": 206,
     "metadata": {},
     "output_type": "execute_result"
    }
   ],
   "source": [
    "arr1[69, 250]"
   ]
  },
  {
   "cell_type": "code",
   "execution_count": 207,
   "id": "f2ac6f56-bd1f-4b9f-87d0-122fabb7cdef",
   "metadata": {},
   "outputs": [
    {
     "data": {
      "text/plain": [
       "0.1008"
      ]
     },
     "execution_count": 207,
     "metadata": {},
     "output_type": "execute_result"
    }
   ],
   "source": [
    "arr2[69, 250]"
   ]
  },
  {
   "cell_type": "code",
   "execution_count": 161,
   "id": "b11c56d0-9df7-49c6-982e-f9dbc4a60519",
   "metadata": {},
   "outputs": [],
   "source": [
    "test_fp = Path('/rcs/project_data/wrf_data/hourly/albedo/ALBEDO_wrf_hourly_gfdl_rcp85_2006.nc')"
   ]
  },
  {
   "cell_type": "code",
   "execution_count": 162,
   "id": "2ddd19dc-61fc-4219-95ac-eb0c1c277cc7",
   "metadata": {},
   "outputs": [
    {
     "data": {
      "text/plain": [
       "301873358"
      ]
     },
     "execution_count": 162,
     "metadata": {},
     "output_type": "execute_result"
    }
   ],
   "source": [
    "test_fp.stat().st_size"
   ]
  },
  {
   "cell_type": "code",
   "execution_count": 164,
   "id": "e98b62c3-d502-4077-91f2-5df6503119fa",
   "metadata": {},
   "outputs": [
    {
     "data": {
      "text/plain": [
       "301908076"
      ]
     },
     "execution_count": 164,
     "metadata": {},
     "output_type": "execute_result"
    }
   ],
   "source": [
    "fp = Path('/rcs/project_data/WRF_DATA_SEP2019/albedo/ALBEDO_wrf_hourly_gfdl_rcp85_2006.nc')\n",
    "fp.stat().st_size"
   ]
  },
  {
   "cell_type": "code",
   "execution_count": null,
   "id": "3a52e068-1bda-4bfb-bb19-72dcdc848675",
   "metadata": {},
   "outputs": [],
   "source": []
  },
  {
   "cell_type": "code",
   "execution_count": 143,
   "id": "5268484c-9808-4e18-b69c-9af0efd9058b",
   "metadata": {},
   "outputs": [
    {
     "name": "stdout",
     "output_type": "stream",
     "text": [
      "\u001b[0m\u001b[01;34macsnow\u001b[0m/       \u001b[01;34mlwupbc\u001b[0m/     \u001b[01;34mslp\u001b[0m/          test-all-wrf-data-June2019.csv\n",
      "\u001b[01;34malbedo\u001b[0m/       \u001b[01;34momega\u001b[0m/      \u001b[01;34msmois\u001b[0m/        test-all-wrf-data-June2019_prepped.csv\n",
      "\u001b[01;34mcanwat\u001b[0m/       \u001b[01;34mpcpc\u001b[0m/       \u001b[01;34msnow\u001b[0m/         \u001b[01;34mtsk\u001b[0m/\n",
      "\u001b[01;34mcldfra\u001b[0m/       \u001b[01;34mpcpnc\u001b[0m/      \u001b[01;34msnowc\u001b[0m/        \u001b[01;34mtslb\u001b[0m/\n",
      "\u001b[01;34mcldfra_high\u001b[0m/  \u001b[01;34mpcpt\u001b[0m/       \u001b[01;34msnowh\u001b[0m/        \u001b[01;34mu\u001b[0m/\n",
      "\u001b[01;34mcldfra_low\u001b[0m/   \u001b[01;34mpotevp\u001b[0m/     \u001b[01;34mswdnb\u001b[0m/        \u001b[01;34mu10\u001b[0m/\n",
      "\u001b[01;34mcldfra_mid\u001b[0m/   \u001b[01;34mpsfc\u001b[0m/       \u001b[01;34mswdnbc\u001b[0m/       \u001b[01;34mubot\u001b[0m/\n",
      "\u001b[01;34mght\u001b[0m/          \u001b[01;34mq2\u001b[0m/         \u001b[01;34mswupb\u001b[0m/        \u001b[01;34mv\u001b[0m/\n",
      "\u001b[01;34mhfx\u001b[0m/          \u001b[01;34mqbot\u001b[0m/       \u001b[01;34mswupbc\u001b[0m/       \u001b[01;34mv10\u001b[0m/\n",
      "\u001b[01;34mlh\u001b[0m/           \u001b[01;34mqvapor\u001b[0m/     sync_dirs.sh  \u001b[01;34mvbot\u001b[0m/\n",
      "\u001b[01;34mlwdnb\u001b[0m/        README.txt  \u001b[01;34mt\u001b[0m/            \u001b[01;34mvegfra\u001b[0m/\n",
      "\u001b[01;34mlwdnbc\u001b[0m/       \u001b[01;34mseaice\u001b[0m/     \u001b[01;34mt2\u001b[0m/\n",
      "\u001b[01;34mlwupb\u001b[0m/        \u001b[01;34msh2o\u001b[0m/       \u001b[01;34mtbot\u001b[0m/\n"
     ]
    }
   ],
   "source": [
    "ls /rcs/project_data/wrf_data/hourly_fix/"
   ]
  },
  {
   "cell_type": "code",
   "execution_count": 130,
   "id": "a712e0bb-8f11-47ed-9e82-731b89f394ca",
   "metadata": {},
   "outputs": [
    {
     "data": {
      "text/html": [
       "<div><svg style=\"position: absolute; width: 0; height: 0; overflow: hidden\">\n",
       "<defs>\n",
       "<symbol id=\"icon-database\" viewBox=\"0 0 32 32\">\n",
       "<path d=\"M16 0c-8.837 0-16 2.239-16 5v4c0 2.761 7.163 5 16 5s16-2.239 16-5v-4c0-2.761-7.163-5-16-5z\"></path>\n",
       "<path d=\"M16 17c-8.837 0-16-2.239-16-5v6c0 2.761 7.163 5 16 5s16-2.239 16-5v-6c0 2.761-7.163 5-16 5z\"></path>\n",
       "<path d=\"M16 26c-8.837 0-16-2.239-16-5v6c0 2.761 7.163 5 16 5s16-2.239 16-5v-6c0 2.761-7.163 5-16 5z\"></path>\n",
       "</symbol>\n",
       "<symbol id=\"icon-file-text2\" viewBox=\"0 0 32 32\">\n",
       "<path d=\"M28.681 7.159c-0.694-0.947-1.662-2.053-2.724-3.116s-2.169-2.030-3.116-2.724c-1.612-1.182-2.393-1.319-2.841-1.319h-15.5c-1.378 0-2.5 1.121-2.5 2.5v27c0 1.378 1.122 2.5 2.5 2.5h23c1.378 0 2.5-1.122 2.5-2.5v-19.5c0-0.448-0.137-1.23-1.319-2.841zM24.543 5.457c0.959 0.959 1.712 1.825 2.268 2.543h-4.811v-4.811c0.718 0.556 1.584 1.309 2.543 2.268zM28 29.5c0 0.271-0.229 0.5-0.5 0.5h-23c-0.271 0-0.5-0.229-0.5-0.5v-27c0-0.271 0.229-0.5 0.5-0.5 0 0 15.499-0 15.5 0v7c0 0.552 0.448 1 1 1h7v19.5z\"></path>\n",
       "<path d=\"M23 26h-14c-0.552 0-1-0.448-1-1s0.448-1 1-1h14c0.552 0 1 0.448 1 1s-0.448 1-1 1z\"></path>\n",
       "<path d=\"M23 22h-14c-0.552 0-1-0.448-1-1s0.448-1 1-1h14c0.552 0 1 0.448 1 1s-0.448 1-1 1z\"></path>\n",
       "<path d=\"M23 18h-14c-0.552 0-1-0.448-1-1s0.448-1 1-1h14c0.552 0 1 0.448 1 1s-0.448 1-1 1z\"></path>\n",
       "</symbol>\n",
       "</defs>\n",
       "</svg>\n",
       "<style>/* CSS stylesheet for displaying xarray objects in jupyterlab.\n",
       " *\n",
       " */\n",
       "\n",
       ":root {\n",
       "  --xr-font-color0: var(--jp-content-font-color0, rgba(0, 0, 0, 1));\n",
       "  --xr-font-color2: var(--jp-content-font-color2, rgba(0, 0, 0, 0.54));\n",
       "  --xr-font-color3: var(--jp-content-font-color3, rgba(0, 0, 0, 0.38));\n",
       "  --xr-border-color: var(--jp-border-color2, #e0e0e0);\n",
       "  --xr-disabled-color: var(--jp-layout-color3, #bdbdbd);\n",
       "  --xr-background-color: var(--jp-layout-color0, white);\n",
       "  --xr-background-color-row-even: var(--jp-layout-color1, white);\n",
       "  --xr-background-color-row-odd: var(--jp-layout-color2, #eeeeee);\n",
       "}\n",
       "\n",
       "html[theme=dark],\n",
       "body.vscode-dark {\n",
       "  --xr-font-color0: rgba(255, 255, 255, 1);\n",
       "  --xr-font-color2: rgba(255, 255, 255, 0.54);\n",
       "  --xr-font-color3: rgba(255, 255, 255, 0.38);\n",
       "  --xr-border-color: #1F1F1F;\n",
       "  --xr-disabled-color: #515151;\n",
       "  --xr-background-color: #111111;\n",
       "  --xr-background-color-row-even: #111111;\n",
       "  --xr-background-color-row-odd: #313131;\n",
       "}\n",
       "\n",
       ".xr-wrap {\n",
       "  display: block;\n",
       "  min-width: 300px;\n",
       "  max-width: 700px;\n",
       "}\n",
       "\n",
       ".xr-text-repr-fallback {\n",
       "  /* fallback to plain text repr when CSS is not injected (untrusted notebook) */\n",
       "  display: none;\n",
       "}\n",
       "\n",
       ".xr-header {\n",
       "  padding-top: 6px;\n",
       "  padding-bottom: 6px;\n",
       "  margin-bottom: 4px;\n",
       "  border-bottom: solid 1px var(--xr-border-color);\n",
       "}\n",
       "\n",
       ".xr-header > div,\n",
       ".xr-header > ul {\n",
       "  display: inline;\n",
       "  margin-top: 0;\n",
       "  margin-bottom: 0;\n",
       "}\n",
       "\n",
       ".xr-obj-type,\n",
       ".xr-array-name {\n",
       "  margin-left: 2px;\n",
       "  margin-right: 10px;\n",
       "}\n",
       "\n",
       ".xr-obj-type {\n",
       "  color: var(--xr-font-color2);\n",
       "}\n",
       "\n",
       ".xr-sections {\n",
       "  padding-left: 0 !important;\n",
       "  display: grid;\n",
       "  grid-template-columns: 150px auto auto 1fr 20px 20px;\n",
       "}\n",
       "\n",
       ".xr-section-item {\n",
       "  display: contents;\n",
       "}\n",
       "\n",
       ".xr-section-item input {\n",
       "  display: none;\n",
       "}\n",
       "\n",
       ".xr-section-item input + label {\n",
       "  color: var(--xr-disabled-color);\n",
       "}\n",
       "\n",
       ".xr-section-item input:enabled + label {\n",
       "  cursor: pointer;\n",
       "  color: var(--xr-font-color2);\n",
       "}\n",
       "\n",
       ".xr-section-item input:enabled + label:hover {\n",
       "  color: var(--xr-font-color0);\n",
       "}\n",
       "\n",
       ".xr-section-summary {\n",
       "  grid-column: 1;\n",
       "  color: var(--xr-font-color2);\n",
       "  font-weight: 500;\n",
       "}\n",
       "\n",
       ".xr-section-summary > span {\n",
       "  display: inline-block;\n",
       "  padding-left: 0.5em;\n",
       "}\n",
       "\n",
       ".xr-section-summary-in:disabled + label {\n",
       "  color: var(--xr-font-color2);\n",
       "}\n",
       "\n",
       ".xr-section-summary-in + label:before {\n",
       "  display: inline-block;\n",
       "  content: '►';\n",
       "  font-size: 11px;\n",
       "  width: 15px;\n",
       "  text-align: center;\n",
       "}\n",
       "\n",
       ".xr-section-summary-in:disabled + label:before {\n",
       "  color: var(--xr-disabled-color);\n",
       "}\n",
       "\n",
       ".xr-section-summary-in:checked + label:before {\n",
       "  content: '▼';\n",
       "}\n",
       "\n",
       ".xr-section-summary-in:checked + label > span {\n",
       "  display: none;\n",
       "}\n",
       "\n",
       ".xr-section-summary,\n",
       ".xr-section-inline-details {\n",
       "  padding-top: 4px;\n",
       "  padding-bottom: 4px;\n",
       "}\n",
       "\n",
       ".xr-section-inline-details {\n",
       "  grid-column: 2 / -1;\n",
       "}\n",
       "\n",
       ".xr-section-details {\n",
       "  display: none;\n",
       "  grid-column: 1 / -1;\n",
       "  margin-bottom: 5px;\n",
       "}\n",
       "\n",
       ".xr-section-summary-in:checked ~ .xr-section-details {\n",
       "  display: contents;\n",
       "}\n",
       "\n",
       ".xr-array-wrap {\n",
       "  grid-column: 1 / -1;\n",
       "  display: grid;\n",
       "  grid-template-columns: 20px auto;\n",
       "}\n",
       "\n",
       ".xr-array-wrap > label {\n",
       "  grid-column: 1;\n",
       "  vertical-align: top;\n",
       "}\n",
       "\n",
       ".xr-preview {\n",
       "  color: var(--xr-font-color3);\n",
       "}\n",
       "\n",
       ".xr-array-preview,\n",
       ".xr-array-data {\n",
       "  padding: 0 5px !important;\n",
       "  grid-column: 2;\n",
       "}\n",
       "\n",
       ".xr-array-data,\n",
       ".xr-array-in:checked ~ .xr-array-preview {\n",
       "  display: none;\n",
       "}\n",
       "\n",
       ".xr-array-in:checked ~ .xr-array-data,\n",
       ".xr-array-preview {\n",
       "  display: inline-block;\n",
       "}\n",
       "\n",
       ".xr-dim-list {\n",
       "  display: inline-block !important;\n",
       "  list-style: none;\n",
       "  padding: 0 !important;\n",
       "  margin: 0;\n",
       "}\n",
       "\n",
       ".xr-dim-list li {\n",
       "  display: inline-block;\n",
       "  padding: 0;\n",
       "  margin: 0;\n",
       "}\n",
       "\n",
       ".xr-dim-list:before {\n",
       "  content: '(';\n",
       "}\n",
       "\n",
       ".xr-dim-list:after {\n",
       "  content: ')';\n",
       "}\n",
       "\n",
       ".xr-dim-list li:not(:last-child):after {\n",
       "  content: ',';\n",
       "  padding-right: 5px;\n",
       "}\n",
       "\n",
       ".xr-has-index {\n",
       "  font-weight: bold;\n",
       "}\n",
       "\n",
       ".xr-var-list,\n",
       ".xr-var-item {\n",
       "  display: contents;\n",
       "}\n",
       "\n",
       ".xr-var-item > div,\n",
       ".xr-var-item label,\n",
       ".xr-var-item > .xr-var-name span {\n",
       "  background-color: var(--xr-background-color-row-even);\n",
       "  margin-bottom: 0;\n",
       "}\n",
       "\n",
       ".xr-var-item > .xr-var-name:hover span {\n",
       "  padding-right: 5px;\n",
       "}\n",
       "\n",
       ".xr-var-list > li:nth-child(odd) > div,\n",
       ".xr-var-list > li:nth-child(odd) > label,\n",
       ".xr-var-list > li:nth-child(odd) > .xr-var-name span {\n",
       "  background-color: var(--xr-background-color-row-odd);\n",
       "}\n",
       "\n",
       ".xr-var-name {\n",
       "  grid-column: 1;\n",
       "}\n",
       "\n",
       ".xr-var-dims {\n",
       "  grid-column: 2;\n",
       "}\n",
       "\n",
       ".xr-var-dtype {\n",
       "  grid-column: 3;\n",
       "  text-align: right;\n",
       "  color: var(--xr-font-color2);\n",
       "}\n",
       "\n",
       ".xr-var-preview {\n",
       "  grid-column: 4;\n",
       "}\n",
       "\n",
       ".xr-var-name,\n",
       ".xr-var-dims,\n",
       ".xr-var-dtype,\n",
       ".xr-preview,\n",
       ".xr-attrs dt {\n",
       "  white-space: nowrap;\n",
       "  overflow: hidden;\n",
       "  text-overflow: ellipsis;\n",
       "  padding-right: 10px;\n",
       "}\n",
       "\n",
       ".xr-var-name:hover,\n",
       ".xr-var-dims:hover,\n",
       ".xr-var-dtype:hover,\n",
       ".xr-attrs dt:hover {\n",
       "  overflow: visible;\n",
       "  width: auto;\n",
       "  z-index: 1;\n",
       "}\n",
       "\n",
       ".xr-var-attrs,\n",
       ".xr-var-data {\n",
       "  display: none;\n",
       "  background-color: var(--xr-background-color) !important;\n",
       "  padding-bottom: 5px !important;\n",
       "}\n",
       "\n",
       ".xr-var-attrs-in:checked ~ .xr-var-attrs,\n",
       ".xr-var-data-in:checked ~ .xr-var-data {\n",
       "  display: block;\n",
       "}\n",
       "\n",
       ".xr-var-data > table {\n",
       "  float: right;\n",
       "}\n",
       "\n",
       ".xr-var-name span,\n",
       ".xr-var-data,\n",
       ".xr-attrs {\n",
       "  padding-left: 25px !important;\n",
       "}\n",
       "\n",
       ".xr-attrs,\n",
       ".xr-var-attrs,\n",
       ".xr-var-data {\n",
       "  grid-column: 1 / -1;\n",
       "}\n",
       "\n",
       "dl.xr-attrs {\n",
       "  padding: 0;\n",
       "  margin: 0;\n",
       "  display: grid;\n",
       "  grid-template-columns: 125px auto;\n",
       "}\n",
       "\n",
       ".xr-attrs dt,\n",
       ".xr-attrs dd {\n",
       "  padding: 0;\n",
       "  margin: 0;\n",
       "  float: left;\n",
       "  padding-right: 10px;\n",
       "  width: auto;\n",
       "}\n",
       "\n",
       ".xr-attrs dt {\n",
       "  font-weight: normal;\n",
       "  grid-column: 1;\n",
       "}\n",
       "\n",
       ".xr-attrs dt:hover span {\n",
       "  display: inline-block;\n",
       "  background: var(--xr-background-color);\n",
       "  padding-right: 10px;\n",
       "}\n",
       "\n",
       ".xr-attrs dd {\n",
       "  grid-column: 2;\n",
       "  white-space: pre-wrap;\n",
       "  word-break: break-all;\n",
       "}\n",
       "\n",
       ".xr-icon-database,\n",
       ".xr-icon-file-text2 {\n",
       "  display: inline-block;\n",
       "  vertical-align: middle;\n",
       "  width: 1em;\n",
       "  height: 1.5em !important;\n",
       "  stroke-width: 0;\n",
       "  stroke: currentColor;\n",
       "  fill: currentColor;\n",
       "}\n",
       "</style><pre class='xr-text-repr-fallback'>&lt;xarray.Dataset&gt;\n",
       "Dimensions:  (time: 8760, x: 262, y: 262)\n",
       "Coordinates:\n",
       "    lat      (x, y) float32 37.23 37.3 37.36 37.43 ... 66.14 65.96 65.78 65.6\n",
       "    lon      (x, y) float32 -177.8 -177.6 -177.4 -177.3 ... -66.08 -66.05 -66.02\n",
       "  * time     (time) datetime64[ns] 2006-01-01 ... 2006-12-31T23:00:00\n",
       "Dimensions without coordinates: x, y\n",
       "Data variables:\n",
       "    U10      (time, x, y) float32 ...\n",
       "Attributes:\n",
       "    creation_date:    Sat May 13 13:02:24 AKDT 2017\n",
       "    NCL_Version:      6.3.0\n",
       "    system:           Linux n9 2.6.32-642.11.1.el6.686g0000.x86_64 #1 SMP Tue...\n",
       "    Conventions:      None\n",
       "    grib_source:      WRFDS_d01.2006-01-01_00.grib\n",
       "    title:            NCL: convert-GRIB-to-netCDF\n",
       "    reference_time:   2006-01-01 00:00:00\n",
       "    proj_parameters:  +units=m +proj=stere +lat_ts=64.0 +lon_0=-152.0 +lat_0=...</pre><div class='xr-wrap' hidden><div class='xr-header'><div class='xr-obj-type'>xarray.Dataset</div></div><ul class='xr-sections'><li class='xr-section-item'><input id='section-bb7a7e8d-73a9-45f4-8cab-03b8598f7a45' class='xr-section-summary-in' type='checkbox' disabled ><label for='section-bb7a7e8d-73a9-45f4-8cab-03b8598f7a45' class='xr-section-summary'  title='Expand/collapse section'>Dimensions:</label><div class='xr-section-inline-details'><ul class='xr-dim-list'><li><span class='xr-has-index'>time</span>: 8760</li><li><span>x</span>: 262</li><li><span>y</span>: 262</li></ul></div><div class='xr-section-details'></div></li><li class='xr-section-item'><input id='section-895dc42f-11d6-4fdb-9edb-7e6c34fa3d11' class='xr-section-summary-in' type='checkbox'  checked><label for='section-895dc42f-11d6-4fdb-9edb-7e6c34fa3d11' class='xr-section-summary' >Coordinates: <span>(3)</span></label><div class='xr-section-inline-details'></div><div class='xr-section-details'><ul class='xr-var-list'><li class='xr-var-item'><div class='xr-var-name'><span>lat</span></div><div class='xr-var-dims'>(x, y)</div><div class='xr-var-dtype'>float32</div><div class='xr-var-preview xr-preview'>37.23 37.3 37.36 ... 65.78 65.6</div><input id='attrs-cb80fb64-df9c-42d5-a7d5-682507f1fc18' class='xr-var-attrs-in' type='checkbox' disabled><label for='attrs-cb80fb64-df9c-42d5-a7d5-682507f1fc18' title='Show/Hide attributes'><svg class='icon xr-icon-file-text2'><use xlink:href='#icon-file-text2'></use></svg></label><input id='data-f3b0130b-a6a1-49e1-8fb7-8708aa9e463f' class='xr-var-data-in' type='checkbox'><label for='data-f3b0130b-a6a1-49e1-8fb7-8708aa9e463f' title='Show/Hide data repr'><svg class='icon xr-icon-database'><use xlink:href='#icon-database'></use></svg></label><div class='xr-var-attrs'><dl class='xr-attrs'></dl></div><div class='xr-var-data'><pre>array([[37.233   , 37.29895 , 37.364525, ..., 37.367493, 37.301937, 37.236   ],\n",
       "       [37.369934, 37.43616 , 37.50201 , ..., 37.504993, 37.439156, 37.372944],\n",
       "       [37.506927, 37.573433, 37.639565, ..., 37.642555, 37.576443, 37.509953],\n",
       "       ...,\n",
       "       [65.55994 , 65.740295, 65.92076 , ..., 65.928955, 65.74848 , 65.568115],\n",
       "       [65.57468 , 65.75516 , 65.93575 , ..., 65.943954, 65.76335 , 65.58286 ],\n",
       "       [65.58805 , 65.76864 , 65.94935 , ..., 65.95755 , 65.77684 , 65.59624 ]],\n",
       "      dtype=float32)</pre></div></li><li class='xr-var-item'><div class='xr-var-name'><span>lon</span></div><div class='xr-var-dims'>(x, y)</div><div class='xr-var-dtype'>float32</div><div class='xr-var-preview xr-preview'>-177.8 -177.6 ... -66.05 -66.02</div><input id='attrs-be9290f9-8857-464a-9e01-fd61deb5aea7' class='xr-var-attrs-in' type='checkbox' disabled><label for='attrs-be9290f9-8857-464a-9e01-fd61deb5aea7' title='Show/Hide attributes'><svg class='icon xr-icon-file-text2'><use xlink:href='#icon-file-text2'></use></svg></label><input id='data-e22f1b8a-3b14-4f0c-8423-9b45f58ad480' class='xr-var-data-in' type='checkbox'><label for='data-e22f1b8a-3b14-4f0c-8423-9b45f58ad480' title='Show/Hide data repr'><svg class='icon xr-icon-database'><use xlink:href='#icon-database'></use></svg></label><div class='xr-var-attrs'><dl class='xr-attrs'></dl></div><div class='xr-var-data'><pre>array([[-177.786   , -177.6138  , -177.44112 , ..., -126.566734, -126.39402 ,\n",
       "        -126.22181 ],\n",
       "       [-177.86931 , -177.69673 , -177.52364 , ..., -126.48424 , -126.31112 ,\n",
       "        -126.138504],\n",
       "       [-177.95314 , -177.78015 , -177.60664 , ..., -126.40124 , -126.227715,\n",
       "        -126.0547  ],\n",
       "       ...,\n",
       "       [ 122.89038 ,  122.927956,  122.96611 , ...,  -66.96785 ,  -66.92967 ,\n",
       "         -66.892075],\n",
       "       [ 122.45432 ,  122.48857 ,  122.52335 , ...,  -66.52495 ,  -66.49014 ,\n",
       "         -66.455864],\n",
       "       [ 122.017746,  122.04866 ,  122.080055, ...,  -66.08149 ,  -66.05007 ,\n",
       "         -66.019135]], dtype=float32)</pre></div></li><li class='xr-var-item'><div class='xr-var-name'><span class='xr-has-index'>time</span></div><div class='xr-var-dims'>(time)</div><div class='xr-var-dtype'>datetime64[ns]</div><div class='xr-var-preview xr-preview'>2006-01-01 ... 2006-12-31T23:00:00</div><input id='attrs-dcd5dcc9-d47f-4d8c-bc80-098b01b8ed50' class='xr-var-attrs-in' type='checkbox' disabled><label for='attrs-dcd5dcc9-d47f-4d8c-bc80-098b01b8ed50' title='Show/Hide attributes'><svg class='icon xr-icon-file-text2'><use xlink:href='#icon-file-text2'></use></svg></label><input id='data-0d6befb4-a66b-4104-bcde-d5694291260f' class='xr-var-data-in' type='checkbox'><label for='data-0d6befb4-a66b-4104-bcde-d5694291260f' title='Show/Hide data repr'><svg class='icon xr-icon-database'><use xlink:href='#icon-database'></use></svg></label><div class='xr-var-attrs'><dl class='xr-attrs'></dl></div><div class='xr-var-data'><pre>array([&#x27;2006-01-01T00:00:00.000000000&#x27;, &#x27;2006-01-01T01:00:00.000000000&#x27;,\n",
       "       &#x27;2006-01-01T02:00:00.000000000&#x27;, ..., &#x27;2006-12-31T21:00:00.000000000&#x27;,\n",
       "       &#x27;2006-12-31T22:00:00.000000000&#x27;, &#x27;2006-12-31T23:00:00.000000000&#x27;],\n",
       "      dtype=&#x27;datetime64[ns]&#x27;)</pre></div></li></ul></div></li><li class='xr-section-item'><input id='section-24f3e6c2-fc54-4900-82cd-adf741812f5e' class='xr-section-summary-in' type='checkbox'  checked><label for='section-24f3e6c2-fc54-4900-82cd-adf741812f5e' class='xr-section-summary' >Data variables: <span>(1)</span></label><div class='xr-section-inline-details'></div><div class='xr-section-details'><ul class='xr-var-list'><li class='xr-var-item'><div class='xr-var-name'><span>U10</span></div><div class='xr-var-dims'>(time, x, y)</div><div class='xr-var-dtype'>float32</div><div class='xr-var-preview xr-preview'>...</div><input id='attrs-c5d9e8b4-22db-4c59-960e-215e7602ea7a' class='xr-var-attrs-in' type='checkbox' ><label for='attrs-c5d9e8b4-22db-4c59-960e-215e7602ea7a' title='Show/Hide attributes'><svg class='icon xr-icon-file-text2'><use xlink:href='#icon-file-text2'></use></svg></label><input id='data-6c376fd6-e197-4089-ba09-8dd33aa87b75' class='xr-var-data-in' type='checkbox'><label for='data-6c376fd6-e197-4089-ba09-8dd33aa87b75' title='Show/Hide data repr'><svg class='icon xr-icon-database'><use xlink:href='#icon-database'></use></svg></label><div class='xr-var-attrs'><dl class='xr-attrs'><dt><span>units :</span></dt><dd>degrees_east</dd><dt><span>long_name :</span></dt><dd>longitude</dd><dt><span>La1 :</span></dt><dd>37.233</dd><dt><span>Lo1 :</span></dt><dd>-177.786</dd><dt><span>Lov :</span></dt><dd>-152.0</dd><dt><span>Dx :</span></dt><dd>19655.0</dd><dt><span>Dy :</span></dt><dd>19655.0</dd><dt><span>ProjectionCenter :</span></dt><dd>north</dd><dt><span>GridType :</span></dt><dd>Polar Stereographic Projection Grid</dd><dt><span>corners :</span></dt><dd>[-177.786   -126.2218   -66.01913  122.0177 ]</dd></dl></div><div class='xr-var-data'><pre>[601321440 values with dtype=float32]</pre></div></li></ul></div></li><li class='xr-section-item'><input id='section-ad3b44c1-859b-47d0-b60d-3ba47fc84a16' class='xr-section-summary-in' type='checkbox'  checked><label for='section-ad3b44c1-859b-47d0-b60d-3ba47fc84a16' class='xr-section-summary' >Attributes: <span>(8)</span></label><div class='xr-section-inline-details'></div><div class='xr-section-details'><dl class='xr-attrs'><dt><span>creation_date :</span></dt><dd>Sat May 13 13:02:24 AKDT 2017</dd><dt><span>NCL_Version :</span></dt><dd>6.3.0</dd><dt><span>system :</span></dt><dd>Linux n9 2.6.32-642.11.1.el6.686g0000.x86_64 #1 SMP Tue Nov 15 21:31:20 UTC 2016 x86_64 x86_64 x86_64 GNU/Linux</dd><dt><span>Conventions :</span></dt><dd>None</dd><dt><span>grib_source :</span></dt><dd>WRFDS_d01.2006-01-01_00.grib</dd><dt><span>title :</span></dt><dd>NCL: convert-GRIB-to-netCDF</dd><dt><span>reference_time :</span></dt><dd>2006-01-01 00:00:00</dd><dt><span>proj_parameters :</span></dt><dd>+units=m +proj=stere +lat_ts=64.0 +lon_0=-152.0 +lat_0=90.0 +x_0=0 +y_0=0 +a=6370000 +b=6370000</dd></dl></div></li></ul></div></div>"
      ],
      "text/plain": [
       "<xarray.Dataset>\n",
       "Dimensions:  (time: 8760, x: 262, y: 262)\n",
       "Coordinates:\n",
       "    lat      (x, y) float32 37.23 37.3 37.36 37.43 ... 66.14 65.96 65.78 65.6\n",
       "    lon      (x, y) float32 -177.8 -177.6 -177.4 -177.3 ... -66.08 -66.05 -66.02\n",
       "  * time     (time) datetime64[ns] 2006-01-01 ... 2006-12-31T23:00:00\n",
       "Dimensions without coordinates: x, y\n",
       "Data variables:\n",
       "    U10      (time, x, y) float32 ...\n",
       "Attributes:\n",
       "    creation_date:    Sat May 13 13:02:24 AKDT 2017\n",
       "    NCL_Version:      6.3.0\n",
       "    system:           Linux n9 2.6.32-642.11.1.el6.686g0000.x86_64 #1 SMP Tue...\n",
       "    Conventions:      None\n",
       "    grib_source:      WRFDS_d01.2006-01-01_00.grib\n",
       "    title:            NCL: convert-GRIB-to-netCDF\n",
       "    reference_time:   2006-01-01 00:00:00\n",
       "    proj_parameters:  +units=m +proj=stere +lat_ts=64.0 +lon_0=-152.0 +lat_0=..."
      ]
     },
     "execution_count": 130,
     "metadata": {},
     "output_type": "execute_result"
    }
   ],
   "source": [
    "ds.sel(time=f\"{year}-{month}-{day}T00:00:00\").values\n",
    "\n"
   ]
  },
  {
   "cell_type": "code",
   "execution_count": null,
   "id": "938a606d-924f-427d-8054-68454f3e464a",
   "metadata": {},
   "outputs": [],
   "source": []
  },
  {
   "cell_type": "code",
   "execution_count": null,
   "id": "f97dab8a-6f59-47ca-bccd-77b9e6453141",
   "metadata": {},
   "outputs": [],
   "source": []
  },
  {
   "cell_type": "code",
   "execution_count": 106,
   "id": "72b8f816-8bde-414d-bd32-0b0927df621c",
   "metadata": {},
   "outputs": [
    {
     "name": "stdout",
     "output_type": "stream",
     "text": [
      "match: True\n"
     ]
    }
   ],
   "source": [
    "day = \"14\"\n",
    "month = \"09\"\n",
    "\n",
    "with xr.open_dataset(og_fp) as ds1:\n",
    "    with xr.open_dataset(s19_fp) as ds2:\n",
    "        arr1 = ds1[\"T2\"].sel(time=f\"{year}-{month}-{day}T00:00:00\").values\n",
    "        arr2 = ds2[\"T2\"].sel(time=f\"{year}-{month}-{day}T00:00:00\").values\n",
    "        print(\"match:\", np.all(arr1 == arr2))"
   ]
  },
  {
   "cell_type": "code",
   "execution_count": null,
   "id": "16756d97-11f4-49f3-b37a-360c7e07078f",
   "metadata": {},
   "outputs": [],
   "source": []
  },
  {
   "cell_type": "code",
   "execution_count": 125,
   "id": "061c2424-6bc5-450f-9ce3-0e3ef637cd02",
   "metadata": {},
   "outputs": [
    {
     "name": "stdout",
     "output_type": "stream",
     "text": [
      "\u001b[0m\u001b[01;34macsnow\u001b[0m/                          \u001b[01;34mlwupb\u001b[0m/      \u001b[01;34msh2o\u001b[0m/                \u001b[01;34mtbot\u001b[0m/\n",
      "\u001b[01;34malbedo\u001b[0m/                          \u001b[01;34mlwupbc\u001b[0m/     \u001b[01;34mslp\u001b[0m/                 \u001b[01;34mtsk\u001b[0m/\n",
      "\u001b[01;34mcanwat\u001b[0m/                          \u001b[01;34momega\u001b[0m/      \u001b[01;34msmois\u001b[0m/               \u001b[01;34mtslb\u001b[0m/\n",
      "\u001b[01;34mcldfra\u001b[0m/                          \u001b[01;34mpcpc\u001b[0m/       \u001b[01;34msnow\u001b[0m/                \u001b[01;34mu\u001b[0m/\n",
      "\u001b[01;34mcldfra_high\u001b[0m/                     \u001b[01;34mpcpnc\u001b[0m/      \u001b[01;34msnowc\u001b[0m/               \u001b[01;34mu10\u001b[0m/\n",
      "\u001b[01;34mcldfra_low\u001b[0m/                      \u001b[01;34mpcpt\u001b[0m/       \u001b[01;34msnowh\u001b[0m/               \u001b[01;34mubot\u001b[0m/\n",
      "\u001b[01;34mcldfra_mid\u001b[0m/                      \u001b[01;34mpotevp\u001b[0m/     \u001b[01;34mswdnb\u001b[0m/               \u001b[01;34mv\u001b[0m/\n",
      "\u001b[01;34mght\u001b[0m/                             \u001b[01;34mpsfc\u001b[0m/       \u001b[01;34mswdnbc\u001b[0m/              \u001b[01;34mv10\u001b[0m/\n",
      "\u001b[01;34mhfx\u001b[0m/                             \u001b[01;34mq2\u001b[0m/         \u001b[01;34mswupb\u001b[0m/               \u001b[01;34mvbot\u001b[0m/\n",
      "history_move_files_keep_tmp.txt  \u001b[01;34mqbot\u001b[0m/       \u001b[01;34mswupbc\u001b[0m/              \u001b[01;34mvegfra\u001b[0m/\n",
      "\u001b[01;34mlh\u001b[0m/                              \u001b[01;34mqvapor\u001b[0m/     sync_dirs_hourly.sh\n",
      "\u001b[01;34mlwdnb\u001b[0m/                           README.txt  \u001b[01;34mt\u001b[0m/\n",
      "\u001b[01;34mlwdnbc\u001b[0m/                          \u001b[01;34mseaice\u001b[0m/     \u001b[01;34mt2\u001b[0m/\n"
     ]
    }
   ],
   "source": [
    "ls /rcs/project_data/wrf_data/hourly/u"
   ]
  },
  {
   "cell_type": "code",
   "execution_count": 49,
   "id": "91b175bc-d6e7-467d-83b2-fba746e10841",
   "metadata": {},
   "outputs": [
    {
     "name": "stdout",
     "output_type": "stream",
     "text": [
      "/rcs/project_data/wrf_data/hourly_fix/acsnow/acsnow_hourly_wrf_ERA-Interim_historical_1979.nc\n",
      "/rcs/project_data/wrf_data/hourly_fix/acsnow/acsnow_hourly_wrf_ERA-Interim_historical_1980.nc\n",
      "/rcs/project_data/wrf_data/hourly_fix/acsnow/acsnow_hourly_wrf_ERA-Interim_historical_1981.nc\n",
      "/rcs/project_data/wrf_data/hourly_fix/acsnow/acsnow_hourly_wrf_ERA-Interim_historical_1982.nc\n"
     ]
    }
   ],
   "source": [
    "ls /rcs/project_data/wrf_data/hourly_fix/acsnow/*ERA* | head -4"
   ]
  },
  {
   "cell_type": "code",
   "execution_count": 51,
   "id": "a2ca3e2b-b79a-45d6-85ba-651d52dc7844",
   "metadata": {},
   "outputs": [
    {
     "name": "stdout",
     "output_type": "stream",
     "text": [
      "/rcs/project_data/wrf_data/hourly/acsnow/ACSNOW_wrf_hourly_era_interim_1979.nc\n",
      "/rcs/project_data/wrf_data/hourly/acsnow/ACSNOW_wrf_hourly_era_interim_1980.nc\n",
      "/rcs/project_data/wrf_data/hourly/acsnow/ACSNOW_wrf_hourly_era_interim_1981.nc\n",
      "/rcs/project_data/wrf_data/hourly/acsnow/ACSNOW_wrf_hourly_era_interim_1982.nc\n"
     ]
    }
   ],
   "source": [
    "ls /rcs/project_data/wrf_data/hourly/acsnow/*era* | head -4"
   ]
  },
  {
   "cell_type": "code",
   "execution_count": 53,
   "id": "16657cf1-2548-4ec8-84bf-c14814709627",
   "metadata": {},
   "outputs": [
    {
     "name": "stdout",
     "output_type": "stream",
     "text": [
      "ACSNOW_wrf_hourly_ccsm_hist_1970.nc   ACSNOW_wrf_hourly_gfdl_rcp85_2023.nc\n",
      "ACSNOW_wrf_hourly_ccsm_rcp85_2005.nc  ACSNOW_wrf_hourly_gfdl_rcp85_2024.nc\n",
      "ACSNOW_wrf_hourly_ccsm_rcp85_2006.nc  ACSNOW_wrf_hourly_gfdl_rcp85_2025.nc\n",
      "ACSNOW_wrf_hourly_ccsm_rcp85_2007.nc  ACSNOW_wrf_hourly_gfdl_rcp85_2026.nc\n",
      "ACSNOW_wrf_hourly_ccsm_rcp85_2008.nc  ACSNOW_wrf_hourly_gfdl_rcp85_2027.nc\n",
      "ACSNOW_wrf_hourly_ccsm_rcp85_2009.nc  ACSNOW_wrf_hourly_gfdl_rcp85_2028.nc\n",
      "ACSNOW_wrf_hourly_ccsm_rcp85_2010.nc  ACSNOW_wrf_hourly_gfdl_rcp85_2029.nc\n",
      "ACSNOW_wrf_hourly_ccsm_rcp85_2011.nc  ACSNOW_wrf_hourly_gfdl_rcp85_2030.nc\n",
      "ACSNOW_wrf_hourly_ccsm_rcp85_2012.nc  ACSNOW_wrf_hourly_gfdl_rcp85_2031.nc\n",
      "ACSNOW_wrf_hourly_ccsm_rcp85_2013.nc  ACSNOW_wrf_hourly_gfdl_rcp85_2032.nc\n",
      "ACSNOW_wrf_hourly_ccsm_rcp85_2014.nc  ACSNOW_wrf_hourly_gfdl_rcp85_2033.nc\n",
      "ACSNOW_wrf_hourly_ccsm_rcp85_2015.nc  ACSNOW_wrf_hourly_gfdl_rcp85_2034.nc\n",
      "ACSNOW_wrf_hourly_ccsm_rcp85_2016.nc  ACSNOW_wrf_hourly_gfdl_rcp85_2035.nc\n",
      "ACSNOW_wrf_hourly_ccsm_rcp85_2017.nc  ACSNOW_wrf_hourly_gfdl_rcp85_2036.nc\n",
      "ACSNOW_wrf_hourly_ccsm_rcp85_2018.nc  ACSNOW_wrf_hourly_gfdl_rcp85_2037.nc\n",
      "ACSNOW_wrf_hourly_ccsm_rcp85_2019.nc  ACSNOW_wrf_hourly_gfdl_rcp85_2038.nc\n",
      "ACSNOW_wrf_hourly_ccsm_rcp85_2020.nc  ACSNOW_wrf_hourly_gfdl_rcp85_2039.nc\n",
      "ACSNOW_wrf_hourly_ccsm_rcp85_2021.nc  ACSNOW_wrf_hourly_gfdl_rcp85_2040.nc\n",
      "ACSNOW_wrf_hourly_ccsm_rcp85_2022.nc  ACSNOW_wrf_hourly_gfdl_rcp85_2041.nc\n",
      "ACSNOW_wrf_hourly_ccsm_rcp85_2023.nc  ACSNOW_wrf_hourly_gfdl_rcp85_2042.nc\n",
      "ACSNOW_wrf_hourly_ccsm_rcp85_2024.nc  ACSNOW_wrf_hourly_gfdl_rcp85_2043.nc\n",
      "ACSNOW_wrf_hourly_ccsm_rcp85_2025.nc  ACSNOW_wrf_hourly_gfdl_rcp85_2044.nc\n",
      "ACSNOW_wrf_hourly_ccsm_rcp85_2026.nc  ACSNOW_wrf_hourly_gfdl_rcp85_2045.nc\n",
      "ACSNOW_wrf_hourly_ccsm_rcp85_2027.nc  ACSNOW_wrf_hourly_gfdl_rcp85_2046.nc\n",
      "ACSNOW_wrf_hourly_ccsm_rcp85_2028.nc  ACSNOW_wrf_hourly_gfdl_rcp85_2047.nc\n",
      "ACSNOW_wrf_hourly_ccsm_rcp85_2029.nc  ACSNOW_wrf_hourly_gfdl_rcp85_2048.nc\n",
      "ACSNOW_wrf_hourly_ccsm_rcp85_2030.nc  ACSNOW_wrf_hourly_gfdl_rcp85_2049.nc\n",
      "ACSNOW_wrf_hourly_ccsm_rcp85_2031.nc  ACSNOW_wrf_hourly_gfdl_rcp85_2050.nc\n",
      "ACSNOW_wrf_hourly_ccsm_rcp85_2032.nc  ACSNOW_wrf_hourly_gfdl_rcp85_2051.nc\n",
      "ACSNOW_wrf_hourly_ccsm_rcp85_2033.nc  ACSNOW_wrf_hourly_gfdl_rcp85_2052.nc\n",
      "ACSNOW_wrf_hourly_ccsm_rcp85_2034.nc  ACSNOW_wrf_hourly_gfdl_rcp85_2053.nc\n",
      "ACSNOW_wrf_hourly_ccsm_rcp85_2035.nc  ACSNOW_wrf_hourly_gfdl_rcp85_2054.nc\n",
      "ACSNOW_wrf_hourly_ccsm_rcp85_2036.nc  ACSNOW_wrf_hourly_gfdl_rcp85_2055.nc\n",
      "ACSNOW_wrf_hourly_ccsm_rcp85_2037.nc  ACSNOW_wrf_hourly_gfdl_rcp85_2056.nc\n",
      "ACSNOW_wrf_hourly_ccsm_rcp85_2038.nc  ACSNOW_wrf_hourly_gfdl_rcp85_2057.nc\n",
      "ACSNOW_wrf_hourly_ccsm_rcp85_2039.nc  ACSNOW_wrf_hourly_gfdl_rcp85_2058.nc\n",
      "ACSNOW_wrf_hourly_gfdl_rcp85_2006.nc  ACSNOW_wrf_hourly_gfdl_rcp85_2059.nc\n",
      "ACSNOW_wrf_hourly_gfdl_rcp85_2007.nc  ACSNOW_wrf_hourly_gfdl_rcp85_2060.nc\n",
      "ACSNOW_wrf_hourly_gfdl_rcp85_2008.nc  ACSNOW_wrf_hourly_gfdl_rcp85_2061.nc\n",
      "ACSNOW_wrf_hourly_gfdl_rcp85_2009.nc  ACSNOW_wrf_hourly_gfdl_rcp85_2062.nc\n",
      "ACSNOW_wrf_hourly_gfdl_rcp85_2010.nc  ACSNOW_wrf_hourly_gfdl_rcp85_2063.nc\n",
      "ACSNOW_wrf_hourly_gfdl_rcp85_2011.nc  ACSNOW_wrf_hourly_gfdl_rcp85_2064.nc\n",
      "ACSNOW_wrf_hourly_gfdl_rcp85_2012.nc  ACSNOW_wrf_hourly_gfdl_rcp85_2065.nc\n",
      "ACSNOW_wrf_hourly_gfdl_rcp85_2013.nc  ACSNOW_wrf_hourly_gfdl_rcp85_2066.nc\n",
      "ACSNOW_wrf_hourly_gfdl_rcp85_2014.nc  ACSNOW_wrf_hourly_gfdl_rcp85_2067.nc\n",
      "ACSNOW_wrf_hourly_gfdl_rcp85_2015.nc  ACSNOW_wrf_hourly_gfdl_rcp85_2068.nc\n",
      "ACSNOW_wrf_hourly_gfdl_rcp85_2016.nc  ACSNOW_wrf_hourly_gfdl_rcp85_2069.nc\n",
      "ACSNOW_wrf_hourly_gfdl_rcp85_2017.nc  ACSNOW_wrf_hourly_gfdl_rcp85_2070.nc\n",
      "ACSNOW_wrf_hourly_gfdl_rcp85_2018.nc  ACSNOW_wrf_hourly_gfdl_rcp85_2071.nc\n",
      "ACSNOW_wrf_hourly_gfdl_rcp85_2019.nc  ACSNOW_wrf_hourly_gfdl_rcp85_2072.nc\n",
      "ACSNOW_wrf_hourly_gfdl_rcp85_2020.nc  ACSNOW_wrf_hourly_gfdl_rcp85_2073.nc\n",
      "ACSNOW_wrf_hourly_gfdl_rcp85_2021.nc  ACSNOW_wrf_hourly_gfdl_rcp85_2074.nc\n",
      "ACSNOW_wrf_hourly_gfdl_rcp85_2022.nc  ACSNOW_wrf_hourly_gfdl_rcp85_2075.nc\n"
     ]
    }
   ],
   "source": [
    "ls /rcs/project_data/WRF_DATA_SEP2019/acsnow"
   ]
  },
  {
   "cell_type": "code",
   "execution_count": null,
   "id": "8fc13656-4f31-4957-960d-51c963d47427",
   "metadata": {},
   "outputs": [],
   "source": []
  },
  {
   "cell_type": "code",
   "execution_count": null,
   "id": "8031eef9-a34a-4997-907b-f358ec31a9d7",
   "metadata": {},
   "outputs": [],
   "source": []
  },
  {
   "cell_type": "code",
   "execution_count": 5,
   "id": "2e85df95-fc3b-418e-8680-f9f633fc86d4",
   "metadata": {},
   "outputs": [
    {
     "name": "stdout",
     "output_type": "stream",
     "text": [
      "\u001b[0m\u001b[01;34macsnow\u001b[0m/       \u001b[01;34mcldfra_mid\u001b[0m/  \u001b[01;34mlwupb\u001b[0m/   \u001b[01;34mpotevp\u001b[0m/  \u001b[01;34msh2o\u001b[0m/   \u001b[01;34mswdnb\u001b[0m/   \u001b[01;34mtbot\u001b[0m/  \u001b[01;34mv\u001b[0m/\n",
      "\u001b[01;34malbedo\u001b[0m/       \u001b[01;34mght\u001b[0m/         \u001b[01;34mlwupbc\u001b[0m/  \u001b[01;34mpsfc\u001b[0m/    \u001b[01;34mslp\u001b[0m/    \u001b[01;34mswdnbc\u001b[0m/  \u001b[01;34mtsk\u001b[0m/   \u001b[01;34mv10\u001b[0m/\n",
      "\u001b[01;34mcanwat\u001b[0m/       \u001b[01;34mhfx\u001b[0m/         \u001b[01;34momega\u001b[0m/   \u001b[01;34mq2\u001b[0m/      \u001b[01;34msmois\u001b[0m/  \u001b[01;34mswupb\u001b[0m/   \u001b[01;34mtslb\u001b[0m/  \u001b[01;34mvbot\u001b[0m/\n",
      "\u001b[01;34mcldfra\u001b[0m/       \u001b[01;34mlh\u001b[0m/          \u001b[01;34mpcpc\u001b[0m/    \u001b[01;34mqbot\u001b[0m/    \u001b[01;34msnow\u001b[0m/   \u001b[01;34mswupbc\u001b[0m/  \u001b[01;34mu\u001b[0m/     \u001b[01;34mvegfra\u001b[0m/\n",
      "\u001b[01;34mcldfra_high\u001b[0m/  \u001b[01;34mlwdnb\u001b[0m/       \u001b[01;34mpcpnc\u001b[0m/   \u001b[01;34mqvapor\u001b[0m/  \u001b[01;34msnowc\u001b[0m/  \u001b[01;34mt\u001b[0m/       \u001b[01;34mu10\u001b[0m/\n",
      "\u001b[01;34mcldfra_low\u001b[0m/   \u001b[01;34mlwdnbc\u001b[0m/      \u001b[01;34mpcpt\u001b[0m/    \u001b[01;34mseaice\u001b[0m/  \u001b[01;34msnowh\u001b[0m/  \u001b[01;34mt2\u001b[0m/      \u001b[01;34mubot\u001b[0m/\n"
     ]
    }
   ],
   "source": [
    "ls /rcs/project_data/WRF_DATA_SEP2019"
   ]
  },
  {
   "cell_type": "code",
   "execution_count": 9,
   "id": "2b720f22-300f-4ea2-841d-1f68bf59dd20",
   "metadata": {},
   "outputs": [
    {
     "name": "stdout",
     "output_type": "stream",
     "text": [
      "U_wrf_hourly_ccsm_hist_1970.nc   U_wrf_hourly_gfdl_rcp85_2023.nc\n",
      "U_wrf_hourly_ccsm_rcp85_2005.nc  U_wrf_hourly_gfdl_rcp85_2024.nc\n",
      "U_wrf_hourly_ccsm_rcp85_2006.nc  U_wrf_hourly_gfdl_rcp85_2025.nc\n",
      "U_wrf_hourly_ccsm_rcp85_2007.nc  U_wrf_hourly_gfdl_rcp85_2026.nc\n",
      "U_wrf_hourly_ccsm_rcp85_2008.nc  U_wrf_hourly_gfdl_rcp85_2027.nc\n",
      "U_wrf_hourly_ccsm_rcp85_2009.nc  U_wrf_hourly_gfdl_rcp85_2028.nc\n",
      "U_wrf_hourly_ccsm_rcp85_2010.nc  U_wrf_hourly_gfdl_rcp85_2029.nc\n",
      "U_wrf_hourly_ccsm_rcp85_2011.nc  U_wrf_hourly_gfdl_rcp85_2030.nc\n",
      "U_wrf_hourly_ccsm_rcp85_2012.nc  U_wrf_hourly_gfdl_rcp85_2031.nc\n",
      "U_wrf_hourly_ccsm_rcp85_2013.nc  U_wrf_hourly_gfdl_rcp85_2032.nc\n",
      "U_wrf_hourly_ccsm_rcp85_2014.nc  U_wrf_hourly_gfdl_rcp85_2033.nc\n",
      "U_wrf_hourly_ccsm_rcp85_2015.nc  U_wrf_hourly_gfdl_rcp85_2034.nc\n",
      "U_wrf_hourly_ccsm_rcp85_2016.nc  U_wrf_hourly_gfdl_rcp85_2035.nc\n",
      "U_wrf_hourly_ccsm_rcp85_2017.nc  U_wrf_hourly_gfdl_rcp85_2036.nc\n",
      "U_wrf_hourly_ccsm_rcp85_2018.nc  U_wrf_hourly_gfdl_rcp85_2037.nc\n",
      "U_wrf_hourly_ccsm_rcp85_2019.nc  U_wrf_hourly_gfdl_rcp85_2038.nc\n",
      "U_wrf_hourly_ccsm_rcp85_2020.nc  U_wrf_hourly_gfdl_rcp85_2039.nc\n",
      "U_wrf_hourly_ccsm_rcp85_2021.nc  U_wrf_hourly_gfdl_rcp85_2040.nc\n",
      "U_wrf_hourly_ccsm_rcp85_2022.nc  U_wrf_hourly_gfdl_rcp85_2041.nc\n",
      "U_wrf_hourly_ccsm_rcp85_2023.nc  U_wrf_hourly_gfdl_rcp85_2042.nc\n",
      "U_wrf_hourly_ccsm_rcp85_2024.nc  U_wrf_hourly_gfdl_rcp85_2043.nc\n",
      "U_wrf_hourly_ccsm_rcp85_2025.nc  U_wrf_hourly_gfdl_rcp85_2044.nc\n",
      "U_wrf_hourly_ccsm_rcp85_2026.nc  U_wrf_hourly_gfdl_rcp85_2045.nc\n",
      "U_wrf_hourly_ccsm_rcp85_2027.nc  U_wrf_hourly_gfdl_rcp85_2046.nc\n",
      "U_wrf_hourly_ccsm_rcp85_2028.nc  U_wrf_hourly_gfdl_rcp85_2047.nc\n",
      "U_wrf_hourly_ccsm_rcp85_2029.nc  U_wrf_hourly_gfdl_rcp85_2048.nc\n",
      "U_wrf_hourly_ccsm_rcp85_2030.nc  U_wrf_hourly_gfdl_rcp85_2049.nc\n",
      "U_wrf_hourly_ccsm_rcp85_2031.nc  U_wrf_hourly_gfdl_rcp85_2050.nc\n",
      "U_wrf_hourly_ccsm_rcp85_2032.nc  U_wrf_hourly_gfdl_rcp85_2051.nc\n",
      "U_wrf_hourly_ccsm_rcp85_2033.nc  U_wrf_hourly_gfdl_rcp85_2052.nc\n",
      "U_wrf_hourly_ccsm_rcp85_2034.nc  U_wrf_hourly_gfdl_rcp85_2053.nc\n",
      "U_wrf_hourly_ccsm_rcp85_2035.nc  U_wrf_hourly_gfdl_rcp85_2054.nc\n",
      "U_wrf_hourly_ccsm_rcp85_2036.nc  U_wrf_hourly_gfdl_rcp85_2055.nc\n",
      "U_wrf_hourly_ccsm_rcp85_2037.nc  U_wrf_hourly_gfdl_rcp85_2056.nc\n",
      "U_wrf_hourly_ccsm_rcp85_2038.nc  U_wrf_hourly_gfdl_rcp85_2057.nc\n",
      "U_wrf_hourly_ccsm_rcp85_2039.nc  U_wrf_hourly_gfdl_rcp85_2058.nc\n",
      "U_wrf_hourly_gfdl_rcp85_2006.nc  U_wrf_hourly_gfdl_rcp85_2059.nc\n",
      "U_wrf_hourly_gfdl_rcp85_2007.nc  U_wrf_hourly_gfdl_rcp85_2060.nc\n",
      "U_wrf_hourly_gfdl_rcp85_2008.nc  U_wrf_hourly_gfdl_rcp85_2061.nc\n",
      "U_wrf_hourly_gfdl_rcp85_2009.nc  U_wrf_hourly_gfdl_rcp85_2062.nc\n",
      "U_wrf_hourly_gfdl_rcp85_2010.nc  U_wrf_hourly_gfdl_rcp85_2063.nc\n",
      "U_wrf_hourly_gfdl_rcp85_2011.nc  U_wrf_hourly_gfdl_rcp85_2064.nc\n",
      "U_wrf_hourly_gfdl_rcp85_2012.nc  U_wrf_hourly_gfdl_rcp85_2065.nc\n",
      "U_wrf_hourly_gfdl_rcp85_2013.nc  U_wrf_hourly_gfdl_rcp85_2066.nc\n",
      "U_wrf_hourly_gfdl_rcp85_2014.nc  U_wrf_hourly_gfdl_rcp85_2067.nc\n",
      "U_wrf_hourly_gfdl_rcp85_2015.nc  U_wrf_hourly_gfdl_rcp85_2068.nc\n",
      "U_wrf_hourly_gfdl_rcp85_2016.nc  U_wrf_hourly_gfdl_rcp85_2069.nc\n",
      "U_wrf_hourly_gfdl_rcp85_2017.nc  U_wrf_hourly_gfdl_rcp85_2070.nc\n",
      "U_wrf_hourly_gfdl_rcp85_2018.nc  U_wrf_hourly_gfdl_rcp85_2071.nc\n",
      "U_wrf_hourly_gfdl_rcp85_2019.nc  U_wrf_hourly_gfdl_rcp85_2072.nc\n",
      "U_wrf_hourly_gfdl_rcp85_2020.nc  U_wrf_hourly_gfdl_rcp85_2073.nc\n",
      "U_wrf_hourly_gfdl_rcp85_2021.nc  U_wrf_hourly_gfdl_rcp85_2074.nc\n",
      "U_wrf_hourly_gfdl_rcp85_2022.nc  U_wrf_hourly_gfdl_rcp85_2075.nc\n"
     ]
    }
   ],
   "source": [
    "ls /rcs/project_data/WRF_DATA_SEP2019/u"
   ]
  },
  {
   "cell_type": "markdown",
   "id": "712f601a-3c00-47af-bbc4-c1eb6f8b9242",
   "metadata": {},
   "source": [
    "## `/wrf_data`\n",
    "\n",
    "How are data in `hourly/` and `hourly_fix/` different again?"
   ]
  },
  {
   "cell_type": "code",
   "execution_count": 24,
   "id": "5a6dd9a5-22a9-469f-81ae-ebe334c6b96f",
   "metadata": {},
   "outputs": [],
   "source": [
    "# how are data in hourly and hourly_fix different again?\n",
    "import xarray as xr\n",
    "\n",
    "hourly_fp = \"/rcs/project_data/wrf_data/hourly/t/t_hourly_wrf_ERA-Interim_historical_1979.nc\"\n",
    "hourly_fix_fp = \"/rcs/project_data/wrf_data/hourly_fix/t/t_hourly_wrf_ERA-Interim_historical_1979.nc\"\n",
    "\n",
    "hourly_ds = xr.open_dataset(hourly_fp)\n",
    "hourly_fix_ds = xr.open_dataset(hourly_fix_fp)\n"
   ]
  },
  {
   "cell_type": "code",
   "execution_count": 26,
   "id": "c40bb528-4a6c-4fb1-86d1-7c1ba3e2c256",
   "metadata": {},
   "outputs": [
    {
     "name": "stdout",
     "output_type": "stream",
     "text": [
      "<xarray.Dataset>\n",
      "Dimensions:  (time: 8736, plev: 13, yc: 262, xc: 262)\n",
      "Coordinates:\n",
      "  * yc       (yc) float64 -1.824e+05 -2.024e+05 ... -5.382e+06 -5.402e+06\n",
      "  * xc       (xc) float64 -2.61e+06 -2.59e+06 -2.57e+06 ... 2.59e+06 2.61e+06\n",
      "  * plev     (plev) int32 50 70 100 150 200 250 300 400 500 700 850 925 1000\n",
      "  * time     (time) datetime64[ns] 1979-01-02 ... 1979-12-31T23:00:00\n",
      "Data variables:\n",
      "    t        (time, plev, yc, xc) float32 ...\n",
      "Attributes:\n",
      "    creation_date:    Mon Nov 25 10:32:57 AKST 2013\n",
      "    NCL_Version:      6.1.2\n",
      "    system:           Linux pacman1 2.6.32-358.14.1.el6.x86_64 #1 SMP Mon Jun...\n",
      "    Conventions:      None\n",
      "    grib_source:      WRFDS_d01.1979-01-02_00.grib\n",
      "    title:            NCL: convert-GRIB-to-netCDF\n",
      "    reference_time:   1979-01-02 00:00:00\n",
      "    proj_parameters:  +units=m +proj=stere +lat_ts=64.0 +lon_0=-152.0 +lat_0=...\n",
      "    restacked_by:     Scenarios Network for Alaska + Arctic Planning -- 2018\n",
      "    crs_wkt:          PROJCS[\"unnamed\",GEOGCS[\"unnamed ellipse\",DATUM[\"unknow...\n",
      "    SNAP_VERSION:     1.0\n"
     ]
    }
   ],
   "source": [
    "print(hourly_ds)"
   ]
  },
  {
   "cell_type": "code",
   "execution_count": 27,
   "id": "243da43a-f24f-4f09-8cdf-02e556f210c9",
   "metadata": {},
   "outputs": [
    {
     "name": "stdout",
     "output_type": "stream",
     "text": [
      "<xarray.Dataset>\n",
      "Dimensions:  (time: 8736, plev: 13, yc: 262, xc: 262)\n",
      "Coordinates:\n",
      "  * yc       (yc) float64 -1.824e+05 -2.024e+05 ... -5.382e+06 -5.402e+06\n",
      "  * xc       (xc) float64 -2.61e+06 -2.59e+06 -2.57e+06 ... 2.59e+06 2.61e+06\n",
      "  * plev     (plev) int32 50 70 100 150 200 250 300 400 500 700 850 925 1000\n",
      "  * time     (time) datetime64[ns] 1979-01-02 ... 1979-12-31T23:00:00\n",
      "Data variables:\n",
      "    t        (time, plev, yc, xc) float32 ...\n",
      "Attributes:\n",
      "    creation_date:    Mon Nov 25 10:32:57 AKST 2013\n",
      "    NCL_Version:      6.1.2\n",
      "    system:           Linux pacman1 2.6.32-358.14.1.el6.x86_64 #1 SMP Mon Jun...\n",
      "    Conventions:      None\n",
      "    grib_source:      WRFDS_d01.1979-01-02_00.grib\n",
      "    title:            NCL: convert-GRIB-to-netCDF\n",
      "    reference_time:   1979-01-02 00:00:00\n",
      "    proj_parameters:  +units=m +proj=stere +lat_ts=64.0 +lon_0=-152.0 +lat_0=...\n",
      "    restacked_by:     Scenarios Network for Alaska + Arctic Planning -- 2018\n",
      "    crs_wkt:          PROJCS[\"unnamed\",GEOGCS[\"unnamed ellipse\",DATUM[\"unknow...\n",
      "    SNAP_VERSION:     1.0\n"
     ]
    }
   ],
   "source": [
    "print(hourly_fix_ds)"
   ]
  },
  {
   "cell_type": "code",
   "execution_count": 28,
   "id": "5a14c0e3-74b2-4bb4-b1e0-ad3888544230",
   "metadata": {},
   "outputs": [
    {
     "name": "stdout",
     "output_type": "stream",
     "text": [
      "-rw-rw----. 1 snap-smb dyndown 14706661790 Apr 19  2019 /rcs/project_data/wrf_data/hourly_fix/t/t_hourly_wrf_ERA-Interim_historical_1979.nc\n"
     ]
    }
   ],
   "source": [
    "ls -l /rcs/project_data/wrf_data/hourly_fix/t/t_hourly_wrf_ERA-Interim_historical_1979.nc"
   ]
  },
  {
   "cell_type": "code",
   "execution_count": 29,
   "id": "c66c6c64-5447-430e-9e1a-430305feaee2",
   "metadata": {},
   "outputs": [
    {
     "name": "stdout",
     "output_type": "stream",
     "text": [
      "-rw-rw----. 1 snap-smb dyndown 14706661790 Apr 11  2019 /rcs/project_data/wrf_data/hourly/t/t_hourly_wrf_ERA-Interim_historical_1979.nc\n"
     ]
    }
   ],
   "source": [
    "ls -l /rcs/project_data/wrf_data/hourly/t/t_hourly_wrf_ERA-Interim_historical_1979.nc"
   ]
  },
  {
   "cell_type": "code",
   "execution_count": null,
   "id": "cdc27617-b6ad-4746-8d36-f7b9ea55d803",
   "metadata": {},
   "outputs": [],
   "source": []
  }
 ],
 "metadata": {
  "kernelspec": {
   "display_name": "Python 3 (ipykernel)",
   "language": "python",
   "name": "python3"
  },
  "language_info": {
   "codemirror_mode": {
    "name": "ipython",
    "version": 3
   },
   "file_extension": ".py",
   "mimetype": "text/x-python",
   "name": "python",
   "nbconvert_exporter": "python",
   "pygments_lexer": "ipython3",
   "version": "3.8.3"
  }
 },
 "nbformat": 4,
 "nbformat_minor": 5
}
