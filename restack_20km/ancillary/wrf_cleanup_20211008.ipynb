{
 "cells": [
  {
   "cell_type": "markdown",
   "id": "c4e083d9-ffef-46b9-8ddc-3a26a21abebd",
   "metadata": {},
   "source": [
    "# WRF 10/21 cleanup audit\n",
    "\n",
    "We need to free up some space on `/rcs/` which is used for post-processing the 20km WRF data. So we want to remove redundant data but it is not clear what files are actually redundant. This notebook is to be used for auditing all data in `/rcs/`. \n",
    "\n",
    "Note - since we will be removing and re-organizing these files eventually, the code in this notebook will likely go stale. It will simply serve as a record of the current state of things prior to the 10/21 cleanup.\n",
    "\n",
    "## Data folders\n",
    "\n",
    "There are two folders in `/rcs/project_data/` that hold the bulk of the data: `wrf_data/` and `WRF_DATA_SEP2019`.\n",
    "\n",
    "### `WRF_DATA_SEP2019/`\n",
    "\n",
    "This folder is definitely incomplete. It seems to have all variables, but not all year/model combinations. This was seen while investigating the [wind issue](https://github.com/ua-snap/wrf_utils/blob/287e607684d10290eeee5b3ba4e2ea4e76577f1d/snap_wrf_data_prep/wind-issue/repair_winds_issue.ipynb). \n",
    "\n",
    "For most variables (potentially all) there seems to be ~35 years of CCSM RCP 8.5, 70 years of GFDL RCP 8.5, and sometimes 1 historical year from each GCM, and usually no ERA-Interim. Here are the files present for a few variables:"
   ]
  },
  {
   "cell_type": "code",
   "execution_count": 55,
   "id": "2512c09f-d264-44d3-9769-ea3cb87ab931",
   "metadata": {
    "collapsed": true,
    "jupyter": {
     "outputs_hidden": true
    },
    "tags": []
   },
   "outputs": [
    {
     "name": "stdout",
     "output_type": "stream",
     "text": [
      "ACSNOW_wrf_hourly_ccsm_hist_1970.nc   ACSNOW_wrf_hourly_gfdl_rcp85_2023.nc\n",
      "ACSNOW_wrf_hourly_ccsm_rcp85_2005.nc  ACSNOW_wrf_hourly_gfdl_rcp85_2024.nc\n",
      "ACSNOW_wrf_hourly_ccsm_rcp85_2006.nc  ACSNOW_wrf_hourly_gfdl_rcp85_2025.nc\n",
      "ACSNOW_wrf_hourly_ccsm_rcp85_2007.nc  ACSNOW_wrf_hourly_gfdl_rcp85_2026.nc\n",
      "ACSNOW_wrf_hourly_ccsm_rcp85_2008.nc  ACSNOW_wrf_hourly_gfdl_rcp85_2027.nc\n",
      "ACSNOW_wrf_hourly_ccsm_rcp85_2009.nc  ACSNOW_wrf_hourly_gfdl_rcp85_2028.nc\n",
      "ACSNOW_wrf_hourly_ccsm_rcp85_2010.nc  ACSNOW_wrf_hourly_gfdl_rcp85_2029.nc\n",
      "ACSNOW_wrf_hourly_ccsm_rcp85_2011.nc  ACSNOW_wrf_hourly_gfdl_rcp85_2030.nc\n",
      "ACSNOW_wrf_hourly_ccsm_rcp85_2012.nc  ACSNOW_wrf_hourly_gfdl_rcp85_2031.nc\n",
      "ACSNOW_wrf_hourly_ccsm_rcp85_2013.nc  ACSNOW_wrf_hourly_gfdl_rcp85_2032.nc\n",
      "ACSNOW_wrf_hourly_ccsm_rcp85_2014.nc  ACSNOW_wrf_hourly_gfdl_rcp85_2033.nc\n",
      "ACSNOW_wrf_hourly_ccsm_rcp85_2015.nc  ACSNOW_wrf_hourly_gfdl_rcp85_2034.nc\n",
      "ACSNOW_wrf_hourly_ccsm_rcp85_2016.nc  ACSNOW_wrf_hourly_gfdl_rcp85_2035.nc\n",
      "ACSNOW_wrf_hourly_ccsm_rcp85_2017.nc  ACSNOW_wrf_hourly_gfdl_rcp85_2036.nc\n",
      "ACSNOW_wrf_hourly_ccsm_rcp85_2018.nc  ACSNOW_wrf_hourly_gfdl_rcp85_2037.nc\n",
      "ACSNOW_wrf_hourly_ccsm_rcp85_2019.nc  ACSNOW_wrf_hourly_gfdl_rcp85_2038.nc\n",
      "ACSNOW_wrf_hourly_ccsm_rcp85_2020.nc  ACSNOW_wrf_hourly_gfdl_rcp85_2039.nc\n",
      "ACSNOW_wrf_hourly_ccsm_rcp85_2021.nc  ACSNOW_wrf_hourly_gfdl_rcp85_2040.nc\n",
      "ACSNOW_wrf_hourly_ccsm_rcp85_2022.nc  ACSNOW_wrf_hourly_gfdl_rcp85_2041.nc\n",
      "ACSNOW_wrf_hourly_ccsm_rcp85_2023.nc  ACSNOW_wrf_hourly_gfdl_rcp85_2042.nc\n",
      "ACSNOW_wrf_hourly_ccsm_rcp85_2024.nc  ACSNOW_wrf_hourly_gfdl_rcp85_2043.nc\n",
      "ACSNOW_wrf_hourly_ccsm_rcp85_2025.nc  ACSNOW_wrf_hourly_gfdl_rcp85_2044.nc\n",
      "ACSNOW_wrf_hourly_ccsm_rcp85_2026.nc  ACSNOW_wrf_hourly_gfdl_rcp85_2045.nc\n",
      "ACSNOW_wrf_hourly_ccsm_rcp85_2027.nc  ACSNOW_wrf_hourly_gfdl_rcp85_2046.nc\n",
      "ACSNOW_wrf_hourly_ccsm_rcp85_2028.nc  ACSNOW_wrf_hourly_gfdl_rcp85_2047.nc\n",
      "ACSNOW_wrf_hourly_ccsm_rcp85_2029.nc  ACSNOW_wrf_hourly_gfdl_rcp85_2048.nc\n",
      "ACSNOW_wrf_hourly_ccsm_rcp85_2030.nc  ACSNOW_wrf_hourly_gfdl_rcp85_2049.nc\n",
      "ACSNOW_wrf_hourly_ccsm_rcp85_2031.nc  ACSNOW_wrf_hourly_gfdl_rcp85_2050.nc\n",
      "ACSNOW_wrf_hourly_ccsm_rcp85_2032.nc  ACSNOW_wrf_hourly_gfdl_rcp85_2051.nc\n",
      "ACSNOW_wrf_hourly_ccsm_rcp85_2033.nc  ACSNOW_wrf_hourly_gfdl_rcp85_2052.nc\n",
      "ACSNOW_wrf_hourly_ccsm_rcp85_2034.nc  ACSNOW_wrf_hourly_gfdl_rcp85_2053.nc\n",
      "ACSNOW_wrf_hourly_ccsm_rcp85_2035.nc  ACSNOW_wrf_hourly_gfdl_rcp85_2054.nc\n",
      "ACSNOW_wrf_hourly_ccsm_rcp85_2036.nc  ACSNOW_wrf_hourly_gfdl_rcp85_2055.nc\n",
      "ACSNOW_wrf_hourly_ccsm_rcp85_2037.nc  ACSNOW_wrf_hourly_gfdl_rcp85_2056.nc\n",
      "ACSNOW_wrf_hourly_ccsm_rcp85_2038.nc  ACSNOW_wrf_hourly_gfdl_rcp85_2057.nc\n",
      "ACSNOW_wrf_hourly_ccsm_rcp85_2039.nc  ACSNOW_wrf_hourly_gfdl_rcp85_2058.nc\n",
      "ACSNOW_wrf_hourly_gfdl_rcp85_2006.nc  ACSNOW_wrf_hourly_gfdl_rcp85_2059.nc\n",
      "ACSNOW_wrf_hourly_gfdl_rcp85_2007.nc  ACSNOW_wrf_hourly_gfdl_rcp85_2060.nc\n",
      "ACSNOW_wrf_hourly_gfdl_rcp85_2008.nc  ACSNOW_wrf_hourly_gfdl_rcp85_2061.nc\n",
      "ACSNOW_wrf_hourly_gfdl_rcp85_2009.nc  ACSNOW_wrf_hourly_gfdl_rcp85_2062.nc\n",
      "ACSNOW_wrf_hourly_gfdl_rcp85_2010.nc  ACSNOW_wrf_hourly_gfdl_rcp85_2063.nc\n",
      "ACSNOW_wrf_hourly_gfdl_rcp85_2011.nc  ACSNOW_wrf_hourly_gfdl_rcp85_2064.nc\n",
      "ACSNOW_wrf_hourly_gfdl_rcp85_2012.nc  ACSNOW_wrf_hourly_gfdl_rcp85_2065.nc\n",
      "ACSNOW_wrf_hourly_gfdl_rcp85_2013.nc  ACSNOW_wrf_hourly_gfdl_rcp85_2066.nc\n",
      "ACSNOW_wrf_hourly_gfdl_rcp85_2014.nc  ACSNOW_wrf_hourly_gfdl_rcp85_2067.nc\n",
      "ACSNOW_wrf_hourly_gfdl_rcp85_2015.nc  ACSNOW_wrf_hourly_gfdl_rcp85_2068.nc\n",
      "ACSNOW_wrf_hourly_gfdl_rcp85_2016.nc  ACSNOW_wrf_hourly_gfdl_rcp85_2069.nc\n",
      "ACSNOW_wrf_hourly_gfdl_rcp85_2017.nc  ACSNOW_wrf_hourly_gfdl_rcp85_2070.nc\n",
      "ACSNOW_wrf_hourly_gfdl_rcp85_2018.nc  ACSNOW_wrf_hourly_gfdl_rcp85_2071.nc\n",
      "ACSNOW_wrf_hourly_gfdl_rcp85_2019.nc  ACSNOW_wrf_hourly_gfdl_rcp85_2072.nc\n",
      "ACSNOW_wrf_hourly_gfdl_rcp85_2020.nc  ACSNOW_wrf_hourly_gfdl_rcp85_2073.nc\n",
      "ACSNOW_wrf_hourly_gfdl_rcp85_2021.nc  ACSNOW_wrf_hourly_gfdl_rcp85_2074.nc\n",
      "ACSNOW_wrf_hourly_gfdl_rcp85_2022.nc  ACSNOW_wrf_hourly_gfdl_rcp85_2075.nc\n"
     ]
    }
   ],
   "source": [
    "ls /rcs/project_data/WRF_DATA_SEP2019/acsnow"
   ]
  },
  {
   "cell_type": "code",
   "execution_count": 58,
   "id": "1a38aadf-9740-4845-9a4e-7bf69871e679",
   "metadata": {
    "collapsed": true,
    "jupyter": {
     "outputs_hidden": true
    },
    "tags": []
   },
   "outputs": [
    {
     "name": "stdout",
     "output_type": "stream",
     "text": [
      "T_wrf_hourly_ccsm_hist_1970.nc   T_wrf_hourly_gfdl_rcp85_2023.nc\n",
      "T_wrf_hourly_ccsm_rcp85_2005.nc  T_wrf_hourly_gfdl_rcp85_2024.nc\n",
      "T_wrf_hourly_ccsm_rcp85_2006.nc  T_wrf_hourly_gfdl_rcp85_2025.nc\n",
      "T_wrf_hourly_ccsm_rcp85_2007.nc  T_wrf_hourly_gfdl_rcp85_2026.nc\n",
      "T_wrf_hourly_ccsm_rcp85_2008.nc  T_wrf_hourly_gfdl_rcp85_2027.nc\n",
      "T_wrf_hourly_ccsm_rcp85_2009.nc  T_wrf_hourly_gfdl_rcp85_2028.nc\n",
      "T_wrf_hourly_ccsm_rcp85_2010.nc  T_wrf_hourly_gfdl_rcp85_2029.nc\n",
      "T_wrf_hourly_ccsm_rcp85_2011.nc  T_wrf_hourly_gfdl_rcp85_2030.nc\n",
      "T_wrf_hourly_ccsm_rcp85_2012.nc  T_wrf_hourly_gfdl_rcp85_2031.nc\n",
      "T_wrf_hourly_ccsm_rcp85_2013.nc  T_wrf_hourly_gfdl_rcp85_2032.nc\n",
      "T_wrf_hourly_ccsm_rcp85_2014.nc  T_wrf_hourly_gfdl_rcp85_2033.nc\n",
      "T_wrf_hourly_ccsm_rcp85_2015.nc  T_wrf_hourly_gfdl_rcp85_2034.nc\n",
      "T_wrf_hourly_ccsm_rcp85_2016.nc  T_wrf_hourly_gfdl_rcp85_2035.nc\n",
      "T_wrf_hourly_ccsm_rcp85_2017.nc  T_wrf_hourly_gfdl_rcp85_2036.nc\n",
      "T_wrf_hourly_ccsm_rcp85_2018.nc  T_wrf_hourly_gfdl_rcp85_2037.nc\n",
      "T_wrf_hourly_ccsm_rcp85_2019.nc  T_wrf_hourly_gfdl_rcp85_2038.nc\n",
      "T_wrf_hourly_ccsm_rcp85_2020.nc  T_wrf_hourly_gfdl_rcp85_2039.nc\n",
      "T_wrf_hourly_ccsm_rcp85_2021.nc  T_wrf_hourly_gfdl_rcp85_2040.nc\n",
      "T_wrf_hourly_ccsm_rcp85_2022.nc  T_wrf_hourly_gfdl_rcp85_2041.nc\n",
      "T_wrf_hourly_ccsm_rcp85_2023.nc  T_wrf_hourly_gfdl_rcp85_2042.nc\n",
      "T_wrf_hourly_ccsm_rcp85_2024.nc  T_wrf_hourly_gfdl_rcp85_2043.nc\n",
      "T_wrf_hourly_ccsm_rcp85_2025.nc  T_wrf_hourly_gfdl_rcp85_2044.nc\n",
      "T_wrf_hourly_ccsm_rcp85_2026.nc  T_wrf_hourly_gfdl_rcp85_2045.nc\n",
      "T_wrf_hourly_ccsm_rcp85_2027.nc  T_wrf_hourly_gfdl_rcp85_2046.nc\n",
      "T_wrf_hourly_ccsm_rcp85_2028.nc  T_wrf_hourly_gfdl_rcp85_2047.nc\n",
      "T_wrf_hourly_ccsm_rcp85_2029.nc  T_wrf_hourly_gfdl_rcp85_2048.nc\n",
      "T_wrf_hourly_ccsm_rcp85_2030.nc  T_wrf_hourly_gfdl_rcp85_2049.nc\n",
      "T_wrf_hourly_ccsm_rcp85_2031.nc  T_wrf_hourly_gfdl_rcp85_2050.nc\n",
      "T_wrf_hourly_ccsm_rcp85_2032.nc  T_wrf_hourly_gfdl_rcp85_2051.nc\n",
      "T_wrf_hourly_ccsm_rcp85_2033.nc  T_wrf_hourly_gfdl_rcp85_2052.nc\n",
      "T_wrf_hourly_ccsm_rcp85_2034.nc  T_wrf_hourly_gfdl_rcp85_2053.nc\n",
      "T_wrf_hourly_ccsm_rcp85_2035.nc  T_wrf_hourly_gfdl_rcp85_2054.nc\n",
      "T_wrf_hourly_ccsm_rcp85_2036.nc  T_wrf_hourly_gfdl_rcp85_2055.nc\n",
      "T_wrf_hourly_ccsm_rcp85_2037.nc  T_wrf_hourly_gfdl_rcp85_2056.nc\n",
      "T_wrf_hourly_ccsm_rcp85_2038.nc  T_wrf_hourly_gfdl_rcp85_2057.nc\n",
      "T_wrf_hourly_ccsm_rcp85_2039.nc  T_wrf_hourly_gfdl_rcp85_2058.nc\n",
      "T_wrf_hourly_erain_1979.nc       T_wrf_hourly_gfdl_rcp85_2059.nc\n",
      "T_wrf_hourly_gfdl_rcp85_2006.nc  T_wrf_hourly_gfdl_rcp85_2060.nc\n",
      "T_wrf_hourly_gfdl_rcp85_2007.nc  T_wrf_hourly_gfdl_rcp85_2061.nc\n",
      "T_wrf_hourly_gfdl_rcp85_2008.nc  T_wrf_hourly_gfdl_rcp85_2062.nc\n",
      "T_wrf_hourly_gfdl_rcp85_2009.nc  T_wrf_hourly_gfdl_rcp85_2063.nc\n",
      "T_wrf_hourly_gfdl_rcp85_2010.nc  T_wrf_hourly_gfdl_rcp85_2064.nc\n",
      "T_wrf_hourly_gfdl_rcp85_2011.nc  T_wrf_hourly_gfdl_rcp85_2065.nc\n",
      "T_wrf_hourly_gfdl_rcp85_2012.nc  T_wrf_hourly_gfdl_rcp85_2066.nc\n",
      "T_wrf_hourly_gfdl_rcp85_2013.nc  T_wrf_hourly_gfdl_rcp85_2067.nc\n",
      "T_wrf_hourly_gfdl_rcp85_2014.nc  T_wrf_hourly_gfdl_rcp85_2068.nc\n",
      "T_wrf_hourly_gfdl_rcp85_2015.nc  T_wrf_hourly_gfdl_rcp85_2069.nc\n",
      "T_wrf_hourly_gfdl_rcp85_2016.nc  T_wrf_hourly_gfdl_rcp85_2070.nc\n",
      "T_wrf_hourly_gfdl_rcp85_2017.nc  T_wrf_hourly_gfdl_rcp85_2071.nc\n",
      "T_wrf_hourly_gfdl_rcp85_2018.nc  T_wrf_hourly_gfdl_rcp85_2072.nc\n",
      "T_wrf_hourly_gfdl_rcp85_2019.nc  T_wrf_hourly_gfdl_rcp85_2073.nc\n",
      "T_wrf_hourly_gfdl_rcp85_2020.nc  T_wrf_hourly_gfdl_rcp85_2074.nc\n",
      "T_wrf_hourly_gfdl_rcp85_2021.nc  T_wrf_hourly_gfdl_rcp85_2075.nc\n",
      "T_wrf_hourly_gfdl_rcp85_2022.nc\n"
     ]
    }
   ],
   "source": [
    "ls /rcs/project_data/WRF_DATA_SEP2019/t"
   ]
  },
  {
   "cell_type": "code",
   "execution_count": 60,
   "id": "c0e5b87c-4a9f-45ef-8407-c2c4ef701494",
   "metadata": {
    "collapsed": true,
    "jupyter": {
     "outputs_hidden": true
    },
    "tags": []
   },
   "outputs": [
    {
     "name": "stdout",
     "output_type": "stream",
     "text": [
      "PCPT_wrf_hourly_ccsm_hist_1970.nc   PCPT_wrf_hourly_gfdl_rcp85_2023.nc\n",
      "PCPT_wrf_hourly_ccsm_rcp85_2005.nc  PCPT_wrf_hourly_gfdl_rcp85_2024.nc\n",
      "PCPT_wrf_hourly_ccsm_rcp85_2006.nc  PCPT_wrf_hourly_gfdl_rcp85_2025.nc\n",
      "PCPT_wrf_hourly_ccsm_rcp85_2007.nc  PCPT_wrf_hourly_gfdl_rcp85_2026.nc\n",
      "PCPT_wrf_hourly_ccsm_rcp85_2008.nc  PCPT_wrf_hourly_gfdl_rcp85_2027.nc\n",
      "PCPT_wrf_hourly_ccsm_rcp85_2009.nc  PCPT_wrf_hourly_gfdl_rcp85_2028.nc\n",
      "PCPT_wrf_hourly_ccsm_rcp85_2010.nc  PCPT_wrf_hourly_gfdl_rcp85_2029.nc\n",
      "PCPT_wrf_hourly_ccsm_rcp85_2011.nc  PCPT_wrf_hourly_gfdl_rcp85_2030.nc\n",
      "PCPT_wrf_hourly_ccsm_rcp85_2012.nc  PCPT_wrf_hourly_gfdl_rcp85_2031.nc\n",
      "PCPT_wrf_hourly_ccsm_rcp85_2013.nc  PCPT_wrf_hourly_gfdl_rcp85_2032.nc\n",
      "PCPT_wrf_hourly_ccsm_rcp85_2014.nc  PCPT_wrf_hourly_gfdl_rcp85_2033.nc\n",
      "PCPT_wrf_hourly_ccsm_rcp85_2015.nc  PCPT_wrf_hourly_gfdl_rcp85_2034.nc\n",
      "PCPT_wrf_hourly_ccsm_rcp85_2016.nc  PCPT_wrf_hourly_gfdl_rcp85_2035.nc\n",
      "PCPT_wrf_hourly_ccsm_rcp85_2017.nc  PCPT_wrf_hourly_gfdl_rcp85_2036.nc\n",
      "PCPT_wrf_hourly_ccsm_rcp85_2018.nc  PCPT_wrf_hourly_gfdl_rcp85_2037.nc\n",
      "PCPT_wrf_hourly_ccsm_rcp85_2019.nc  PCPT_wrf_hourly_gfdl_rcp85_2038.nc\n",
      "PCPT_wrf_hourly_ccsm_rcp85_2020.nc  PCPT_wrf_hourly_gfdl_rcp85_2039.nc\n",
      "PCPT_wrf_hourly_ccsm_rcp85_2021.nc  PCPT_wrf_hourly_gfdl_rcp85_2040.nc\n",
      "PCPT_wrf_hourly_ccsm_rcp85_2022.nc  PCPT_wrf_hourly_gfdl_rcp85_2041.nc\n",
      "PCPT_wrf_hourly_ccsm_rcp85_2023.nc  PCPT_wrf_hourly_gfdl_rcp85_2042.nc\n",
      "PCPT_wrf_hourly_ccsm_rcp85_2024.nc  PCPT_wrf_hourly_gfdl_rcp85_2043.nc\n",
      "PCPT_wrf_hourly_ccsm_rcp85_2025.nc  PCPT_wrf_hourly_gfdl_rcp85_2044.nc\n",
      "PCPT_wrf_hourly_ccsm_rcp85_2026.nc  PCPT_wrf_hourly_gfdl_rcp85_2045.nc\n",
      "PCPT_wrf_hourly_ccsm_rcp85_2027.nc  PCPT_wrf_hourly_gfdl_rcp85_2046.nc\n",
      "PCPT_wrf_hourly_ccsm_rcp85_2028.nc  PCPT_wrf_hourly_gfdl_rcp85_2047.nc\n",
      "PCPT_wrf_hourly_ccsm_rcp85_2029.nc  PCPT_wrf_hourly_gfdl_rcp85_2048.nc\n",
      "PCPT_wrf_hourly_ccsm_rcp85_2030.nc  PCPT_wrf_hourly_gfdl_rcp85_2049.nc\n",
      "PCPT_wrf_hourly_ccsm_rcp85_2031.nc  PCPT_wrf_hourly_gfdl_rcp85_2050.nc\n",
      "PCPT_wrf_hourly_ccsm_rcp85_2032.nc  PCPT_wrf_hourly_gfdl_rcp85_2051.nc\n",
      "PCPT_wrf_hourly_ccsm_rcp85_2033.nc  PCPT_wrf_hourly_gfdl_rcp85_2052.nc\n",
      "PCPT_wrf_hourly_ccsm_rcp85_2034.nc  PCPT_wrf_hourly_gfdl_rcp85_2053.nc\n",
      "PCPT_wrf_hourly_ccsm_rcp85_2035.nc  PCPT_wrf_hourly_gfdl_rcp85_2054.nc\n",
      "PCPT_wrf_hourly_ccsm_rcp85_2036.nc  PCPT_wrf_hourly_gfdl_rcp85_2055.nc\n",
      "PCPT_wrf_hourly_ccsm_rcp85_2037.nc  PCPT_wrf_hourly_gfdl_rcp85_2056.nc\n",
      "PCPT_wrf_hourly_ccsm_rcp85_2038.nc  PCPT_wrf_hourly_gfdl_rcp85_2057.nc\n",
      "PCPT_wrf_hourly_ccsm_rcp85_2039.nc  PCPT_wrf_hourly_gfdl_rcp85_2058.nc\n",
      "PCPT_wrf_hourly_gfdl_rcp85_2006.nc  PCPT_wrf_hourly_gfdl_rcp85_2059.nc\n",
      "PCPT_wrf_hourly_gfdl_rcp85_2007.nc  PCPT_wrf_hourly_gfdl_rcp85_2060.nc\n",
      "PCPT_wrf_hourly_gfdl_rcp85_2008.nc  PCPT_wrf_hourly_gfdl_rcp85_2061.nc\n",
      "PCPT_wrf_hourly_gfdl_rcp85_2009.nc  PCPT_wrf_hourly_gfdl_rcp85_2062.nc\n",
      "PCPT_wrf_hourly_gfdl_rcp85_2010.nc  PCPT_wrf_hourly_gfdl_rcp85_2063.nc\n",
      "PCPT_wrf_hourly_gfdl_rcp85_2011.nc  PCPT_wrf_hourly_gfdl_rcp85_2064.nc\n",
      "PCPT_wrf_hourly_gfdl_rcp85_2012.nc  PCPT_wrf_hourly_gfdl_rcp85_2065.nc\n",
      "PCPT_wrf_hourly_gfdl_rcp85_2013.nc  PCPT_wrf_hourly_gfdl_rcp85_2066.nc\n",
      "PCPT_wrf_hourly_gfdl_rcp85_2014.nc  PCPT_wrf_hourly_gfdl_rcp85_2067.nc\n",
      "PCPT_wrf_hourly_gfdl_rcp85_2015.nc  PCPT_wrf_hourly_gfdl_rcp85_2068.nc\n",
      "PCPT_wrf_hourly_gfdl_rcp85_2016.nc  PCPT_wrf_hourly_gfdl_rcp85_2069.nc\n",
      "PCPT_wrf_hourly_gfdl_rcp85_2017.nc  PCPT_wrf_hourly_gfdl_rcp85_2070.nc\n",
      "PCPT_wrf_hourly_gfdl_rcp85_2018.nc  PCPT_wrf_hourly_gfdl_rcp85_2071.nc\n",
      "PCPT_wrf_hourly_gfdl_rcp85_2019.nc  PCPT_wrf_hourly_gfdl_rcp85_2072.nc\n",
      "PCPT_wrf_hourly_gfdl_rcp85_2020.nc  PCPT_wrf_hourly_gfdl_rcp85_2073.nc\n",
      "PCPT_wrf_hourly_gfdl_rcp85_2021.nc  PCPT_wrf_hourly_gfdl_rcp85_2074.nc\n",
      "PCPT_wrf_hourly_gfdl_rcp85_2022.nc  PCPT_wrf_hourly_gfdl_rcp85_2075.nc\n"
     ]
    }
   ],
   "source": [
    "ls /rcs/project_data/WRF_DATA_SEP2019/pcpt"
   ]
  },
  {
   "cell_type": "markdown",
   "id": "3cb7196d-f22c-4a30-8e5f-c29d1d712c7f",
   "metadata": {},
   "source": [
    "#### `hourly` / `hourly_fix`?\n",
    "\n",
    "Another point of confusion is whether these data correspond to the re-stacked and un-\"fixed\" data, or the final post-processed product. According to the wind-repair notebook linked above, these data do indeed match data that has been restacked using the most recent version of the restacking code. This means they should correspond to the data in `/rcs/project_data/wrf_data/hourly/`, if *those* data were also restacked using the most recent code. So here is a check to see whether these data actually match the data in `/rcs/project_data/wrf_data/hourly/` for a variety of variable/year/model combinations:"
   ]
  },
  {
   "cell_type": "code",
   "execution_count": 109,
   "id": "cea8ec0e-45e0-405b-bcce-6ab748a08c22",
   "metadata": {},
   "outputs": [
    {
     "name": "stdout",
     "output_type": "stream",
     "text": [
      "Variable: acsnow; Model: ccsm......match: True\n",
      "Variable: acsnow; Model: gfdl......match: True\n",
      "Variable: pcpt; Model: ccsm......match: True\n",
      "Variable: pcpt; Model: gfdl......match: True\n",
      "Variable: t2; Model: ccsm......match: True\n",
      "Variable: t2; Model: gfdl......match: True\n",
      "Variable: lwupb; Model: ccsm......match: True\n",
      "Variable: lwupb; Model: gfdl......match: True\n",
      "Variable: snow; Model: ccsm......match: True\n",
      "Variable: snow; Model: gfdl......match: True\n",
      "Variable: ght; Model: ccsm......match: True\n",
      "Variable: ght; Model: gfdl......match: True\n"
     ]
    }
   ],
   "source": [
    "import xarray as xr\n",
    "import numpy as np\n",
    "import itertools\n",
    "from pathlib import Path\n",
    "\n",
    "def compare_restacked_data(restacked_fp, original_fp, var, year, month=None, day=None):\n",
    "    if month is None:\n",
    "        month = str(np.random.randint(1, 12)).zfill(2)\n",
    "    if day is None:\n",
    "        day = str(np.random.randint(1, 28)).zfill(2)\n",
    "        \n",
    "    with xr.open_dataset(restacked_fp) as ds:\n",
    "        restacked_arr = ds[var].sel(time=f\"{year}-{month}-{day}T00:00:00\").values\n",
    "\n",
    "    with xr.open_dataset(original_fp) as ds:\n",
    "        original_arr = ds[var].sel(time=f\"{year}-{month}-{day}T00:00:00\").values\n",
    "\n",
    "    print(\"match:\", np.all(original_arr == restacked_arr))\n",
    "\n",
    "\n",
    "original_dir = Path(\"/rcs/project_data/wrf_data/hourly\")\n",
    "sep19_dir = Path(\"/rcs/project_data/WRF_DATA_SEP2019\")\n",
    "\n",
    "# some random variables (not wind on purpose because this \n",
    "# directory does not have them because of wind issue\n",
    "variables = [\"acsnow\", \"pcpt\", \"t2\", \"lwupb\", \"snow\", \"ght\"]\n",
    "models = [\"ccsm\", \"gfdl\"]\n",
    "year = 2012\n",
    "\n",
    "for var, model in itertools.product(variables, models):\n",
    "    og_fp = list(original_dir.joinpath(var).glob(f\"*{model}*{year}*\"))[0]\n",
    "    s19_fp = list(sep19_dir.joinpath(var).glob(f\"*{model}*{year}*\"))[0]\n",
    "    print(f\"Variable: {var}; Model: {model}\", end=\"......\")\n",
    "    print(\"size:\", s19_fp.stat().st_size == og_fp.stat().st_size, end=\"...\")\n",
    "    compare_restacked_data(s19_fp, og_fp, var.upper(), year)"
   ]
  },
  {
   "cell_type": "markdown",
   "id": "d30f6aba-396a-4270-b87d-4fae94d40d94",
   "metadata": {},
   "source": [
    "This is somewhat unexpected, because according to the WRF wind repair efforts, the wind data in this folder were different from what was in `wrf_data/hourly`. Can't re-verify directly because those non-matchings files were cleaned out of there because they were assumed bad. But some were saved in `/rcs/project_data/wrf_data/wind-issue/incorrect_samples/hourly`. So compare with these data again to make sure:"
   ]
  },
  {
   "cell_type": "code",
   "execution_count": 145,
   "id": "6d3739f1-075a-4a44-9cfb-66533db722fb",
   "metadata": {},
   "outputs": [
    {
     "name": "stdout",
     "output_type": "stream",
     "text": [
      "Variable: U10; Model: ccsm......size: False...match: False\n",
      "Variable: U10; Model: gfdl......size: False...match: False\n",
      "Variable: UBOT; Model: ccsm......size: False...match: False\n",
      "Variable: UBOT; Model: gfdl......size: False...match: False\n",
      "Variable: V10; Model: ccsm......size: False...match: False\n",
      "Variable: V10; Model: gfdl......size: False...match: False\n",
      "Variable: VBOT; Model: ccsm......size: False...match: False\n",
      "Variable: VBOT; Model: gfdl......size: False...match: False\n"
     ]
    }
   ],
   "source": [
    "bad_dir = Path(\"/rcs/project_data/wrf_data/wind-issue/incorrect_samples/hourly\")\n",
    "\n",
    "# some random variables (not wind on purpose because this \n",
    "# directory does not have them because of wind issue\n",
    "variables = [\"U10\", \"UBOT\", \"V10\", \"VBOT\"]\n",
    "models = [\"ccsm\", \"gfdl\"]\n",
    "year = 2006\n",
    "\n",
    "for var, model in itertools.product(variables, models):\n",
    "    bad_fp = list(bad_dir.glob(f\"*{var.upper()}*{model}*{year}*\"))[0]\n",
    "    s19_fp = list(sep19_dir.joinpath(var).glob(f\"*{var.upper()}*{model}*{year}*\"))[0]\n",
    "    print(f\"Variable: {var}; Model: {model}\", end=\"......\")\n",
    "    print(\"size:\", s19_fp.stat().st_size == bad_fp.stat().st_size, end=\"...\")\n",
    "    compare_restacked_data(s19_fp, bad_fp, var.upper(), year)"
   ]
  },
  {
   "cell_type": "markdown",
   "id": "4d65dbc6-1198-43b1-af7a-1ccba4d23a0f",
   "metadata": {},
   "source": [
    "Okay so it looks like the wind variables don't match but potentially other variables do. \n",
    "\n",
    "This means we should verify that all non-wind variables in `/rcs/project_data/wrf_data/hourly/` match what's in `WRF_DATA_SEP2019`. We will do so by checking that filesizes match between all files:"
   ]
  },
  {
   "cell_type": "code",
   "execution_count": 342,
   "id": "cbde0c5e-3c0d-45c6-9fc0-04db97b9ce70",
   "metadata": {},
   "outputs": [
    {
     "name": "stdout",
     "output_type": "stream",
     "text": [
      "Done, 64.7m\n"
     ]
    }
   ],
   "source": [
    "from multiprocessing import Pool\n",
    "import time\n",
    "\n",
    "def compare_files(fp, seed, search_dir=original_dir):\n",
    "    \"\"\"Lookup a file with same name as fp in \n",
    "    search_dir and compare sizes, and whether\n",
    "    file values for a random time slice are the same.\n",
    "    \"\"\"\n",
    "    test_fp = Path(search_dir.joinpath(f\"{fp.parent.name}/{fp.name}\"))\n",
    "    var = fp.parent.name\n",
    "    year = fp.name.split(\"_\")[-1].split(\".\")[0]\n",
    "    local_state = np.random.RandomState(seed)\n",
    "    month = str(local_state.randint(1, 12)).zfill(2)\n",
    "    day = str(local_state.randint(1, 28)).zfill(2)\n",
    "    \n",
    "    if test_fp.exists():\n",
    "        size_result = test_fp.stat().st_size == fp.stat().st_size\n",
    "        try:\n",
    "            with xr.open_dataset(fp) as ds1:\n",
    "                arr1 = ds1[var.upper()].sel(time=f\"{year}-{month}-{day}T00:00:00\", x=slice(100, 150), y=slice(100, 150)).values\n",
    "            bad_fp = False\n",
    "        except OSError:\n",
    "            bad_fp = fp\n",
    "        except KeyError:\n",
    "            bad_fp = f\"{fp} TYPE 2\"\n",
    "            \n",
    "        try:\n",
    "            with xr.open_dataset(test_fp) as ds2:\n",
    "                arr2 = ds2[var.upper()].sel(time=f\"{year}-{month}-{day}T00:00:00\", x=slice(100, 150), y=slice(100, 150)).values\n",
    "            bad_test_fp = False\n",
    "        except OSError:\n",
    "            bad_test_fp = test_fp\n",
    "        except KeyError:\n",
    "            bad_test_fp = f\"{test_fp} TYPE 2\"\n",
    "        \n",
    "        if (not bad_fp) & (not bad_test_fp):\n",
    "            arr_result = np.all(np.isclose(arr1, arr2))\n",
    "        else:\n",
    "            arr_result = f\"bad fp: {bad_fp}. Bad test fp: {bad_test_fp}\"\n",
    "    else:\n",
    "        size_result = None\n",
    "        arr_result = None\n",
    "    \n",
    "    return {\n",
    "        \"fp\": fp.name, \n",
    "        \"variable\": fp.parent.name, \n",
    "        \"year\": year, \n",
    "        \"month\": month, \n",
    "        \"day\": day, \n",
    "        \"size_result\": size_result, \n",
    "        \"arr_result\": arr_result\n",
    "    }\n",
    "    \n",
    "\n",
    "# get all files in WRF_DATA_SEP2019\n",
    "s19_fps = list(sep19_dir.glob(\"*/*.nc\"))\n",
    "\n",
    "args = list(zip(s19_fps, np.arange(len(s19_fps))))\n",
    "\n",
    "tic = time.perf_counter()\n",
    "\n",
    "# commented out to resume from 2575\n",
    "#results = []\n",
    "for arg in args[2575:]:\n",
    "    results.append(compare_files(*arg))\n",
    "\n",
    "print(f\"Done, {round((time.perf_counter() - tic) / 60, 1)}m\")"
   ]
  },
  {
   "cell_type": "markdown",
   "id": "64300f37-4169-4de1-a562-fb0a7e15eb00",
   "metadata": {},
   "source": []
  }
 ],
 "metadata": {
  "kernelspec": {
   "display_name": "Python 3 (ipykernel)",
   "language": "python",
   "name": "python3"
  },
  "language_info": {
   "codemirror_mode": {
    "name": "ipython",
    "version": 3
   },
   "file_extension": ".py",
   "mimetype": "text/x-python",
   "name": "python",
   "nbconvert_exporter": "python",
   "pygments_lexer": "ipython3",
   "version": "3.8.3"
  }
 },
 "nbformat": 4,
 "nbformat_minor": 5
}
