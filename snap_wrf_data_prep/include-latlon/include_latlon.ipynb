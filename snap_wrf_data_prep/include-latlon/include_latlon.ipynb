{
 "cells": [
  {
   "cell_type": "markdown",
   "id": "b3355727-38a6-4448-8190-8922e978e278",
   "metadata": {},
   "source": [
    "# Include Latitude and Longitude in Post-processed WRF\n",
    "\n",
    "The purpose of this notebook is to include the latitude and longitude values originally present in the WRF data (as geolocation grids) in the final post-processed output data.\n",
    "\n",
    "#### Current post-processed file structure\n",
    "\n",
    "A current copy (as of 2021-10-13) was saved to the project directory on Poseidon for reference via \n",
    "```\n",
    "cp /rcs/project_data/wrf_data/wind-issue/hourly_fix/u10/u10_hourly_wrf_NCAR-CCSM4_rcp85_2006.nc include-latlon/u10_ccsm_2006_original_copy.nc\n",
    "```\n",
    "\n",
    "View this file:"
   ]
  },
  {
   "cell_type": "code",
   "execution_count": 4,
   "id": "ff9a80ab-ab8f-4556-aefe-29d91167b557",
   "metadata": {},
   "outputs": [
    {
     "name": "stdout",
     "output_type": "stream",
     "text": [
      "<xarray.Dataset>\n",
      "Dimensions:  (time: 8760, yc: 262, xc: 262)\n",
      "Coordinates:\n",
      "  * xc       (xc) float64 -2.61e+06 -2.59e+06 -2.57e+06 ... 2.59e+06 2.61e+06\n",
      "  * yc       (yc) float64 -1.824e+05 -2.024e+05 ... -5.382e+06 -5.402e+06\n",
      "  * time     (time) datetime64[ns] 2006-01-01 ... 2006-12-31T23:00:00\n",
      "Data variables:\n",
      "    u10      (time, yc, xc) float32 ...\n",
      "Attributes:\n",
      "    creation_date:    Sat May 13 13:02:24 AKDT 2017\n",
      "    NCL_Version:      6.3.0\n",
      "    system:           Linux n9 2.6.32-642.11.1.el6.686g0000.x86_64 #1 SMP Tue...\n",
      "    Conventions:      None\n",
      "    grib_source:      WRFDS_d01.2006-01-01_00.grib\n",
      "    title:            NCL: convert-GRIB-to-netCDF\n",
      "    reference_time:   2006-01-01 00:00:00\n",
      "    proj_parameters:  +units=m +proj=stere +lat_ts=64.0 +lon_0=-152.0 +lat_0=...\n",
      "    crs_wkt:          PROJCS[\"unnamed\",GEOGCS[\"unnamed ellipse\",DATUM[\"unknow...\n",
      "    restacked_by:     Scenarios Network for Alaska + Arctic Planning -- 2018\n",
      "    SNAP_VERSION:     1.0\n"
     ]
    }
   ],
   "source": [
    "import os\n",
    "from pathlib import Path\n",
    "import xarray as xr\n",
    "\n",
    "\n",
    "base_dir = Path(os.getenv(\"BASE_DIR\"))\n",
    "latlon_dir = base_dir.joinpath(\"include-latlon\")\n",
    "original_fp = latlon_dir.joinpath(\"u10_ccsm_2006_original_copy.nc\")\n",
    "\n",
    "with xr.open_dataset(original_fp) as ds:\n",
    "    print(ds)\n",
    "    test_arr = ds[\"u10\"].sel(time=\"2006-01-01T00:00:00\").values"
   ]
  },
  {
   "cell_type": "markdown",
   "id": "db8ab9cf-bd69-43fe-9da0-77df168d1226",
   "metadata": {
    "tags": []
   },
   "source": [
    "#### Stacked data with lat/lon info\n",
    "\n",
    "The \"stacked\" data resulting from pipeline is to be removed, but it still has the lat/lon info that we wish to add. An original stacked file was copied to the `$BASE_DIR/include-latlon/` for reference and for future extraction the lat/lon grids, since all stacked data have the same lat/lon grids. This was accomplished with: \n",
    "\n",
    "```\n",
    "cp /rcs/project_data/wrf_data/wind-issue/hourly/u10/U10_wrf_hourly_ccsm_rcp85_2006.nc  include-latlon/u10_ccsm_2006_stacked_original_copy.nc\n",
    "```\n",
    "\n",
    "Now view the \"stacked\" data file copy, and extract the lat/lon grids:"
   ]
  },
  {
   "cell_type": "code",
   "execution_count": 30,
   "id": "ce7a8b99-422d-47a9-ba93-dd7db22bb50e",
   "metadata": {},
   "outputs": [
    {
     "name": "stdout",
     "output_type": "stream",
     "text": [
      "<xarray.Dataset>\n",
      "Dimensions:  (time: 8760, x: 262, y: 262)\n",
      "Coordinates:\n",
      "    lon      (x, y) float32 ...\n",
      "    lat      (x, y) float32 ...\n",
      "  * time     (time) datetime64[ns] 2006-01-01 ... 2006-12-31T23:00:00\n",
      "Dimensions without coordinates: x, y\n",
      "Data variables:\n",
      "    U10      (time, x, y) float32 ...\n",
      "Attributes:\n",
      "    creation_date:    Sat May 13 13:02:24 AKDT 2017\n",
      "    NCL_Version:      6.3.0\n",
      "    system:           Linux n9 2.6.32-642.11.1.el6.686g0000.x86_64 #1 SMP Tue...\n",
      "    Conventions:      None\n",
      "    grib_source:      WRFDS_d01.2006-01-01_00.grib\n",
      "    title:            NCL: convert-GRIB-to-netCDF\n",
      "    reference_time:   2006-01-01 00:00:00\n",
      "    proj_parameters:  +units=m +proj=stere +lat_ts=64.0 +lon_0=-152.0 +lat_0=...\n",
      "\n",
      "Latitude grid:\n",
      " [[37.233    37.29895  37.364525 ... 37.367493 37.301937 37.236   ]\n",
      " [37.369934 37.43616  37.50201  ... 37.504993 37.439156 37.372944]\n",
      " [37.506927 37.573433 37.639565 ... 37.642555 37.576443 37.509953]\n",
      " ...\n",
      " [65.55994  65.740295 65.92076  ... 65.928955 65.74848  65.568115]\n",
      " [65.57468  65.75516  65.93575  ... 65.943954 65.76335  65.58286 ]\n",
      " [65.58805  65.76864  65.94935  ... 65.95755  65.77684  65.59624 ]]\n",
      "\n",
      "Longitude grid:\n",
      " [[-177.786    -177.6138   -177.44112  ... -126.566734 -126.39402\n",
      "  -126.22181 ]\n",
      " [-177.86931  -177.69673  -177.52364  ... -126.48424  -126.31112\n",
      "  -126.138504]\n",
      " [-177.95314  -177.78015  -177.60664  ... -126.40124  -126.227715\n",
      "  -126.0547  ]\n",
      " ...\n",
      " [ 122.89038   122.927956  122.96611  ...  -66.96785   -66.92967\n",
      "   -66.892075]\n",
      " [ 122.45432   122.48857   122.52335  ...  -66.52495   -66.49014\n",
      "   -66.455864]\n",
      " [ 122.017746  122.04866   122.080055 ...  -66.08149   -66.05007\n",
      "   -66.019135]]\n"
     ]
    }
   ],
   "source": [
    "original_stacked_fp = latlon_dir.joinpath(\"u10_ccsm_2006_stacked_original_copy.nc\")\n",
    "\n",
    "with xr.open_dataset(original_stacked_fp) as stacked_ds:\n",
    "    print(stacked_ds)\n",
    "    lat_arr = stacked_ds[\"lat\"].values\n",
    "    lon_arr = stacked_ds[\"lon\"].values\n",
    "    test_stacked_arr = stacked_ds[\"U10\"].sel(time=\"2006-01-01T00:00:00\").values\n",
    "\n",
    "print(\"\\nLatitude grid:\\n\", lat_arr)\n",
    "print(\"\\nLongitude grid:\\n\", lon_arr)"
   ]
  },
  {
   "cell_type": "markdown",
   "id": "764179ea-91cc-4cdf-bb79-e54b951710c2",
   "metadata": {},
   "source": [
    "#### Invert the grids vertically\n",
    "\n",
    "The grid is flipped vertically in the final step of the post-processing pipeline, and this can be confirmed by comparing the latitude grid with the `yc` variable of the original copied file above. The `yc` values decrease with increasing row idnex, while the latitude values in the first column increase with increasing row index. This should also be evident by visualizing a slice of the data for each:"
   ]
  },
  {
   "cell_type": "code",
   "execution_count": 25,
   "id": "2b703e1e-c52a-4b6c-85fb-dd75e84eb9c7",
   "metadata": {},
   "outputs": [
    {
     "data": {
      "image/png": "[encoded data removed]",
      "text/plain": [
       "<Figure size 432x288 with 2 Axes>"
      ]
     },
     "metadata": {
      "needs_background": "light"
     },
     "output_type": "display_data"
    }
   ],
   "source": [
    "import matplotlib.pyplot as plt\n",
    "\n",
    "fig, (ax1, ax2) = plt.subplots(1, 2)\n",
    "fig.suptitle(\"NCAR-CCSM4 U10 at 2006-01-01 00:00:00\")\n",
    "ax1.imshow(test_stacked_arr, interpolation=\"none\")\n",
    "ax1.set_title(\"Stacked\")\n",
    "ax2.imshow(test_arr, interpolation=\"none\")\n",
    "ax2.set_title(\"Final\")\n",
    "plt.show()"
   ]
  },
  {
   "cell_type": "markdown",
   "id": "8b062787-f2ef-4744-9210-47a029bb9dce",
   "metadata": {},
   "source": [
    "So, to match properly, both grids need to be flipped vertically:"
   ]
  },
  {
   "cell_type": "code",
   "execution_count": 43,
   "id": "9878c0f5-0c2c-418f-ac36-4e7978efd7bb",
   "metadata": {},
   "outputs": [
    {
     "name": "stdout",
     "output_type": "stream",
     "text": [
      "flipped latitudes:\n",
      " [[65.58805  65.76864  65.94935  ... 65.95755  65.77684  65.59624 ]\n",
      " [65.57468  65.75516  65.93575  ... 65.943954 65.76335  65.58286 ]\n",
      " [65.55994  65.740295 65.92076  ... 65.928955 65.74848  65.568115]\n",
      " ...\n",
      " [37.506927 37.573433 37.639565 ... 37.642555 37.576443 37.509953]\n",
      " [37.369934 37.43616  37.50201  ... 37.504993 37.439156 37.372944]\n",
      " [37.233    37.29895  37.364525 ... 37.367493 37.301937 37.236   ]]\n",
      "\n",
      "flipped longitudes:\n",
      " [[ 122.017746  122.04866   122.080055 ...  -66.08149   -66.05007\n",
      "   -66.019135]\n",
      " [ 122.45432   122.48857   122.52335  ...  -66.52495   -66.49014\n",
      "   -66.455864]\n",
      " [ 122.89038   122.927956  122.96611  ...  -66.96785   -66.92967\n",
      "   -66.892075]\n",
      " ...\n",
      " [-177.95314  -177.78015  -177.60664  ... -126.40124  -126.227715\n",
      "  -126.0547  ]\n",
      " [-177.86931  -177.69673  -177.52364  ... -126.48424  -126.31112\n",
      "  -126.138504]\n",
      " [-177.786    -177.6138   -177.44112  ... -126.566734 -126.39402\n",
      "  -126.22181 ]]\n"
     ]
    }
   ],
   "source": [
    "import numpy as np\n",
    "\n",
    "lat_arr_flip = np.flip(lat_arr, 0)\n",
    "lon_arr_flip = np.flip(lon_arr, 0)\n",
    "\n",
    "print(\"flipped latitudes:\\n\", lat_arr_flip)\n",
    "print(\"\\nflipped longitudes:\\n\", lon_arr_flip)"
   ]
  },
  {
   "cell_type": "markdown",
   "id": "a755b5da-2e15-4e4a-9891-040d5c119e37",
   "metadata": {},
   "source": [
    "#### Include the grids in the final dataset\n",
    "\n",
    "Now include the lat and lon grids as variables in a new final dataset:"
   ]
  },
  {
   "cell_type": "code",
   "execution_count": 44,
   "id": "71384e9b-a07c-4ea7-83ef-8f53f20bf1c4",
   "metadata": {},
   "outputs": [
    {
     "name": "stdout",
     "output_type": "stream",
     "text": [
      "<xarray.Dataset>\n",
      "Dimensions:  (time: 8760, yc: 262, xc: 262)\n",
      "Coordinates:\n",
      "  * xc       (xc) float64 -2.61e+06 -2.59e+06 -2.57e+06 ... 2.59e+06 2.61e+06\n",
      "  * yc       (yc) float64 -1.824e+05 -2.024e+05 ... -5.382e+06 -5.402e+06\n",
      "  * time     (time) datetime64[ns] 2006-01-01 ... 2006-12-31T23:00:00\n",
      "    lat      (yc, xc) float32 65.59 65.77 65.95 66.13 ... 37.43 37.37 37.3 37.24\n",
      "    lon      (yc, xc) float32 122.0 122.0 122.1 122.1 ... -126.6 -126.4 -126.2\n",
      "Data variables:\n",
      "    u10      (time, yc, xc) float32 ...\n",
      "Attributes:\n",
      "    creation_date:    Sat May 13 13:02:24 AKDT 2017\n",
      "    NCL_Version:      6.3.0\n",
      "    system:           Linux n9 2.6.32-642.11.1.el6.686g0000.x86_64 #1 SMP Tue...\n",
      "    Conventions:      None\n",
      "    grib_source:      WRFDS_d01.2006-01-01_00.grib\n",
      "    title:            NCL: convert-GRIB-to-netCDF\n",
      "    reference_time:   2006-01-01 00:00:00\n",
      "    proj_parameters:  +units=m +proj=stere +lat_ts=64.0 +lon_0=-152.0 +lat_0=...\n",
      "    crs_wkt:          PROJCS[\"unnamed\",GEOGCS[\"unnamed ellipse\",DATUM[\"unknow...\n",
      "    restacked_by:     Scenarios Network for Alaska + Arctic Planning -- 2018\n",
      "    SNAP_VERSION:     1.0\n"
     ]
    }
   ],
   "source": [
    "new_ds = ds.assign_coords({\"lat\": ([\"yc\", \"xc\"], lat_arr_flip), \"lon\": ([\"yc\", \"xc\"], lon_arr_flip)})\n",
    "\n",
    "print(new_ds)"
   ]
  },
  {
   "cell_type": "markdown",
   "id": "b286a0ca-5723-4c3c-a55e-a8d5ebb39bf6",
   "metadata": {},
   "source": [
    "Write a sliced version (first day) of the new test dataset to `$BASE_DIR/include-latlon/u10_wrf_test_latlon.nc`, and pickle the arrays in a python dict there as well."
   ]
  },
  {
   "cell_type": "code",
   "execution_count": 45,
   "id": "ac9a97ed-ed5a-496e-8824-adfd321b13f8",
   "metadata": {},
   "outputs": [],
   "source": [
    "new_ds.sel(time=\"2006-01-01\").to_netcdf(latlon_dir.joinpath(\"u10_wrf_test_latlon.nc\"))\n",
    "\n",
    "import pickle\n",
    "\n",
    "latlon_grids = {\"lat\": lat_arr_flip, \"lon\": lon_arr_flip}\n",
    "with open(latlon_dir.joinpath(\"latlon_grids.pickle\"), \"wb\") as out_file:\n",
    "    pickle.dump(latlon_grids, out_file)"
   ]
  },
  {
   "cell_type": "markdown",
   "id": "8232ab53-0792-4f1c-8776-ed45b584080b",
   "metadata": {},
   "source": [
    "### Include CRS info as well\n",
    "\n",
    "Turns out the CRS info of the post-processed WRF data files isn't found when reading into QGIS and Panoply. Take for example a sample lightning file provided by Peter. Notice the presence of the CRS variable and the mtaching value of the `grid_mapping` attribute specified for the `strikes` variable: "
   ]
  },
  {
   "cell_type": "code",
   "execution_count": 64,
   "id": "0aa7dd5b-e67f-4c0e-90f0-4a675702dfe4",
   "metadata": {},
   "outputs": [
    {
     "name": "stdout",
     "output_type": "stream",
     "text": [
      "<xarray.Dataset>\n",
      "Dimensions:              (y: 262, x: 262)\n",
      "Coordinates:\n",
      "    time                 datetime64[ns] ...\n",
      "  * x                    (x) float64 -2.61e+06 -2.59e+06 ... 2.59e+06 2.61e+06\n",
      "  * y                    (y) float64 -5.414e+06 -5.394e+06 ... -1.936e+05\n",
      "    lat                  (y, x) float32 ...\n",
      "    lon                  (y, x) float32 ...\n",
      "Data variables:\n",
      "    strikes              (y, x) float32 ...\n",
      "    polar_stereographic  |S1 ...\n",
      "Attributes:\n",
      "    Conventions:  CF\n",
      "    publication:  Bieniek, P. A., and Coauthors, 2020: Lightning Variability ...\n",
      "    source:       Alaska Lightning Detection Network\n",
      "    contact:      pbieniek-at-alaska.edu\n",
      "\n",
      "\n",
      "CRS variable:\n",
      "<xarray.DataArray 'polar_stereographic' ()>\n",
      "array(b'', dtype='|S1')\n",
      "Coordinates:\n",
      "    time     datetime64[ns] ...\n",
      "Attributes:\n",
      "    grid_mapping_name:                      polar_stereographic\n",
      "    straight_vertical_longitude_from_pole:  -152.0\n",
      "    false_easting:                          0.0\n",
      "    false_northing:                         0.0\n",
      "    latitude_of_projection_origin:          90.0\n",
      "    standard_parallel:                      64.0\n",
      "    long_name:                              CRS definition\n",
      "    longitude_of_prime_meridian:            0.0\n",
      "    semi_major_axis:                        6378137.0\n",
      "    inverse_flattening:                     298.257223563\n",
      "    spatial_ref:                            PROJCS[\"unnamed\",GEOGCS[\"WGS 84\",...\n",
      "    GeoTransform:                           -2620000 20000 0 -183582.2906 0 -...\n",
      "\n",
      "\n",
      "variable attributes:\n",
      "{'grid_mapping': 'polar_stereographic', 'units': 'number of flashes', 'long_name': 'Number of lightning flashes in each 20km grid cell'}\n"
     ]
    }
   ],
   "source": [
    "with xr.open_dataset(latlon_dir.joinpath(\"Alaska_lightning_19860101.nc\")) as strikes_ds:\n",
    "    print(strikes_ds)\n",
    "    print(\"\\n\\nCRS variable:\")\n",
    "    print(strikes_ds[\"polar_stereographic\"])\n",
    "    print(\"\\n\\nvariable attributes:\")\n",
    "    print(strikes_ds[\"strikes\"].attrs)"
   ]
  },
  {
   "cell_type": "markdown",
   "id": "a2012ce1-a3de-4fc6-9f62-01c7c9b64855",
   "metadata": {},
   "source": [
    "Some testing has shown that including these two pieces is sufficient for allowing QGIS and Panoply to recognize the CRS. So, this needs to be done in addition to including the lat/lon data."
   ]
  },
  {
   "cell_type": "markdown",
   "id": "0b5a3d05-da4d-4c49-8c80-c9d43febc4b7",
   "metadata": {},
   "source": [
    "# Ad hoc modification\n",
    "\n",
    "Instead of modifying the pipeline to include these updates, it would be nice to update the files in place instead if posisble, since we are just adding a variable and an attribute. But the following test showed that it still takes a long time to write the file:\n",
    "\n",
    "```\n",
    "import time\n",
    "\n",
    "tic = time.perf_counter()\n",
    "\n",
    "# add the crs variable\n",
    "crs_name = \"polar_stereographic\"\n",
    "new_ds[crs_name] = strikes_ds[crs_name]\n",
    "new_ds[\"u10\"].attrs[\"grid_mapping\"] = crs_name\n",
    "\n",
    "new_ds.to_netcdf(latlon_dir.joinpath(\"u10_wrf_test2_latlon_crsvar.nc\"), mode=\"a\")\n",
    "\n",
    "print(f\"Write completed in {round(time.perf_counter() - tic)}s\")\n",
    "```\n",
    "\n",
    "returns\n",
    "\n",
    "```\n",
    "Write completed in 114s\n",
    "```\n",
    "\n",
    "With negligible difference if `mode=\"a\"` is unset. So it will be better practice to modify the \"improve\" step of the pipeline and re-run it, so that it can be re-implemented with minimal effort."
   ]
  },
  {
   "cell_type": "code",
   "execution_count": 80,
   "id": "391f6144-6730-44bf-9061-ad38489db80f",
   "metadata": {},
   "outputs": [],
   "source": [
    "hourly_ds = xr.open_dataset(\"/rcs/project_data/wrf_data/hourly/snowc/SNOWC_wrf_hourly_gfdl_hist_1979.nc\")"
   ]
  },
  {
   "cell_type": "code",
   "execution_count": 322,
   "id": "83466544-7976-452c-8aa9-9a1426ea9807",
   "metadata": {},
   "outputs": [],
   "source": [
    "hourly_fix_ds = xr.open_dataset(\"/rcs/project_data/wrf_data/hourly_fix/snowc/snowc_hourly_wrf_ERA-Interim_historical_1979_test.nc\")"
   ]
  },
  {
   "cell_type": "code",
   "execution_count": 121,
   "id": "313fd8e4-fb50-4fbb-bddd-889120df9549",
   "metadata": {},
   "outputs": [],
   "source": [
    "hourly_fix_ds = xr.open_dataset(\"/rcs/project_data/wrf_data/hourly_fix/snowc/snowc_hourly_wrf_ERA-Interim_historical_1979.nc\")"
   ]
  },
  {
   "cell_type": "code",
   "execution_count": 326,
   "id": "03cb5732-1ecd-4438-9a09-34bc9c73c3bf",
   "metadata": {},
   "outputs": [
    {
     "data": {
      "text/plain": [
       "array([-2610000., -2590000., -2570000., -2550000., -2530000.])"
      ]
     },
     "execution_count": 326,
     "metadata": {},
     "output_type": "execute_result"
    }
   ],
   "source": [
    "hourly_fix_ds.xc.values[:5]"
   ]
  },
  {
   "cell_type": "code",
   "execution_count": 328,
   "id": "598a395d-4516-4416-892e-e45ceab2f30e",
   "metadata": {},
   "outputs": [
    {
     "data": {
      "text/plain": [
       "298.257223563"
      ]
     },
     "execution_count": 328,
     "metadata": {},
     "output_type": "execute_result"
    }
   ],
   "source": [
    "strikes_ds.polar_stereographic.attrs[\"inverse_flattening\"]"
   ]
  },
  {
   "cell_type": "code",
   "execution_count": 330,
   "id": "856fa889-05de-45f6-880a-e78c3e33f710",
   "metadata": {},
   "outputs": [
    {
     "data": {
      "text/html": [
       "<div><svg style=\"position: absolute; width: 0; height: 0; overflow: hidden\">\n",
       "<defs>\n",
       "<symbol id=\"icon-database\" viewBox=\"0 0 32 32\">\n",
       "<path d=\"M16 0c-8.837 0-16 2.239-16 5v4c0 2.761 7.163 5 16 5s16-2.239 16-5v-4c0-2.761-7.163-5-16-5z\"></path>\n",
       "<path d=\"M16 17c-8.837 0-16-2.239-16-5v6c0 2.761 7.163 5 16 5s16-2.239 16-5v-6c0 2.761-7.163 5-16 5z\"></path>\n",
       "<path d=\"M16 26c-8.837 0-16-2.239-16-5v6c0 2.761 7.163 5 16 5s16-2.239 16-5v-6c0 2.761-7.163 5-16 5z\"></path>\n",
       "</symbol>\n",
       "<symbol id=\"icon-file-text2\" viewBox=\"0 0 32 32\">\n",
       "<path d=\"M28.681 7.159c-0.694-0.947-1.662-2.053-2.724-3.116s-2.169-2.030-3.116-2.724c-1.612-1.182-2.393-1.319-2.841-1.319h-15.5c-1.378 0-2.5 1.121-2.5 2.5v27c0 1.378 1.122 2.5 2.5 2.5h23c1.378 0 2.5-1.122 2.5-2.5v-19.5c0-0.448-0.137-1.23-1.319-2.841zM24.543 5.457c0.959 0.959 1.712 1.825 2.268 2.543h-4.811v-4.811c0.718 0.556 1.584 1.309 2.543 2.268zM28 29.5c0 0.271-0.229 0.5-0.5 0.5h-23c-0.271 0-0.5-0.229-0.5-0.5v-27c0-0.271 0.229-0.5 0.5-0.5 0 0 15.499-0 15.5 0v7c0 0.552 0.448 1 1 1h7v19.5z\"></path>\n",
       "<path d=\"M23 26h-14c-0.552 0-1-0.448-1-1s0.448-1 1-1h14c0.552 0 1 0.448 1 1s-0.448 1-1 1z\"></path>\n",
       "<path d=\"M23 22h-14c-0.552 0-1-0.448-1-1s0.448-1 1-1h14c0.552 0 1 0.448 1 1s-0.448 1-1 1z\"></path>\n",
       "<path d=\"M23 18h-14c-0.552 0-1-0.448-1-1s0.448-1 1-1h14c0.552 0 1 0.448 1 1s-0.448 1-1 1z\"></path>\n",
       "</symbol>\n",
       "</defs>\n",
       "</svg>\n",
       "<style>/* CSS stylesheet for displaying xarray objects in jupyterlab.\n",
       " *\n",
       " */\n",
       "\n",
       ":root {\n",
       "  --xr-font-color0: var(--jp-content-font-color0, rgba(0, 0, 0, 1));\n",
       "  --xr-font-color2: var(--jp-content-font-color2, rgba(0, 0, 0, 0.54));\n",
       "  --xr-font-color3: var(--jp-content-font-color3, rgba(0, 0, 0, 0.38));\n",
       "  --xr-border-color: var(--jp-border-color2, #e0e0e0);\n",
       "  --xr-disabled-color: var(--jp-layout-color3, #bdbdbd);\n",
       "  --xr-background-color: var(--jp-layout-color0, white);\n",
       "  --xr-background-color-row-even: var(--jp-layout-color1, white);\n",
       "  --xr-background-color-row-odd: var(--jp-layout-color2, #eeeeee);\n",
       "}\n",
       "\n",
       "html[theme=dark],\n",
       "body.vscode-dark {\n",
       "  --xr-font-color0: rgba(255, 255, 255, 1);\n",
       "  --xr-font-color2: rgba(255, 255, 255, 0.54);\n",
       "  --xr-font-color3: rgba(255, 255, 255, 0.38);\n",
       "  --xr-border-color: #1F1F1F;\n",
       "  --xr-disabled-color: #515151;\n",
       "  --xr-background-color: #111111;\n",
       "  --xr-background-color-row-even: #111111;\n",
       "  --xr-background-color-row-odd: #313131;\n",
       "}\n",
       "\n",
       ".xr-wrap {\n",
       "  display: block;\n",
       "  min-width: 300px;\n",
       "  max-width: 700px;\n",
       "}\n",
       "\n",
       ".xr-text-repr-fallback {\n",
       "  /* fallback to plain text repr when CSS is not injected (untrusted notebook) */\n",
       "  display: none;\n",
       "}\n",
       "\n",
       ".xr-header {\n",
       "  padding-top: 6px;\n",
       "  padding-bottom: 6px;\n",
       "  margin-bottom: 4px;\n",
       "  border-bottom: solid 1px var(--xr-border-color);\n",
       "}\n",
       "\n",
       ".xr-header > div,\n",
       ".xr-header > ul {\n",
       "  display: inline;\n",
       "  margin-top: 0;\n",
       "  margin-bottom: 0;\n",
       "}\n",
       "\n",
       ".xr-obj-type,\n",
       ".xr-array-name {\n",
       "  margin-left: 2px;\n",
       "  margin-right: 10px;\n",
       "}\n",
       "\n",
       ".xr-obj-type {\n",
       "  color: var(--xr-font-color2);\n",
       "}\n",
       "\n",
       ".xr-sections {\n",
       "  padding-left: 0 !important;\n",
       "  display: grid;\n",
       "  grid-template-columns: 150px auto auto 1fr 20px 20px;\n",
       "}\n",
       "\n",
       ".xr-section-item {\n",
       "  display: contents;\n",
       "}\n",
       "\n",
       ".xr-section-item input {\n",
       "  display: none;\n",
       "}\n",
       "\n",
       ".xr-section-item input + label {\n",
       "  color: var(--xr-disabled-color);\n",
       "}\n",
       "\n",
       ".xr-section-item input:enabled + label {\n",
       "  cursor: pointer;\n",
       "  color: var(--xr-font-color2);\n",
       "}\n",
       "\n",
       ".xr-section-item input:enabled + label:hover {\n",
       "  color: var(--xr-font-color0);\n",
       "}\n",
       "\n",
       ".xr-section-summary {\n",
       "  grid-column: 1;\n",
       "  color: var(--xr-font-color2);\n",
       "  font-weight: 500;\n",
       "}\n",
       "\n",
       ".xr-section-summary > span {\n",
       "  display: inline-block;\n",
       "  padding-left: 0.5em;\n",
       "}\n",
       "\n",
       ".xr-section-summary-in:disabled + label {\n",
       "  color: var(--xr-font-color2);\n",
       "}\n",
       "\n",
       ".xr-section-summary-in + label:before {\n",
       "  display: inline-block;\n",
       "  content: '►';\n",
       "  font-size: 11px;\n",
       "  width: 15px;\n",
       "  text-align: center;\n",
       "}\n",
       "\n",
       ".xr-section-summary-in:disabled + label:before {\n",
       "  color: var(--xr-disabled-color);\n",
       "}\n",
       "\n",
       ".xr-section-summary-in:checked + label:before {\n",
       "  content: '▼';\n",
       "}\n",
       "\n",
       ".xr-section-summary-in:checked + label > span {\n",
       "  display: none;\n",
       "}\n",
       "\n",
       ".xr-section-summary,\n",
       ".xr-section-inline-details {\n",
       "  padding-top: 4px;\n",
       "  padding-bottom: 4px;\n",
       "}\n",
       "\n",
       ".xr-section-inline-details {\n",
       "  grid-column: 2 / -1;\n",
       "}\n",
       "\n",
       ".xr-section-details {\n",
       "  display: none;\n",
       "  grid-column: 1 / -1;\n",
       "  margin-bottom: 5px;\n",
       "}\n",
       "\n",
       ".xr-section-summary-in:checked ~ .xr-section-details {\n",
       "  display: contents;\n",
       "}\n",
       "\n",
       ".xr-array-wrap {\n",
       "  grid-column: 1 / -1;\n",
       "  display: grid;\n",
       "  grid-template-columns: 20px auto;\n",
       "}\n",
       "\n",
       ".xr-array-wrap > label {\n",
       "  grid-column: 1;\n",
       "  vertical-align: top;\n",
       "}\n",
       "\n",
       ".xr-preview {\n",
       "  color: var(--xr-font-color3);\n",
       "}\n",
       "\n",
       ".xr-array-preview,\n",
       ".xr-array-data {\n",
       "  padding: 0 5px !important;\n",
       "  grid-column: 2;\n",
       "}\n",
       "\n",
       ".xr-array-data,\n",
       ".xr-array-in:checked ~ .xr-array-preview {\n",
       "  display: none;\n",
       "}\n",
       "\n",
       ".xr-array-in:checked ~ .xr-array-data,\n",
       ".xr-array-preview {\n",
       "  display: inline-block;\n",
       "}\n",
       "\n",
       ".xr-dim-list {\n",
       "  display: inline-block !important;\n",
       "  list-style: none;\n",
       "  padding: 0 !important;\n",
       "  margin: 0;\n",
       "}\n",
       "\n",
       ".xr-dim-list li {\n",
       "  display: inline-block;\n",
       "  padding: 0;\n",
       "  margin: 0;\n",
       "}\n",
       "\n",
       ".xr-dim-list:before {\n",
       "  content: '(';\n",
       "}\n",
       "\n",
       ".xr-dim-list:after {\n",
       "  content: ')';\n",
       "}\n",
       "\n",
       ".xr-dim-list li:not(:last-child):after {\n",
       "  content: ',';\n",
       "  padding-right: 5px;\n",
       "}\n",
       "\n",
       ".xr-has-index {\n",
       "  font-weight: bold;\n",
       "}\n",
       "\n",
       ".xr-var-list,\n",
       ".xr-var-item {\n",
       "  display: contents;\n",
       "}\n",
       "\n",
       ".xr-var-item > div,\n",
       ".xr-var-item label,\n",
       ".xr-var-item > .xr-var-name span {\n",
       "  background-color: var(--xr-background-color-row-even);\n",
       "  margin-bottom: 0;\n",
       "}\n",
       "\n",
       ".xr-var-item > .xr-var-name:hover span {\n",
       "  padding-right: 5px;\n",
       "}\n",
       "\n",
       ".xr-var-list > li:nth-child(odd) > div,\n",
       ".xr-var-list > li:nth-child(odd) > label,\n",
       ".xr-var-list > li:nth-child(odd) > .xr-var-name span {\n",
       "  background-color: var(--xr-background-color-row-odd);\n",
       "}\n",
       "\n",
       ".xr-var-name {\n",
       "  grid-column: 1;\n",
       "}\n",
       "\n",
       ".xr-var-dims {\n",
       "  grid-column: 2;\n",
       "}\n",
       "\n",
       ".xr-var-dtype {\n",
       "  grid-column: 3;\n",
       "  text-align: right;\n",
       "  color: var(--xr-font-color2);\n",
       "}\n",
       "\n",
       ".xr-var-preview {\n",
       "  grid-column: 4;\n",
       "}\n",
       "\n",
       ".xr-var-name,\n",
       ".xr-var-dims,\n",
       ".xr-var-dtype,\n",
       ".xr-preview,\n",
       ".xr-attrs dt {\n",
       "  white-space: nowrap;\n",
       "  overflow: hidden;\n",
       "  text-overflow: ellipsis;\n",
       "  padding-right: 10px;\n",
       "}\n",
       "\n",
       ".xr-var-name:hover,\n",
       ".xr-var-dims:hover,\n",
       ".xr-var-dtype:hover,\n",
       ".xr-attrs dt:hover {\n",
       "  overflow: visible;\n",
       "  width: auto;\n",
       "  z-index: 1;\n",
       "}\n",
       "\n",
       ".xr-var-attrs,\n",
       ".xr-var-data {\n",
       "  display: none;\n",
       "  background-color: var(--xr-background-color) !important;\n",
       "  padding-bottom: 5px !important;\n",
       "}\n",
       "\n",
       ".xr-var-attrs-in:checked ~ .xr-var-attrs,\n",
       ".xr-var-data-in:checked ~ .xr-var-data {\n",
       "  display: block;\n",
       "}\n",
       "\n",
       ".xr-var-data > table {\n",
       "  float: right;\n",
       "}\n",
       "\n",
       ".xr-var-name span,\n",
       ".xr-var-data,\n",
       ".xr-attrs {\n",
       "  padding-left: 25px !important;\n",
       "}\n",
       "\n",
       ".xr-attrs,\n",
       ".xr-var-attrs,\n",
       ".xr-var-data {\n",
       "  grid-column: 1 / -1;\n",
       "}\n",
       "\n",
       "dl.xr-attrs {\n",
       "  padding: 0;\n",
       "  margin: 0;\n",
       "  display: grid;\n",
       "  grid-template-columns: 125px auto;\n",
       "}\n",
       "\n",
       ".xr-attrs dt,\n",
       ".xr-attrs dd {\n",
       "  padding: 0;\n",
       "  margin: 0;\n",
       "  float: left;\n",
       "  padding-right: 10px;\n",
       "  width: auto;\n",
       "}\n",
       "\n",
       ".xr-attrs dt {\n",
       "  font-weight: normal;\n",
       "  grid-column: 1;\n",
       "}\n",
       "\n",
       ".xr-attrs dt:hover span {\n",
       "  display: inline-block;\n",
       "  background: var(--xr-background-color);\n",
       "  padding-right: 10px;\n",
       "}\n",
       "\n",
       ".xr-attrs dd {\n",
       "  grid-column: 2;\n",
       "  white-space: pre-wrap;\n",
       "  word-break: break-all;\n",
       "}\n",
       "\n",
       ".xr-icon-database,\n",
       ".xr-icon-file-text2 {\n",
       "  display: inline-block;\n",
       "  vertical-align: middle;\n",
       "  width: 1em;\n",
       "  height: 1.5em !important;\n",
       "  stroke-width: 0;\n",
       "  stroke: currentColor;\n",
       "  fill: currentColor;\n",
       "}\n",
       "</style><pre class='xr-text-repr-fallback'>&lt;xarray.DataArray &#x27;x&#x27; (x: 262)&gt;\n",
       "array([-2610000., -2590000., -2570000., ...,  2570000.,  2590000.,  2610000.])\n",
       "Coordinates:\n",
       "    time     datetime64[ns] 1986-01-01\n",
       "  * x        (x) float64 -2.61e+06 -2.59e+06 -2.57e+06 ... 2.59e+06 2.61e+06\n",
       "Attributes:\n",
       "    standard_name:  projection_x_coordinate\n",
       "    long_name:      x coordinate of projection\n",
       "    units:          m</pre><div class='xr-wrap' hidden><div class='xr-header'><div class='xr-obj-type'>xarray.DataArray</div><div class='xr-array-name'>'x'</div><ul class='xr-dim-list'><li><span class='xr-has-index'>x</span>: 262</li></ul></div><ul class='xr-sections'><li class='xr-section-item'><div class='xr-array-wrap'><input id='section-453ddc45-ee77-42b3-b9c3-b8c2b1e96a40' class='xr-array-in' type='checkbox' checked><label for='section-453ddc45-ee77-42b3-b9c3-b8c2b1e96a40' title='Show/hide data repr'><svg class='icon xr-icon-database'><use xlink:href='#icon-database'></use></svg></label><div class='xr-array-preview xr-preview'><span>-2.61e+06 -2.59e+06 -2.57e+06 -2.55e+06 ... 2.57e+06 2.59e+06 2.61e+06</span></div><div class='xr-array-data'><pre>array([-2610000., -2590000., -2570000., ...,  2570000.,  2590000.,  2610000.])</pre></div></div></li><li class='xr-section-item'><input id='section-0bbce0cd-d0d6-4a9c-8bcc-0fb57a65df4e' class='xr-section-summary-in' type='checkbox'  checked><label for='section-0bbce0cd-d0d6-4a9c-8bcc-0fb57a65df4e' class='xr-section-summary' >Coordinates: <span>(2)</span></label><div class='xr-section-inline-details'></div><div class='xr-section-details'><ul class='xr-var-list'><li class='xr-var-item'><div class='xr-var-name'><span>time</span></div><div class='xr-var-dims'>()</div><div class='xr-var-dtype'>datetime64[ns]</div><div class='xr-var-preview xr-preview'>1986-01-01</div><input id='attrs-78499ff8-68da-43ef-9de9-2d551f8658a7' class='xr-var-attrs-in' type='checkbox' ><label for='attrs-78499ff8-68da-43ef-9de9-2d551f8658a7' title='Show/Hide attributes'><svg class='icon xr-icon-file-text2'><use xlink:href='#icon-file-text2'></use></svg></label><input id='data-92bf96f5-5667-4c8b-8093-da7863792408' class='xr-var-data-in' type='checkbox'><label for='data-92bf96f5-5667-4c8b-8093-da7863792408' title='Show/Hide data repr'><svg class='icon xr-icon-database'><use xlink:href='#icon-database'></use></svg></label><div class='xr-var-attrs'><dl class='xr-attrs'><dt><span>long_name :</span></dt><dd>time</dd></dl></div><div class='xr-var-data'><pre>array(&#x27;1986-01-01T00:00:00.000000000&#x27;, dtype=&#x27;datetime64[ns]&#x27;)</pre></div></li><li class='xr-var-item'><div class='xr-var-name'><span class='xr-has-index'>x</span></div><div class='xr-var-dims'>(x)</div><div class='xr-var-dtype'>float64</div><div class='xr-var-preview xr-preview'>-2.61e+06 -2.59e+06 ... 2.61e+06</div><input id='attrs-e65417b6-efac-4047-8eb9-5e97771e7979' class='xr-var-attrs-in' type='checkbox' ><label for='attrs-e65417b6-efac-4047-8eb9-5e97771e7979' title='Show/Hide attributes'><svg class='icon xr-icon-file-text2'><use xlink:href='#icon-file-text2'></use></svg></label><input id='data-de260e1e-66d4-4cd2-a7d0-b6f6015da439' class='xr-var-data-in' type='checkbox'><label for='data-de260e1e-66d4-4cd2-a7d0-b6f6015da439' title='Show/Hide data repr'><svg class='icon xr-icon-database'><use xlink:href='#icon-database'></use></svg></label><div class='xr-var-attrs'><dl class='xr-attrs'><dt><span>standard_name :</span></dt><dd>projection_x_coordinate</dd><dt><span>long_name :</span></dt><dd>x coordinate of projection</dd><dt><span>units :</span></dt><dd>m</dd></dl></div><div class='xr-var-data'><pre>array([-2610000., -2590000., -2570000., ...,  2570000.,  2590000.,  2610000.])</pre></div></li></ul></div></li><li class='xr-section-item'><input id='section-2657b916-8934-4a0a-b93f-aa9042ee6347' class='xr-section-summary-in' type='checkbox'  checked><label for='section-2657b916-8934-4a0a-b93f-aa9042ee6347' class='xr-section-summary' >Attributes: <span>(3)</span></label><div class='xr-section-inline-details'></div><div class='xr-section-details'><dl class='xr-attrs'><dt><span>standard_name :</span></dt><dd>projection_x_coordinate</dd><dt><span>long_name :</span></dt><dd>x coordinate of projection</dd><dt><span>units :</span></dt><dd>m</dd></dl></div></li></ul></div></div>"
      ],
      "text/plain": [
       "<xarray.DataArray 'x' (x: 262)>\n",
       "array([-2610000., -2590000., -2570000., ...,  2570000.,  2590000.,  2610000.])\n",
       "Coordinates:\n",
       "    time     datetime64[ns] 1986-01-01\n",
       "  * x        (x) float64 -2.61e+06 -2.59e+06 -2.57e+06 ... 2.59e+06 2.61e+06\n",
       "Attributes:\n",
       "    standard_name:  projection_x_coordinate\n",
       "    long_name:      x coordinate of projection\n",
       "    units:          m"
      ]
     },
     "execution_count": 330,
     "metadata": {},
     "output_type": "execute_result"
    }
   ],
   "source": []
  },
  {
   "cell_type": "markdown",
   "id": "c51f8a16-66a8-4757-bd0e-67c08dea6495",
   "metadata": {},
   "source": [
    "## WRF Projection\n",
    "\n",
    "Trying to figure out the WRF projection. Just starting by simply trying to transform a WRF-generated lat/lon and see if it matches the x/y coordinates created. The top-left lat/lon coordindates of the lightning data file given by Peter are:\n",
    "\n",
    "```\n",
    "lat: 37.233\n",
    "lon: -177.786\n",
    "```\n",
    "and the top-left x/y coordinates in the lightning file are:\n",
    "```\n",
    "y: -5413582.2906\n",
    "x: -2610000.0\n",
    "```\n",
    "and the corresponding x/y in the post-processed WRF are:"
   ]
  },
  {
   "cell_type": "code",
   "execution_count": 182,
   "id": "5e0fd946-ad04-4c5e-82fc-28bb8646b359",
   "metadata": {},
   "outputs": [
    {
     "name": "stdout",
     "output_type": "stream",
     "text": [
      "y: -5402425.477371664\n",
      "x: -2610000.0\n"
     ]
    }
   ],
   "source": [
    "print(f\"y: {hourly_fix_ds.yc.values[-1]}\")\n",
    "print(f\"x: {hourly_fix_ds.xc.values[0]}\")"
   ]
  },
  {
   "cell_type": "markdown",
   "id": "e270da66-4cee-4139-ac1a-7dd765aca642",
   "metadata": {},
   "source": [
    "Compare these to reprojections performed using the CRS info from each file. First, the AWS WRF:"
   ]
  },
  {
   "cell_type": "code",
   "execution_count": 217,
   "id": "a28a76b0-8b68-4cc8-aaa7-1a802fcd394e",
   "metadata": {},
   "outputs": [
    {
     "data": {
      "text/plain": [
       "(-2609991.3830215335, -5402394.895587506)"
      ]
     },
     "execution_count": 217,
     "metadata": {},
     "output_type": "execute_result"
    }
   ],
   "source": [
    "from pyproj import Transformer\n",
    "from pyproj.crs import CRS\n",
    "\n",
    "#wgs84_proj = pyproj.Proj(proj='latlong', datum='WGS84')\n",
    "wgs84_proj = pyproj.Proj(\"+proj=latlong +datum=WGS84\")\n",
    "aws_wrf_proj = pyproj.Proj(hourly_fix_ds.attrs[\"proj_parameters\"])\n",
    "\n",
    "# transform top-left lat/lon centroid to current WRF projection\n",
    "transformer = Transformer.from_proj(wgs84_proj, aws_wrf_proj)\n",
    "\n",
    "transformer.transform(-177.786, 37.233)"
   ]
  },
  {
   "cell_type": "code",
   "execution_count": 202,
   "id": "fea778c7-06e4-4449-8b88-b963f0821a2f",
   "metadata": {},
   "outputs": [],
   "source": [
    "cen_lon = raw_ds.CEN_LON\n",
    "cen_lat = raw_ds.CEN_LAT"
   ]
  },
  {
   "cell_type": "code",
   "execution_count": 212,
   "id": "1efc02fb-7146-4cec-8fa6-67fffb8d1587",
   "metadata": {},
   "outputs": [],
   "source": [
    "transformer = Transformer.from_proj(wgs84_proj, aws_wrf_proj)\n",
    "e, n = transformer.transform(cen_lon, cen_lat)\n",
    "x0 = -(nx - 1) / 2.0 * dx + e\n",
    "y0 = -(ny - 1) / 2.0 * dy + n\n"
   ]
  },
  {
   "cell_type": "code",
   "execution_count": 340,
   "id": "3c477905-4105-4e9f-921d-78d180afbd0e",
   "metadata": {},
   "outputs": [
    {
     "data": {
      "text/plain": [
       "'PROJCRS[\"unknown\",BASEGEOGCRS[\"unknown\",DATUM[\"unknown\",ELLIPSOID[\"unknown\",6370000,0,LENGTHUNIT[\"metre\",1,ID[\"EPSG\",9001]]]],PRIMEM[\"Greenwich\",0,ANGLEUNIT[\"degree\",0.0174532925199433],ID[\"EPSG\",8901]]],CONVERSION[\"unknown\",METHOD[\"Polar Stereographic (variant B)\",ID[\"EPSG\",9829]],PARAMETER[\"Latitude of standard parallel\",64,ANGLEUNIT[\"degree\",0.0174532925199433],ID[\"EPSG\",8832]],PARAMETER[\"Longitude of origin\",-152,ANGLEUNIT[\"degree\",0.0174532925199433],ID[\"EPSG\",8833]],PARAMETER[\"False easting\",0,LENGTHUNIT[\"metre\",1],ID[\"EPSG\",8806]],PARAMETER[\"False northing\",0,LENGTHUNIT[\"metre\",1],ID[\"EPSG\",8807]]],CS[Cartesian,2],AXIS[\"(E)\",south,MERIDIAN[90,ANGLEUNIT[\"degree\",0.0174532925199433,ID[\"EPSG\",9122]]],ORDER[1],LENGTHUNIT[\"metre\",1,ID[\"EPSG\",9001]]],AXIS[\"(N)\",south,MERIDIAN[180,ANGLEUNIT[\"degree\",0.0174532925199433,ID[\"EPSG\",9122]]],ORDER[2],LENGTHUNIT[\"metre\",1,ID[\"EPSG\",9001]]]]'"
      ]
     },
     "execution_count": 340,
     "metadata": {},
     "output_type": "execute_result"
    }
   ],
   "source": [
    "aws_wrf_crs = CRS.from_proj4(aws_wrf_proj.definition_string())\n",
    "aws_wrf_crs.to_wkt()"
   ]
  },
  {
   "cell_type": "code",
   "execution_count": 342,
   "id": "8a3b5f9c-e016-494e-9941-a6b6d3fcc6f7",
   "metadata": {},
   "outputs": [
    {
     "data": {
      "text/plain": [
       "{'crs_wkt': 'PROJCRS[\"unknown\",BASEGEOGCRS[\"unknown\",DATUM[\"unknown\",ELLIPSOID[\"unknown\",6370000,0,LENGTHUNIT[\"metre\",1,ID[\"EPSG\",9001]]]],PRIMEM[\"Greenwich\",0,ANGLEUNIT[\"degree\",0.0174532925199433],ID[\"EPSG\",8901]]],CONVERSION[\"unknown\",METHOD[\"Polar Stereographic (variant B)\",ID[\"EPSG\",9829]],PARAMETER[\"Latitude of standard parallel\",64,ANGLEUNIT[\"degree\",0.0174532925199433],ID[\"EPSG\",8832]],PARAMETER[\"Longitude of origin\",-152,ANGLEUNIT[\"degree\",0.0174532925199433],ID[\"EPSG\",8833]],PARAMETER[\"False easting\",0,LENGTHUNIT[\"metre\",1],ID[\"EPSG\",8806]],PARAMETER[\"False northing\",0,LENGTHUNIT[\"metre\",1],ID[\"EPSG\",8807]]],CS[Cartesian,2],AXIS[\"(E)\",south,MERIDIAN[90,ANGLEUNIT[\"degree\",0.0174532925199433,ID[\"EPSG\",9122]]],ORDER[1],LENGTHUNIT[\"metre\",1,ID[\"EPSG\",9001]]],AXIS[\"(N)\",south,MERIDIAN[180,ANGLEUNIT[\"degree\",0.0174532925199433,ID[\"EPSG\",9122]]],ORDER[2],LENGTHUNIT[\"metre\",1,ID[\"EPSG\",9001]]]]',\n",
       " 'semi_major_axis': 6370000.0,\n",
       " 'semi_minor_axis': 6370000.0,\n",
       " 'inverse_flattening': 0.0,\n",
       " 'reference_ellipsoid_name': 'unknown',\n",
       " 'longitude_of_prime_meridian': 0.0,\n",
       " 'prime_meridian_name': 'Greenwich',\n",
       " 'geographic_crs_name': 'unknown',\n",
       " 'horizontal_datum_name': 'unknown',\n",
       " 'projected_crs_name': 'unknown',\n",
       " 'grid_mapping_name': 'polar_stereographic',\n",
       " 'standard_parallel': 64.0,\n",
       " 'straight_vertical_longitude_from_pole': -152.0,\n",
       " 'false_easting': 0.0,\n",
       " 'false_northing': 0.0}"
      ]
     },
     "execution_count": 342,
     "metadata": {},
     "output_type": "execute_result"
    }
   ],
   "source": [
    "aws_wrf_crs.to_cf()"
   ]
  },
  {
   "cell_type": "code",
   "execution_count": null,
   "id": "56b8c54e-5b9d-4a0d-8994-cccc9fbe81a0",
   "metadata": {},
   "outputs": [],
   "source": []
  },
  {
   "cell_type": "code",
   "execution_count": null,
   "id": "9426fe68-7f4e-42eb-9648-e095c9e37038",
   "metadata": {},
   "outputs": [],
   "source": []
  },
  {
   "cell_type": "code",
   "execution_count": 200,
   "id": "c4ec1dd7-514b-484d-96ee-774a2993b0ac",
   "metadata": {},
   "outputs": [
    {
     "name": "stdout",
     "output_type": "stream",
     "text": [
      "(-177.7859470529445, 37.23276213367283)\n"
     ]
    }
   ],
   "source": [
    "# and working backwards\n",
    "transformer = Transformer.from_proj(hourly_fix_ds.attrs[\"proj_parameters\"], wgs84_proj)\n",
    "\n",
    "test_lon, test_lat = transformer.transform(-2610000.0, -5402425.477371664)\n",
    "print((test_lon, test_lat))\n",
    "#print(\"Difference from original"
   ]
  },
  {
   "cell_type": "markdown",
   "id": "566fea9a-b181-4877-85d3-82faeeefdf2d",
   "metadata": {},
   "source": [
    "Next, the lightning file:"
   ]
  },
  {
   "cell_type": "code",
   "execution_count": 195,
   "id": "7813f160-da34-429c-a56b-d0485c9d8c94",
   "metadata": {},
   "outputs": [
    {
     "data": {
      "text/plain": [
       "(-2615253.018883408, -5413285.902702526)"
      ]
     },
     "execution_count": 195,
     "metadata": {},
     "output_type": "execute_result"
    }
   ],
   "source": [
    "# transform top-left lat/lon centroid to current WRF projection\n",
    "lightning_wrf_crs = CRS.from_wkt(strikes_ds.polar_stereographic.attrs[\"spatial_ref\"])\n",
    "\n",
    "transformer = Transformer.from_crs(CRS.from_epsg(4326), lightning_wrf_crs)\n",
    "\n",
    "transformer.transform(37.233, -177.786)"
   ]
  },
  {
   "cell_type": "code",
   "execution_count": 194,
   "id": "441f3fda-745b-4cce-9560-6d79b1d2ec8a",
   "metadata": {},
   "outputs": [
    {
     "data": {
      "text/plain": [
       "<function pyproj.crs.crs.CRS.from_epsg(code: Union[str, int]) -> 'CRS'>"
      ]
     },
     "execution_count": 194,
     "metadata": {},
     "output_type": "execute_result"
    }
   ],
   "source": []
  },
  {
   "cell_type": "code",
   "execution_count": null,
   "id": "735f0d03-ca54-44d4-8721-e9f8ac33b334",
   "metadata": {},
   "outputs": [],
   "source": []
  },
  {
   "cell_type": "markdown",
   "id": "b929b735-fd50-4396-bce1-9e2cd947d6e8",
   "metadata": {},
   "source": [
    "# Compare projections\n",
    "\n",
    "Okay, idk what to do except try a couple of these different projections and compare based on error between the lat/lons from reprojecting the coordinates and the lat/lons from the WRF file. \n",
    "\n",
    "Here are the different projections at play:\n",
    "\n",
    "- AWS WRF proj\n",
    "- AWS WRF WKT\n",
    "- lightning WRF proj\n",
    "- lightning WRF WKT\n",
    "- [Fabien Maussion WRF proj](https://fabienmaussion.info/2018/01/06/wrf-projection/) (FM proj)\n",
    "\n",
    "To compare, define a function that takes the proj or WKT string and returns an image of differences along with an RMSE score."
   ]
  },
  {
   "cell_type": "code",
   "execution_count": 360,
   "id": "5f3888f1-e66c-41ae-87c7-700fbfb52896",
   "metadata": {
    "tags": []
   },
   "outputs": [],
   "source": [
    "import numpy as np\n",
    "import matplotlib.pyplot as plt\n",
    "from pyproj import Transformer\n",
    "import math\n",
    "\n",
    "# need lightning strikes ds\n",
    "wrf_lats = strikes_ds.lat.values\n",
    "wrf_lons = strikes_ds.lon.values\n",
    "\n",
    "# need raw wrf ds\n",
    "cen_lat = raw_ds.CEN_LAT\n",
    "cen_lon = raw_ds.CEN_LON\n",
    "dx, dy = raw_ds.DX, raw_ds.DY\n",
    "nx, ny = raw_ds.dims['west_east'], raw_ds.dims['south_north']\n",
    "\n",
    "\n",
    "def validate_wrf_proj(wrf_proj, derive_grid=True):\n",
    "    \"\"\"for a given CRS, create the grid and \n",
    "    reproject the values to WGS84 and compare \n",
    "    with WRF lat/lon grids\n",
    "    \"\"\"\n",
    "    if isinstance(wrf_proj, pyproj.proj.Proj):\n",
    "        wgs_proj = pyproj.Proj(proj='latlong', datum='WGS84')\n",
    "        transformer = Transformer.from_proj(wgs_proj, wrf_proj, always_xy=True)\n",
    "        back_transformer = Transformer.from_proj(wrf_proj, wgs_proj, always_xy=True)\n",
    "    elif isinstance(wrf_proj, pyproj.crs.crs.CRS):\n",
    "        print(\"WKT supplied...\")\n",
    "        transformer = Transformer.from_crs(4326, wrf_proj, always_xy=True)\n",
    "        back_transformer = Transformer.from_crs(wrf_proj, 4326, always_xy=True)\n",
    "    \n",
    "    # derive the grid from the center e/n determined by CRS\n",
    "    # Otherwise, use the e/n determined by AWS WRF CRS, 0.0 -2792425.477371664\n",
    "    if derive_grid:\n",
    "        e, n = transformer.transform(cen_lon, cen_lat)\n",
    "        print(\"Derived center easting/northing:\", e, n)\n",
    "    else:\n",
    "        e, n = 0.0, -2792425.477371664\n",
    "        \n",
    "    # Grid parameters\n",
    "    # Down left corner of the domain\n",
    "    x0 = -(nx-1) / 2. * dx + e\n",
    "    y0 = -(ny-1) / 2. * dy + n\n",
    "    # 2d grid\n",
    "    xx, yy = np.meshgrid(np.arange(nx) * dx + x0, np.arange(ny) * dy + y0)\n",
    "    \n",
    "    # now transform back to lat/lons and compare with WRF outputs\n",
    "    new_lons, new_lats = back_transformer.transform(xx, yy)\n",
    "    squared_dists = ((wrf_lats - new_lats) ** 2) + ((wrf_lons - new_lons) ** 2)\n",
    "        \n",
    "    rmse = np.sqrt(np.mean(squared_dists))\n",
    "    \n",
    "    plt.imshow(np.sqrt(squared_dists))\n",
    "    \n",
    "    return rmse\n"
   ]
  },
  {
   "cell_type": "markdown",
   "id": "9b597cfe-dd07-4e89-b41d-7988266f4fab",
   "metadata": {},
   "source": [
    "### AWS WRF"
   ]
  },
  {
   "cell_type": "code",
   "execution_count": 318,
   "id": "8b682474-96bc-4bca-8ebc-36951e711971",
   "metadata": {},
   "outputs": [
    {
     "name": "stdout",
     "output_type": "stream",
     "text": [
      "Center easting/northing: 0.0 -2792425.477371664\n"
     ]
    },
    {
     "data": {
      "text/plain": [
       "1.374193900872439"
      ]
     },
     "execution_count": 318,
     "metadata": {},
     "output_type": "execute_result"
    },
    {
     "data": {
      "image/png": "[encoded data removed]",
      "text/plain": [
       "<Figure size 432x288 with 1 Axes>"
      ]
     },
     "metadata": {
      "needs_background": "light"
     },
     "output_type": "display_data"
    }
   ],
   "source": [
    "aws_wrf_proj = pyproj.Proj(hourly_fix_ds.attrs[\"proj_parameters\"])\n",
    "\n",
    "validate_wrf_proj(aws_wrf_proj)"
   ]
  },
  {
   "cell_type": "markdown",
   "id": "7ac8cd97-e143-406b-b8d1-24efe15adeda",
   "metadata": {},
   "source": [
    "### AWS WRF WKT"
   ]
  },
  {
   "cell_type": "code",
   "execution_count": 319,
   "id": "c5480f31-20c7-4bc5-8140-5f6a995a160c",
   "metadata": {},
   "outputs": [
    {
     "name": "stdout",
     "output_type": "stream",
     "text": [
      "WKT supplied...\n",
      "Center easting/northing: 0.0 -2792425.477371664\n"
     ]
    },
    {
     "data": {
      "text/plain": [
       "1.374193900872439"
      ]
     },
     "execution_count": 319,
     "metadata": {},
     "output_type": "execute_result"
    },
    {
     "data": {
      "image/png": "[encoded data removed]",
      "text/plain": [
       "<Figure size 432x288 with 1 Axes>"
      ]
     },
     "metadata": {
      "needs_background": "light"
     },
     "output_type": "display_data"
    }
   ],
   "source": [
    "aws_wrf_wkt = CRS.from_wkt(hourly_fix_ds.attrs[\"crs_wkt\"])\n",
    "\n",
    "validate_wrf_proj(aws_wrf_wkt)"
   ]
  },
  {
   "cell_type": "markdown",
   "id": "0a0245a1-dd43-4fae-ad88-4c885d84add5",
   "metadata": {},
   "source": [
    "### Lightning WRF proj"
   ]
  },
  {
   "cell_type": "code",
   "execution_count": 320,
   "id": "c9fb27bb-f38d-4917-af03-a515bf3000cc",
   "metadata": {},
   "outputs": [
    {
     "name": "stdout",
     "output_type": "stream",
     "text": [
      "Center easting/northing: 0.0 -2803583.5663868464\n"
     ]
    },
    {
     "data": {
      "text/plain": [
       "11.49183797616789"
      ]
     },
     "execution_count": 320,
     "metadata": {},
     "output_type": "execute_result"
    },
    {
     "data": {
      "image/png": "[encoded data removed]",
      "text/plain": [
       "<Figure size 432x288 with 1 Axes>"
      ]
     },
     "metadata": {
      "needs_background": "light"
     },
     "output_type": "display_data"
    }
   ],
   "source": [
    "lightning_wrf_proj = pyproj.Proj(strikes_ds.polar_stereographic.attrs[\"spatial_ref\"])\n",
    "\n",
    "validate_wrf_proj(lightning_wrf_proj)"
   ]
  },
  {
   "cell_type": "markdown",
   "id": "a406b747-7cea-4b32-8902-ca535963a249",
   "metadata": {},
   "source": [
    "### Lightning WRF WKT"
   ]
  },
  {
   "cell_type": "code",
   "execution_count": 321,
   "id": "9cbbbffd-db11-492e-a8e8-cabd1c41fca1",
   "metadata": {},
   "outputs": [
    {
     "name": "stdout",
     "output_type": "stream",
     "text": [
      "Center easting/northing: 0.0 -2803583.5663868464\n"
     ]
    },
    {
     "data": {
      "text/plain": [
       "11.49183797616789"
      ]
     },
     "execution_count": 321,
     "metadata": {},
     "output_type": "execute_result"
    },
    {
     "data": {
      "image/png": "[encoded data removed]",
      "text/plain": [
       "<Figure size 432x288 with 1 Axes>"
      ]
     },
     "metadata": {
      "needs_background": "light"
     },
     "output_type": "display_data"
    }
   ],
   "source": [
    "lightning_wrf_wkt = CRS.from_wkt(strikes_ds.polar_stereographic.attrs[\"spatial_ref\"])\n",
    "\n",
    "validate_wrf_proj(lightning_wrf_proj)"
   ]
  },
  {
   "cell_type": "markdown",
   "id": "61ccab6d-cd2f-4b8d-bf47-54d0daf477ec",
   "metadata": {},
   "source": [
    "## Validate\n",
    "\n",
    "Compare the new \"improved\" data to the old. First test run was with ACSNOW, moved originals to `hourly_fix/acsnow_old-for-validation`. Compare some files:"
   ]
  },
  {
   "cell_type": "code",
   "execution_count": 10,
   "id": "56393cb8-a314-4d02-8a12-39888aef2b06",
   "metadata": {},
   "outputs": [
    {
     "name": "stdout",
     "output_type": "stream",
     "text": [
      "<xarray.Dataset>\n",
      "Dimensions:  (time: 8736, yc: 262, xc: 262)\n",
      "Coordinates:\n",
      "  * time     (time) datetime64[ns] 1979-01-02 ... 1979-12-31T23:00:00\n",
      "  * xc       (xc) float64 -2.61e+06 -2.59e+06 -2.57e+06 ... 2.59e+06 2.61e+06\n",
      "  * yc       (yc) float64 -1.824e+05 -2.024e+05 ... -5.382e+06 -5.402e+06\n",
      "Data variables:\n",
      "    acsnow   (time, yc, xc) float32 ...\n",
      "Attributes:\n",
      "    creation_date:    Mon Nov 25 10:32:57 AKST 2013\n",
      "    NCL_Version:      6.1.2\n",
      "    system:           Linux pacman1 2.6.32-358.14.1.el6.x86_64 #1 SMP Mon Jun...\n",
      "    Conventions:      None\n",
      "    grib_source:      WRFDS_d01.1979-01-02_00.grib\n",
      "    title:            NCL: convert-GRIB-to-netCDF\n",
      "    reference_time:   1979-01-02 00:00:00\n",
      "    proj_parameters:  +units=m +proj=stere +lat_ts=64.0 +lon_0=-152.0 +lat_0=...\n",
      "    restacked_by:     Scenarios Network for Alaska + Arctic Planning -- 2018\n",
      "    crs_wkt:          PROJCS[\"unnamed\",GEOGCS[\"unnamed ellipse\",DATUM[\"unknow...\n",
      "    SNAP_VERSION:     1.0 \n",
      "\n",
      " <xarray.Dataset>\n",
      "Dimensions:              (time: 8736, yc: 262, xc: 262)\n",
      "Coordinates:\n",
      "  * xc                   (xc) float64 -2.61e+06 -2.59e+06 ... 2.59e+06 2.61e+06\n",
      "  * yc                   (yc) float64 -1.824e+05 -2.024e+05 ... -5.402e+06\n",
      "    lon                  (yc, xc) float32 ...\n",
      "    lat                  (yc, xc) float32 ...\n",
      "  * time                 (time) datetime64[ns] 1979-01-02 ... 1979-12-31T23:0...\n",
      "Data variables:\n",
      "    acsnow               (time, yc, xc) float32 ...\n",
      "    polar_stereographic  |S1 ...\n",
      "Attributes:\n",
      "    creation_date:    Mon Nov 25 10:32:57 AKST 2013\n",
      "    NCL_Version:      6.1.2\n",
      "    system:           Linux pacman1 2.6.32-358.14.1.el6.x86_64 #1 SMP Mon Jun...\n",
      "    Conventions:      None\n",
      "    grib_source:      WRFDS_d01.1979-01-02_00.grib\n",
      "    title:            NCL: convert-GRIB-to-netCDF\n",
      "    reference_time:   1979-01-02 00:00:00\n",
      "    proj_parameters:  +proj=stere +lat_0=90 +lat_ts=90 +lon_0=-150 +k=0.994 +...\n",
      "    restacked_by:     Scenarios Network for Alaska + Arctic Planning -- 2018\n",
      "    SNAP_VERSION:     1.0\n"
     ]
    }
   ],
   "source": [
    "og_ds = xr.open_dataset(\"/rcs/project_data/wrf_data/hourly_fix/acsnow_old-for-validation/acsnow_hourly_wrf_ERA-Interim_historical_1979.nc\")\n",
    "new_ds = xr.open_dataset(\"/rcs/project_data/wrf_data/hourly_fix/acsnow/acsnow_hourly_wrf_ERA-Interim_historical_1979.nc\")\n",
    "\n",
    "print(og_ds, \"\\n\\n\", new_ds)"
   ]
  },
  {
   "cell_type": "code",
   "execution_count": 15,
   "id": "bf102e1e-05ca-402c-a972-aa06ae3f7df4",
   "metadata": {},
   "outputs": [
    {
     "data": {
      "text/plain": [
       "True"
      ]
     },
     "execution_count": 15,
     "metadata": {},
     "output_type": "execute_result"
    }
   ],
   "source": [
    "import numpy as np\n",
    "\n",
    "# verify variable equality for a view random dates\n",
    "np.all([\n",
    "    new_ds.acsnow.sel(time=f\"1979-{date}T00:00:00\").values == og_ds.acsnow.sel(time=f\"1979-{date}T00:00:00\").values \n",
    "    for date in [\"01-02\", \"03-17\", \"09-14\"]\n",
    "])"
   ]
  },
  {
   "cell_type": "markdown",
   "id": "2e5a1ef2-f42d-4079-b9e8-25de51829d73",
   "metadata": {},
   "source": [
    "Check that the new has the correct lat and lons:"
   ]
  },
  {
   "cell_type": "code",
   "execution_count": 19,
   "id": "a0f5a16c-72ed-411c-a573-c15e0c99aa56",
   "metadata": {},
   "outputs": [
    {
     "data": {
      "text/plain": [
       "True"
      ]
     },
     "execution_count": 19,
     "metadata": {},
     "output_type": "execute_result"
    }
   ],
   "source": [
    "hourly_ds = xr.open_dataset(\"/rcs/project_data/wrf_data/hourly/acsnow/ACSNOW_wrf_hourly_gfdl_hist_1979.nc\")\n",
    "\n",
    "np.all([np.all(new_ds[i].values == np.flipud(hourly_ds[i].values)) for i in [\"lat\", \"lon\"]])"
   ]
  },
  {
   "cell_type": "markdown",
   "id": "c98e3f5a-87e2-4080-a464-69171f9a88d1",
   "metadata": {},
   "source": [
    "Okay, looks good. Time to re-run them all. This is the command I will call: \n",
    "\n",
    "```\n",
    "anaconda-project run python snap_data_wrf_prep/pipeline/wrap_run_improve_hourly_netcdf_structure.py -v acsnow cldfra cldfra_mid lh lwupb pcpc potevp qbot seaice smois snowh swupb t tslb  ubot  vbot albedo cldfra_high ght lwdnb lwupbc pcpnc psfc qvapor sh2o snow swdnb swupbc t2 u v canwat cldfra_low hfx lwdnbc omega pcpt q2 slp snowc swdnbc tbot tsk u10 v10\n",
    "```\n"
   ]
  },
  {
   "cell_type": "code",
   "execution_count": 20,
   "id": "5b93fdf1-ca0e-42b9-8677-1b4307c61c9e",
   "metadata": {},
   "outputs": [],
   "source": [
    "og_ds.close()"
   ]
  },
  {
   "cell_type": "code",
   "execution_count": 362,
   "id": "3f0b98fb-d5e9-46ae-b545-2b9a36eb83dd",
   "metadata": {},
   "outputs": [
    {
     "name": "stdout",
     "output_type": "stream",
     "text": [
      "WKT supplied...\n"
     ]
    },
    {
     "data": {
      "text/plain": [
       "1.3777530475685285"
      ]
     },
     "execution_count": 362,
     "metadata": {},
     "output_type": "execute_result"
    },
    {
     "data": {
      "image/png": "[encoded data removed]",
      "text/plain": [
       "<Figure size 432x288 with 1 Axes>"
      ]
     },
     "metadata": {
      "needs_background": "light"
     },
     "output_type": "display_data"
    }
   ],
   "source": [
    "strikes_wkt = (\n",
    "    'PROJCS[\"unnamed\",GEOGCS[\"WGS 84\",DATUM[\"WGS_1984\",SPHEROID[\"WGS 84\",6378137,298.257223563,AUTHORITY[\"EPSG\",\"7030\"]],'\n",
    "    'AUTHORITY[\"EPSG\",\"6326\"]],PRIMEM[\"Greenwich\",0,AUTHORITY[\"EPSG\",\"8901\"]],UNIT[\"degree\",0.0174532925199433,AUTHORITY[\"'\n",
    "    'EPSG\",\"9122\"]],AUTHORITY[\"EPSG\",\"4326\"]],PROJECTION[\"Polar_Stereographic\"],PARAMETER[\"latitude_of_origin\",64],'\n",
    "    'PARAMETER[\"central_meridian\",-152],PARAMETER[\"scale_factor\",1],PARAMETER[\"false_easting\",0],PARAMETER[\"false_northing\",0],'\n",
    "    'UNIT[\"Meter\",1]]'\n",
    ")\n",
    "\n",
    "validate_wrf_proj(CRS.from_wkt(strikes_wkt), derive_grid=False)"
   ]
  },
  {
   "cell_type": "code",
   "execution_count": 363,
   "id": "3602f9c3-59c8-43ad-a9fc-f595fe78e2f4",
   "metadata": {},
   "outputs": [
    {
     "data": {
      "text/plain": [
       "Proj('+proj=stere +lat_0=90 +lat_ts=64 +lon_0=-152 +x_0=0 +y_0=0 +R=6370000 +units=m +no_defs', preserve_units=True)"
      ]
     },
     "execution_count": 363,
     "metadata": {},
     "output_type": "execute_result"
    }
   ],
   "source": [
    "aws_wrf_proj"
   ]
  },
  {
   "cell_type": "code",
   "execution_count": 72,
   "id": "fe5df4c0-9fed-4ac6-8134-0d22b3d5edb5",
   "metadata": {},
   "outputs": [
    {
     "data": {
      "text/plain": [
       "True"
      ]
     },
     "execution_count": 72,
     "metadata": {},
     "output_type": "execute_result"
    }
   ],
   "source": [
    "import os\n",
    "import time\n"
   ]
  },
  {
   "cell_type": "code",
   "execution_count": 71,
   "id": "ad6b35b8-e365-497d-9d6a-324a0997efe6",
   "metadata": {},
   "outputs": [
    {
     "data": {
      "text/plain": [
       "1634945266.8546836"
      ]
     },
     "execution_count": 71,
     "metadata": {},
     "output_type": "execute_result"
    }
   ],
   "source": [
    "import time\n",
    "\n",
    "time.time()"
   ]
  },
  {
   "cell_type": "code",
   "execution_count": 70,
   "id": "8f508420-dead-4a81-b19d-36b1e323c10b",
   "metadata": {},
   "outputs": [
    {
     "name": "stdout",
     "output_type": "stream",
     "text": [
      "-rw-rw-r--. 1 snap-smb dyndown 876165329 Mar  7  2018 /rcs/project_data/wrf_data/hourly/lh/LH_wrf_hourly_gfdl_rcp85_2100.nc\n"
     ]
    }
   ],
   "source": [
    "ls -l /rcs/project_data/wrf_data/hourly/lh/LH_wrf_hourly_gfdl_rcp85_2100.nc"
   ]
  },
  {
   "cell_type": "code",
   "execution_count": 270,
   "id": "5ccb990f-5647-44b9-88fe-d6828217d205",
   "metadata": {},
   "outputs": [
    {
     "data": {
      "text/plain": [
       "(124.4644848621036, 74.74003853400863)"
      ]
     },
     "execution_count": 270,
     "metadata": {},
     "output_type": "execute_result"
    }
   ],
   "source": [
    "back_transformer = Transformer.from_proj(aws_wrf_proj, wgs_proj, always_xy=True)\n",
    "\n",
    "back_transformer.transform(-1610000, -182425.47737166)"
   ]
  },
  {
   "cell_type": "code",
   "execution_count": 272,
   "id": "c2af7394-f945-408e-9caf-ef5aac46c914",
   "metadata": {},
   "outputs": [
    {
     "data": {
      "text/plain": [
       "<ufunc 'sqrt'>"
      ]
     },
     "execution_count": 272,
     "metadata": {},
     "output_type": "execute_result"
    }
   ],
   "source": [
    "np.sqrt"
   ]
  },
  {
   "cell_type": "code",
   "execution_count": 257,
   "id": "d0bebcb2-0fd8-4af5-bf60-d9c1d5061216",
   "metadata": {},
   "outputs": [
    {
     "name": "stdout",
     "output_type": "stream",
     "text": [
      "0.0 -2792425.477371664\n"
     ]
    }
   ],
   "source": [
    "xx, yy = validate_wrf_proj(aws_wrf_proj)"
   ]
  },
  {
   "cell_type": "code",
   "execution_count": 251,
   "id": "d2896824-8f04-472c-b4d3-93d5f38df7f0",
   "metadata": {},
   "outputs": [
    {
     "data": {
      "text/plain": [
       "Proj('+proj=stere +lat_0=63.9999885559082 +lon_0=-152 +k=1 +x_0=0 +y_0=0 +R=6370000 +units=m +no_defs', preserve_units=True)"
      ]
     },
     "execution_count": 251,
     "metadata": {},
     "output_type": "execute_result"
    }
   ],
   "source": [
    "wrf_proj"
   ]
  },
  {
   "cell_type": "code",
   "execution_count": 250,
   "id": "bbb56c53-1243-4377-ad55-11d64285354e",
   "metadata": {},
   "outputs": [
    {
     "data": {
      "text/plain": [
       "Proj('+proj=stere +lat_0=90 +lat_ts=64 +lon_0=-152 +x_0=0 +y_0=0 +R=6370000 +units=m +no_defs', preserve_units=True)"
      ]
     },
     "execution_count": 250,
     "metadata": {},
     "output_type": "execute_result"
    }
   ],
   "source": [
    "aws_wrf_proj"
   ]
  },
  {
   "cell_type": "code",
   "execution_count": 178,
   "id": "b05718e7-85de-4a73-aee6-dfda7e112135",
   "metadata": {},
   "outputs": [
    {
     "data": {
      "text/plain": [
       "'+units=m +proj=stere +lat_ts=64.0 +lon_0=-152.0 +lat_0=90.0 +x_0=0 +y_0=0 +a=6370000 +b=6370000'"
      ]
     },
     "execution_count": 178,
     "metadata": {},
     "output_type": "execute_result"
    }
   ],
   "source": [
    "hourly_fix_ds.attrs[\"proj_parameters\"]"
   ]
  },
  {
   "cell_type": "code",
   "execution_count": 150,
   "id": "9ce98c16-9477-4208-8beb-662880b1177f",
   "metadata": {},
   "outputs": [],
   "source": [
    "raw_ds = xr.open_dataset(\"/workspace/Shared/Tech_Projects/wrf_data/project_data/wrf_raw_output_example/wrfout_d01_2025-07-10_00:00:00\")"
   ]
  },
  {
   "cell_type": "code",
   "execution_count": 354,
   "id": "798986d2-bb02-4b56-8c0d-c22991aa33b6",
   "metadata": {},
   "outputs": [],
   "source": [
    "# Creating the WRF projection based on https://fabienmaussion.info/2018/01/06/wrf-projection/\n",
    "import pyproj\n",
    "\n",
    "wrf_proj = pyproj.Proj(proj=\"stere\",\n",
    "                       lat_1=raw_ds.TRUELAT1, lat_2=raw_ds.TRUELAT2,\n",
    "                       lat_0=raw_ds.MOAD_CEN_LAT, lon_0=raw_ds.STAND_LON,\n",
    "                       a=6370000, b=6370000) \n"
   ]
  },
  {
   "cell_type": "code",
   "execution_count": 355,
   "id": "6cf33f25-4a4b-4065-84ee-5bf99746ca7c",
   "metadata": {},
   "outputs": [
    {
     "data": {
      "text/plain": [
       "Proj('+proj=stere +lat_0=63.9999885559082 +lon_0=-152 +k=1 +x_0=0 +y_0=0 +R=6370000 +units=m +no_defs', preserve_units=True)"
      ]
     },
     "execution_count": 355,
     "metadata": {},
     "output_type": "execute_result"
    }
   ],
   "source": [
    "wrf_proj"
   ]
  },
  {
   "cell_type": "code",
   "execution_count": 356,
   "id": "a3c473c5-5041-4017-a076-964dbdc65c43",
   "metadata": {},
   "outputs": [
    {
     "data": {
      "text/plain": [
       "'PROJCRS[\"unknown\",BASEGEOGCRS[\"unknown\",DATUM[\"unknown\",ELLIPSOID[\"unknown\",6370000,0,LENGTHUNIT[\"metre\",1,ID[\"EPSG\",9001]]]],PRIMEM[\"Greenwich\",0,ANGLEUNIT[\"degree\",0.0174532925199433],ID[\"EPSG\",8901]]],CONVERSION[\"unknown\",METHOD[\"Stereographic\"],PARAMETER[\"Latitude of natural origin\",63.9999885559082,ANGLEUNIT[\"degree\",0.0174532925199433],ID[\"EPSG\",8801]],PARAMETER[\"Longitude of natural origin\",-152,ANGLEUNIT[\"degree\",0.0174532925199433],ID[\"EPSG\",8802]],PARAMETER[\"Scale factor at natural origin\",1,SCALEUNIT[\"unity\",1],ID[\"EPSG\",8805]],PARAMETER[\"False easting\",0,LENGTHUNIT[\"metre\",1],ID[\"EPSG\",8806]],PARAMETER[\"False northing\",0,LENGTHUNIT[\"metre\",1],ID[\"EPSG\",8807]]],CS[Cartesian,2],AXIS[\"(E)\",east,ORDER[1],LENGTHUNIT[\"metre\",1,ID[\"EPSG\",9001]]],AXIS[\"(N)\",north,ORDER[2],LENGTHUNIT[\"metre\",1,ID[\"EPSG\",9001]]]]'"
      ]
     },
     "execution_count": 356,
     "metadata": {},
     "output_type": "execute_result"
    }
   ],
   "source": [
    "CRS.from_proj4(wrf_proj.definition_string()).to_wkt()\n"
   ]
  },
  {
   "cell_type": "code",
   "execution_count": 345,
   "id": "eefefadf-b477-4de3-a8a7-a14688b3b456",
   "metadata": {},
   "outputs": [
    {
     "data": {
      "text/plain": [
       "64.0"
      ]
     },
     "execution_count": 345,
     "metadata": {},
     "output_type": "execute_result"
    }
   ],
   "source": [
    "raw_ds.TRUELAT1"
   ]
  },
  {
   "cell_type": "code",
   "execution_count": 230,
   "id": "13d3defa-1623-47f2-aad9-2a71ad5924fc",
   "metadata": {},
   "outputs": [
    {
     "data": {
      "text/plain": [
       "Proj('+proj=stere +lat_0=63.9999885559082 +lon_0=-152 +k=1 +x_0=0 +y_0=0 +R=6370000 +units=m +no_defs', preserve_units=True)"
      ]
     },
     "execution_count": 230,
     "metadata": {},
     "output_type": "execute_result"
    }
   ],
   "source": [
    "wrf_proj"
   ]
  },
  {
   "cell_type": "code",
   "execution_count": 231,
   "id": "be70360f-4066-4daa-beb1-25c7b3d3bb5a",
   "metadata": {},
   "outputs": [
    {
     "data": {
      "text/plain": [
       "Proj('+proj=stere +lat_0=90 +lat_ts=64 +lon_0=-152 +x_0=0 +y_0=0 +R=6370000 +units=m +no_defs', preserve_units=True)"
      ]
     },
     "execution_count": 231,
     "metadata": {},
     "output_type": "execute_result"
    }
   ],
   "source": [
    "aws_wrf_proj"
   ]
  },
  {
   "cell_type": "code",
   "execution_count": 166,
   "id": "3b4371b3-54f1-40a3-bc0e-eb21a844c6a9",
   "metadata": {},
   "outputs": [],
   "source": [
    "# Easting and Northings of the domains center point\n",
    "wgs_proj = pyproj.Proj(proj='latlong', datum='WGS84')\n",
    "\n",
    "transformer = Transformer.from_proj(4326, wrf_proj)\n",
    "e, n = transformer.transform(raw_ds.CEN_LAT, raw_ds.CEN_LON)\n",
    "\n",
    "# Grid parameters\n",
    "dx, dy = raw_ds.DX, raw_ds.DY\n",
    "nx, ny = raw_ds.dims['west_east'], raw_ds.dims['south_north']\n",
    "# Down left corner of the domain\n",
    "x0 = -(nx-1) / 2. * dx + e\n",
    "y0 = -(ny-1) / 2. * dy + n\n",
    "# 2d grid\n",
    "xx, yy = np.meshgrid(np.arange(nx) * dx + x0, np.arange(ny) * dy + y0)\n"
   ]
  },
  {
   "cell_type": "code",
   "execution_count": null,
   "id": "a5dbf571-f665-47b8-9915-644fd15b285c",
   "metadata": {},
   "outputs": [],
   "source": [
    "import matplotlib.pyplot as plt\n",
    "\n",
    "transformer = Transformer.from_proj(wrf_proj, 4326)\n",
    "our_lons, our_lats = transformer.transform(yy, xx)\n",
    "\n",
    "ds['DIFF'] = np.sqrt((our_lons - ds.XLONG_M)**2 + (our_lats - ds.XLAT_M)**2)\n",
    "ds.salem.quick_map('DIFF', cmap='Reds');"
   ]
  },
  {
   "cell_type": "code",
   "execution_count": 177,
   "id": "c7309697-01b8-494a-8ddd-b40e3d810710",
   "metadata": {},
   "outputs": [
    {
     "data": {
      "text/plain": [
       "Proj('+proj=stere +lat_0=63.9999885559082 +lon_0=-152 +k=1 +x_0=0 +y_0=0 +R=6370000 +units=m +no_defs', preserve_units=True)"
      ]
     },
     "execution_count": 177,
     "metadata": {},
     "output_type": "execute_result"
    }
   ],
   "source": [
    "wrf_proj"
   ]
  },
  {
   "cell_type": "code",
   "execution_count": null,
   "id": "301ca3fc-ceb5-4e75-82bc-0aab26441a4c",
   "metadata": {},
   "outputs": [],
   "source": [
    "'+proj=stere +lat_0=63.9999885559082 +lon_0=-152 +k=1 +x_0=0 +y_0=0 +R=6370000 +units=m +no_defs'"
   ]
  },
  {
   "cell_type": "code",
   "execution_count": null,
   "id": "e1494308-dc3e-402b-a214-2ab66c7990bb",
   "metadata": {},
   "outputs": [],
   "source": []
  },
  {
   "cell_type": "code",
   "execution_count": null,
   "id": "d471a16f-f947-4daa-9950-6a44e276d79d",
   "metadata": {},
   "outputs": [],
   "source": []
  },
  {
   "cell_type": "code",
   "execution_count": 3,
   "id": "cad34181-5021-4033-9419-fc44027271e0",
   "metadata": {},
   "outputs": [
    {
     "data": {
      "text/plain": [
       "'#!/bin/sh\\n#SBATCH --nodes=1\\n#SBATCH --cpus-per-task=8\\n#SBATCH --account=snap\\n#SBATCH --mail-type=FAIL\\n#SBATCH --mail-user=test\\n#SBATCH -p main\\neval \"$(conda shell.bash hook)\"'"
      ]
     },
     "execution_count": 3,
     "metadata": {},
     "output_type": "execute_result"
    }
   ],
   "source": [
    "(\n",
    "    \"#!/bin/sh\\n\"\n",
    "    + \"#SBATCH --nodes=1\\n\"\n",
    "    + f\"#SBATCH --cpus-per-task={8}\\n\"\n",
    "    + \"#SBATCH --account=snap\\n\"\n",
    "    + \"#SBATCH --mail-type=FAIL\\n\"\n",
    "    + f\"#SBATCH --mail-user={'test'}\\n\"\n",
    "    + \"#SBATCH -p main\\n\"\n",
    "    + 'eval \"$(conda shell.bash hook)\"'\n",
    ")"
   ]
  },
  {
   "cell_type": "code",
   "execution_count": 3,
   "id": "4a9d3521-505d-4519-97fc-8606acddfb31",
   "metadata": {},
   "outputs": [
    {
     "data": {
      "text/plain": [
       "'this that'"
      ]
     },
     "execution_count": 3,
     "metadata": {},
     "output_type": "execute_result"
    }
   ],
   "source": [
    "\"this\" + ' that'"
   ]
  },
  {
   "cell_type": "code",
   "execution_count": 142,
   "id": "6f823def-fd71-4586-93ac-0d2e92e7a7e7",
   "metadata": {},
   "outputs": [
    {
     "name": "stdout",
     "output_type": "stream",
     "text": [
      "Minimum y-coordinate values:\n"
     ]
    },
    {
     "data": {
      "text/html": [
       "<div>\n",
       "<style scoped>\n",
       "    .dataframe tbody tr th:only-of-type {\n",
       "        vertical-align: middle;\n",
       "    }\n",
       "\n",
       "    .dataframe tbody tr th {\n",
       "        vertical-align: top;\n",
       "    }\n",
       "\n",
       "    .dataframe thead th {\n",
       "        text-align: right;\n",
       "    }\n",
       "</style>\n",
       "<table border=\"1\" class=\"dataframe\">\n",
       "  <thead>\n",
       "    <tr style=\"text-align: right;\">\n",
       "      <th></th>\n",
       "      <th>test</th>\n",
       "      <th>lightning</th>\n",
       "    </tr>\n",
       "  </thead>\n",
       "  <tbody>\n",
       "    <tr>\n",
       "      <th>min</th>\n",
       "      <td>-5.402425e+06</td>\n",
       "      <td>-5.413582e+06</td>\n",
       "    </tr>\n",
       "    <tr>\n",
       "      <th>max</th>\n",
       "      <td>-1.824255e+05</td>\n",
       "      <td>-1.935823e+05</td>\n",
       "    </tr>\n",
       "  </tbody>\n",
       "</table>\n",
       "</div>"
      ],
      "text/plain": [
       "             test     lightning\n",
       "min -5.402425e+06 -5.413582e+06\n",
       "max -1.824255e+05 -1.935823e+05"
      ]
     },
     "execution_count": 142,
     "metadata": {},
     "output_type": "execute_result"
    }
   ],
   "source": [
    "import pandas as pd\n",
    "\n",
    "print(\"Minimum y-coordinate values:\")\n",
    "pd.DataFrame([[hourly_fix_ds.yc.values.min(), -5413582.2906], [hourly_fix_ds.yc.values.max(), -193582.2906]], columns=[\"test\", \"lightning\"], index=[\"min\", \"max\"])\n"
   ]
  },
  {
   "cell_type": "code",
   "execution_count": 2,
   "id": "0476b767-733a-4a3d-b871-36d949160cbb",
   "metadata": {},
   "outputs": [],
   "source": [
    "# save slice of test file to be transferred to local\n",
    "\n",
    "import xarray as xr\n",
    "\n",
    "ds = xr.open_dataset(\"/rcs/project_data/wrf_data/hourly_fix/snowc/snowc_hourly_wrf_ERA-Interim_historical_1979_test.nc\")\n",
    "\n",
    "new_ds = ds.sel(time=\"1979-01-03T00:00:00\")\n",
    "\n",
    "new_ds.to_netcdf(\"/atlas_scratch/kmredilla/WRF/snowc_hourly_wrf_ERA-Interim_historical_19790103_test.nc\")"
   ]
  },
  {
   "cell_type": "code",
   "execution_count": 28,
   "id": "bdbef32d-3ece-44c0-9cb5-cd7410dcf2e2",
   "metadata": {},
   "outputs": [],
   "source": [
    "# evaluate an error to compare lh gfdl 2100 file\n",
    "\n",
    "import xarray as xr\n",
    "\n",
    "ds = xr.load_dataset(\"/rcs/project_data/wrf_data/hourly/lh/LH_wrf_hourly_gfdl_rcp85_2100.nc\")"
   ]
  },
  {
   "cell_type": "code",
   "execution_count": 10,
   "id": "38650b06-f5d9-433f-95de-846b18d62369",
   "metadata": {},
   "outputs": [],
   "source": [
    "new_ds = xr.load_dataset(\"/rcs/project_data/wrf_data/hourly_fix/lh/lh_hourly_wrf_GFDL-CM3_rcp85_2100.nc\")"
   ]
  },
  {
   "cell_type": "code",
   "execution_count": 19,
   "id": "291e62e1-a706-4462-9e72-5327c9cc24ba",
   "metadata": {},
   "outputs": [
    {
     "ename": "KeyError",
     "evalue": "'2100-12-31T23:00:00'",
     "output_type": "error",
     "traceback": [
      "\u001b[0;31m---------------------------------------------------------------------------\u001b[0m",
      "\u001b[0;31mKeyError\u001b[0m                                  Traceback (most recent call last)",
      "\u001b[0;32m/workspace/UA/kmredilla/wrf_utils/envs/default/lib/python3.7/site-packages/pandas/_libs/index.pyx\u001b[0m in \u001b[0;36mpandas._libs.index.DatetimeEngine.get_loc\u001b[0;34m()\u001b[0m\n",
      "\u001b[0;32mpandas/_libs/hashtable_class_helper.pxi\u001b[0m in \u001b[0;36mpandas._libs.hashtable.Int64HashTable.get_item\u001b[0;34m()\u001b[0m\n",
      "\u001b[0;32mpandas/_libs/hashtable_class_helper.pxi\u001b[0m in \u001b[0;36mpandas._libs.hashtable.Int64HashTable.get_item\u001b[0;34m()\u001b[0m\n",
      "\u001b[0;31mKeyError\u001b[0m: 4133977200000000000",
      "\nDuring handling of the above exception, another exception occurred:\n",
      "\u001b[0;31mKeyError\u001b[0m                                  Traceback (most recent call last)",
      "\u001b[0;32m/workspace/UA/kmredilla/wrf_utils/envs/default/lib/python3.7/site-packages/pandas/core/indexes/base.py\u001b[0m in \u001b[0;36mget_loc\u001b[0;34m(self, key, method, tolerance)\u001b[0m\n\u001b[1;32m   3360\u001b[0m             \u001b[0;32mtry\u001b[0m\u001b[0;34m:\u001b[0m\u001b[0;34m\u001b[0m\u001b[0;34m\u001b[0m\u001b[0m\n\u001b[0;32m-> 3361\u001b[0;31m                 \u001b[0;32mreturn\u001b[0m \u001b[0mself\u001b[0m\u001b[0;34m.\u001b[0m\u001b[0m_engine\u001b[0m\u001b[0;34m.\u001b[0m\u001b[0mget_loc\u001b[0m\u001b[0;34m(\u001b[0m\u001b[0mcasted_key\u001b[0m\u001b[0;34m)\u001b[0m\u001b[0;34m\u001b[0m\u001b[0;34m\u001b[0m\u001b[0m\n\u001b[0m\u001b[1;32m   3362\u001b[0m             \u001b[0;32mexcept\u001b[0m \u001b[0mKeyError\u001b[0m \u001b[0;32mas\u001b[0m \u001b[0merr\u001b[0m\u001b[0;34m:\u001b[0m\u001b[0;34m\u001b[0m\u001b[0;34m\u001b[0m\u001b[0m\n",
      "\u001b[0;32m/workspace/UA/kmredilla/wrf_utils/envs/default/lib/python3.7/site-packages/pandas/_libs/index.pyx\u001b[0m in \u001b[0;36mpandas._libs.index.DatetimeEngine.get_loc\u001b[0;34m()\u001b[0m\n",
      "\u001b[0;32m/workspace/UA/kmredilla/wrf_utils/envs/default/lib/python3.7/site-packages/pandas/_libs/index.pyx\u001b[0m in \u001b[0;36mpandas._libs.index.DatetimeEngine.get_loc\u001b[0;34m()\u001b[0m\n",
      "\u001b[0;31mKeyError\u001b[0m: Timestamp('2100-12-31 23:00:00')",
      "\nThe above exception was the direct cause of the following exception:\n",
      "\u001b[0;31mKeyError\u001b[0m                                  Traceback (most recent call last)",
      "\u001b[0;32m/workspace/UA/kmredilla/wrf_utils/envs/default/lib/python3.7/site-packages/pandas/core/indexes/datetimes.py\u001b[0m in \u001b[0;36mget_loc\u001b[0;34m(self, key, method, tolerance)\u001b[0m\n\u001b[1;32m    702\u001b[0m         \u001b[0;32mtry\u001b[0m\u001b[0;34m:\u001b[0m\u001b[0;34m\u001b[0m\u001b[0;34m\u001b[0m\u001b[0m\n\u001b[0;32m--> 703\u001b[0;31m             \u001b[0;32mreturn\u001b[0m \u001b[0mIndex\u001b[0m\u001b[0;34m.\u001b[0m\u001b[0mget_loc\u001b[0m\u001b[0;34m(\u001b[0m\u001b[0mself\u001b[0m\u001b[0;34m,\u001b[0m \u001b[0mkey\u001b[0m\u001b[0;34m,\u001b[0m \u001b[0mmethod\u001b[0m\u001b[0;34m,\u001b[0m \u001b[0mtolerance\u001b[0m\u001b[0;34m)\u001b[0m\u001b[0;34m\u001b[0m\u001b[0;34m\u001b[0m\u001b[0m\n\u001b[0m\u001b[1;32m    704\u001b[0m         \u001b[0;32mexcept\u001b[0m \u001b[0mKeyError\u001b[0m \u001b[0;32mas\u001b[0m \u001b[0merr\u001b[0m\u001b[0;34m:\u001b[0m\u001b[0;34m\u001b[0m\u001b[0;34m\u001b[0m\u001b[0m\n",
      "\u001b[0;32m/workspace/UA/kmredilla/wrf_utils/envs/default/lib/python3.7/site-packages/pandas/core/indexes/base.py\u001b[0m in \u001b[0;36mget_loc\u001b[0;34m(self, key, method, tolerance)\u001b[0m\n\u001b[1;32m   3362\u001b[0m             \u001b[0;32mexcept\u001b[0m \u001b[0mKeyError\u001b[0m \u001b[0;32mas\u001b[0m \u001b[0merr\u001b[0m\u001b[0;34m:\u001b[0m\u001b[0;34m\u001b[0m\u001b[0;34m\u001b[0m\u001b[0m\n\u001b[0;32m-> 3363\u001b[0;31m                 \u001b[0;32mraise\u001b[0m \u001b[0mKeyError\u001b[0m\u001b[0;34m(\u001b[0m\u001b[0mkey\u001b[0m\u001b[0;34m)\u001b[0m \u001b[0;32mfrom\u001b[0m \u001b[0merr\u001b[0m\u001b[0;34m\u001b[0m\u001b[0;34m\u001b[0m\u001b[0m\n\u001b[0m\u001b[1;32m   3364\u001b[0m \u001b[0;34m\u001b[0m\u001b[0m\n",
      "\u001b[0;31mKeyError\u001b[0m: Timestamp('2100-12-31 23:00:00')",
      "\nThe above exception was the direct cause of the following exception:\n",
      "\u001b[0;31mKeyError\u001b[0m                                  Traceback (most recent call last)",
      "\u001b[0;32m/tmp/ipykernel_8626/676955310.py\u001b[0m in \u001b[0;36m<module>\u001b[0;34m\u001b[0m\n\u001b[1;32m      7\u001b[0m     \u001b[0mnp\u001b[0m\u001b[0;34m.\u001b[0m\u001b[0mall\u001b[0m\u001b[0;34m(\u001b[0m\u001b[0mnew_ds\u001b[0m\u001b[0;34m.\u001b[0m\u001b[0mlh\u001b[0m\u001b[0;34m.\u001b[0m\u001b[0msel\u001b[0m\u001b[0;34m(\u001b[0m\u001b[0mtime\u001b[0m\u001b[0;34m=\u001b[0m\u001b[0;34m\"2100-02-05T05:00:00\"\u001b[0m\u001b[0;34m)\u001b[0m\u001b[0;34m.\u001b[0m\u001b[0mvalues\u001b[0m \u001b[0;34m==\u001b[0m \u001b[0mnp\u001b[0m\u001b[0;34m.\u001b[0m\u001b[0mflipud\u001b[0m\u001b[0;34m(\u001b[0m\u001b[0mds\u001b[0m\u001b[0;34m.\u001b[0m\u001b[0mLH\u001b[0m\u001b[0;34m.\u001b[0m\u001b[0msel\u001b[0m\u001b[0;34m(\u001b[0m\u001b[0mtime\u001b[0m\u001b[0;34m=\u001b[0m\u001b[0;34m\"2100-02-05T05:00:00\"\u001b[0m\u001b[0;34m)\u001b[0m\u001b[0;34m.\u001b[0m\u001b[0mvalues\u001b[0m\u001b[0;34m)\u001b[0m\u001b[0;34m)\u001b[0m\u001b[0;34m,\u001b[0m\u001b[0;34m\u001b[0m\u001b[0;34m\u001b[0m\u001b[0m\n\u001b[1;32m      8\u001b[0m     \u001b[0mnp\u001b[0m\u001b[0;34m.\u001b[0m\u001b[0mall\u001b[0m\u001b[0;34m(\u001b[0m\u001b[0mnew_ds\u001b[0m\u001b[0;34m.\u001b[0m\u001b[0mlh\u001b[0m\u001b[0;34m.\u001b[0m\u001b[0msel\u001b[0m\u001b[0;34m(\u001b[0m\u001b[0mtime\u001b[0m\u001b[0;34m=\u001b[0m\u001b[0;34m\"2100-05-23T13:00:00\"\u001b[0m\u001b[0;34m)\u001b[0m\u001b[0;34m.\u001b[0m\u001b[0mvalues\u001b[0m \u001b[0;34m==\u001b[0m \u001b[0mnp\u001b[0m\u001b[0;34m.\u001b[0m\u001b[0mflipud\u001b[0m\u001b[0;34m(\u001b[0m\u001b[0mds\u001b[0m\u001b[0;34m.\u001b[0m\u001b[0mLH\u001b[0m\u001b[0;34m.\u001b[0m\u001b[0msel\u001b[0m\u001b[0;34m(\u001b[0m\u001b[0mtime\u001b[0m\u001b[0;34m=\u001b[0m\u001b[0;34m\"2100-05-23T13:00:00\"\u001b[0m\u001b[0;34m)\u001b[0m\u001b[0;34m.\u001b[0m\u001b[0mvalues\u001b[0m\u001b[0;34m)\u001b[0m\u001b[0;34m)\u001b[0m\u001b[0;34m,\u001b[0m\u001b[0;34m\u001b[0m\u001b[0;34m\u001b[0m\u001b[0m\n\u001b[0;32m----> 9\u001b[0;31m     \u001b[0mnp\u001b[0m\u001b[0;34m.\u001b[0m\u001b[0mall\u001b[0m\u001b[0;34m(\u001b[0m\u001b[0mnew_ds\u001b[0m\u001b[0;34m.\u001b[0m\u001b[0mlh\u001b[0m\u001b[0;34m.\u001b[0m\u001b[0msel\u001b[0m\u001b[0;34m(\u001b[0m\u001b[0mtime\u001b[0m\u001b[0;34m=\u001b[0m\u001b[0;34m\"2100-12-31T23:00:00\"\u001b[0m\u001b[0;34m)\u001b[0m\u001b[0;34m.\u001b[0m\u001b[0mvalues\u001b[0m \u001b[0;34m==\u001b[0m \u001b[0mnp\u001b[0m\u001b[0;34m.\u001b[0m\u001b[0mflipud\u001b[0m\u001b[0;34m(\u001b[0m\u001b[0mds\u001b[0m\u001b[0;34m.\u001b[0m\u001b[0mLH\u001b[0m\u001b[0;34m.\u001b[0m\u001b[0msel\u001b[0m\u001b[0;34m(\u001b[0m\u001b[0mtime\u001b[0m\u001b[0;34m=\u001b[0m\u001b[0;34m\"2100-12-31T23:00:00\"\u001b[0m\u001b[0;34m)\u001b[0m\u001b[0;34m.\u001b[0m\u001b[0mvalues\u001b[0m\u001b[0;34m)\u001b[0m\u001b[0;34m)\u001b[0m\u001b[0;34m\u001b[0m\u001b[0;34m\u001b[0m\u001b[0m\n\u001b[0m\u001b[1;32m     10\u001b[0m ]\n",
      "\u001b[0;32m/workspace/UA/kmredilla/wrf_utils/envs/default/lib/python3.7/site-packages/xarray/core/dataarray.py\u001b[0m in \u001b[0;36msel\u001b[0;34m(self, indexers, method, tolerance, drop, **indexers_kwargs)\u001b[0m\n\u001b[1;32m   1318\u001b[0m             \u001b[0mmethod\u001b[0m\u001b[0;34m=\u001b[0m\u001b[0mmethod\u001b[0m\u001b[0;34m,\u001b[0m\u001b[0;34m\u001b[0m\u001b[0;34m\u001b[0m\u001b[0m\n\u001b[1;32m   1319\u001b[0m             \u001b[0mtolerance\u001b[0m\u001b[0;34m=\u001b[0m\u001b[0mtolerance\u001b[0m\u001b[0;34m,\u001b[0m\u001b[0;34m\u001b[0m\u001b[0;34m\u001b[0m\u001b[0m\n\u001b[0;32m-> 1320\u001b[0;31m             \u001b[0;34m**\u001b[0m\u001b[0mindexers_kwargs\u001b[0m\u001b[0;34m,\u001b[0m\u001b[0;34m\u001b[0m\u001b[0;34m\u001b[0m\u001b[0m\n\u001b[0m\u001b[1;32m   1321\u001b[0m         )\n\u001b[1;32m   1322\u001b[0m         \u001b[0;32mreturn\u001b[0m \u001b[0mself\u001b[0m\u001b[0;34m.\u001b[0m\u001b[0m_from_temp_dataset\u001b[0m\u001b[0;34m(\u001b[0m\u001b[0mds\u001b[0m\u001b[0;34m)\u001b[0m\u001b[0;34m\u001b[0m\u001b[0;34m\u001b[0m\u001b[0m\n",
      "\u001b[0;32m/workspace/UA/kmredilla/wrf_utils/envs/default/lib/python3.7/site-packages/xarray/core/dataset.py\u001b[0m in \u001b[0;36msel\u001b[0;34m(self, indexers, method, tolerance, drop, **indexers_kwargs)\u001b[0m\n\u001b[1;32m   2473\u001b[0m         \u001b[0mindexers\u001b[0m \u001b[0;34m=\u001b[0m \u001b[0meither_dict_or_kwargs\u001b[0m\u001b[0;34m(\u001b[0m\u001b[0mindexers\u001b[0m\u001b[0;34m,\u001b[0m \u001b[0mindexers_kwargs\u001b[0m\u001b[0;34m,\u001b[0m \u001b[0;34m\"sel\"\u001b[0m\u001b[0;34m)\u001b[0m\u001b[0;34m\u001b[0m\u001b[0;34m\u001b[0m\u001b[0m\n\u001b[1;32m   2474\u001b[0m         pos_indexers, new_indexes = remap_label_indexers(\n\u001b[0;32m-> 2475\u001b[0;31m             \u001b[0mself\u001b[0m\u001b[0;34m,\u001b[0m \u001b[0mindexers\u001b[0m\u001b[0;34m=\u001b[0m\u001b[0mindexers\u001b[0m\u001b[0;34m,\u001b[0m \u001b[0mmethod\u001b[0m\u001b[0;34m=\u001b[0m\u001b[0mmethod\u001b[0m\u001b[0;34m,\u001b[0m \u001b[0mtolerance\u001b[0m\u001b[0;34m=\u001b[0m\u001b[0mtolerance\u001b[0m\u001b[0;34m\u001b[0m\u001b[0;34m\u001b[0m\u001b[0m\n\u001b[0m\u001b[1;32m   2476\u001b[0m         )\n\u001b[1;32m   2477\u001b[0m         \u001b[0mresult\u001b[0m \u001b[0;34m=\u001b[0m \u001b[0mself\u001b[0m\u001b[0;34m.\u001b[0m\u001b[0misel\u001b[0m\u001b[0;34m(\u001b[0m\u001b[0mindexers\u001b[0m\u001b[0;34m=\u001b[0m\u001b[0mpos_indexers\u001b[0m\u001b[0;34m,\u001b[0m \u001b[0mdrop\u001b[0m\u001b[0;34m=\u001b[0m\u001b[0mdrop\u001b[0m\u001b[0;34m)\u001b[0m\u001b[0;34m\u001b[0m\u001b[0;34m\u001b[0m\u001b[0m\n",
      "\u001b[0;32m/workspace/UA/kmredilla/wrf_utils/envs/default/lib/python3.7/site-packages/xarray/core/coordinates.py\u001b[0m in \u001b[0;36mremap_label_indexers\u001b[0;34m(obj, indexers, method, tolerance, **indexers_kwargs)\u001b[0m\n\u001b[1;32m    420\u001b[0m \u001b[0;34m\u001b[0m\u001b[0m\n\u001b[1;32m    421\u001b[0m     pos_indexers, new_indexes = indexing.remap_label_indexers(\n\u001b[0;32m--> 422\u001b[0;31m         \u001b[0mobj\u001b[0m\u001b[0;34m,\u001b[0m \u001b[0mv_indexers\u001b[0m\u001b[0;34m,\u001b[0m \u001b[0mmethod\u001b[0m\u001b[0;34m=\u001b[0m\u001b[0mmethod\u001b[0m\u001b[0;34m,\u001b[0m \u001b[0mtolerance\u001b[0m\u001b[0;34m=\u001b[0m\u001b[0mtolerance\u001b[0m\u001b[0;34m\u001b[0m\u001b[0;34m\u001b[0m\u001b[0m\n\u001b[0m\u001b[1;32m    423\u001b[0m     )\n\u001b[1;32m    424\u001b[0m     \u001b[0;31m# attach indexer's coordinate to pos_indexers\u001b[0m\u001b[0;34m\u001b[0m\u001b[0;34m\u001b[0m\u001b[0;34m\u001b[0m\u001b[0m\n",
      "\u001b[0;32m/workspace/UA/kmredilla/wrf_utils/envs/default/lib/python3.7/site-packages/xarray/core/indexing.py\u001b[0m in \u001b[0;36mremap_label_indexers\u001b[0;34m(data_obj, indexers, method, tolerance)\u001b[0m\n\u001b[1;32m    115\u001b[0m     \u001b[0;32mfor\u001b[0m \u001b[0mdim\u001b[0m\u001b[0;34m,\u001b[0m \u001b[0mindex\u001b[0m \u001b[0;32min\u001b[0m \u001b[0mindexes\u001b[0m\u001b[0;34m.\u001b[0m\u001b[0mitems\u001b[0m\u001b[0;34m(\u001b[0m\u001b[0;34m)\u001b[0m\u001b[0;34m:\u001b[0m\u001b[0;34m\u001b[0m\u001b[0;34m\u001b[0m\u001b[0m\n\u001b[1;32m    116\u001b[0m         \u001b[0mlabels\u001b[0m \u001b[0;34m=\u001b[0m \u001b[0mgrouped_indexers\u001b[0m\u001b[0;34m[\u001b[0m\u001b[0mdim\u001b[0m\u001b[0;34m]\u001b[0m\u001b[0;34m\u001b[0m\u001b[0;34m\u001b[0m\u001b[0m\n\u001b[0;32m--> 117\u001b[0;31m         \u001b[0midxr\u001b[0m\u001b[0;34m,\u001b[0m \u001b[0mnew_idx\u001b[0m \u001b[0;34m=\u001b[0m \u001b[0mindex\u001b[0m\u001b[0;34m.\u001b[0m\u001b[0mquery\u001b[0m\u001b[0;34m(\u001b[0m\u001b[0mlabels\u001b[0m\u001b[0;34m,\u001b[0m \u001b[0mmethod\u001b[0m\u001b[0;34m=\u001b[0m\u001b[0mmethod\u001b[0m\u001b[0;34m,\u001b[0m \u001b[0mtolerance\u001b[0m\u001b[0;34m=\u001b[0m\u001b[0mtolerance\u001b[0m\u001b[0;34m)\u001b[0m\u001b[0;34m\u001b[0m\u001b[0;34m\u001b[0m\u001b[0m\n\u001b[0m\u001b[1;32m    118\u001b[0m         \u001b[0mpos_indexers\u001b[0m\u001b[0;34m[\u001b[0m\u001b[0mdim\u001b[0m\u001b[0;34m]\u001b[0m \u001b[0;34m=\u001b[0m \u001b[0midxr\u001b[0m\u001b[0;34m\u001b[0m\u001b[0;34m\u001b[0m\u001b[0m\n\u001b[1;32m    119\u001b[0m         \u001b[0;32mif\u001b[0m \u001b[0mnew_idx\u001b[0m \u001b[0;32mis\u001b[0m \u001b[0;32mnot\u001b[0m \u001b[0;32mNone\u001b[0m\u001b[0;34m:\u001b[0m\u001b[0;34m\u001b[0m\u001b[0;34m\u001b[0m\u001b[0m\n",
      "\u001b[0;32m/workspace/UA/kmredilla/wrf_utils/envs/default/lib/python3.7/site-packages/xarray/core/indexes.py\u001b[0m in \u001b[0;36mquery\u001b[0;34m(self, labels, method, tolerance)\u001b[0m\n\u001b[1;32m    223\u001b[0m                 \u001b[0;32melse\u001b[0m\u001b[0;34m:\u001b[0m\u001b[0;34m\u001b[0m\u001b[0;34m\u001b[0m\u001b[0m\n\u001b[1;32m    224\u001b[0m                     indexer = index.get_loc(\n\u001b[0;32m--> 225\u001b[0;31m                         \u001b[0mlabel_value\u001b[0m\u001b[0;34m,\u001b[0m \u001b[0mmethod\u001b[0m\u001b[0;34m=\u001b[0m\u001b[0mmethod\u001b[0m\u001b[0;34m,\u001b[0m \u001b[0mtolerance\u001b[0m\u001b[0;34m=\u001b[0m\u001b[0mtolerance\u001b[0m\u001b[0;34m\u001b[0m\u001b[0;34m\u001b[0m\u001b[0m\n\u001b[0m\u001b[1;32m    226\u001b[0m                     )\n\u001b[1;32m    227\u001b[0m             \u001b[0;32melif\u001b[0m \u001b[0mlabel\u001b[0m\u001b[0;34m.\u001b[0m\u001b[0mdtype\u001b[0m\u001b[0;34m.\u001b[0m\u001b[0mkind\u001b[0m \u001b[0;34m==\u001b[0m \u001b[0;34m\"b\"\u001b[0m\u001b[0;34m:\u001b[0m\u001b[0;34m\u001b[0m\u001b[0;34m\u001b[0m\u001b[0m\n",
      "\u001b[0;32m/workspace/UA/kmredilla/wrf_utils/envs/default/lib/python3.7/site-packages/pandas/core/indexes/datetimes.py\u001b[0m in \u001b[0;36mget_loc\u001b[0;34m(self, key, method, tolerance)\u001b[0m\n\u001b[1;32m    703\u001b[0m             \u001b[0;32mreturn\u001b[0m \u001b[0mIndex\u001b[0m\u001b[0;34m.\u001b[0m\u001b[0mget_loc\u001b[0m\u001b[0;34m(\u001b[0m\u001b[0mself\u001b[0m\u001b[0;34m,\u001b[0m \u001b[0mkey\u001b[0m\u001b[0;34m,\u001b[0m \u001b[0mmethod\u001b[0m\u001b[0;34m,\u001b[0m \u001b[0mtolerance\u001b[0m\u001b[0;34m)\u001b[0m\u001b[0;34m\u001b[0m\u001b[0;34m\u001b[0m\u001b[0m\n\u001b[1;32m    704\u001b[0m         \u001b[0;32mexcept\u001b[0m \u001b[0mKeyError\u001b[0m \u001b[0;32mas\u001b[0m \u001b[0merr\u001b[0m\u001b[0;34m:\u001b[0m\u001b[0;34m\u001b[0m\u001b[0;34m\u001b[0m\u001b[0m\n\u001b[0;32m--> 705\u001b[0;31m             \u001b[0;32mraise\u001b[0m \u001b[0mKeyError\u001b[0m\u001b[0;34m(\u001b[0m\u001b[0morig_key\u001b[0m\u001b[0;34m)\u001b[0m \u001b[0;32mfrom\u001b[0m \u001b[0merr\u001b[0m\u001b[0;34m\u001b[0m\u001b[0;34m\u001b[0m\u001b[0m\n\u001b[0m\u001b[1;32m    706\u001b[0m \u001b[0;34m\u001b[0m\u001b[0m\n\u001b[1;32m    707\u001b[0m     \u001b[0;32mdef\u001b[0m \u001b[0m_maybe_cast_for_get_loc\u001b[0m\u001b[0;34m(\u001b[0m\u001b[0mself\u001b[0m\u001b[0;34m,\u001b[0m \u001b[0mkey\u001b[0m\u001b[0;34m)\u001b[0m \u001b[0;34m->\u001b[0m \u001b[0mTimestamp\u001b[0m\u001b[0;34m:\u001b[0m\u001b[0;34m\u001b[0m\u001b[0;34m\u001b[0m\u001b[0m\n",
      "\u001b[0;31mKeyError\u001b[0m: '2100-12-31T23:00:00'"
     ]
    }
   ],
   "source": [
    "import numpy as np\n",
    "\n",
    "results = [\n",
    "    np.all(new_ds.lat.values == np.flipud(ds.lat.values)),\n",
    "    np.all(new_ds.lon.values == np.flipud(ds.lon.values)),\n",
    "    np.all(new_ds.lh.sel(time=\"2100-01-01T00:00:00\").values == np.flipud(ds.LH.sel(time=\"2100-01-01T00:00:00\").values)),\n",
    "    np.all(new_ds.lh.sel(time=\"2100-02-05T05:00:00\").values == np.flipud(ds.LH.sel(time=\"2100-02-05T05:00:00\").values)),\n",
    "    np.all(new_ds.lh.sel(time=\"2100-05-23T13:00:00\").values == np.flipud(ds.LH.sel(time=\"2100-05-23T13:00:00\").values)),\n",
    "    np.all(new_ds.lh.sel(time=\"2100-12-31T23:00:00\").values == np.flipud(ds.LH.sel(time=\"2100-12-31T23:00:00\").values))\n",
    "]"
   ]
  },
  {
   "cell_type": "code",
   "execution_count": 88,
   "id": "7ded5223-ad15-49c5-84ff-93b5b13ea2e8",
   "metadata": {
    "collapsed": true,
    "jupyter": {
     "outputs_hidden": true
    },
    "tags": []
   },
   "outputs": [
    {
     "name": "stdout",
     "output_type": "stream",
     "text": [
      "total 4288879616\n",
      "-rw-rw----. 1 snap-smb dyndown 14706661790 Apr 19  2019 t_hourly_wrf_ERA-Interim_historical_1979.nc\n",
      "-rw-rw----. 1 snap-smb dyndown 14781621143 Apr 19  2019 t_hourly_wrf_ERA-Interim_historical_1980.nc\n",
      "-rw-rw----. 1 snap-smb dyndown 14754278254 Apr 19  2019 t_hourly_wrf_ERA-Interim_historical_1981.nc\n",
      "-rw-rw----. 1 snap-smb dyndown 14771904823 Apr 19  2019 t_hourly_wrf_ERA-Interim_historical_1982.nc\n",
      "-rw-rw----. 1 snap-smb dyndown 14709071962 Apr 19  2019 t_hourly_wrf_ERA-Interim_historical_1983.nc\n",
      "-rw-rw----. 1 snap-smb dyndown 14775950387 Apr 19  2019 t_hourly_wrf_ERA-Interim_historical_1984.nc\n",
      "-rw-rw----. 1 snap-smb dyndown 14725806678 Apr 19  2019 t_hourly_wrf_ERA-Interim_historical_1985.nc\n",
      "-rw-rw----. 1 snap-smb dyndown 14760948072 Apr 19  2019 t_hourly_wrf_ERA-Interim_historical_1986.nc\n",
      "-rw-rw----. 1 snap-smb dyndown 14735570323 Apr 19  2019 t_hourly_wrf_ERA-Interim_historical_1987.nc\n",
      "-rw-rw----. 1 snap-smb dyndown 14819037946 Apr 19  2019 t_hourly_wrf_ERA-Interim_historical_1988.nc\n",
      "-rw-rw----. 1 snap-smb dyndown 14783173490 Apr 19  2019 t_hourly_wrf_ERA-Interim_historical_1989.nc\n",
      "-rw-rw----. 1 snap-smb dyndown 14781890836 Apr 19  2019 t_hourly_wrf_ERA-Interim_historical_1990.nc\n",
      "-rw-rw----. 1 snap-smb dyndown 14766453354 Apr 19  2019 t_hourly_wrf_ERA-Interim_historical_1991.nc\n",
      "-rw-rw----. 1 snap-smb dyndown 14787251637 Apr 19  2019 t_hourly_wrf_ERA-Interim_historical_1992.nc\n",
      "-rw-rw----. 1 snap-smb dyndown 14769272912 Apr 19  2019 t_hourly_wrf_ERA-Interim_historical_1993.nc\n",
      "-rw-rw----. 1 snap-smb dyndown 14777730442 Apr 19  2019 t_hourly_wrf_ERA-Interim_historical_1994.nc\n",
      "-rw-rw----. 1 snap-smb dyndown 14732181571 Apr 19  2019 t_hourly_wrf_ERA-Interim_historical_1995.nc\n",
      "-rw-rw----. 1 snap-smb dyndown 14822948013 Apr 19  2019 t_hourly_wrf_NCAR-CCSM4_historical_1985.nc\n",
      "-rw-rw----. 1 snap-smb dyndown 14839688506 Apr 19  2019 t_hourly_wrf_NCAR-CCSM4_historical_1986.nc\n",
      "-rw-rw----. 1 snap-smb dyndown 14814012471 Apr 19  2019 t_hourly_wrf_NCAR-CCSM4_historical_1987.nc\n",
      "-rw-rw----. 1 snap-smb dyndown 14816457398 Apr 19  2019 t_hourly_wrf_NCAR-CCSM4_historical_1988.nc\n",
      "-rw-rw----. 1 snap-smb dyndown 14810725308 Apr 19  2019 t_hourly_wrf_NCAR-CCSM4_historical_1989.nc\n",
      "-rw-rw----. 1 snap-smb dyndown 14851099087 Apr 19  2019 t_hourly_wrf_NCAR-CCSM4_historical_1990.nc\n",
      "-rw-rw----. 1 snap-smb dyndown 14835303427 Apr 19  2019 t_hourly_wrf_NCAR-CCSM4_historical_1991.nc\n",
      "-rw-rw----. 1 snap-smb dyndown 14848730978 Apr 19  2019 t_hourly_wrf_NCAR-CCSM4_historical_1992.nc\n",
      "-rw-rw----. 1 snap-smb dyndown 14828755536 Apr 19  2019 t_hourly_wrf_NCAR-CCSM4_historical_1993.nc\n",
      "-rw-rw----. 1 snap-smb dyndown 14839186101 Apr 19  2019 t_hourly_wrf_NCAR-CCSM4_historical_1994.nc\n",
      "-rw-rw----. 1 snap-smb dyndown 14869815747 Apr 19  2019 t_hourly_wrf_NCAR-CCSM4_historical_1995.nc\n",
      "-rw-rw----. 1 snap-smb dyndown 14822569575 Apr 19  2019 t_hourly_wrf_NCAR-CCSM4_historical_1996.nc\n",
      "-rw-rw----. 1 snap-smb dyndown 14983108681 Apr 19  2019 t_hourly_wrf_NCAR-CCSM4_historical_1997.nc\n",
      "-rw-rw----. 1 snap-smb dyndown 14844113229 Apr 19  2019 t_hourly_wrf_NCAR-CCSM4_historical_1998.nc\n",
      "-rw-rw----. 1 snap-smb dyndown 14873587519 Apr 19  2019 t_hourly_wrf_NCAR-CCSM4_historical_1999.nc\n",
      "-rw-rw----. 1 snap-smb dyndown 14841172934 Apr 19  2019 t_hourly_wrf_NCAR-CCSM4_historical_2000.nc\n",
      "-rw-rw----. 1 snap-smb dyndown 14824853804 Apr 19  2019 t_hourly_wrf_NCAR-CCSM4_historical_2001.nc\n",
      "-rw-rw----. 1 snap-smb dyndown 14838924251 Apr 19  2019 t_hourly_wrf_NCAR-CCSM4_historical_2002.nc\n",
      "-rw-rw----. 1 snap-smb dyndown 14824487311 Apr 19  2019 t_hourly_wrf_NCAR-CCSM4_historical_2003.nc\n",
      "-rw-rw----. 1 snap-smb dyndown 14856708195 Apr 19  2019 t_hourly_wrf_NCAR-CCSM4_historical_2004.nc\n",
      "-rw-rw----. 1 snap-smb dyndown 14796311718 Apr 19  2019 t_hourly_wrf_NCAR-CCSM4_historical_2005.nc\n",
      "-rw-rw----. 1 snap-smb dyndown 14845029037 Apr 19  2019 t_hourly_wrf_NCAR-CCSM4_rcp85_2006.nc\n",
      "-rw-rw----. 1 snap-smb dyndown 14826619872 Apr 19  2019 t_hourly_wrf_NCAR-CCSM4_rcp85_2007.nc\n",
      "-rw-rw----. 1 snap-smb dyndown 14819073448 Apr 19  2019 t_hourly_wrf_NCAR-CCSM4_rcp85_2008.nc\n",
      "-rw-rw----. 1 snap-smb dyndown 14864747683 Apr 19  2019 t_hourly_wrf_NCAR-CCSM4_rcp85_2009.nc\n",
      "-rw-rw----. 1 snap-smb dyndown 14864162393 Apr 19  2019 t_hourly_wrf_NCAR-CCSM4_rcp85_2010.nc\n",
      "-rw-rw----. 1 snap-smb dyndown 14802900241 Apr 19  2019 t_hourly_wrf_NCAR-CCSM4_rcp85_2011.nc\n",
      "-rw-rw----. 1 snap-smb dyndown 14861665364 Apr 19  2019 t_hourly_wrf_NCAR-CCSM4_rcp85_2012.nc\n",
      "-rw-rw----. 1 snap-smb dyndown 14814208692 Apr 19  2019 t_hourly_wrf_NCAR-CCSM4_rcp85_2013.nc\n",
      "-rw-rw----. 1 snap-smb dyndown 14836913860 Apr 19  2019 t_hourly_wrf_NCAR-CCSM4_rcp85_2014.nc\n",
      "-rw-rw----. 1 snap-smb dyndown 14818574244 Apr 19  2019 t_hourly_wrf_NCAR-CCSM4_rcp85_2015.nc\n",
      "-rw-rw----. 1 snap-smb dyndown 14826333919 Apr 19  2019 t_hourly_wrf_NCAR-CCSM4_rcp85_2016.nc\n",
      "-rw-rw----. 1 snap-smb dyndown 14813263919 Apr 19  2019 t_hourly_wrf_NCAR-CCSM4_rcp85_2017.nc\n",
      "-rw-rw----. 1 snap-smb dyndown 14829954937 Apr 19  2019 t_hourly_wrf_NCAR-CCSM4_rcp85_2018.nc\n",
      "-rw-rw----. 1 snap-smb dyndown 14846830529 Apr 19  2019 t_hourly_wrf_NCAR-CCSM4_rcp85_2019.nc\n",
      "-rw-rw----. 1 snap-smb dyndown 14821441110 Apr 19  2019 t_hourly_wrf_NCAR-CCSM4_rcp85_2020.nc\n",
      "-rw-rw----. 1 snap-smb dyndown 14849170750 Apr 19  2019 t_hourly_wrf_NCAR-CCSM4_rcp85_2021.nc\n",
      "-rw-rw----. 1 snap-smb dyndown 14833730118 Apr 19  2019 t_hourly_wrf_NCAR-CCSM4_rcp85_2022.nc\n",
      "-rw-rw----. 1 snap-smb dyndown 14847957381 Apr 19  2019 t_hourly_wrf_NCAR-CCSM4_rcp85_2023.nc\n",
      "-rw-rw----. 1 snap-smb dyndown 14816175127 Apr 19  2019 t_hourly_wrf_NCAR-CCSM4_rcp85_2024.nc\n",
      "-rw-rw----. 1 snap-smb dyndown 14813547599 Apr 19  2019 t_hourly_wrf_NCAR-CCSM4_rcp85_2025.nc\n",
      "-rw-rw----. 1 snap-smb dyndown 14839279203 Apr 19  2019 t_hourly_wrf_NCAR-CCSM4_rcp85_2026.nc\n",
      "-rw-rw----. 1 snap-smb dyndown 14835433238 Apr 19  2019 t_hourly_wrf_NCAR-CCSM4_rcp85_2027.nc\n",
      "-rw-rw----. 1 snap-smb dyndown 14831706336 Apr 19  2019 t_hourly_wrf_NCAR-CCSM4_rcp85_2028.nc\n",
      "-rw-rw----. 1 snap-smb dyndown 14844954578 Apr 19  2019 t_hourly_wrf_NCAR-CCSM4_rcp85_2029.nc\n",
      "-rw-rw----. 1 snap-smb dyndown 14826438265 Apr 19  2019 t_hourly_wrf_NCAR-CCSM4_rcp85_2030.nc\n",
      "-rw-rw----. 1 snap-smb dyndown 14861627506 Apr 19  2019 t_hourly_wrf_NCAR-CCSM4_rcp85_2031.nc\n",
      "-rw-rw----. 1 snap-smb dyndown 14821871496 Apr 19  2019 t_hourly_wrf_NCAR-CCSM4_rcp85_2032.nc\n",
      "-rw-rw----. 1 snap-smb dyndown 14817764125 Apr 19  2019 t_hourly_wrf_NCAR-CCSM4_rcp85_2033.nc\n",
      "-rw-rw----. 1 snap-smb dyndown 14834254572 Apr 19  2019 t_hourly_wrf_NCAR-CCSM4_rcp85_2034.nc\n",
      "-rw-rw----. 1 snap-smb dyndown 14823115689 Apr 19  2019 t_hourly_wrf_NCAR-CCSM4_rcp85_2035.nc\n",
      "-rw-rw----. 1 snap-smb dyndown 14848684057 Apr 19  2019 t_hourly_wrf_NCAR-CCSM4_rcp85_2036.nc\n",
      "-rw-rw----. 1 snap-smb dyndown 14821370647 Apr 19  2019 t_hourly_wrf_NCAR-CCSM4_rcp85_2037.nc\n",
      "-rw-rw----. 1 snap-smb dyndown 14863795960 Apr 19  2019 t_hourly_wrf_NCAR-CCSM4_rcp85_2038.nc\n",
      "-rw-rw----. 1 snap-smb dyndown 14843997186 Apr 19  2019 t_hourly_wrf_NCAR-CCSM4_rcp85_2039.nc\n",
      "-rw-rw----. 1 snap-smb dyndown 14828341489 Apr 19  2019 t_hourly_wrf_NCAR-CCSM4_rcp85_2040.nc\n",
      "-rw-rw----. 1 snap-smb dyndown 14848983458 Apr 19  2019 t_hourly_wrf_NCAR-CCSM4_rcp85_2041.nc\n",
      "-rw-rw----. 1 snap-smb dyndown 14848311008 Apr 19  2019 t_hourly_wrf_NCAR-CCSM4_rcp85_2042.nc\n",
      "-rw-rw----. 1 snap-smb dyndown 14849974748 Apr 19  2019 t_hourly_wrf_NCAR-CCSM4_rcp85_2043.nc\n",
      "-rw-rw----. 1 snap-smb dyndown 14798148863 Apr 19  2019 t_hourly_wrf_NCAR-CCSM4_rcp85_2044.nc\n",
      "-rw-rw----. 1 snap-smb dyndown 14840503707 Apr 19  2019 t_hourly_wrf_NCAR-CCSM4_rcp85_2057.nc\n",
      "-rw-rw----. 1 snap-smb dyndown 14827967792 Apr 19  2019 t_hourly_wrf_NCAR-CCSM4_rcp85_2058.nc\n",
      "-rw-rw----. 1 snap-smb dyndown 14859270129 Apr 19  2019 t_hourly_wrf_NCAR-CCSM4_rcp85_2059.nc\n",
      "-rw-rw----. 1 snap-smb dyndown 14868087462 Apr 19  2019 t_hourly_wrf_NCAR-CCSM4_rcp85_2060.nc\n",
      "-rw-rw----. 1 snap-smb dyndown 14842698349 Apr 19  2019 t_hourly_wrf_NCAR-CCSM4_rcp85_2061.nc\n",
      "-rw-rw----. 1 snap-smb dyndown 14827308429 Apr 19  2019 t_hourly_wrf_NCAR-CCSM4_rcp85_2062.nc\n",
      "-rw-rw----. 1 snap-smb dyndown 14835369517 Apr 19  2019 t_hourly_wrf_NCAR-CCSM4_rcp85_2063.nc\n",
      "-rw-rw----. 1 snap-smb dyndown 14886436287 Apr 19  2019 t_hourly_wrf_NCAR-CCSM4_rcp85_2064.nc\n",
      "-rw-rw----. 1 snap-smb dyndown 14844183165 Apr 19  2019 t_hourly_wrf_NCAR-CCSM4_rcp85_2065.nc\n",
      "-rw-rw----. 1 snap-smb dyndown 14805875818 Apr 19  2019 t_hourly_wrf_NCAR-CCSM4_rcp85_2066.nc\n",
      "-rw-rw----. 1 snap-smb dyndown 14850697906 Apr 19  2019 t_hourly_wrf_NCAR-CCSM4_rcp85_2067.nc\n",
      "-rw-rw----. 1 snap-smb dyndown 14862229701 Apr 19  2019 t_hourly_wrf_NCAR-CCSM4_rcp85_2068.nc\n",
      "-rw-rw----. 1 snap-smb dyndown 14821730236 Apr 19  2019 t_hourly_wrf_NCAR-CCSM4_rcp85_2069.nc\n",
      "-rw-rw----. 1 snap-smb dyndown 14856455566 Apr 19  2019 t_hourly_wrf_NCAR-CCSM4_rcp85_2070.nc\n",
      "-rw-rw----. 1 snap-smb dyndown 14828948700 Apr 19  2019 t_hourly_wrf_NCAR-CCSM4_rcp85_2071.nc\n",
      "-rw-rw----. 1 snap-smb dyndown 14851843186 Apr 19  2019 t_hourly_wrf_NCAR-CCSM4_rcp85_2072.nc\n",
      "-rw-rw----. 1 snap-smb dyndown 14832791271 Apr 19  2019 t_hourly_wrf_NCAR-CCSM4_rcp85_2073.nc\n",
      "-rw-rw----. 1 snap-smb dyndown 14858474047 Apr 19  2019 t_hourly_wrf_NCAR-CCSM4_rcp85_2074.nc\n",
      "-rw-rw----. 1 snap-smb dyndown 14881127776 Apr 19  2019 t_hourly_wrf_NCAR-CCSM4_rcp85_2075.nc\n",
      "-rw-rw----. 1 snap-smb dyndown 14846238404 Apr 19  2019 t_hourly_wrf_NCAR-CCSM4_rcp85_2076.nc\n",
      "-rw-rw----. 1 snap-smb dyndown 14832397956 Apr 19  2019 t_hourly_wrf_NCAR-CCSM4_rcp85_2077.nc\n",
      "-rw-rw----. 1 snap-smb dyndown 14871145576 Apr 19  2019 t_hourly_wrf_NCAR-CCSM4_rcp85_2078.nc\n",
      "-rw-rw----. 1 snap-smb dyndown 14845901371 Apr 19  2019 t_hourly_wrf_NCAR-CCSM4_rcp85_2079.nc\n",
      "-rw-rw----. 1 snap-smb dyndown 14865927562 Apr 19  2019 t_hourly_wrf_NCAR-CCSM4_rcp85_2080.nc\n",
      "-rw-rw----. 1 snap-smb dyndown 14827104591 Apr 19  2019 t_hourly_wrf_NCAR-CCSM4_rcp85_2081.nc\n",
      "-rw-rw----. 1 snap-smb dyndown 14871537635 Apr 19  2019 t_hourly_wrf_NCAR-CCSM4_rcp85_2082.nc\n",
      "-rw-rw----. 1 snap-smb dyndown 14864826872 Apr 19  2019 t_hourly_wrf_NCAR-CCSM4_rcp85_2083.nc\n",
      "-rw-rw----. 1 snap-smb dyndown 14847847445 Apr 19  2019 t_hourly_wrf_NCAR-CCSM4_rcp85_2084.nc\n",
      "-rw-rw----. 1 snap-smb dyndown 14878262104 Apr 19  2019 t_hourly_wrf_NCAR-CCSM4_rcp85_2085.nc\n",
      "-rw-rw----. 1 snap-smb dyndown 14811427338 Apr 19  2019 t_hourly_wrf_NCAR-CCSM4_rcp85_2086.nc\n",
      "-rw-rw----. 1 snap-smb dyndown 14824748964 Apr 19  2019 t_hourly_wrf_NCAR-CCSM4_rcp85_2087.nc\n",
      "-rw-rw----. 1 snap-smb dyndown 14854814953 Apr 19  2019 t_hourly_wrf_NCAR-CCSM4_rcp85_2088.nc\n",
      "-rw-rw----. 1 snap-smb dyndown 14825180907 Apr 19  2019 t_hourly_wrf_NCAR-CCSM4_rcp85_2089.nc\n",
      "-rw-rw----. 1 snap-smb dyndown 14867573840 Apr 19  2019 t_hourly_wrf_NCAR-CCSM4_rcp85_2090.nc\n",
      "-rw-rw----. 1 snap-smb dyndown 14845909082 Apr 19  2019 t_hourly_wrf_NCAR-CCSM4_rcp85_2091.nc\n",
      "-rw-rw----. 1 snap-smb dyndown 14859345457 Apr 19  2019 t_hourly_wrf_NCAR-CCSM4_rcp85_2092.nc\n",
      "-rw-rw----. 1 snap-smb dyndown 14841348659 Apr 19  2019 t_hourly_wrf_NCAR-CCSM4_rcp85_2093.nc\n",
      "-rw-rw----. 1 snap-smb dyndown 14815862692 Apr 19  2019 t_hourly_wrf_NCAR-CCSM4_rcp85_2094.nc\n",
      "-rw-rw----. 1 snap-smb dyndown 14886822232 Apr 19  2019 t_hourly_wrf_NCAR-CCSM4_rcp85_2095.nc\n",
      "-rw-rw----. 1 snap-smb dyndown 14859200992 Apr 19  2019 t_hourly_wrf_NCAR-CCSM4_rcp85_2096.nc\n",
      "-rw-rw----. 1 snap-smb dyndown 14879745687 Apr 19  2019 t_hourly_wrf_NCAR-CCSM4_rcp85_2097.nc\n",
      "-rw-rw----. 1 snap-smb dyndown 14875504253 Apr 19  2019 t_hourly_wrf_NCAR-CCSM4_rcp85_2098.nc\n",
      "-rw-rw----. 1 snap-smb dyndown 14869983258 Apr 19  2019 t_hourly_wrf_NCAR-CCSM4_rcp85_2099.nc\n",
      "-rw-rw----. 1 snap-smb dyndown 14791617593 Apr 19  2019 t_hourly_wrf_NCAR-CCSM4_rcp85_2100.nc\n",
      "-rw-rw----. 1 snap-smb dyndown 14779284269 Apr 22  2019 t_hourly_wrf_ERA-Interim_historical_1996.nc\n",
      "-rw-rw----. 1 snap-smb dyndown 14757930066 Apr 22  2019 t_hourly_wrf_ERA-Interim_historical_1997.nc\n",
      "-rw-rw----. 1 snap-smb dyndown 14739338446 Apr 22  2019 t_hourly_wrf_ERA-Interim_historical_2005.nc\n",
      "-rw-rw----. 1 snap-smb dyndown 14777236218 Apr 22  2019 t_hourly_wrf_ERA-Interim_historical_2006.nc\n",
      "-rw-rw----. 1 snap-smb dyndown 14792594745 Apr 22  2019 t_hourly_wrf_ERA-Interim_historical_2007.nc\n",
      "-rw-rw----. 1 snap-smb dyndown 14825977780 Apr 22  2019 t_hourly_wrf_ERA-Interim_historical_2008.nc\n",
      "-rw-rw----. 1 snap-smb dyndown 14782612921 Apr 22  2019 t_hourly_wrf_ERA-Interim_historical_2009.nc\n",
      "-rw-rw----. 1 snap-smb dyndown 14761798201 Apr 22  2019 t_hourly_wrf_ERA-Interim_historical_2010.nc\n",
      "-rw-rw----. 1 snap-smb dyndown 14778956222 Apr 22  2019 t_hourly_wrf_ERA-Interim_historical_2011.nc\n",
      "-rw-rw----. 1 snap-smb dyndown 14818710924 Apr 22  2019 t_hourly_wrf_ERA-Interim_historical_2012.nc\n",
      "-rw-rw----. 1 snap-smb dyndown 14758656860 Apr 22  2019 t_hourly_wrf_ERA-Interim_historical_2013.nc\n",
      "-rw-rw----. 1 snap-smb dyndown 14787741927 Apr 22  2019 t_hourly_wrf_ERA-Interim_historical_2014.nc\n",
      "-rw-rw----. 1 snap-smb dyndown 12208164743 Apr 22  2019 t_hourly_wrf_ERA-Interim_historical_2015.nc\n",
      "-rw-rw----. 1 snap-smb dyndown 14563689330 Apr 22  2019 t_hourly_wrf_GFDL-CM3_historical_1970.nc\n",
      "-rw-rw----. 1 snap-smb dyndown 14574876248 Apr 22  2019 t_hourly_wrf_GFDL-CM3_historical_1971.nc\n",
      "-rw-rw----. 1 snap-smb dyndown 14642191694 Apr 22  2019 t_hourly_wrf_GFDL-CM3_historical_1972.nc\n",
      "-rw-rw----. 1 snap-smb dyndown 14603652900 Apr 22  2019 t_hourly_wrf_GFDL-CM3_historical_1973.nc\n",
      "-rw-rw----. 1 snap-smb dyndown 14603591502 Apr 22  2019 t_hourly_wrf_GFDL-CM3_historical_1974.nc\n",
      "-rw-rw----. 1 snap-smb dyndown 14604515622 Apr 22  2019 t_hourly_wrf_GFDL-CM3_historical_1975.nc\n",
      "-rw-rw----. 1 snap-smb dyndown 14598578580 Apr 22  2019 t_hourly_wrf_GFDL-CM3_historical_1976.nc\n",
      "-rw-rw----. 1 snap-smb dyndown 14547111372 Apr 22  2019 t_hourly_wrf_GFDL-CM3_historical_1977.nc\n",
      "-rw-rw----. 1 snap-smb dyndown 14634327431 Apr 22  2019 t_hourly_wrf_GFDL-CM3_historical_1978.nc\n",
      "-rw-rw----. 1 snap-smb dyndown 14612796775 Apr 22  2019 t_hourly_wrf_GFDL-CM3_historical_1979.nc\n",
      "-rw-rw----. 1 snap-smb dyndown 14595715366 Apr 22  2019 t_hourly_wrf_GFDL-CM3_historical_1980.nc\n",
      "-rw-rw----. 1 snap-smb dyndown 14623177955 Apr 22  2019 t_hourly_wrf_GFDL-CM3_historical_1981.nc\n",
      "-rw-rw----. 1 snap-smb dyndown 14612805416 Apr 22  2019 t_hourly_wrf_GFDL-CM3_historical_1982.nc\n",
      "-rw-rw----. 1 snap-smb dyndown 14597153272 Apr 22  2019 t_hourly_wrf_GFDL-CM3_historical_1983.nc\n",
      "-rw-rw----. 1 snap-smb dyndown 14618683142 Apr 22  2019 t_hourly_wrf_GFDL-CM3_historical_1984.nc\n",
      "-rw-rw----. 1 snap-smb dyndown 14585304537 Apr 22  2019 t_hourly_wrf_GFDL-CM3_historical_1985.nc\n",
      "-rw-rw----. 1 snap-smb dyndown 14610501962 Apr 22  2019 t_hourly_wrf_GFDL-CM3_historical_1986.nc\n",
      "-rw-rw----. 1 snap-smb dyndown 14636773030 Apr 22  2019 t_hourly_wrf_GFDL-CM3_historical_1987.nc\n",
      "-rw-rw----. 1 snap-smb dyndown 14600498137 Apr 22  2019 t_hourly_wrf_GFDL-CM3_historical_1988.nc\n",
      "-rw-rw----. 1 snap-smb dyndown 14585392385 Apr 22  2019 t_hourly_wrf_GFDL-CM3_historical_1989.nc\n",
      "-rw-rw----. 1 snap-smb dyndown 14576000914 Apr 22  2019 t_hourly_wrf_GFDL-CM3_historical_1990.nc\n",
      "-rw-rw----. 1 snap-smb dyndown 14636816253 Apr 22  2019 t_hourly_wrf_GFDL-CM3_historical_1991.nc\n",
      "-rw-rw----. 1 snap-smb dyndown 14601097220 Apr 22  2019 t_hourly_wrf_GFDL-CM3_historical_1992.nc\n",
      "-rw-rw----. 1 snap-smb dyndown 14576044755 Apr 22  2019 t_hourly_wrf_GFDL-CM3_historical_1993.nc\n",
      "-rw-rw----. 1 snap-smb dyndown 14595577426 Apr 22  2019 t_hourly_wrf_GFDL-CM3_historical_1994.nc\n",
      "-rw-rw----. 1 snap-smb dyndown 14622661733 Apr 22  2019 t_hourly_wrf_GFDL-CM3_historical_1995.nc\n",
      "-rw-rw----. 1 snap-smb dyndown 14620251872 Apr 22  2019 t_hourly_wrf_GFDL-CM3_historical_1996.nc\n",
      "-rw-rw----. 1 snap-smb dyndown 14628756658 Apr 22  2019 t_hourly_wrf_GFDL-CM3_historical_1997.nc\n",
      "-rw-rw----. 1 snap-smb dyndown 14577323267 Apr 22  2019 t_hourly_wrf_GFDL-CM3_historical_1998.nc\n",
      "-rw-rw----. 1 snap-smb dyndown 14585205037 Apr 22  2019 t_hourly_wrf_GFDL-CM3_historical_1999.nc\n",
      "-rw-rw----. 1 snap-smb dyndown 14632360464 Apr 22  2019 t_hourly_wrf_GFDL-CM3_historical_2000.nc\n",
      "-rw-rw----. 1 snap-smb dyndown 14648220372 Apr 22  2019 t_hourly_wrf_GFDL-CM3_historical_2001.nc\n",
      "-rw-rw----. 1 snap-smb dyndown 14584201344 Apr 22  2019 t_hourly_wrf_GFDL-CM3_historical_2002.nc\n",
      "-rw-rw----. 1 snap-smb dyndown 14596505261 Apr 22  2019 t_hourly_wrf_GFDL-CM3_historical_2003.nc\n",
      "-rw-rw----. 1 snap-smb dyndown 14622190941 Apr 22  2019 t_hourly_wrf_GFDL-CM3_historical_2004.nc\n",
      "-rw-rw----. 1 snap-smb dyndown 14595297664 Apr 22  2019 t_hourly_wrf_GFDL-CM3_historical_2005.nc\n",
      "-rw-rw----. 1 snap-smb dyndown    77649910 Apr 22  2019 t_hourly_wrf_GFDL-CM3_historical_2006.nc\n",
      "-rw-rw----. 1 snap-smb dyndown 14578690238 Apr 22  2019 t_hourly_wrf_GFDL-CM3_rcp85_2006.nc\n",
      "-rw-rw----. 1 snap-smb dyndown 14591913405 Apr 22  2019 t_hourly_wrf_GFDL-CM3_rcp85_2007.nc\n",
      "-rw-rw----. 1 snap-smb dyndown 14631069403 Apr 22  2019 t_hourly_wrf_GFDL-CM3_rcp85_2008.nc\n",
      "-rw-rw----. 1 snap-smb dyndown 14565392369 Apr 22  2019 t_hourly_wrf_GFDL-CM3_rcp85_2009.nc\n",
      "-rw-rw----. 1 snap-smb dyndown 14667230275 Apr 22  2019 t_hourly_wrf_GFDL-CM3_rcp85_2010.nc\n",
      "-rw-rw----. 1 snap-smb dyndown 14610938986 Apr 22  2019 t_hourly_wrf_GFDL-CM3_rcp85_2011.nc\n",
      "-rw-rw----. 1 snap-smb dyndown 14640210976 Apr 22  2019 t_hourly_wrf_GFDL-CM3_rcp85_2012.nc\n",
      "-rw-rw----. 1 snap-smb dyndown 14598459247 Apr 22  2019 t_hourly_wrf_GFDL-CM3_rcp85_2013.nc\n",
      "-rw-rw----. 1 snap-smb dyndown 14643701669 Apr 22  2019 t_hourly_wrf_GFDL-CM3_rcp85_2014.nc\n",
      "-rw-rw----. 1 snap-smb dyndown 14619648847 Apr 22  2019 t_hourly_wrf_GFDL-CM3_rcp85_2015.nc\n",
      "-rw-rw----. 1 snap-smb dyndown 14670688236 Apr 22  2019 t_hourly_wrf_GFDL-CM3_rcp85_2016.nc\n",
      "-rw-rw----. 1 snap-smb dyndown 14572987480 Apr 22  2019 t_hourly_wrf_GFDL-CM3_rcp85_2017.nc\n",
      "-rw-rw----. 1 snap-smb dyndown 14609565229 Apr 22  2019 t_hourly_wrf_GFDL-CM3_rcp85_2018.nc\n",
      "-rw-rw----. 1 snap-smb dyndown 14649995986 Apr 22  2019 t_hourly_wrf_GFDL-CM3_rcp85_2019.nc\n",
      "-rw-rw----. 1 snap-smb dyndown 14650612546 Apr 22  2019 t_hourly_wrf_GFDL-CM3_rcp85_2020.nc\n",
      "-rw-rw----. 1 snap-smb dyndown 14607244216 Apr 22  2019 t_hourly_wrf_GFDL-CM3_rcp85_2021.nc\n",
      "-rw-rw----. 1 snap-smb dyndown 14639829281 Apr 22  2019 t_hourly_wrf_GFDL-CM3_rcp85_2022.nc\n",
      "-rw-rw----. 1 snap-smb dyndown 14610788603 Apr 22  2019 t_hourly_wrf_GFDL-CM3_rcp85_2023.nc\n",
      "-rw-rw----. 1 snap-smb dyndown 14624068451 Apr 22  2019 t_hourly_wrf_GFDL-CM3_rcp85_2024.nc\n",
      "-rw-rw----. 1 snap-smb dyndown 14649478317 Apr 22  2019 t_hourly_wrf_GFDL-CM3_rcp85_2025.nc\n",
      "-rw-rw----. 1 snap-smb dyndown 14655460493 Apr 23  2019 t_hourly_wrf_GFDL-CM3_rcp85_2030.nc\n",
      "-rw-rw----. 1 snap-smb dyndown 14664338433 Apr 23  2019 t_hourly_wrf_GFDL-CM3_rcp85_2031.nc\n",
      "-rw-rw----. 1 snap-smb dyndown 14658824332 Apr 23  2019 t_hourly_wrf_GFDL-CM3_rcp85_2032.nc\n",
      "-rw-rw----. 1 snap-smb dyndown 14615189874 Apr 23  2019 t_hourly_wrf_GFDL-CM3_rcp85_2033.nc\n",
      "-rw-rw----. 1 snap-smb dyndown 14650197737 Apr 23  2019 t_hourly_wrf_GFDL-CM3_rcp85_2034.nc\n",
      "-rw-rw----. 1 snap-smb dyndown 14630660020 Apr 23  2019 t_hourly_wrf_GFDL-CM3_rcp85_2035.nc\n",
      "-rw-rw----. 1 snap-smb dyndown 14625355424 Apr 23  2019 t_hourly_wrf_GFDL-CM3_rcp85_2036.nc\n",
      "-rw-rw----. 1 snap-smb dyndown 14672728374 Apr 23  2019 t_hourly_wrf_GFDL-CM3_rcp85_2037.nc\n",
      "-rw-rw----. 1 snap-smb dyndown 14664695948 Apr 23  2019 t_hourly_wrf_GFDL-CM3_rcp85_2038.nc\n",
      "-rw-rw----. 1 snap-smb dyndown 14658785312 Apr 23  2019 t_hourly_wrf_GFDL-CM3_rcp85_2039.nc\n",
      "-rw-rw----. 1 snap-smb dyndown 14647946624 Apr 23  2019 t_hourly_wrf_GFDL-CM3_rcp85_2040.nc\n",
      "-rw-rw----. 1 snap-smb dyndown 14606246673 Apr 23  2019 t_hourly_wrf_GFDL-CM3_rcp85_2041.nc\n",
      "-rw-rw----. 1 snap-smb dyndown 14663792998 Apr 23  2019 t_hourly_wrf_GFDL-CM3_rcp85_2042.nc\n",
      "-rw-rw----. 1 snap-smb dyndown 14637514040 Apr 23  2019 t_hourly_wrf_GFDL-CM3_rcp85_2043.nc\n",
      "-rw-rw----. 1 snap-smb dyndown 14627918398 Apr 23  2019 t_hourly_wrf_GFDL-CM3_rcp85_2044.nc\n",
      "-rw-rw----. 1 snap-smb dyndown 14613151098 Apr 23  2019 t_hourly_wrf_GFDL-CM3_rcp85_2045.nc\n",
      "-rw-rw----. 1 snap-smb dyndown 14618957829 Apr 23  2019 t_hourly_wrf_GFDL-CM3_rcp85_2046.nc\n",
      "-rw-rw----. 1 snap-smb dyndown 14710732047 Apr 23  2019 t_hourly_wrf_GFDL-CM3_rcp85_2047.nc\n",
      "-rw-rw----. 1 snap-smb dyndown 14620838158 Apr 23  2019 t_hourly_wrf_GFDL-CM3_rcp85_2048.nc\n",
      "-rw-rw----. 1 snap-smb dyndown 14621259090 Apr 23  2019 t_hourly_wrf_GFDL-CM3_rcp85_2049.nc\n",
      "-rw-rw----. 1 snap-smb dyndown 14701824870 Apr 23  2019 t_hourly_wrf_GFDL-CM3_rcp85_2050.nc\n",
      "-rw-rw----. 1 snap-smb dyndown 14637347498 Apr 23  2019 t_hourly_wrf_GFDL-CM3_rcp85_2051.nc\n",
      "-rw-rw----. 1 snap-smb dyndown 14625399922 Apr 23  2019 t_hourly_wrf_GFDL-CM3_rcp85_2052.nc\n",
      "-rw-rw----. 1 snap-smb dyndown 14629135703 Apr 23  2019 t_hourly_wrf_GFDL-CM3_rcp85_2053.nc\n",
      "-rw-rw----. 1 snap-smb dyndown 14688407026 Apr 23  2019 t_hourly_wrf_GFDL-CM3_rcp85_2054.nc\n",
      "-rw-rw----. 1 snap-smb dyndown 14670671672 Apr 23  2019 t_hourly_wrf_GFDL-CM3_rcp85_2055.nc\n",
      "-rw-rw----. 1 snap-smb dyndown 14677501377 Apr 23  2019 t_hourly_wrf_GFDL-CM3_rcp85_2056.nc\n",
      "-rw-rw----. 1 snap-smb dyndown 14655125461 Apr 23  2019 t_hourly_wrf_GFDL-CM3_rcp85_2057.nc\n",
      "-rw-rw----. 1 snap-smb dyndown 14648058442 Apr 23  2019 t_hourly_wrf_GFDL-CM3_rcp85_2058.nc\n",
      "-rw-rw----. 1 snap-smb dyndown 14707530762 Apr 23  2019 t_hourly_wrf_GFDL-CM3_rcp85_2059.nc\n",
      "-rw-rw----. 1 snap-smb dyndown 14678887214 Apr 23  2019 t_hourly_wrf_GFDL-CM3_rcp85_2060.nc\n",
      "-rw-rw----. 1 snap-smb dyndown 14699811718 Apr 23  2019 t_hourly_wrf_GFDL-CM3_rcp85_2061.nc\n",
      "-rw-rw----. 1 snap-smb dyndown 14701701316 Apr 23  2019 t_hourly_wrf_GFDL-CM3_rcp85_2062.nc\n",
      "-rw-rw----. 1 snap-smb dyndown 14649166610 Apr 23  2019 t_hourly_wrf_GFDL-CM3_rcp85_2063.nc\n",
      "-rw-rw----. 1 snap-smb dyndown 14647395460 Apr 23  2019 t_hourly_wrf_GFDL-CM3_rcp85_2064.nc\n",
      "-rw-rw----. 1 snap-smb dyndown 14699285433 Apr 23  2019 t_hourly_wrf_GFDL-CM3_rcp85_2065.nc\n",
      "-rw-rw----. 1 snap-smb dyndown 14678994383 Apr 23  2019 t_hourly_wrf_GFDL-CM3_rcp85_2066.nc\n",
      "-rw-rw----. 1 snap-smb dyndown 14675914790 Apr 23  2019 t_hourly_wrf_GFDL-CM3_rcp85_2067.nc\n",
      "-rw-rw----. 1 snap-smb dyndown 14647450217 Apr 23  2019 t_hourly_wrf_GFDL-CM3_rcp85_2068.nc\n",
      "-rw-rw----. 1 snap-smb dyndown 14677430512 Apr 23  2019 t_hourly_wrf_GFDL-CM3_rcp85_2069.nc\n",
      "-rw-rw----. 1 snap-smb dyndown 14658780887 Apr 23  2019 t_hourly_wrf_GFDL-CM3_rcp85_2070.nc\n",
      "-rw-rw----. 1 snap-smb dyndown 14703585054 Apr 23  2019 t_hourly_wrf_GFDL-CM3_rcp85_2071.nc\n",
      "-rw-rw----. 1 snap-smb dyndown 14672240443 Apr 23  2019 t_hourly_wrf_GFDL-CM3_rcp85_2072.nc\n",
      "-rw-rw----. 1 snap-smb dyndown 14708666618 Apr 23  2019 t_hourly_wrf_GFDL-CM3_rcp85_2073.nc\n",
      "-rw-rw----. 1 snap-smb dyndown 14681467784 Apr 23  2019 t_hourly_wrf_GFDL-CM3_rcp85_2074.nc\n",
      "-rw-rw----. 1 snap-smb dyndown 14673157214 Apr 23  2019 t_hourly_wrf_GFDL-CM3_rcp85_2075.nc\n",
      "-rw-rw----. 1 snap-smb dyndown 14695282887 Apr 23  2019 t_hourly_wrf_GFDL-CM3_rcp85_2076.nc\n",
      "-rw-rw----. 1 snap-smb dyndown 14638778273 Apr 23  2019 t_hourly_wrf_GFDL-CM3_rcp85_2077.nc\n",
      "-rw-rw----. 1 snap-smb dyndown 14690079122 Apr 23  2019 t_hourly_wrf_GFDL-CM3_rcp85_2078.nc\n",
      "-rw-rw----. 1 snap-smb dyndown 14668234477 Apr 23  2019 t_hourly_wrf_GFDL-CM3_rcp85_2079.nc\n",
      "-rw-rw----. 1 snap-smb dyndown 14664097396 Apr 23  2019 t_hourly_wrf_GFDL-CM3_rcp85_2080.nc\n",
      "-rw-rw----. 1 snap-smb dyndown 14707556174 Apr 23  2019 t_hourly_wrf_GFDL-CM3_rcp85_2081.nc\n",
      "-rw-rw----. 1 snap-smb dyndown 14675231053 Apr 23  2019 t_hourly_wrf_GFDL-CM3_rcp85_2082.nc\n",
      "-rw-rw----. 1 snap-smb dyndown 14660039427 Apr 23  2019 t_hourly_wrf_GFDL-CM3_rcp85_2083.nc\n",
      "-rw-rw----. 1 snap-smb dyndown 14702788379 Apr 23  2019 t_hourly_wrf_GFDL-CM3_rcp85_2084.nc\n",
      "-rw-rw----. 1 snap-smb dyndown 14708348819 Apr 23  2019 t_hourly_wrf_GFDL-CM3_rcp85_2085.nc\n",
      "-rw-rw----. 1 snap-smb dyndown 14718174134 Apr 23  2019 t_hourly_wrf_GFDL-CM3_rcp85_2086.nc\n",
      "-rw-rw----. 1 snap-smb dyndown 14640589442 Apr 23  2019 t_hourly_wrf_GFDL-CM3_rcp85_2087.nc\n",
      "-rw-rw----. 1 snap-smb dyndown 14735606954 Apr 23  2019 t_hourly_wrf_GFDL-CM3_rcp85_2088.nc\n",
      "-rw-rw----. 1 snap-smb dyndown 14725318679 Apr 23  2019 t_hourly_wrf_GFDL-CM3_rcp85_2089.nc\n",
      "-rw-rw----. 1 snap-smb dyndown 14711725457 Apr 23  2019 t_hourly_wrf_GFDL-CM3_rcp85_2090.nc\n",
      "-rw-rw----. 1 snap-smb dyndown 14669653670 Apr 23  2019 t_hourly_wrf_GFDL-CM3_rcp85_2091.nc\n",
      "-rw-rw----. 1 snap-smb dyndown 14720623877 Apr 23  2019 t_hourly_wrf_GFDL-CM3_rcp85_2092.nc\n",
      "-rw-rw----. 1 snap-smb dyndown 14685975652 Apr 23  2019 t_hourly_wrf_GFDL-CM3_rcp85_2093.nc\n",
      "-rw-rw----. 1 snap-smb dyndown 14679826364 Apr 23  2019 t_hourly_wrf_GFDL-CM3_rcp85_2094.nc\n",
      "-rw-rw----. 1 snap-smb dyndown 14684029829 Apr 23  2019 t_hourly_wrf_GFDL-CM3_rcp85_2095.nc\n",
      "-rw-rw----. 1 snap-smb dyndown 14711121556 Apr 23  2019 t_hourly_wrf_GFDL-CM3_rcp85_2096.nc\n",
      "-rw-rw----. 1 snap-smb dyndown 14731282606 Apr 23  2019 t_hourly_wrf_GFDL-CM3_rcp85_2097.nc\n",
      "-rw-rw----. 1 snap-smb dyndown 14683592398 Apr 23  2019 t_hourly_wrf_GFDL-CM3_rcp85_2098.nc\n",
      "-rw-rw----. 1 snap-smb dyndown 14749978662 Apr 23  2019 t_hourly_wrf_GFDL-CM3_rcp85_2099.nc\n",
      "-rw-rw----. 1 snap-smb dyndown 14685408222 Apr 23  2019 t_hourly_wrf_GFDL-CM3_rcp85_2100.nc\n",
      "-rw-rw----. 1 snap-smb dyndown 14824332099 Oct 20 20:40 t_hourly_wrf_NCAR-CCSM4_historical_1970.nc\n",
      "-rw-rw----. 1 snap-smb dyndown 14851508496 Oct 20 20:40 t_hourly_wrf_NCAR-CCSM4_rcp85_2045.nc\n",
      "-rw-rw----. 1 snap-smb dyndown 14814855345 Oct 20 21:51 t_hourly_wrf_NCAR-CCSM4_rcp85_2046.nc\n",
      "-rw-rw----. 1 snap-smb dyndown 14855664154 Oct 20 21:51 t_hourly_wrf_NCAR-CCSM4_historical_1971.nc\n",
      "-rw-rw----. 1 snap-smb dyndown 14849008257 Oct 20 23:03 t_hourly_wrf_NCAR-CCSM4_rcp85_2047.nc\n",
      "-rw-rw----. 1 snap-smb dyndown 14840581268 Oct 20 23:03 t_hourly_wrf_NCAR-CCSM4_historical_1972.nc\n",
      "-rw-rw----. 1 snap-smb dyndown 14807105384 Oct 21 00:18 t_hourly_wrf_NCAR-CCSM4_rcp85_2048.nc\n",
      "-rw-rw----. 1 snap-smb dyndown 14833901903 Oct 21 00:18 t_hourly_wrf_NCAR-CCSM4_historical_1973.nc\n",
      "-rw-rw----. 1 snap-smb dyndown 14845735932 Oct 21 01:33 t_hourly_wrf_NCAR-CCSM4_rcp85_2049.nc\n",
      "-rw-rw----. 1 snap-smb dyndown 14829598269 Oct 21 01:34 t_hourly_wrf_NCAR-CCSM4_historical_1974.nc\n",
      "-rw-rw----. 1 snap-smb dyndown 14856581930 Oct 21 02:45 t_hourly_wrf_NCAR-CCSM4_rcp85_2050.nc\n",
      "-rw-rw----. 1 snap-smb dyndown 14817337186 Oct 21 02:45 t_hourly_wrf_NCAR-CCSM4_historical_1975.nc\n",
      "-rw-rw----. 1 snap-smb dyndown 14833054976 Oct 21 03:54 t_hourly_wrf_NCAR-CCSM4_rcp85_2051.nc\n",
      "-rw-rw----. 1 snap-smb dyndown 14846981666 Oct 21 03:54 t_hourly_wrf_NCAR-CCSM4_historical_1976.nc\n",
      "-rw-rw----. 1 snap-smb dyndown 14849144205 Oct 21 05:08 t_hourly_wrf_NCAR-CCSM4_rcp85_2052.nc\n",
      "-rw-rw----. 1 snap-smb dyndown 14814689819 Oct 21 05:09 t_hourly_wrf_NCAR-CCSM4_historical_1977.nc\n",
      "-rw-rw----. 1 snap-smb dyndown 14840048098 Oct 21 06:23 t_hourly_wrf_NCAR-CCSM4_rcp85_2053.nc\n",
      "-rw-rw----. 1 snap-smb dyndown 14839808120 Oct 21 06:24 t_hourly_wrf_NCAR-CCSM4_historical_1978.nc\n",
      "-rw-rw----. 1 snap-smb dyndown 14867937801 Oct 21 07:39 t_hourly_wrf_NCAR-CCSM4_rcp85_2054.nc\n",
      "-rw-rw----. 1 snap-smb dyndown 14828455734 Oct 21 07:40 t_hourly_wrf_NCAR-CCSM4_historical_1979.nc\n",
      "-rw-rw----. 1 snap-smb dyndown 14837770046 Oct 21 08:49 t_hourly_wrf_NCAR-CCSM4_rcp85_2055.nc\n",
      "-rw-rw----. 1 snap-smb dyndown 14829075690 Oct 21 08:50 t_hourly_wrf_NCAR-CCSM4_historical_1980.nc\n",
      "-rw-rw----. 1 snap-smb dyndown 14841907356 Oct 21 09:59 t_hourly_wrf_NCAR-CCSM4_rcp85_2056.nc\n",
      "-rw-rw----. 1 snap-smb dyndown 14845375275 Oct 21 10:00 t_hourly_wrf_NCAR-CCSM4_historical_1981.nc\n",
      "-rw-rw----. 1 snap-smb dyndown 14821105409 Oct 21 11:13 t_hourly_wrf_NCAR-CCSM4_historical_1982.nc\n",
      "-rw-rw----. 1 snap-smb dyndown 14722898316 Oct 21 11:20 t_hourly_wrf_ERA-Interim_historical_1998.nc\n",
      "-rw-rw----. 1 snap-smb dyndown 14881765535 Oct 21 12:27 t_hourly_wrf_NCAR-CCSM4_historical_1983.nc\n",
      "-rw-rw----. 1 snap-smb dyndown 14704652093 Oct 21 12:34 t_hourly_wrf_ERA-Interim_historical_1999.nc\n",
      "-rw-rw----. 1 snap-smb dyndown 14827546759 Oct 21 13:44 t_hourly_wrf_NCAR-CCSM4_historical_1984.nc\n",
      "-rw-rw----. 1 snap-smb dyndown 14789039043 Oct 21 13:50 t_hourly_wrf_ERA-Interim_historical_2000.nc\n",
      "-rw-rw----. 1 snap-smb dyndown 14760499731 Oct 21 15:00 t_hourly_wrf_ERA-Interim_historical_2001.nc\n",
      "-rw-rw----. 1 snap-smb dyndown 14604570830 Oct 21 15:13 t_hourly_wrf_GFDL-CM3_rcp85_2026.nc\n",
      "-rw-rw----. 1 snap-smb dyndown 14746590128 Oct 21 16:06 t_hourly_wrf_ERA-Interim_historical_2002.nc\n",
      "-rw-rw----. 1 snap-smb dyndown 14586671913 Oct 21 16:20 t_hourly_wrf_GFDL-CM3_rcp85_2027.nc\n",
      "-rw-rw----. 1 snap-smb dyndown 14771910743 Oct 21 17:19 t_hourly_wrf_ERA-Interim_historical_2003.nc\n",
      "-rw-rw----. 1 snap-smb dyndown 14642503963 Oct 21 17:31 t_hourly_wrf_GFDL-CM3_rcp85_2028.nc\n",
      "-rw-rw----. 1 snap-smb dyndown 14657513593 Oct 21 18:58 t_hourly_wrf_GFDL-CM3_rcp85_2029.nc\n"
     ]
    }
   ],
   "source": [
    "ls /rcs/project_data/wrf_data/hourly_fix/t/ -ltr"
   ]
  },
  {
   "cell_type": "code",
   "execution_count": 91,
   "id": "6f4fa803-f4bc-4918-88c3-8558a106bc32",
   "metadata": {
    "tags": []
   },
   "outputs": [
    {
     "name": "stdout",
     "output_type": "stream",
     "text": [
      "total 4356777984\n",
      "lrwxrwxrwx. 1 snap-smb dyndown          67 Apr 14  2021 \u001b[0m\u001b[01;36mU_wrf_hourly_ccsm_hist_1970.nc\u001b[0m -> /rcs/project_data/WRF_DATA_SEP2019/u/U_wrf_hourly_ccsm_hist_1970.nc\n",
      "-rw-rw----. 1 snap-smb dyndown 22938248687 Apr 14  2021 U_wrf_hourly_ccsm_hist_1971.nc\n",
      "-rw-rw----. 1 snap-smb dyndown 22843553492 Apr 14  2021 U_wrf_hourly_ccsm_hist_1972.nc\n",
      "-rw-rw----. 1 snap-smb dyndown 22885634907 Apr 14  2021 U_wrf_hourly_ccsm_hist_1973.nc\n",
      "-rw-rw----. 1 snap-smb dyndown 22941989424 Apr 14  2021 U_wrf_hourly_ccsm_hist_1974.nc\n",
      "-rw-rw----. 1 snap-smb dyndown 22781806963 Apr 14  2021 U_wrf_hourly_ccsm_hist_1975.nc\n",
      "-rw-rw----. 1 snap-smb dyndown 22918736959 Apr 14  2021 U_wrf_hourly_ccsm_hist_1976.nc\n",
      "-rw-rw----. 1 snap-smb dyndown 22910722266 Apr 14  2021 U_wrf_hourly_ccsm_hist_1977.nc\n",
      "-rw-rw----. 1 snap-smb dyndown 22920101471 Apr 15  2021 U_wrf_hourly_ccsm_hist_1978.nc\n",
      "-rw-rw----. 1 snap-smb dyndown 22913107795 Apr 15  2021 U_wrf_hourly_ccsm_hist_1979.nc\n",
      "-rw-rw----. 1 snap-smb dyndown 22895816201 Apr 15  2021 U_wrf_hourly_ccsm_hist_1980.nc\n",
      "-rw-rw----. 1 snap-smb dyndown 22790914450 Apr 15  2021 U_wrf_hourly_ccsm_hist_1981.nc\n",
      "-rw-rw----. 1 snap-smb dyndown 22854436956 Apr 15  2021 U_wrf_hourly_ccsm_hist_1982.nc\n",
      "-rw-rw----. 1 snap-smb dyndown 22895711414 Apr 15  2021 U_wrf_hourly_ccsm_hist_1983.nc\n",
      "-rw-rw----. 1 snap-smb dyndown 22936653180 Apr 15  2021 U_wrf_hourly_ccsm_hist_1984.nc\n",
      "-rw-rw----. 1 snap-smb dyndown 22919709016 Apr 15  2021 U_wrf_hourly_ccsm_hist_1985.nc\n",
      "-rw-rw----. 1 snap-smb dyndown 22837767451 Apr 15  2021 U_wrf_hourly_ccsm_hist_1986.nc\n",
      "-rw-rw----. 1 snap-smb dyndown 22913547903 Apr 15  2021 U_wrf_hourly_ccsm_hist_1987.nc\n",
      "-rw-rw----. 1 snap-smb dyndown 22886648902 Apr 15  2021 U_wrf_hourly_ccsm_hist_1988.nc\n",
      "-rw-rw----. 1 snap-smb dyndown 22824016598 Apr 15  2021 U_wrf_hourly_ccsm_hist_1989.nc\n",
      "-rw-rw----. 1 snap-smb dyndown 22834629714 Apr 15  2021 U_wrf_hourly_ccsm_hist_1990.nc\n",
      "-rw-rw----. 1 snap-smb dyndown 22921349807 Apr 15  2021 U_wrf_hourly_ccsm_hist_1991.nc\n",
      "-rw-rw----. 1 snap-smb dyndown 22952729315 Apr 15  2021 U_wrf_hourly_ccsm_hist_1992.nc\n",
      "-rw-rw----. 1 snap-smb dyndown 22892303588 Apr 15  2021 U_wrf_hourly_ccsm_hist_1993.nc\n",
      "-rw-rw----. 1 snap-smb dyndown 22800579723 Apr 15  2021 U_wrf_hourly_ccsm_hist_1994.nc\n",
      "-rw-rw----. 1 snap-smb dyndown 22834119542 Apr 15  2021 U_wrf_hourly_ccsm_hist_1995.nc\n",
      "-rw-rw----. 1 snap-smb dyndown 22829198692 Apr 15  2021 U_wrf_hourly_ccsm_hist_1996.nc\n",
      "-rw-rw----. 1 snap-smb dyndown 23162761429 Apr 15  2021 U_wrf_hourly_ccsm_hist_1997.nc\n",
      "-rw-rw----. 1 snap-smb dyndown 22915783702 Apr 15  2021 U_wrf_hourly_ccsm_hist_1998.nc\n",
      "-rw-rw----. 1 snap-smb dyndown 22896075092 Apr 15  2021 U_wrf_hourly_ccsm_hist_1999.nc\n",
      "-rw-rw----. 1 snap-smb dyndown 22885128352 Apr 15  2021 U_wrf_hourly_ccsm_hist_2000.nc\n",
      "-rw-rw----. 1 snap-smb dyndown 22839182889 Apr 15  2021 U_wrf_hourly_ccsm_hist_2001.nc\n",
      "-rw-rw----. 1 snap-smb dyndown 22842778368 Apr 15  2021 U_wrf_hourly_ccsm_hist_2002.nc\n",
      "-rw-rw----. 1 snap-smb dyndown 22943354136 Apr 15  2021 U_wrf_hourly_ccsm_hist_2003.nc\n",
      "-rw-rw----. 1 snap-smb dyndown 22954159059 Apr 15  2021 U_wrf_hourly_ccsm_hist_2004.nc\n",
      "-rw-rw----. 1 snap-smb dyndown 22650074864 Apr 15  2021 U_wrf_hourly_ccsm_hist_2005.nc\n",
      "lrwxrwxrwx. 1 snap-smb dyndown          68 Apr 14  2021 \u001b[01;36mU_wrf_hourly_ccsm_rcp85_2005.nc\u001b[0m -> /rcs/project_data/WRF_DATA_SEP2019/u/U_wrf_hourly_ccsm_rcp85_2005.nc\n",
      "lrwxrwxrwx. 1 snap-smb dyndown          68 Apr 14  2021 \u001b[01;36mU_wrf_hourly_ccsm_rcp85_2006.nc\u001b[0m -> /rcs/project_data/WRF_DATA_SEP2019/u/U_wrf_hourly_ccsm_rcp85_2006.nc\n",
      "lrwxrwxrwx. 1 snap-smb dyndown          68 Apr 14  2021 \u001b[01;36mU_wrf_hourly_ccsm_rcp85_2007.nc\u001b[0m -> /rcs/project_data/WRF_DATA_SEP2019/u/U_wrf_hourly_ccsm_rcp85_2007.nc\n",
      "lrwxrwxrwx. 1 snap-smb dyndown          68 Apr 14  2021 \u001b[01;36mU_wrf_hourly_ccsm_rcp85_2008.nc\u001b[0m -> /rcs/project_data/WRF_DATA_SEP2019/u/U_wrf_hourly_ccsm_rcp85_2008.nc\n",
      "lrwxrwxrwx. 1 snap-smb dyndown          68 Apr 14  2021 \u001b[01;36mU_wrf_hourly_ccsm_rcp85_2009.nc\u001b[0m -> /rcs/project_data/WRF_DATA_SEP2019/u/U_wrf_hourly_ccsm_rcp85_2009.nc\n",
      "lrwxrwxrwx. 1 snap-smb dyndown          68 Apr 14  2021 \u001b[01;36mU_wrf_hourly_ccsm_rcp85_2010.nc\u001b[0m -> /rcs/project_data/WRF_DATA_SEP2019/u/U_wrf_hourly_ccsm_rcp85_2010.nc\n",
      "lrwxrwxrwx. 1 snap-smb dyndown          68 Apr 14  2021 \u001b[01;36mU_wrf_hourly_ccsm_rcp85_2011.nc\u001b[0m -> /rcs/project_data/WRF_DATA_SEP2019/u/U_wrf_hourly_ccsm_rcp85_2011.nc\n",
      "lrwxrwxrwx. 1 snap-smb dyndown          68 Apr 14  2021 \u001b[01;36mU_wrf_hourly_ccsm_rcp85_2012.nc\u001b[0m -> /rcs/project_data/WRF_DATA_SEP2019/u/U_wrf_hourly_ccsm_rcp85_2012.nc\n",
      "lrwxrwxrwx. 1 snap-smb dyndown          68 Apr 14  2021 \u001b[01;36mU_wrf_hourly_ccsm_rcp85_2013.nc\u001b[0m -> /rcs/project_data/WRF_DATA_SEP2019/u/U_wrf_hourly_ccsm_rcp85_2013.nc\n",
      "lrwxrwxrwx. 1 snap-smb dyndown          68 Apr 14  2021 \u001b[01;36mU_wrf_hourly_ccsm_rcp85_2014.nc\u001b[0m -> /rcs/project_data/WRF_DATA_SEP2019/u/U_wrf_hourly_ccsm_rcp85_2014.nc\n",
      "lrwxrwxrwx. 1 snap-smb dyndown          68 Apr 14  2021 \u001b[01;36mU_wrf_hourly_ccsm_rcp85_2015.nc\u001b[0m -> /rcs/project_data/WRF_DATA_SEP2019/u/U_wrf_hourly_ccsm_rcp85_2015.nc\n",
      "lrwxrwxrwx. 1 snap-smb dyndown          68 Apr 14  2021 \u001b[01;36mU_wrf_hourly_ccsm_rcp85_2016.nc\u001b[0m -> /rcs/project_data/WRF_DATA_SEP2019/u/U_wrf_hourly_ccsm_rcp85_2016.nc\n",
      "lrwxrwxrwx. 1 snap-smb dyndown          68 Apr 14  2021 \u001b[01;36mU_wrf_hourly_ccsm_rcp85_2017.nc\u001b[0m -> /rcs/project_data/WRF_DATA_SEP2019/u/U_wrf_hourly_ccsm_rcp85_2017.nc\n",
      "lrwxrwxrwx. 1 snap-smb dyndown          68 Apr 14  2021 \u001b[01;36mU_wrf_hourly_ccsm_rcp85_2018.nc\u001b[0m -> /rcs/project_data/WRF_DATA_SEP2019/u/U_wrf_hourly_ccsm_rcp85_2018.nc\n",
      "lrwxrwxrwx. 1 snap-smb dyndown          68 Apr 14  2021 \u001b[01;36mU_wrf_hourly_ccsm_rcp85_2019.nc\u001b[0m -> /rcs/project_data/WRF_DATA_SEP2019/u/U_wrf_hourly_ccsm_rcp85_2019.nc\n",
      "lrwxrwxrwx. 1 snap-smb dyndown          68 Apr 14  2021 \u001b[01;36mU_wrf_hourly_ccsm_rcp85_2020.nc\u001b[0m -> /rcs/project_data/WRF_DATA_SEP2019/u/U_wrf_hourly_ccsm_rcp85_2020.nc\n",
      "lrwxrwxrwx. 1 snap-smb dyndown          68 Apr 14  2021 \u001b[01;36mU_wrf_hourly_ccsm_rcp85_2021.nc\u001b[0m -> /rcs/project_data/WRF_DATA_SEP2019/u/U_wrf_hourly_ccsm_rcp85_2021.nc\n",
      "lrwxrwxrwx. 1 snap-smb dyndown          68 Apr 14  2021 \u001b[01;36mU_wrf_hourly_ccsm_rcp85_2022.nc\u001b[0m -> /rcs/project_data/WRF_DATA_SEP2019/u/U_wrf_hourly_ccsm_rcp85_2022.nc\n",
      "lrwxrwxrwx. 1 snap-smb dyndown          68 Apr 14  2021 \u001b[01;36mU_wrf_hourly_ccsm_rcp85_2023.nc\u001b[0m -> /rcs/project_data/WRF_DATA_SEP2019/u/U_wrf_hourly_ccsm_rcp85_2023.nc\n",
      "lrwxrwxrwx. 1 snap-smb dyndown          68 Apr 14  2021 \u001b[01;36mU_wrf_hourly_ccsm_rcp85_2024.nc\u001b[0m -> /rcs/project_data/WRF_DATA_SEP2019/u/U_wrf_hourly_ccsm_rcp85_2024.nc\n",
      "lrwxrwxrwx. 1 snap-smb dyndown          68 Apr 14  2021 \u001b[01;36mU_wrf_hourly_ccsm_rcp85_2025.nc\u001b[0m -> /rcs/project_data/WRF_DATA_SEP2019/u/U_wrf_hourly_ccsm_rcp85_2025.nc\n",
      "lrwxrwxrwx. 1 snap-smb dyndown          68 Apr 14  2021 \u001b[01;36mU_wrf_hourly_ccsm_rcp85_2026.nc\u001b[0m -> /rcs/project_data/WRF_DATA_SEP2019/u/U_wrf_hourly_ccsm_rcp85_2026.nc\n",
      "lrwxrwxrwx. 1 snap-smb dyndown          68 Apr 14  2021 \u001b[01;36mU_wrf_hourly_ccsm_rcp85_2027.nc\u001b[0m -> /rcs/project_data/WRF_DATA_SEP2019/u/U_wrf_hourly_ccsm_rcp85_2027.nc\n",
      "lrwxrwxrwx. 1 snap-smb dyndown          68 Apr 14  2021 \u001b[01;36mU_wrf_hourly_ccsm_rcp85_2028.nc\u001b[0m -> /rcs/project_data/WRF_DATA_SEP2019/u/U_wrf_hourly_ccsm_rcp85_2028.nc\n",
      "lrwxrwxrwx. 1 snap-smb dyndown          68 Apr 14  2021 \u001b[01;36mU_wrf_hourly_ccsm_rcp85_2029.nc\u001b[0m -> /rcs/project_data/WRF_DATA_SEP2019/u/U_wrf_hourly_ccsm_rcp85_2029.nc\n",
      "lrwxrwxrwx. 1 snap-smb dyndown          68 Apr 14  2021 \u001b[01;36mU_wrf_hourly_ccsm_rcp85_2030.nc\u001b[0m -> /rcs/project_data/WRF_DATA_SEP2019/u/U_wrf_hourly_ccsm_rcp85_2030.nc\n",
      "lrwxrwxrwx. 1 snap-smb dyndown          68 Apr 14  2021 \u001b[01;36mU_wrf_hourly_ccsm_rcp85_2031.nc\u001b[0m -> /rcs/project_data/WRF_DATA_SEP2019/u/U_wrf_hourly_ccsm_rcp85_2031.nc\n",
      "lrwxrwxrwx. 1 snap-smb dyndown          68 Apr 14  2021 \u001b[01;36mU_wrf_hourly_ccsm_rcp85_2032.nc\u001b[0m -> /rcs/project_data/WRF_DATA_SEP2019/u/U_wrf_hourly_ccsm_rcp85_2032.nc\n",
      "lrwxrwxrwx. 1 snap-smb dyndown          68 Apr 14  2021 \u001b[01;36mU_wrf_hourly_ccsm_rcp85_2033.nc\u001b[0m -> /rcs/project_data/WRF_DATA_SEP2019/u/U_wrf_hourly_ccsm_rcp85_2033.nc\n",
      "lrwxrwxrwx. 1 snap-smb dyndown          68 Apr 14  2021 \u001b[01;36mU_wrf_hourly_ccsm_rcp85_2034.nc\u001b[0m -> /rcs/project_data/WRF_DATA_SEP2019/u/U_wrf_hourly_ccsm_rcp85_2034.nc\n",
      "lrwxrwxrwx. 1 snap-smb dyndown          68 Apr 14  2021 \u001b[01;36mU_wrf_hourly_ccsm_rcp85_2035.nc\u001b[0m -> /rcs/project_data/WRF_DATA_SEP2019/u/U_wrf_hourly_ccsm_rcp85_2035.nc\n",
      "lrwxrwxrwx. 1 snap-smb dyndown          68 Apr 14  2021 \u001b[01;36mU_wrf_hourly_ccsm_rcp85_2036.nc\u001b[0m -> /rcs/project_data/WRF_DATA_SEP2019/u/U_wrf_hourly_ccsm_rcp85_2036.nc\n",
      "lrwxrwxrwx. 1 snap-smb dyndown          68 Apr 14  2021 \u001b[01;36mU_wrf_hourly_ccsm_rcp85_2037.nc\u001b[0m -> /rcs/project_data/WRF_DATA_SEP2019/u/U_wrf_hourly_ccsm_rcp85_2037.nc\n",
      "lrwxrwxrwx. 1 snap-smb dyndown          68 Apr 14  2021 \u001b[01;36mU_wrf_hourly_ccsm_rcp85_2038.nc\u001b[0m -> /rcs/project_data/WRF_DATA_SEP2019/u/U_wrf_hourly_ccsm_rcp85_2038.nc\n",
      "-rw-rw----. 1 snap-smb dyndown 22873156255 Apr 26 22:22 U_wrf_hourly_ccsm_rcp85_2039.nc\n",
      "-rw-rw----. 1 snap-smb dyndown 22878956718 Apr 15  2021 U_wrf_hourly_ccsm_rcp85_2040.nc\n",
      "-rw-rw----. 1 snap-smb dyndown 22819118489 Apr 15  2021 U_wrf_hourly_ccsm_rcp85_2041.nc\n",
      "-rw-rw----. 1 snap-smb dyndown 22873558405 Apr 15  2021 U_wrf_hourly_ccsm_rcp85_2042.nc\n",
      "-rw-rw----. 1 snap-smb dyndown 22932661547 Apr 15  2021 U_wrf_hourly_ccsm_rcp85_2043.nc\n",
      "-rw-rw----. 1 snap-smb dyndown 22893397532 Apr 15  2021 U_wrf_hourly_ccsm_rcp85_2044.nc\n",
      "-rw-rw----. 1 snap-smb dyndown 22957728197 Apr 15  2021 U_wrf_hourly_ccsm_rcp85_2045.nc\n",
      "-rw-rw----. 1 snap-smb dyndown 22933176681 Apr 15  2021 U_wrf_hourly_ccsm_rcp85_2046.nc\n",
      "-rw-rw----. 1 snap-smb dyndown 22914668407 Apr 15  2021 U_wrf_hourly_ccsm_rcp85_2047.nc\n",
      "-rw-rw----. 1 snap-smb dyndown 22857861135 Apr 15  2021 U_wrf_hourly_ccsm_rcp85_2048.nc\n",
      "-rw-rw----. 1 snap-smb dyndown 22823481217 Apr 15  2021 U_wrf_hourly_ccsm_rcp85_2049.nc\n",
      "-rw-rw----. 1 snap-smb dyndown 22861710450 Apr 15  2021 U_wrf_hourly_ccsm_rcp85_2050.nc\n",
      "-rw-rw----. 1 snap-smb dyndown 22920953788 Apr 15  2021 U_wrf_hourly_ccsm_rcp85_2051.nc\n",
      "-rw-rw----. 1 snap-smb dyndown 22940888560 Apr 15  2021 U_wrf_hourly_ccsm_rcp85_2052.nc\n",
      "-rw-rw----. 1 snap-smb dyndown 22855468838 Apr 15  2021 U_wrf_hourly_ccsm_rcp85_2053.nc\n",
      "-rw-rw----. 1 snap-smb dyndown 22951381053 Apr 15  2021 U_wrf_hourly_ccsm_rcp85_2054.nc\n",
      "-rw-rw----. 1 snap-smb dyndown 22836474045 Apr 15  2021 U_wrf_hourly_ccsm_rcp85_2055.nc\n",
      "-rw-rw----. 1 snap-smb dyndown 22897260142 Apr 15  2021 U_wrf_hourly_ccsm_rcp85_2056.nc\n",
      "-rw-rw----. 1 snap-smb dyndown 22847758583 Apr 15  2021 U_wrf_hourly_ccsm_rcp85_2057.nc\n",
      "-rw-rw----. 1 snap-smb dyndown 23009904525 Apr 15  2021 U_wrf_hourly_ccsm_rcp85_2058.nc\n",
      "-rw-rw----. 1 snap-smb dyndown 22882740903 Apr 15  2021 U_wrf_hourly_ccsm_rcp85_2059.nc\n",
      "-rw-rw----. 1 snap-smb dyndown 22862759746 Apr 15  2021 U_wrf_hourly_ccsm_rcp85_2060.nc\n",
      "-rw-rw----. 1 snap-smb dyndown 22978364600 Apr 15  2021 U_wrf_hourly_ccsm_rcp85_2061.nc\n",
      "-rw-rw----. 1 snap-smb dyndown 22957329768 Apr 15  2021 U_wrf_hourly_ccsm_rcp85_2062.nc\n",
      "-rw-rw----. 1 snap-smb dyndown 22867862441 Apr 15  2021 U_wrf_hourly_ccsm_rcp85_2063.nc\n",
      "-rw-rw----. 1 snap-smb dyndown 22882241514 Apr 15  2021 U_wrf_hourly_ccsm_rcp85_2064.nc\n",
      "-rw-rw----. 1 snap-smb dyndown 22815645423 Apr 15  2021 U_wrf_hourly_ccsm_rcp85_2065.nc\n",
      "-rw-rw----. 1 snap-smb dyndown 22881100264 Apr 15  2021 U_wrf_hourly_ccsm_rcp85_2066.nc\n",
      "-rw-rw----. 1 snap-smb dyndown 22810959973 Apr 15  2021 U_wrf_hourly_ccsm_rcp85_2067.nc\n",
      "-rw-rw----. 1 snap-smb dyndown 22925723171 Apr 15  2021 U_wrf_hourly_ccsm_rcp85_2068.nc\n",
      "-rw-rw----. 1 snap-smb dyndown 23011265666 Apr 27 16:25 U_wrf_hourly_ccsm_rcp85_2069.nc\n",
      "-rw-rw----. 1 snap-smb dyndown 22934416207 Apr 22  2021 U_wrf_hourly_ccsm_rcp85_2070.nc\n",
      "-rw-rw----. 1 snap-smb dyndown 22862254178 Apr 22  2021 U_wrf_hourly_ccsm_rcp85_2071.nc\n",
      "-rw-rw----. 1 snap-smb dyndown 22907562320 Apr 13  2021 U_wrf_hourly_ccsm_rcp85_2072.nc\n",
      "-rw-rw----. 1 snap-smb dyndown 22896539921 Apr 13  2021 U_wrf_hourly_ccsm_rcp85_2073.nc\n",
      "-rw-rw----. 1 snap-smb dyndown 22814532214 Apr 13  2021 U_wrf_hourly_ccsm_rcp85_2074.nc\n",
      "-rw-rw----. 1 snap-smb dyndown 22828176232 Apr 13  2021 U_wrf_hourly_ccsm_rcp85_2075.nc\n",
      "-rw-rw----. 1 snap-smb dyndown 22962765511 Apr 13  2021 U_wrf_hourly_ccsm_rcp85_2076.nc\n",
      "-rw-rw----. 1 snap-smb dyndown 22895706683 Apr 13  2021 U_wrf_hourly_ccsm_rcp85_2077.nc\n",
      "-rw-rw----. 1 snap-smb dyndown 22845152735 Apr 13  2021 U_wrf_hourly_ccsm_rcp85_2078.nc\n",
      "-rw-rw----. 1 snap-smb dyndown 22934255461 Apr 13  2021 U_wrf_hourly_ccsm_rcp85_2079.nc\n",
      "-rw-rw----. 1 snap-smb dyndown 22863327827 Apr 13  2021 U_wrf_hourly_ccsm_rcp85_2080.nc\n",
      "-rw-rw----. 1 snap-smb dyndown 22934725456 Apr 13  2021 U_wrf_hourly_ccsm_rcp85_2081.nc\n",
      "-rw-rw----. 1 snap-smb dyndown 22835663631 Apr 22  2021 U_wrf_hourly_ccsm_rcp85_2082.nc\n",
      "-rw-rw----. 1 snap-smb dyndown 22914788197 Apr 22  2021 U_wrf_hourly_ccsm_rcp85_2083.nc\n",
      "-rw-rw----. 1 snap-smb dyndown 22973190964 Apr 13  2021 U_wrf_hourly_ccsm_rcp85_2084.nc\n",
      "-rw-rw----. 1 snap-smb dyndown 22871624506 Apr 13  2021 U_wrf_hourly_ccsm_rcp85_2085.nc\n",
      "-rw-rw----. 1 snap-smb dyndown 22870700904 Apr 13  2021 U_wrf_hourly_ccsm_rcp85_2086.nc\n",
      "-rw-rw----. 1 snap-smb dyndown 22975591682 Apr 13  2021 U_wrf_hourly_ccsm_rcp85_2087.nc\n",
      "-rw-rw----. 1 snap-smb dyndown 22920258429 Apr 13  2021 U_wrf_hourly_ccsm_rcp85_2088.nc\n",
      "-rw-rw----. 1 snap-smb dyndown 22895436774 Apr 13  2021 U_wrf_hourly_ccsm_rcp85_2089.nc\n",
      "-rw-rw----. 1 snap-smb dyndown 22918482449 Apr 13  2021 U_wrf_hourly_ccsm_rcp85_2090.nc\n",
      "-rw-rw----. 1 snap-smb dyndown 22851431087 Apr 13  2021 U_wrf_hourly_ccsm_rcp85_2091.nc\n",
      "-rw-rw----. 1 snap-smb dyndown 22845985264 Apr 13  2021 U_wrf_hourly_ccsm_rcp85_2092.nc\n",
      "-rw-rw----. 1 snap-smb dyndown 22943579449 Apr 13  2021 U_wrf_hourly_ccsm_rcp85_2093.nc\n",
      "-rw-rw----. 1 snap-smb dyndown 22858508839 Apr 13  2021 U_wrf_hourly_ccsm_rcp85_2094.nc\n",
      "-rw-rw----. 1 snap-smb dyndown 22808288039 Apr 13  2021 U_wrf_hourly_ccsm_rcp85_2095.nc\n",
      "-rw-rw----. 1 snap-smb dyndown 22830900807 Apr 13  2021 U_wrf_hourly_ccsm_rcp85_2096.nc\n",
      "-rw-rw----. 1 snap-smb dyndown 22837161927 Apr 13  2021 U_wrf_hourly_ccsm_rcp85_2097.nc\n",
      "-rw-rw----. 1 snap-smb dyndown 22871032438 Apr 13  2021 U_wrf_hourly_ccsm_rcp85_2098.nc\n",
      "-rw-rw----. 1 snap-smb dyndown 22901663923 Apr 14  2021 U_wrf_hourly_ccsm_rcp85_2099.nc\n",
      "-rw-rw----. 1 snap-smb dyndown 22792779011 Apr 14  2021 U_wrf_hourly_ccsm_rcp85_2100.nc\n",
      "-rw-rw----. 1 snap-smb dyndown 22969433783 Mar 29  2021 U_wrf_hourly_erain_1979.nc\n",
      "-rw-rw----. 1 snap-smb dyndown 23076007753 Mar 29  2021 U_wrf_hourly_erain_1980.nc\n",
      "-rw-rw----. 1 snap-smb dyndown 22999789208 Mar 29  2021 U_wrf_hourly_erain_1981.nc\n",
      "-rw-rw----. 1 snap-smb dyndown 22956675094 Mar 29  2021 U_wrf_hourly_erain_1982.nc\n",
      "-rw-rw----. 1 snap-smb dyndown 22938409910 Mar 29  2021 U_wrf_hourly_erain_1983.nc\n",
      "-rw-rw----. 1 snap-smb dyndown 23038511312 Mar 29  2021 U_wrf_hourly_erain_1984.nc\n",
      "-rw-rw----. 1 snap-smb dyndown 23006581696 Mar 29  2021 U_wrf_hourly_erain_1985.nc\n",
      "-rw-rw----. 1 snap-smb dyndown 22954049082 Mar 29  2021 U_wrf_hourly_erain_1986.nc\n",
      "-rw-rw----. 1 snap-smb dyndown 23000124466 Mar 29  2021 U_wrf_hourly_erain_1987.nc\n",
      "-rw-rw----. 1 snap-smb dyndown 22949958814 Mar 29  2021 U_wrf_hourly_erain_1988.nc\n",
      "-rw-rw----. 1 snap-smb dyndown 22960260342 Mar 29  2021 U_wrf_hourly_erain_1989.nc\n",
      "-rw-rw----. 1 snap-smb dyndown 22821456958 Mar 29  2021 U_wrf_hourly_erain_1990.nc\n",
      "-rw-rw----. 1 snap-smb dyndown 22947650729 Mar 29  2021 U_wrf_hourly_erain_1991.nc\n",
      "-rw-rw----. 1 snap-smb dyndown 22988833519 Mar 29  2021 U_wrf_hourly_erain_1992.nc\n",
      "-rw-rw----. 1 snap-smb dyndown 22997421787 Mar 29  2021 U_wrf_hourly_erain_1993.nc\n",
      "-rw-rw----. 1 snap-smb dyndown 22911056491 Mar 29  2021 U_wrf_hourly_erain_1994.nc\n",
      "-rw-rw----. 1 snap-smb dyndown 22993837217 Mar 29  2021 U_wrf_hourly_erain_1995.nc\n",
      "-rw-rw----. 1 snap-smb dyndown 23057102443 Mar 29  2021 U_wrf_hourly_erain_1996.nc\n",
      "-rw-rw----. 1 snap-smb dyndown 22917669978 Mar 29  2021 U_wrf_hourly_erain_1997.nc\n",
      "-rw-rw----. 1 snap-smb dyndown 22977411769 Mar 29  2021 U_wrf_hourly_erain_1998.nc\n",
      "-rw-rw----. 1 snap-smb dyndown 22925495696 Mar 29  2021 U_wrf_hourly_erain_1999.nc\n",
      "-rw-rw----. 1 snap-smb dyndown 23013194720 Mar 29  2021 U_wrf_hourly_erain_2000.nc\n",
      "-rw-rw----. 1 snap-smb dyndown 22943680109 Mar 29  2021 U_wrf_hourly_erain_2001.nc\n",
      "-rw-rw----. 1 snap-smb dyndown 23004003228 Mar 29  2021 U_wrf_hourly_erain_2002.nc\n",
      "-rw-rw----. 1 snap-smb dyndown 23013765322 Mar 29  2021 U_wrf_hourly_erain_2003.nc\n",
      "-rw-rw----. 1 snap-smb dyndown 23058934327 Mar 29  2021 U_wrf_hourly_erain_2004.nc\n",
      "-rw-rw----. 1 snap-smb dyndown 22998701729 Mar 29  2021 U_wrf_hourly_erain_2005.nc\n",
      "-rw-rw----. 1 snap-smb dyndown 23003992299 Mar 29  2021 U_wrf_hourly_erain_2006.nc\n",
      "-rw-rw----. 1 snap-smb dyndown 22972405351 Mar 29  2021 U_wrf_hourly_erain_2007.nc\n",
      "-rw-rw----. 1 snap-smb dyndown 23012480867 Mar 29  2021 U_wrf_hourly_erain_2008.nc\n",
      "-rw-rw----. 1 snap-smb dyndown 23024355681 Mar 29  2021 U_wrf_hourly_erain_2009.nc\n",
      "-rw-rw----. 1 snap-smb dyndown 23044263925 Mar 29  2021 U_wrf_hourly_erain_2010.nc\n",
      "-rw-rw----. 1 snap-smb dyndown 22859989962 Mar 29  2021 U_wrf_hourly_erain_2011.nc\n",
      "-rw-rw----. 1 snap-smb dyndown 23052028931 Mar 29  2021 U_wrf_hourly_erain_2012.nc\n",
      "-rw-rw----. 1 snap-smb dyndown 22966007894 Mar 29  2021 U_wrf_hourly_erain_2013.nc\n",
      "-rw-rw----. 1 snap-smb dyndown 23016352565 Mar 29  2021 U_wrf_hourly_erain_2014.nc\n",
      "-rw-rw----. 1 snap-smb dyndown 19061059468 Mar 29  2021 U_wrf_hourly_erain_2015.nc\n",
      "-rw-rw----. 1 snap-smb dyndown 22773752667 Mar 29  2021 U_wrf_hourly_gfdl_hist_1970.nc\n",
      "-rw-rw----. 1 snap-smb dyndown 22778871846 Mar 29  2021 U_wrf_hourly_gfdl_hist_1971.nc\n",
      "-rw-rw----. 1 snap-smb dyndown 22910630319 Apr 14  2021 U_wrf_hourly_gfdl_hist_1972.nc\n",
      "-rw-rw----. 1 snap-smb dyndown 22852258482 Apr 14  2021 U_wrf_hourly_gfdl_hist_1973.nc\n",
      "-rw-rw----. 1 snap-smb dyndown 22888068407 Apr 14  2021 U_wrf_hourly_gfdl_hist_1974.nc\n",
      "-rw-rw----. 1 snap-smb dyndown 22950527174 Apr 14  2021 U_wrf_hourly_gfdl_hist_1975.nc\n",
      "-rw-rw----. 1 snap-smb dyndown 22797319479 Apr 14  2021 U_wrf_hourly_gfdl_hist_1976.nc\n",
      "-rw-rw----. 1 snap-smb dyndown 22962113083 Apr 14  2021 U_wrf_hourly_gfdl_hist_1977.nc\n",
      "-rw-rw----. 1 snap-smb dyndown 22850330643 Apr 14  2021 U_wrf_hourly_gfdl_hist_1978.nc\n",
      "-rw-rw----. 1 snap-smb dyndown 22944979558 Apr 14  2021 U_wrf_hourly_gfdl_hist_1979.nc\n",
      "-rw-rw----. 1 snap-smb dyndown 22901151799 Apr 14  2021 U_wrf_hourly_gfdl_hist_1980.nc\n",
      "-rw-rw----. 1 snap-smb dyndown 22752524640 Apr 14  2021 U_wrf_hourly_gfdl_hist_1981.nc\n",
      "-rw-rw----. 1 snap-smb dyndown 22927253501 Apr 14  2021 U_wrf_hourly_gfdl_hist_1982.nc\n",
      "-rw-rw----. 1 snap-smb dyndown 22867294770 Apr 14  2021 U_wrf_hourly_gfdl_hist_1983.nc\n",
      "-rw-rw----. 1 snap-smb dyndown 22936336837 Apr 14  2021 U_wrf_hourly_gfdl_hist_1984.nc\n",
      "-rw-rw----. 1 snap-smb dyndown 22902728691 Apr 14  2021 U_wrf_hourly_gfdl_hist_1985.nc\n",
      "-rw-rw----. 1 snap-smb dyndown 22842220213 Apr 14  2021 U_wrf_hourly_gfdl_hist_1986.nc\n",
      "-rw-rw----. 1 snap-smb dyndown 22887298036 Apr 14  2021 U_wrf_hourly_gfdl_hist_1987.nc\n",
      "-rw-rw----. 1 snap-smb dyndown 22988830026 Apr 14  2021 U_wrf_hourly_gfdl_hist_1988.nc\n",
      "-rw-rw----. 1 snap-smb dyndown 22946768404 Apr 14  2021 U_wrf_hourly_gfdl_hist_1989.nc\n",
      "-rw-rw----. 1 snap-smb dyndown 22874775132 Apr 14  2021 U_wrf_hourly_gfdl_hist_1990.nc\n",
      "-rw-rw----. 1 snap-smb dyndown 22820242946 Apr 14  2021 U_wrf_hourly_gfdl_hist_1991.nc\n",
      "-rw-rw----. 1 snap-smb dyndown 22945022472 Apr 14  2021 U_wrf_hourly_gfdl_hist_1992.nc\n",
      "-rw-rw----. 1 snap-smb dyndown 22840316385 Apr 14  2021 U_wrf_hourly_gfdl_hist_1993.nc\n",
      "-rw-rw----. 1 snap-smb dyndown 22844529116 Apr 14  2021 U_wrf_hourly_gfdl_hist_1994.nc\n",
      "-rw-rw----. 1 snap-smb dyndown 22826263967 Apr 14  2021 U_wrf_hourly_gfdl_hist_1995.nc\n",
      "-rw-rw----. 1 snap-smb dyndown 22925435247 Apr 14  2021 U_wrf_hourly_gfdl_hist_1996.nc\n",
      "-rw-rw----. 1 snap-smb dyndown 22942532680 Apr 14  2021 U_wrf_hourly_gfdl_hist_1997.nc\n",
      "-rw-rw----. 1 snap-smb dyndown 22913724935 Apr 14  2021 U_wrf_hourly_gfdl_hist_1998.nc\n",
      "-rw-rw----. 1 snap-smb dyndown 22969722444 Apr 14  2021 U_wrf_hourly_gfdl_hist_1999.nc\n",
      "-rw-rw----. 1 snap-smb dyndown 22941684926 Apr 14  2021 U_wrf_hourly_gfdl_hist_2000.nc\n",
      "-rw-rw----. 1 snap-smb dyndown 22821917022 Apr 14  2021 U_wrf_hourly_gfdl_hist_2001.nc\n",
      "-rw-rw----. 1 snap-smb dyndown 23029382264 Apr 14  2021 U_wrf_hourly_gfdl_hist_2002.nc\n",
      "-rw-rw----. 1 snap-smb dyndown 22978579291 Apr 14  2021 U_wrf_hourly_gfdl_hist_2003.nc\n",
      "-rw-rw----. 1 snap-smb dyndown 22870016470 Apr 14  2021 U_wrf_hourly_gfdl_hist_2004.nc\n",
      "-rw-rw----. 1 snap-smb dyndown 22813066028 Apr 14  2021 U_wrf_hourly_gfdl_hist_2005.nc\n",
      "-rw-rw----. 1 snap-smb dyndown   128510622 Apr 14  2021 U_wrf_hourly_gfdl_hist_2006.nc\n",
      "lrwxrwxrwx. 1 snap-smb dyndown          68 Apr 14  2021 \u001b[01;36mU_wrf_hourly_gfdl_rcp85_2006.nc\u001b[0m -> /rcs/project_data/WRF_DATA_SEP2019/u/U_wrf_hourly_gfdl_rcp85_2006.nc\n",
      "lrwxrwxrwx. 1 snap-smb dyndown          68 Apr 14  2021 \u001b[01;36mU_wrf_hourly_gfdl_rcp85_2007.nc\u001b[0m -> /rcs/project_data/WRF_DATA_SEP2019/u/U_wrf_hourly_gfdl_rcp85_2007.nc\n",
      "lrwxrwxrwx. 1 snap-smb dyndown          68 Apr 14  2021 \u001b[01;36mU_wrf_hourly_gfdl_rcp85_2008.nc\u001b[0m -> /rcs/project_data/WRF_DATA_SEP2019/u/U_wrf_hourly_gfdl_rcp85_2008.nc\n",
      "lrwxrwxrwx. 1 snap-smb dyndown          68 Apr 14  2021 \u001b[01;36mU_wrf_hourly_gfdl_rcp85_2009.nc\u001b[0m -> /rcs/project_data/WRF_DATA_SEP2019/u/U_wrf_hourly_gfdl_rcp85_2009.nc\n",
      "lrwxrwxrwx. 1 snap-smb dyndown          68 Apr 14  2021 \u001b[01;36mU_wrf_hourly_gfdl_rcp85_2010.nc\u001b[0m -> /rcs/project_data/WRF_DATA_SEP2019/u/U_wrf_hourly_gfdl_rcp85_2010.nc\n",
      "lrwxrwxrwx. 1 snap-smb dyndown          68 Apr 14  2021 \u001b[01;36mU_wrf_hourly_gfdl_rcp85_2011.nc\u001b[0m -> /rcs/project_data/WRF_DATA_SEP2019/u/U_wrf_hourly_gfdl_rcp85_2011.nc\n",
      "lrwxrwxrwx. 1 snap-smb dyndown          68 Apr 14  2021 \u001b[01;36mU_wrf_hourly_gfdl_rcp85_2012.nc\u001b[0m -> /rcs/project_data/WRF_DATA_SEP2019/u/U_wrf_hourly_gfdl_rcp85_2012.nc\n",
      "lrwxrwxrwx. 1 snap-smb dyndown          68 Apr 14  2021 \u001b[01;36mU_wrf_hourly_gfdl_rcp85_2013.nc\u001b[0m -> /rcs/project_data/WRF_DATA_SEP2019/u/U_wrf_hourly_gfdl_rcp85_2013.nc\n",
      "lrwxrwxrwx. 1 snap-smb dyndown          68 Apr 14  2021 \u001b[01;36mU_wrf_hourly_gfdl_rcp85_2014.nc\u001b[0m -> /rcs/project_data/WRF_DATA_SEP2019/u/U_wrf_hourly_gfdl_rcp85_2014.nc\n",
      "lrwxrwxrwx. 1 snap-smb dyndown          68 Apr 14  2021 \u001b[01;36mU_wrf_hourly_gfdl_rcp85_2015.nc\u001b[0m -> /rcs/project_data/WRF_DATA_SEP2019/u/U_wrf_hourly_gfdl_rcp85_2015.nc\n",
      "lrwxrwxrwx. 1 snap-smb dyndown          68 Apr 14  2021 \u001b[01;36mU_wrf_hourly_gfdl_rcp85_2016.nc\u001b[0m -> /rcs/project_data/WRF_DATA_SEP2019/u/U_wrf_hourly_gfdl_rcp85_2016.nc\n",
      "lrwxrwxrwx. 1 snap-smb dyndown          68 Apr 14  2021 \u001b[01;36mU_wrf_hourly_gfdl_rcp85_2017.nc\u001b[0m -> /rcs/project_data/WRF_DATA_SEP2019/u/U_wrf_hourly_gfdl_rcp85_2017.nc\n",
      "lrwxrwxrwx. 1 snap-smb dyndown          68 Apr 14  2021 \u001b[01;36mU_wrf_hourly_gfdl_rcp85_2018.nc\u001b[0m -> /rcs/project_data/WRF_DATA_SEP2019/u/U_wrf_hourly_gfdl_rcp85_2018.nc\n",
      "lrwxrwxrwx. 1 snap-smb dyndown          68 Apr 14  2021 \u001b[01;36mU_wrf_hourly_gfdl_rcp85_2019.nc\u001b[0m -> /rcs/project_data/WRF_DATA_SEP2019/u/U_wrf_hourly_gfdl_rcp85_2019.nc\n",
      "lrwxrwxrwx. 1 snap-smb dyndown          68 Apr 14  2021 \u001b[01;36mU_wrf_hourly_gfdl_rcp85_2020.nc\u001b[0m -> /rcs/project_data/WRF_DATA_SEP2019/u/U_wrf_hourly_gfdl_rcp85_2020.nc\n",
      "lrwxrwxrwx. 1 snap-smb dyndown          68 Apr 14  2021 \u001b[01;36mU_wrf_hourly_gfdl_rcp85_2021.nc\u001b[0m -> /rcs/project_data/WRF_DATA_SEP2019/u/U_wrf_hourly_gfdl_rcp85_2021.nc\n",
      "lrwxrwxrwx. 1 snap-smb dyndown          68 Apr 14  2021 \u001b[01;36mU_wrf_hourly_gfdl_rcp85_2022.nc\u001b[0m -> /rcs/project_data/WRF_DATA_SEP2019/u/U_wrf_hourly_gfdl_rcp85_2022.nc\n",
      "lrwxrwxrwx. 1 snap-smb dyndown          68 Apr 14  2021 \u001b[01;36mU_wrf_hourly_gfdl_rcp85_2023.nc\u001b[0m -> /rcs/project_data/WRF_DATA_SEP2019/u/U_wrf_hourly_gfdl_rcp85_2023.nc\n",
      "lrwxrwxrwx. 1 snap-smb dyndown          68 Apr 14  2021 \u001b[01;36mU_wrf_hourly_gfdl_rcp85_2024.nc\u001b[0m -> /rcs/project_data/WRF_DATA_SEP2019/u/U_wrf_hourly_gfdl_rcp85_2024.nc\n",
      "lrwxrwxrwx. 1 snap-smb dyndown          68 Apr 14  2021 \u001b[01;36mU_wrf_hourly_gfdl_rcp85_2025.nc\u001b[0m -> /rcs/project_data/WRF_DATA_SEP2019/u/U_wrf_hourly_gfdl_rcp85_2025.nc\n",
      "lrwxrwxrwx. 1 snap-smb dyndown          68 Apr 14  2021 \u001b[01;36mU_wrf_hourly_gfdl_rcp85_2026.nc\u001b[0m -> /rcs/project_data/WRF_DATA_SEP2019/u/U_wrf_hourly_gfdl_rcp85_2026.nc\n",
      "lrwxrwxrwx. 1 snap-smb dyndown          68 Apr 14  2021 \u001b[01;36mU_wrf_hourly_gfdl_rcp85_2027.nc\u001b[0m -> /rcs/project_data/WRF_DATA_SEP2019/u/U_wrf_hourly_gfdl_rcp85_2027.nc\n",
      "lrwxrwxrwx. 1 snap-smb dyndown          68 Apr 14  2021 \u001b[01;36mU_wrf_hourly_gfdl_rcp85_2028.nc\u001b[0m -> /rcs/project_data/WRF_DATA_SEP2019/u/U_wrf_hourly_gfdl_rcp85_2028.nc\n",
      "lrwxrwxrwx. 1 snap-smb dyndown          68 Apr 14  2021 \u001b[01;36mU_wrf_hourly_gfdl_rcp85_2029.nc\u001b[0m -> /rcs/project_data/WRF_DATA_SEP2019/u/U_wrf_hourly_gfdl_rcp85_2029.nc\n",
      "lrwxrwxrwx. 1 snap-smb dyndown          68 Apr 14  2021 \u001b[01;36mU_wrf_hourly_gfdl_rcp85_2030.nc\u001b[0m -> /rcs/project_data/WRF_DATA_SEP2019/u/U_wrf_hourly_gfdl_rcp85_2030.nc\n",
      "lrwxrwxrwx. 1 snap-smb dyndown          68 Apr 14  2021 \u001b[01;36mU_wrf_hourly_gfdl_rcp85_2031.nc\u001b[0m -> /rcs/project_data/WRF_DATA_SEP2019/u/U_wrf_hourly_gfdl_rcp85_2031.nc\n",
      "lrwxrwxrwx. 1 snap-smb dyndown          68 Apr 14  2021 \u001b[01;36mU_wrf_hourly_gfdl_rcp85_2032.nc\u001b[0m -> /rcs/project_data/WRF_DATA_SEP2019/u/U_wrf_hourly_gfdl_rcp85_2032.nc\n",
      "lrwxrwxrwx. 1 snap-smb dyndown          68 Apr 14  2021 \u001b[01;36mU_wrf_hourly_gfdl_rcp85_2033.nc\u001b[0m -> /rcs/project_data/WRF_DATA_SEP2019/u/U_wrf_hourly_gfdl_rcp85_2033.nc\n",
      "lrwxrwxrwx. 1 snap-smb dyndown          68 Apr 14  2021 \u001b[01;36mU_wrf_hourly_gfdl_rcp85_2034.nc\u001b[0m -> /rcs/project_data/WRF_DATA_SEP2019/u/U_wrf_hourly_gfdl_rcp85_2034.nc\n",
      "lrwxrwxrwx. 1 snap-smb dyndown          68 Apr 14  2021 \u001b[01;36mU_wrf_hourly_gfdl_rcp85_2035.nc\u001b[0m -> /rcs/project_data/WRF_DATA_SEP2019/u/U_wrf_hourly_gfdl_rcp85_2035.nc\n",
      "lrwxrwxrwx. 1 snap-smb dyndown          68 Apr 14  2021 \u001b[01;36mU_wrf_hourly_gfdl_rcp85_2036.nc\u001b[0m -> /rcs/project_data/WRF_DATA_SEP2019/u/U_wrf_hourly_gfdl_rcp85_2036.nc\n",
      "lrwxrwxrwx. 1 snap-smb dyndown          68 Apr 14  2021 \u001b[01;36mU_wrf_hourly_gfdl_rcp85_2037.nc\u001b[0m -> /rcs/project_data/WRF_DATA_SEP2019/u/U_wrf_hourly_gfdl_rcp85_2037.nc\n",
      "lrwxrwxrwx. 1 snap-smb dyndown          68 Apr 14  2021 \u001b[01;36mU_wrf_hourly_gfdl_rcp85_2038.nc\u001b[0m -> /rcs/project_data/WRF_DATA_SEP2019/u/U_wrf_hourly_gfdl_rcp85_2038.nc\n",
      "lrwxrwxrwx. 1 snap-smb dyndown          68 Apr 14  2021 \u001b[01;36mU_wrf_hourly_gfdl_rcp85_2039.nc\u001b[0m -> /rcs/project_data/WRF_DATA_SEP2019/u/U_wrf_hourly_gfdl_rcp85_2039.nc\n",
      "lrwxrwxrwx. 1 snap-smb dyndown          68 Apr 14  2021 \u001b[01;36mU_wrf_hourly_gfdl_rcp85_2040.nc\u001b[0m -> /rcs/project_data/WRF_DATA_SEP2019/u/U_wrf_hourly_gfdl_rcp85_2040.nc\n",
      "lrwxrwxrwx. 1 snap-smb dyndown          68 Apr 14  2021 \u001b[01;36mU_wrf_hourly_gfdl_rcp85_2041.nc\u001b[0m -> /rcs/project_data/WRF_DATA_SEP2019/u/U_wrf_hourly_gfdl_rcp85_2041.nc\n",
      "lrwxrwxrwx. 1 snap-smb dyndown          68 Apr 14  2021 \u001b[01;36mU_wrf_hourly_gfdl_rcp85_2042.nc\u001b[0m -> /rcs/project_data/WRF_DATA_SEP2019/u/U_wrf_hourly_gfdl_rcp85_2042.nc\n",
      "lrwxrwxrwx. 1 snap-smb dyndown          68 Apr 14  2021 \u001b[01;36mU_wrf_hourly_gfdl_rcp85_2043.nc\u001b[0m -> /rcs/project_data/WRF_DATA_SEP2019/u/U_wrf_hourly_gfdl_rcp85_2043.nc\n",
      "lrwxrwxrwx. 1 snap-smb dyndown          68 Apr 14  2021 \u001b[01;36mU_wrf_hourly_gfdl_rcp85_2044.nc\u001b[0m -> /rcs/project_data/WRF_DATA_SEP2019/u/U_wrf_hourly_gfdl_rcp85_2044.nc\n",
      "lrwxrwxrwx. 1 snap-smb dyndown          68 Apr 14  2021 \u001b[01;36mU_wrf_hourly_gfdl_rcp85_2045.nc\u001b[0m -> /rcs/project_data/WRF_DATA_SEP2019/u/U_wrf_hourly_gfdl_rcp85_2045.nc\n",
      "lrwxrwxrwx. 1 snap-smb dyndown          68 Apr 14  2021 \u001b[01;36mU_wrf_hourly_gfdl_rcp85_2046.nc\u001b[0m -> /rcs/project_data/WRF_DATA_SEP2019/u/U_wrf_hourly_gfdl_rcp85_2046.nc\n",
      "lrwxrwxrwx. 1 snap-smb dyndown          68 Apr 14  2021 \u001b[01;36mU_wrf_hourly_gfdl_rcp85_2047.nc\u001b[0m -> /rcs/project_data/WRF_DATA_SEP2019/u/U_wrf_hourly_gfdl_rcp85_2047.nc\n",
      "lrwxrwxrwx. 1 snap-smb dyndown          68 Apr 14  2021 \u001b[01;36mU_wrf_hourly_gfdl_rcp85_2048.nc\u001b[0m -> /rcs/project_data/WRF_DATA_SEP2019/u/U_wrf_hourly_gfdl_rcp85_2048.nc\n",
      "lrwxrwxrwx. 1 snap-smb dyndown          68 Apr 14  2021 \u001b[01;36mU_wrf_hourly_gfdl_rcp85_2049.nc\u001b[0m -> /rcs/project_data/WRF_DATA_SEP2019/u/U_wrf_hourly_gfdl_rcp85_2049.nc\n",
      "lrwxrwxrwx. 1 snap-smb dyndown          68 Apr 14  2021 \u001b[01;36mU_wrf_hourly_gfdl_rcp85_2050.nc\u001b[0m -> /rcs/project_data/WRF_DATA_SEP2019/u/U_wrf_hourly_gfdl_rcp85_2050.nc\n",
      "lrwxrwxrwx. 1 snap-smb dyndown          68 Apr 14  2021 \u001b[01;36mU_wrf_hourly_gfdl_rcp85_2051.nc\u001b[0m -> /rcs/project_data/WRF_DATA_SEP2019/u/U_wrf_hourly_gfdl_rcp85_2051.nc\n",
      "lrwxrwxrwx. 1 snap-smb dyndown          68 Apr 14  2021 \u001b[01;36mU_wrf_hourly_gfdl_rcp85_2052.nc\u001b[0m -> /rcs/project_data/WRF_DATA_SEP2019/u/U_wrf_hourly_gfdl_rcp85_2052.nc\n",
      "lrwxrwxrwx. 1 snap-smb dyndown          68 Apr 14  2021 \u001b[01;36mU_wrf_hourly_gfdl_rcp85_2053.nc\u001b[0m -> /rcs/project_data/WRF_DATA_SEP2019/u/U_wrf_hourly_gfdl_rcp85_2053.nc\n",
      "lrwxrwxrwx. 1 snap-smb dyndown          68 Apr 14  2021 \u001b[01;36mU_wrf_hourly_gfdl_rcp85_2054.nc\u001b[0m -> /rcs/project_data/WRF_DATA_SEP2019/u/U_wrf_hourly_gfdl_rcp85_2054.nc\n",
      "lrwxrwxrwx. 1 snap-smb dyndown          68 Apr 14  2021 \u001b[01;36mU_wrf_hourly_gfdl_rcp85_2055.nc\u001b[0m -> /rcs/project_data/WRF_DATA_SEP2019/u/U_wrf_hourly_gfdl_rcp85_2055.nc\n",
      "lrwxrwxrwx. 1 snap-smb dyndown          68 Apr 14  2021 \u001b[01;36mU_wrf_hourly_gfdl_rcp85_2056.nc\u001b[0m -> /rcs/project_data/WRF_DATA_SEP2019/u/U_wrf_hourly_gfdl_rcp85_2056.nc\n",
      "lrwxrwxrwx. 1 snap-smb dyndown          68 Apr 14  2021 \u001b[01;36mU_wrf_hourly_gfdl_rcp85_2057.nc\u001b[0m -> /rcs/project_data/WRF_DATA_SEP2019/u/U_wrf_hourly_gfdl_rcp85_2057.nc\n",
      "lrwxrwxrwx. 1 snap-smb dyndown          68 Apr 14  2021 \u001b[01;36mU_wrf_hourly_gfdl_rcp85_2058.nc\u001b[0m -> /rcs/project_data/WRF_DATA_SEP2019/u/U_wrf_hourly_gfdl_rcp85_2058.nc\n",
      "lrwxrwxrwx. 1 snap-smb dyndown          68 Apr 14  2021 \u001b[01;36mU_wrf_hourly_gfdl_rcp85_2059.nc\u001b[0m -> /rcs/project_data/WRF_DATA_SEP2019/u/U_wrf_hourly_gfdl_rcp85_2059.nc\n",
      "lrwxrwxrwx. 1 snap-smb dyndown          68 Apr 14  2021 \u001b[01;36mU_wrf_hourly_gfdl_rcp85_2060.nc\u001b[0m -> /rcs/project_data/WRF_DATA_SEP2019/u/U_wrf_hourly_gfdl_rcp85_2060.nc\n",
      "lrwxrwxrwx. 1 snap-smb dyndown          68 Apr 14  2021 \u001b[01;36mU_wrf_hourly_gfdl_rcp85_2061.nc\u001b[0m -> /rcs/project_data/WRF_DATA_SEP2019/u/U_wrf_hourly_gfdl_rcp85_2061.nc\n",
      "lrwxrwxrwx. 1 snap-smb dyndown          68 Apr 14  2021 \u001b[01;36mU_wrf_hourly_gfdl_rcp85_2062.nc\u001b[0m -> /rcs/project_data/WRF_DATA_SEP2019/u/U_wrf_hourly_gfdl_rcp85_2062.nc\n",
      "lrwxrwxrwx. 1 snap-smb dyndown          68 Apr 14  2021 \u001b[01;36mU_wrf_hourly_gfdl_rcp85_2063.nc\u001b[0m -> /rcs/project_data/WRF_DATA_SEP2019/u/U_wrf_hourly_gfdl_rcp85_2063.nc\n",
      "lrwxrwxrwx. 1 snap-smb dyndown          68 Apr 14  2021 \u001b[01;36mU_wrf_hourly_gfdl_rcp85_2064.nc\u001b[0m -> /rcs/project_data/WRF_DATA_SEP2019/u/U_wrf_hourly_gfdl_rcp85_2064.nc\n",
      "lrwxrwxrwx. 1 snap-smb dyndown          68 Apr 14  2021 \u001b[01;36mU_wrf_hourly_gfdl_rcp85_2065.nc\u001b[0m -> /rcs/project_data/WRF_DATA_SEP2019/u/U_wrf_hourly_gfdl_rcp85_2065.nc\n",
      "lrwxrwxrwx. 1 snap-smb dyndown          68 Apr 14  2021 \u001b[01;36mU_wrf_hourly_gfdl_rcp85_2066.nc\u001b[0m -> /rcs/project_data/WRF_DATA_SEP2019/u/U_wrf_hourly_gfdl_rcp85_2066.nc\n",
      "lrwxrwxrwx. 1 snap-smb dyndown          68 Apr 14  2021 \u001b[01;36mU_wrf_hourly_gfdl_rcp85_2067.nc\u001b[0m -> /rcs/project_data/WRF_DATA_SEP2019/u/U_wrf_hourly_gfdl_rcp85_2067.nc\n",
      "lrwxrwxrwx. 1 snap-smb dyndown          68 Apr 14  2021 \u001b[01;36mU_wrf_hourly_gfdl_rcp85_2068.nc\u001b[0m -> /rcs/project_data/WRF_DATA_SEP2019/u/U_wrf_hourly_gfdl_rcp85_2068.nc\n",
      "lrwxrwxrwx. 1 snap-smb dyndown          68 Apr 14  2021 \u001b[01;36mU_wrf_hourly_gfdl_rcp85_2069.nc\u001b[0m -> /rcs/project_data/WRF_DATA_SEP2019/u/U_wrf_hourly_gfdl_rcp85_2069.nc\n",
      "lrwxrwxrwx. 1 snap-smb dyndown          68 Apr 14  2021 \u001b[01;36mU_wrf_hourly_gfdl_rcp85_2070.nc\u001b[0m -> /rcs/project_data/WRF_DATA_SEP2019/u/U_wrf_hourly_gfdl_rcp85_2070.nc\n",
      "lrwxrwxrwx. 1 snap-smb dyndown          68 Apr 14  2021 \u001b[01;36mU_wrf_hourly_gfdl_rcp85_2071.nc\u001b[0m -> /rcs/project_data/WRF_DATA_SEP2019/u/U_wrf_hourly_gfdl_rcp85_2071.nc\n",
      "lrwxrwxrwx. 1 snap-smb dyndown          68 Apr 14  2021 \u001b[01;36mU_wrf_hourly_gfdl_rcp85_2072.nc\u001b[0m -> /rcs/project_data/WRF_DATA_SEP2019/u/U_wrf_hourly_gfdl_rcp85_2072.nc\n",
      "lrwxrwxrwx. 1 snap-smb dyndown          68 Apr 14  2021 \u001b[01;36mU_wrf_hourly_gfdl_rcp85_2073.nc\u001b[0m -> /rcs/project_data/WRF_DATA_SEP2019/u/U_wrf_hourly_gfdl_rcp85_2073.nc\n",
      "lrwxrwxrwx. 1 snap-smb dyndown          68 Apr 14  2021 \u001b[01;36mU_wrf_hourly_gfdl_rcp85_2074.nc\u001b[0m -> /rcs/project_data/WRF_DATA_SEP2019/u/U_wrf_hourly_gfdl_rcp85_2074.nc\n",
      "lrwxrwxrwx. 1 snap-smb dyndown          68 Apr 14  2021 \u001b[01;36mU_wrf_hourly_gfdl_rcp85_2075.nc\u001b[0m -> /rcs/project_data/WRF_DATA_SEP2019/u/U_wrf_hourly_gfdl_rcp85_2075.nc\n",
      "-rw-rw----. 1 snap-smb dyndown 22839786112 Apr 14  2021 U_wrf_hourly_gfdl_rcp85_2076.nc\n",
      "-rw-rw----. 1 snap-smb dyndown 22876117503 Apr 14  2021 U_wrf_hourly_gfdl_rcp85_2077.nc\n",
      "-rw-rw----. 1 snap-smb dyndown 22786452032 Apr 14  2021 U_wrf_hourly_gfdl_rcp85_2078.nc\n",
      "-rw-rw----. 1 snap-smb dyndown 22930890646 Apr 14  2021 U_wrf_hourly_gfdl_rcp85_2079.nc\n",
      "-rw-rw----. 1 snap-smb dyndown 22867303394 Apr 14  2021 U_wrf_hourly_gfdl_rcp85_2080.nc\n",
      "-rw-rw----. 1 snap-smb dyndown 22825321965 Apr 15  2021 U_wrf_hourly_gfdl_rcp85_2081.nc\n",
      "-rw-rw----. 1 snap-smb dyndown 22807521677 Apr 15  2021 U_wrf_hourly_gfdl_rcp85_2082.nc\n",
      "-rw-rw----. 1 snap-smb dyndown 22870946142 Apr 15  2021 U_wrf_hourly_gfdl_rcp85_2083.nc\n",
      "-rw-rw----. 1 snap-smb dyndown 22741058495 Apr 15  2021 U_wrf_hourly_gfdl_rcp85_2084.nc\n",
      "-rw-rw----. 1 snap-smb dyndown 22762676844 Apr 15  2021 U_wrf_hourly_gfdl_rcp85_2085.nc\n",
      "-rw-rw----. 1 snap-smb dyndown 22860363058 Apr 15  2021 U_wrf_hourly_gfdl_rcp85_2086.nc\n",
      "-rw-rw----. 1 snap-smb dyndown 22838587371 Apr 15  2021 U_wrf_hourly_gfdl_rcp85_2087.nc\n",
      "-rw-rw----. 1 snap-smb dyndown 22801007119 Apr 15  2021 U_wrf_hourly_gfdl_rcp85_2088.nc\n",
      "-rw-rw----. 1 snap-smb dyndown 22775658678 Apr 15  2021 U_wrf_hourly_gfdl_rcp85_2089.nc\n",
      "-rw-rw----. 1 snap-smb dyndown 22757532865 Apr 15  2021 U_wrf_hourly_gfdl_rcp85_2090.nc\n",
      "-rw-rw----. 1 snap-smb dyndown 22830469265 Apr 15  2021 U_wrf_hourly_gfdl_rcp85_2091.nc\n",
      "-rw-rw----. 1 snap-smb dyndown 22717349273 Apr 15  2021 U_wrf_hourly_gfdl_rcp85_2092.nc\n",
      "-rw-rw----. 1 snap-smb dyndown 22907748576 Apr 15  2021 U_wrf_hourly_gfdl_rcp85_2093.nc\n",
      "-rw-rw----. 1 snap-smb dyndown 22821509543 Apr 15  2021 U_wrf_hourly_gfdl_rcp85_2094.nc\n",
      "-rw-rw----. 1 snap-smb dyndown 22853269416 Apr 15  2021 U_wrf_hourly_gfdl_rcp85_2095.nc\n",
      "-rw-rw----. 1 snap-smb dyndown 22774952199 Apr 15  2021 U_wrf_hourly_gfdl_rcp85_2096.nc\n",
      "-rw-rw----. 1 snap-smb dyndown 22716937813 Apr 15  2021 U_wrf_hourly_gfdl_rcp85_2097.nc\n",
      "-rw-rw----. 1 snap-smb dyndown 22771411891 Apr 15  2021 U_wrf_hourly_gfdl_rcp85_2098.nc\n",
      "-rw-rw----. 1 snap-smb dyndown 22877883894 Apr 15  2021 U_wrf_hourly_gfdl_rcp85_2099.nc\n",
      "-rw-rw----. 1 snap-smb dyndown 22930400809 Apr 15  2021 U_wrf_hourly_gfdl_rcp85_2100.nc\n"
     ]
    }
   ],
   "source": [
    "ls /rcs/project_data/wrf_data/wind-issue/hourly/u/ -l"
   ]
  },
  {
   "cell_type": "code",
   "execution_count": 79,
   "id": "4bfcb27b-3fc0-4dfb-97e1-51daf109728a",
   "metadata": {},
   "outputs": [
    {
     "data": {
      "text/plain": [
       "True"
      ]
     },
     "execution_count": 79,
     "metadata": {},
     "output_type": "execute_result"
    }
   ],
   "source": [
    "# check that file is older than a week\n",
    "os.path.getmtime(\"/rcs/project_data/wrf_data/hourly_fix/t/t_hourly_wrf_NCAR-CCSM4_historical_1986.nc\") < (time.time() - (60 ** 2 *24 * 7))"
   ]
  },
  {
   "cell_type": "code",
   "execution_count": 74,
   "id": "d9383202-4fcc-49cb-b0f7-13519b4e3416",
   "metadata": {},
   "outputs": [],
   "source": [
    "ds = xr.open_dataset(\"/rcs/project_data/wrf_data/hourly_fix/t2/t2_hourly_wrf_ERA-Interim_historical_2004.nc\")\n"
   ]
  },
  {
   "cell_type": "code",
   "execution_count": 77,
   "id": "b27205ff-7eed-4951-9bd5-b60b9402e153",
   "metadata": {},
   "outputs": [
    {
     "name": "stdout",
     "output_type": "stream",
     "text": [
      "-rw-rw----. 1 snap-smb dyndown 1223328158 Mar 13  2019 /rcs/project_data/wrf_data/hourly_fix/t2/t2_hourly_wrf_ERA-Interim_historical_2004.nc\n"
     ]
    }
   ],
   "source": [
    "ls -l /rcs/project_data/wrf_data/hourly_fix/t2/t2_hourly_wrf_ERA-Interim_historical_2004.nc"
   ]
  },
  {
   "cell_type": "code",
   "execution_count": 59,
   "id": "c9724b30-4580-4b1d-89eb-18e3905f08c6",
   "metadata": {},
   "outputs": [],
   "source": [
    "ds = xr.open_dataset(\"/workspace/Shared/Tech_Projects/wrf_data/project_data/include-latlon/snowc_hourly_wrf_GFDL-CM3_historical_2006.nc\")"
   ]
  },
  {
   "cell_type": "code",
   "execution_count": null,
   "id": "523600bf-558e-4001-bee8-ffeebfe5f3b5",
   "metadata": {},
   "outputs": [],
   "source": [
    "ds = xr.open_dataset(\"/rcs/project_data/wrf_data/hourly/t/T_hourly_wrf_ERA-Interim_historical_2004.nc\")\n"
   ]
  },
  {
   "cell_type": "code",
   "execution_count": 65,
   "id": "08e0fea9-c261-459d-a0d2-b74a033778b4",
   "metadata": {},
   "outputs": [
    {
     "name": "stdout",
     "output_type": "stream",
     "text": [
      "T2_wrf_hourly_ccsm_hist_1970.nc    T2_wrf_hourly_era_interim_1998.nc\n",
      "T2_wrf_hourly_ccsm_hist_1971.nc    T2_wrf_hourly_era_interim_1999.nc\n",
      "T2_wrf_hourly_ccsm_hist_1972.nc    T2_wrf_hourly_era_interim_2000.nc\n",
      "T2_wrf_hourly_ccsm_hist_1973.nc    T2_wrf_hourly_era_interim_2001.nc\n",
      "T2_wrf_hourly_ccsm_hist_1974.nc    T2_wrf_hourly_era_interim_2002.nc\n",
      "T2_wrf_hourly_ccsm_hist_1975.nc    T2_wrf_hourly_era_interim_2003.nc\n",
      "T2_wrf_hourly_ccsm_hist_1976.nc    T2_wrf_hourly_era_interim_2004.nc\n",
      "T2_wrf_hourly_ccsm_hist_1977.nc    T2_wrf_hourly_era_interim_2005.nc\n",
      "T2_wrf_hourly_ccsm_hist_1978.nc    T2_wrf_hourly_era_interim_2006.nc\n",
      "T2_wrf_hourly_ccsm_hist_1979.nc    T2_wrf_hourly_era_interim_2007.nc\n",
      "T2_wrf_hourly_ccsm_hist_1980.nc    T2_wrf_hourly_era_interim_2008.nc\n",
      "T2_wrf_hourly_ccsm_hist_1981.nc    T2_wrf_hourly_era_interim_2009.nc\n",
      "T2_wrf_hourly_ccsm_hist_1982.nc    T2_wrf_hourly_era_interim_2010.nc\n",
      "T2_wrf_hourly_ccsm_hist_1983.nc    T2_wrf_hourly_era_interim_2011.nc\n",
      "T2_wrf_hourly_ccsm_hist_1984.nc    T2_wrf_hourly_era_interim_2012.nc\n",
      "T2_wrf_hourly_ccsm_hist_1985.nc    T2_wrf_hourly_era_interim_2013.nc\n",
      "T2_wrf_hourly_ccsm_hist_1986.nc    T2_wrf_hourly_era_interim_2014.nc\n",
      "T2_wrf_hourly_ccsm_hist_1987.nc    T2_wrf_hourly_era_interim_2015.nc\n",
      "T2_wrf_hourly_ccsm_hist_1988.nc    T2_wrf_hourly_gfdl_hist_1970.nc\n",
      "T2_wrf_hourly_ccsm_hist_1989.nc    T2_wrf_hourly_gfdl_hist_1971.nc\n",
      "T2_wrf_hourly_ccsm_hist_1990.nc    T2_wrf_hourly_gfdl_hist_1972.nc\n",
      "T2_wrf_hourly_ccsm_hist_1991.nc    T2_wrf_hourly_gfdl_hist_1973.nc\n",
      "T2_wrf_hourly_ccsm_hist_1992.nc    T2_wrf_hourly_gfdl_hist_1974.nc\n",
      "T2_wrf_hourly_ccsm_hist_1993.nc    T2_wrf_hourly_gfdl_hist_1975.nc\n",
      "T2_wrf_hourly_ccsm_hist_1994.nc    T2_wrf_hourly_gfdl_hist_1976.nc\n",
      "T2_wrf_hourly_ccsm_hist_1995.nc    T2_wrf_hourly_gfdl_hist_1977.nc\n",
      "T2_wrf_hourly_ccsm_hist_1996.nc    T2_wrf_hourly_gfdl_hist_1978.nc\n",
      "T2_wrf_hourly_ccsm_hist_1997.nc    T2_wrf_hourly_gfdl_hist_1979.nc\n",
      "T2_wrf_hourly_ccsm_hist_1998.nc    T2_wrf_hourly_gfdl_hist_1980.nc\n",
      "T2_wrf_hourly_ccsm_hist_1999.nc    T2_wrf_hourly_gfdl_hist_1981.nc\n",
      "T2_wrf_hourly_ccsm_hist_2000.nc    T2_wrf_hourly_gfdl_hist_1982.nc\n",
      "T2_wrf_hourly_ccsm_hist_2001.nc    T2_wrf_hourly_gfdl_hist_1983.nc\n",
      "T2_wrf_hourly_ccsm_hist_2002.nc    T2_wrf_hourly_gfdl_hist_1984.nc\n",
      "T2_wrf_hourly_ccsm_hist_2003.nc    T2_wrf_hourly_gfdl_hist_1985.nc\n",
      "T2_wrf_hourly_ccsm_hist_2004.nc    T2_wrf_hourly_gfdl_hist_1986.nc\n",
      "T2_wrf_hourly_ccsm_hist_2005.nc    T2_wrf_hourly_gfdl_hist_1987.nc\n",
      "T2_wrf_hourly_ccsm_rcp85_2006.nc   T2_wrf_hourly_gfdl_hist_1988.nc\n",
      "T2_wrf_hourly_ccsm_rcp85_2007.nc   T2_wrf_hourly_gfdl_hist_1989.nc\n",
      "T2_wrf_hourly_ccsm_rcp85_2008.nc   T2_wrf_hourly_gfdl_hist_1990.nc\n",
      "T2_wrf_hourly_ccsm_rcp85_2009.nc   T2_wrf_hourly_gfdl_hist_1991.nc\n",
      "T2_wrf_hourly_ccsm_rcp85_2010.nc   T2_wrf_hourly_gfdl_hist_1992.nc\n",
      "T2_wrf_hourly_ccsm_rcp85_2011.nc   T2_wrf_hourly_gfdl_hist_1993.nc\n",
      "T2_wrf_hourly_ccsm_rcp85_2012.nc   T2_wrf_hourly_gfdl_hist_1994.nc\n",
      "T2_wrf_hourly_ccsm_rcp85_2013.nc   T2_wrf_hourly_gfdl_hist_1995.nc\n",
      "T2_wrf_hourly_ccsm_rcp85_2014.nc   T2_wrf_hourly_gfdl_hist_1996.nc\n",
      "T2_wrf_hourly_ccsm_rcp85_2015.nc   T2_wrf_hourly_gfdl_hist_1997.nc\n",
      "T2_wrf_hourly_ccsm_rcp85_2016.nc   T2_wrf_hourly_gfdl_hist_1998.nc\n",
      "T2_wrf_hourly_ccsm_rcp85_2017.nc   T2_wrf_hourly_gfdl_hist_1999.nc\n",
      "T2_wrf_hourly_ccsm_rcp85_2018.nc   T2_wrf_hourly_gfdl_hist_2000.nc\n",
      "T2_wrf_hourly_ccsm_rcp85_2019.nc   T2_wrf_hourly_gfdl_hist_2001.nc\n",
      "T2_wrf_hourly_ccsm_rcp85_2020.nc   T2_wrf_hourly_gfdl_hist_2002.nc\n",
      "T2_wrf_hourly_ccsm_rcp85_2021.nc   T2_wrf_hourly_gfdl_hist_2003.nc\n",
      "T2_wrf_hourly_ccsm_rcp85_2022.nc   T2_wrf_hourly_gfdl_hist_2004.nc\n",
      "T2_wrf_hourly_ccsm_rcp85_2023.nc   T2_wrf_hourly_gfdl_hist_2005.nc\n",
      "T2_wrf_hourly_ccsm_rcp85_2024.nc   T2_wrf_hourly_gfdl_hist_2006.nc\n",
      "T2_wrf_hourly_ccsm_rcp85_2025.nc   T2_wrf_hourly_gfdl_rcp85_2006.nc\n",
      "T2_wrf_hourly_ccsm_rcp85_2026.nc   T2_wrf_hourly_gfdl_rcp85_2007.nc\n",
      "T2_wrf_hourly_ccsm_rcp85_2027.nc   T2_wrf_hourly_gfdl_rcp85_2008.nc\n",
      "T2_wrf_hourly_ccsm_rcp85_2028.nc   T2_wrf_hourly_gfdl_rcp85_2009.nc\n",
      "T2_wrf_hourly_ccsm_rcp85_2029.nc   T2_wrf_hourly_gfdl_rcp85_2010.nc\n",
      "T2_wrf_hourly_ccsm_rcp85_2030.nc   T2_wrf_hourly_gfdl_rcp85_2011.nc\n",
      "T2_wrf_hourly_ccsm_rcp85_2031.nc   T2_wrf_hourly_gfdl_rcp85_2012.nc\n",
      "T2_wrf_hourly_ccsm_rcp85_2032.nc   T2_wrf_hourly_gfdl_rcp85_2013.nc\n",
      "T2_wrf_hourly_ccsm_rcp85_2033.nc   T2_wrf_hourly_gfdl_rcp85_2014.nc\n",
      "T2_wrf_hourly_ccsm_rcp85_2034.nc   T2_wrf_hourly_gfdl_rcp85_2015.nc\n",
      "T2_wrf_hourly_ccsm_rcp85_2035.nc   T2_wrf_hourly_gfdl_rcp85_2016.nc\n",
      "T2_wrf_hourly_ccsm_rcp85_2036.nc   T2_wrf_hourly_gfdl_rcp85_2017.nc\n",
      "T2_wrf_hourly_ccsm_rcp85_2037.nc   T2_wrf_hourly_gfdl_rcp85_2018.nc\n",
      "T2_wrf_hourly_ccsm_rcp85_2038.nc   T2_wrf_hourly_gfdl_rcp85_2019.nc\n",
      "T2_wrf_hourly_ccsm_rcp85_2039.nc   T2_wrf_hourly_gfdl_rcp85_2020.nc\n",
      "T2_wrf_hourly_ccsm_rcp85_2040.nc   T2_wrf_hourly_gfdl_rcp85_2021.nc\n",
      "T2_wrf_hourly_ccsm_rcp85_2041.nc   T2_wrf_hourly_gfdl_rcp85_2022.nc\n",
      "T2_wrf_hourly_ccsm_rcp85_2042.nc   T2_wrf_hourly_gfdl_rcp85_2023.nc\n",
      "T2_wrf_hourly_ccsm_rcp85_2043.nc   T2_wrf_hourly_gfdl_rcp85_2024.nc\n",
      "T2_wrf_hourly_ccsm_rcp85_2044.nc   T2_wrf_hourly_gfdl_rcp85_2025.nc\n",
      "T2_wrf_hourly_ccsm_rcp85_2045.nc   T2_wrf_hourly_gfdl_rcp85_2026.nc\n",
      "T2_wrf_hourly_ccsm_rcp85_2046.nc   T2_wrf_hourly_gfdl_rcp85_2027.nc\n",
      "T2_wrf_hourly_ccsm_rcp85_2047.nc   T2_wrf_hourly_gfdl_rcp85_2028.nc\n",
      "T2_wrf_hourly_ccsm_rcp85_2048.nc   T2_wrf_hourly_gfdl_rcp85_2029.nc\n",
      "T2_wrf_hourly_ccsm_rcp85_2049.nc   T2_wrf_hourly_gfdl_rcp85_2030.nc\n",
      "T2_wrf_hourly_ccsm_rcp85_2050.nc   T2_wrf_hourly_gfdl_rcp85_2031.nc\n",
      "T2_wrf_hourly_ccsm_rcp85_2051.nc   T2_wrf_hourly_gfdl_rcp85_2032.nc\n",
      "T2_wrf_hourly_ccsm_rcp85_2052.nc   T2_wrf_hourly_gfdl_rcp85_2033.nc\n",
      "T2_wrf_hourly_ccsm_rcp85_2053.nc   T2_wrf_hourly_gfdl_rcp85_2034.nc\n",
      "T2_wrf_hourly_ccsm_rcp85_2054.nc   T2_wrf_hourly_gfdl_rcp85_2035.nc\n",
      "T2_wrf_hourly_ccsm_rcp85_2055.nc   T2_wrf_hourly_gfdl_rcp85_2036.nc\n",
      "T2_wrf_hourly_ccsm_rcp85_2056.nc   T2_wrf_hourly_gfdl_rcp85_2037.nc\n",
      "T2_wrf_hourly_ccsm_rcp85_2057.nc   T2_wrf_hourly_gfdl_rcp85_2038.nc\n",
      "T2_wrf_hourly_ccsm_rcp85_2058.nc   T2_wrf_hourly_gfdl_rcp85_2039.nc\n",
      "T2_wrf_hourly_ccsm_rcp85_2059.nc   T2_wrf_hourly_gfdl_rcp85_2040.nc\n",
      "T2_wrf_hourly_ccsm_rcp85_2060.nc   T2_wrf_hourly_gfdl_rcp85_2041.nc\n",
      "T2_wrf_hourly_ccsm_rcp85_2061.nc   T2_wrf_hourly_gfdl_rcp85_2042.nc\n",
      "T2_wrf_hourly_ccsm_rcp85_2062.nc   T2_wrf_hourly_gfdl_rcp85_2043.nc\n",
      "T2_wrf_hourly_ccsm_rcp85_2063.nc   T2_wrf_hourly_gfdl_rcp85_2044.nc\n",
      "T2_wrf_hourly_ccsm_rcp85_2064.nc   T2_wrf_hourly_gfdl_rcp85_2045.nc\n",
      "T2_wrf_hourly_ccsm_rcp85_2065.nc   T2_wrf_hourly_gfdl_rcp85_2046.nc\n",
      "T2_wrf_hourly_ccsm_rcp85_2066.nc   T2_wrf_hourly_gfdl_rcp85_2047.nc\n",
      "T2_wrf_hourly_ccsm_rcp85_2067.nc   T2_wrf_hourly_gfdl_rcp85_2048.nc\n",
      "T2_wrf_hourly_ccsm_rcp85_2068.nc   T2_wrf_hourly_gfdl_rcp85_2049.nc\n",
      "T2_wrf_hourly_ccsm_rcp85_2069.nc   T2_wrf_hourly_gfdl_rcp85_2050.nc\n",
      "T2_wrf_hourly_ccsm_rcp85_2070.nc   T2_wrf_hourly_gfdl_rcp85_2051.nc\n",
      "T2_wrf_hourly_ccsm_rcp85_2071.nc   T2_wrf_hourly_gfdl_rcp85_2052.nc\n",
      "T2_wrf_hourly_ccsm_rcp85_2072.nc   T2_wrf_hourly_gfdl_rcp85_2053.nc\n",
      "T2_wrf_hourly_ccsm_rcp85_2073.nc   T2_wrf_hourly_gfdl_rcp85_2054.nc\n",
      "T2_wrf_hourly_ccsm_rcp85_2074.nc   T2_wrf_hourly_gfdl_rcp85_2055.nc\n",
      "T2_wrf_hourly_ccsm_rcp85_2075.nc   T2_wrf_hourly_gfdl_rcp85_2056.nc\n",
      "T2_wrf_hourly_ccsm_rcp85_2076.nc   T2_wrf_hourly_gfdl_rcp85_2057.nc\n",
      "T2_wrf_hourly_ccsm_rcp85_2077.nc   T2_wrf_hourly_gfdl_rcp85_2058.nc\n",
      "T2_wrf_hourly_ccsm_rcp85_2078.nc   T2_wrf_hourly_gfdl_rcp85_2059.nc\n",
      "T2_wrf_hourly_ccsm_rcp85_2079.nc   T2_wrf_hourly_gfdl_rcp85_2060.nc\n",
      "T2_wrf_hourly_ccsm_rcp85_2080.nc   T2_wrf_hourly_gfdl_rcp85_2061.nc\n",
      "T2_wrf_hourly_ccsm_rcp85_2081.nc   T2_wrf_hourly_gfdl_rcp85_2062.nc\n",
      "T2_wrf_hourly_ccsm_rcp85_2082.nc   T2_wrf_hourly_gfdl_rcp85_2063.nc\n",
      "T2_wrf_hourly_ccsm_rcp85_2083.nc   T2_wrf_hourly_gfdl_rcp85_2064.nc\n",
      "T2_wrf_hourly_ccsm_rcp85_2084.nc   T2_wrf_hourly_gfdl_rcp85_2065.nc\n",
      "T2_wrf_hourly_ccsm_rcp85_2085.nc   T2_wrf_hourly_gfdl_rcp85_2066.nc\n",
      "T2_wrf_hourly_ccsm_rcp85_2086.nc   T2_wrf_hourly_gfdl_rcp85_2067.nc\n",
      "T2_wrf_hourly_ccsm_rcp85_2087.nc   T2_wrf_hourly_gfdl_rcp85_2068.nc\n",
      "T2_wrf_hourly_ccsm_rcp85_2088.nc   T2_wrf_hourly_gfdl_rcp85_2069.nc\n",
      "T2_wrf_hourly_ccsm_rcp85_2089.nc   T2_wrf_hourly_gfdl_rcp85_2070.nc\n",
      "T2_wrf_hourly_ccsm_rcp85_2090.nc   T2_wrf_hourly_gfdl_rcp85_2071.nc\n",
      "T2_wrf_hourly_ccsm_rcp85_2091.nc   T2_wrf_hourly_gfdl_rcp85_2072.nc\n",
      "T2_wrf_hourly_ccsm_rcp85_2092.nc   T2_wrf_hourly_gfdl_rcp85_2073.nc\n",
      "T2_wrf_hourly_ccsm_rcp85_2093.nc   T2_wrf_hourly_gfdl_rcp85_2074.nc\n",
      "T2_wrf_hourly_ccsm_rcp85_2094.nc   T2_wrf_hourly_gfdl_rcp85_2075.nc\n",
      "T2_wrf_hourly_ccsm_rcp85_2095.nc   T2_wrf_hourly_gfdl_rcp85_2076.nc\n",
      "T2_wrf_hourly_ccsm_rcp85_2096.nc   T2_wrf_hourly_gfdl_rcp85_2077.nc\n",
      "T2_wrf_hourly_ccsm_rcp85_2097.nc   T2_wrf_hourly_gfdl_rcp85_2078.nc\n",
      "T2_wrf_hourly_ccsm_rcp85_2098.nc   T2_wrf_hourly_gfdl_rcp85_2079.nc\n",
      "T2_wrf_hourly_ccsm_rcp85_2099.nc   T2_wrf_hourly_gfdl_rcp85_2080.nc\n",
      "T2_wrf_hourly_ccsm_rcp85_2100.nc   T2_wrf_hourly_gfdl_rcp85_2081.nc\n",
      "T2_wrf_hourly_era_interim_1979.nc  T2_wrf_hourly_gfdl_rcp85_2082.nc\n",
      "T2_wrf_hourly_era_interim_1980.nc  T2_wrf_hourly_gfdl_rcp85_2083.nc\n",
      "T2_wrf_hourly_era_interim_1981.nc  T2_wrf_hourly_gfdl_rcp85_2084.nc\n",
      "T2_wrf_hourly_era_interim_1982.nc  T2_wrf_hourly_gfdl_rcp85_2085.nc\n",
      "T2_wrf_hourly_era_interim_1983.nc  T2_wrf_hourly_gfdl_rcp85_2086.nc\n",
      "T2_wrf_hourly_era_interim_1984.nc  T2_wrf_hourly_gfdl_rcp85_2087.nc\n",
      "T2_wrf_hourly_era_interim_1985.nc  T2_wrf_hourly_gfdl_rcp85_2088.nc\n",
      "T2_wrf_hourly_era_interim_1986.nc  T2_wrf_hourly_gfdl_rcp85_2089.nc\n",
      "T2_wrf_hourly_era_interim_1987.nc  T2_wrf_hourly_gfdl_rcp85_2090.nc\n",
      "T2_wrf_hourly_era_interim_1988.nc  T2_wrf_hourly_gfdl_rcp85_2091.nc\n",
      "T2_wrf_hourly_era_interim_1989.nc  T2_wrf_hourly_gfdl_rcp85_2092.nc\n",
      "T2_wrf_hourly_era_interim_1990.nc  T2_wrf_hourly_gfdl_rcp85_2093.nc\n",
      "T2_wrf_hourly_era_interim_1991.nc  T2_wrf_hourly_gfdl_rcp85_2094.nc\n",
      "T2_wrf_hourly_era_interim_1992.nc  T2_wrf_hourly_gfdl_rcp85_2095.nc\n",
      "T2_wrf_hourly_era_interim_1993.nc  T2_wrf_hourly_gfdl_rcp85_2096.nc\n",
      "T2_wrf_hourly_era_interim_1994.nc  T2_wrf_hourly_gfdl_rcp85_2097.nc\n",
      "T2_wrf_hourly_era_interim_1995.nc  T2_wrf_hourly_gfdl_rcp85_2098.nc\n",
      "T2_wrf_hourly_era_interim_1996.nc  T2_wrf_hourly_gfdl_rcp85_2099.nc\n",
      "T2_wrf_hourly_era_interim_1997.nc  T2_wrf_hourly_gfdl_rcp85_2100.nc\n"
     ]
    }
   ],
   "source": [
    "ls /rcs/project_data/wrf_data/hourly/"
   ]
  },
  {
   "cell_type": "code",
   "execution_count": null,
   "id": "09ac2231-760a-4e09-8c56-e3eb7b07a774",
   "metadata": {},
   "outputs": [],
   "source": []
  }
 ],
 "metadata": {
  "kernelspec": {
   "display_name": "Python 3 (ipykernel)",
   "language": "python",
   "name": "python3"
  },
  "language_info": {
   "codemirror_mode": {
    "name": "ipython",
    "version": 3
   },
   "file_extension": ".py",
   "mimetype": "text/x-python",
   "name": "python",
   "nbconvert_exporter": "python",
   "pygments_lexer": "ipython3",
   "version": "3.7.11"
  }
 },
 "nbformat": 4,
 "nbformat_minor": 5
}
