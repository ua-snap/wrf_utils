{
 "cells": [
  {
   "cell_type": "markdown",
   "metadata": {},
   "source": [
    "# ISSUES WITH WRF-SMOKE NETCDF DATA\n",
    "\n",
    "__working_filename__: `/workspace/Shared/Users/malindgren/wrf_smoke/raw/wrfout_d01_2017-06-15_00:00:00`\n",
    "\n",
    "***things we know from the file itself and supplemental emails:***\n",
    "- **proj4 string:**\t`+proj=lcc +lat_1=65 +lat_2=65 +lat_0=65 +lon_0=-152 +R=6370000`\n",
    "- **GRID METADATA**\n",
    "    - GRID_ID:                         1\n",
    "    - PARENT_ID:                       0\n",
    "    - I_PARENT_START:                  1\n",
    "    - J_PARENT_START:                  1\n",
    "    - PARENT_GRID_RATIO:               1\n",
    "    - CEN_LAT:                         65.0\n",
    "    - CEN_LON:                         -152.0\n",
    "    - TRUELAT1:                        65.0\n",
    "    - TRUELAT2:                        65.0\n",
    "    - MOAD_CEN_LAT:                    65.0\n",
    "    - STAND_LON:                       -152.0\n",
    "    - POLE_LAT:                        90.0\n",
    "    - POLE_LON:                        0.0\n",
    "    - GMT:                             0.0\n",
    "    - JULYR:                           2017\n",
    "    - JULDAY:                          166\n",
    "    - MAP_PROJ:                        1\n",
    "    - MAP_PROJ_CHAR:                   Lambert Conformal\n"
   ]
  },
  {
   "cell_type": "code",
   "execution_count": 1,
   "metadata": {},
   "outputs": [
    {
     "name": "stderr",
     "output_type": "stream",
     "text": [
      "/Users/malindgren/v3/lib/python3.5/site-packages/xarray/core/formatting.py:16: FutureWarning: The pandas.tslib module is deprecated and will be removed in a future version.\n",
      "  from pandas.tslib import OutOfBoundsDatetime\n"
     ]
    }
   ],
   "source": [
    "# lets read in the file so we can examine some _stuff_ about it\n",
    "import xarray as xr\n",
    "import pandas as pd\n",
    "import numpy as np\n",
    "import rasterio\n",
    "\n",
    "fn = '/Volumes/Shared/Users/malindgren/wrf_smoke/raw/wrfout_d01_2017-06-15_00-00-00_ML.nc'\n",
    "ds = xr.open_dataset( fn )"
   ]
  },
  {
   "cell_type": "markdown",
   "metadata": {},
   "source": [
    "### We know (from Chris' email) that `XLONG` `XLAT` are the spatial dimensions we should use. *Note I am assuming these are in the source crs which was determined to be Lambert projection or WRF-GRID:01 (see above file metadata)."
   ]
  },
  {
   "cell_type": "code",
   "execution_count": 2,
   "metadata": {},
   "outputs": [
    {
     "name": "stdout",
     "output_type": "stream",
     "text": [
      "LONGITUDES ARE NOT REGULARLY SPACED:\n",
      "  longitude diff min: 0.0818023681640625\n",
      "  longitude diff max: 0.1420440673828125\n",
      "\n",
      "LATITUDES ARE REGULARLY SPACED:\n",
      "  latitude diff min: -0.01416015625\n",
      "  latitude diff max: 0.01416015625\n"
     ]
    }
   ],
   "source": [
    "# grab only a single 2D slice of the dimension.\n",
    "lons = ds[ 'XLONG' ][ 0 ]\n",
    "lats = ds[ 'XLAT' ][ 0 ]\n",
    "\n",
    "# resolution -- sort of hacky but should get us close if it is a regular grid (spoiler alert!: its not)\n",
    "lons_diff = np.diff( lons )\n",
    "print( 'LONGITUDES ARE NOT REGULARLY SPACED:' )\n",
    "print( '  longitude diff min: {}\\n  longitude diff max: {}\\n'.format( lons_diff.min(), lons_diff.max() ) )\n",
    "lats_diff = np.diff( lats )\n",
    "print( 'LATITUDES ARE REGULARLY SPACED:' )\n",
    "print( '  latitude diff min: {}\\n  latitude diff max: {}'.format( lats_diff.min(), lats_diff.max() ) )"
   ]
  },
  {
   "cell_type": "markdown",
   "metadata": {},
   "source": [
    "### using what we know from the file we can make a very simplistic [affine transform](http://www.perrygeo.com/python-affine-transforms.html) for these data, which should get us somewhat close to where we should be in space.\n",
    "\n",
    "BUT as we have seen above the data are _not_ regularly spaced... So a common way of determining a resolution for the raster would be to take the `np.mean` of the non-regularly spaced longitudes."
   ]
  },
  {
   "cell_type": "code",
   "execution_count": 3,
   "metadata": {},
   "outputs": [
    {
     "name": "stdout",
     "output_type": "stream",
     "text": [
      "origin from file: (-172.42266845703125,71.68465423583984)\n"
     ]
    }
   ],
   "source": [
    "lon_res = np.mean( lons_diff.ravel() )\n",
    "lat_res = lats_diff.ravel()[0] # grab the first one since this dimension is regularly spaced.\n",
    "\n",
    "import rasterio\n",
    "\n",
    "# grab the upper-left corner - which is where GDAL (and rasterio) reads from. aka the origin.\n",
    "ulx, uly = np.min( lons.data ), np.max( lats.data )\n",
    "print( 'origin from file: ({},{})'.format(ulx, uly) )\n"
   ]
  },
  {
   "cell_type": "markdown",
   "metadata": {},
   "source": [
    "Now, lets look at the ulx,uly values from the above cell, while comparing to the `GCPs` which we also received from the data provider.\n",
    "\n",
    "`-gcp 0 0 -164.510605 57.652809 -gcp 0 298 -172.422668 70.599640 -gcp 298 0 -139.489395 57.652809 -gcp 298 298 -131.577332 70.599640`\n",
    "\n",
    "A quick look at cell 0,0 (which would be the origin of the file) in the above gcps shows: `-164.510605, 57.652809`\n",
    "This is obviously incorrect given the GDAL way of reading files, so we are not going to be able to use the row/col id's coupled with the x,y for the GCPs...  at least in the form it is now.  Also, according to Chris' most recent email, these GCP's characterize the corner points of the grid to be generated, which do not seem to match those in the `XLONG`/`XLAT` dimensions in the NetCDF file.\n",
    "\n",
    "It apears that in the above GCPs `-gcp 0 298 -172.422668 70.599640` appears to be closest to the upper-left corner that we want for our affine transform origin, based on the `XLONG`/`XLAT` dimensions in the file. From the file, however, our origin is `-172.42266845703125, 71.68465423583984`, which is fine for longitudes, but for latitudes it is _close_, but not exact. This means that the data we are pulling from the file are more likely the corner points and the gcps are located somewhere within the cell it is related to.\n",
    "\n",
    "Lets do a difference of the 2 latitude corners:\n",
    "\n",
    "`71.68465423583984 - 70.599640 = 1.08501423583985`\n",
    "\n",
    "Judging by the data coordinates, the data do not seem to have a resolution of >=1 degree (see spacing min/max above), so I am not sure what this GCP is in reference to...  Its not a centroid, which would be 1/2 the cell resolution in each direction, and it is not the upper-left corner which would mean it was the same as the max latitude in the NetCDF file, and it is not. Ultimately, something is incorrect in either the GCPs provided, _or_ the information in the NetCDF file. Hard to tell what is wrong.\n",
    "\n",
    "\n"
   ]
  },
  {
   "cell_type": "code",
   "execution_count": 11,
   "metadata": {},
   "outputs": [
    {
     "name": "stdout",
     "output_type": "stream",
     "text": [
      "<xarray.Dataset>\n",
      "Dimensions:    (level: 29, time: 24, x: 299, y: 299)\n",
      "Coordinates:\n",
      "    lon        (x, y) float32 -164.511 -164.429 -164.347 -164.265 -164.183 ...\n",
      "  * time       (time) datetime64[ns] 2017-06-15 2017-06-15T01:00:00 ...\n",
      "    lat        (x, y) float32 57.6528 57.6616 57.6702 57.6789 57.6875 57.696 ...\n",
      "  * level      (level) int32 0 1 2 3 4 5 6 7 8 9 10 11 12 13 14 15 16 17 18 ...\n",
      "Dimensions without coordinates: x, y\n",
      "Data variables:\n",
      "    PM2_5_DRY  (time, level, x, y) float32 0.0 0.0 0.0 0.0 0.0 0.0 0.0 0.0 ...\n",
      "Attributes:\n",
      "    wrf-chem:           smoke model\n",
      "    variable:           PM2_5_DRY\n",
      "    postprocessed by::  Michael Lindgren -- SNAP\n"
     ]
    }
   ],
   "source": [
    "# so in order to do something lets use the data \n",
    "# make an affine transform from the lons/lats\n",
    "affine = rasterio.transform.from_origin( ulx, uly, lon_res, lat_res )\n",
    "# affine = rasterio.transform.from_origin( -172.422668, 70.59963999, res[0], res[1] )\n",
    "\n",
    "# read in the prepped file (generated earlier) where I have selected and re-stacked the data in a more sane way\n",
    "out_ds = xr.open_dataset( '/Volumes/Shared/Users/malindgren/wrf_smoke/netcdf/wrfout_d01_PM2_5_DRY_2017-06-15_00-00-00.nc' )\n",
    "print(out_ds)\n",
    "variable = 'PM2_5_DRY'\n",
    "crs_proj4 = '+proj=lcc +lat_1=65 +lat_2=65 +lat_0=65 +lon_0=-152 +R=6370000'\n",
    "# convert proj4 to rasterio CRS mapping\n",
    "crs = rasterio.crs.CRS.from_string( crs_proj4 )\n",
    "\n",
    "# build some output metadata\n",
    "time, levels, height, width = out_ds[ variable ].shape\n",
    "meta = {'res':(lon_res, lat_res), 'transform':affine, 'height':height, 'width':width, 'count':1, 'dtype':'float32', 'driver':'GTiff', 'compress':'lzw', 'crs':crs }\n",
    "out_ds_level = out_ds[ variable ].isel(level=0)\n",
    "\n",
    "# this will output the data in its 'raw' crs for examination with other data before we try a reprojection.\n",
    "with rasterio.open( '/Volumes/Shared/Users/malindgren/wrf_smoke/smoke_raw.tif', mode='w', **meta ) as out:\n",
    "    out.write( np.flipud( out_ds_level[ 23, ... ].data ), 1 )\n",
    "\n",
    "# ABOVE DATA IS INCORRECT...  SAME AS WHAT BOB WAS SEEING IN MapVenture... Not sure where to take this from here..."
   ]
  }
 ],
 "metadata": {
  "kernelspec": {
   "display_name": "Python 3",
   "language": "python",
   "name": "python3"
  },
  "language_info": {
   "codemirror_mode": {
    "name": "ipython",
    "version": 3
   },
   "file_extension": ".py",
   "mimetype": "text/x-python",
   "name": "python",
   "nbconvert_exporter": "python",
   "pygments_lexer": "ipython3",
   "version": "3.5.0"
  }
 },
 "nbformat": 4,
 "nbformat_minor": 2
}
